{
 "cells": [
  {
   "cell_type": "code",
   "execution_count": 1,
   "metadata": {},
   "outputs": [],
   "source": [
    "import pandas as pd\n",
    "from bs4 import BeautifulSoup\n",
    "import requests \n",
    "import numpy as np"
   ]
  },
  {
   "cell_type": "markdown",
   "metadata": {},
   "source": [
    "#### I used **BeautifulSoup** and **Requests** to scrape the table from Wikipedia"
   ]
  },
  {
   "cell_type": "code",
   "execution_count": 2,
   "metadata": {},
   "outputs": [],
   "source": [
    "url = 'https://en.wikipedia.org/wiki/List_of_postal_codes_of_Canada:_M'\n",
    "response = requests.get(url)"
   ]
  },
  {
   "cell_type": "code",
   "execution_count": 3,
   "metadata": {},
   "outputs": [],
   "source": [
    "soup = BeautifulSoup(response.content,'html.parser')"
   ]
  },
  {
   "cell_type": "code",
   "execution_count": 4,
   "metadata": {},
   "outputs": [],
   "source": [
    "tables = soup.find_all('table',class_='wikitable sortable')"
   ]
  },
  {
   "cell_type": "code",
   "execution_count": 5,
   "metadata": {},
   "outputs": [],
   "source": [
    "for table in tables:\n",
    "    ths = table.find_all('th')\n",
    "    headings = [th.text.strip() for th in ths]\n",
    "content=[]\n",
    "for tr in table.find_all('tr'):\n",
    "    tds = tr.find_all('td')\n",
    "    row = [td.text.strip() for td in tds]\n",
    "    content.append(row)\n",
    "content = content[1:]"
   ]
  },
  {
   "cell_type": "code",
   "execution_count": 6,
   "metadata": {},
   "outputs": [
    {
     "data": {
      "text/plain": [
       "[['M1A', 'Not assigned', 'Not assigned'],\n",
       " ['M2A', 'Not assigned', 'Not assigned'],\n",
       " ['M3A', 'North York', 'Parkwoods'],\n",
       " ['M4A', 'North York', 'Victoria Village'],\n",
       " ['M5A', 'Downtown Toronto', 'Harbourfront']]"
      ]
     },
     "execution_count": 6,
     "metadata": {},
     "output_type": "execute_result"
    }
   ],
   "source": [
    "content[0:5]"
   ]
  },
  {
   "cell_type": "markdown",
   "metadata": {},
   "source": [
    "#### This is the dataframe that exactly same as the table on Wikipedia"
   ]
  },
  {
   "cell_type": "code",
   "execution_count": 7,
   "metadata": {
    "scrolled": false
   },
   "outputs": [
    {
     "data": {
      "text/html": [
       "<div>\n",
       "<style scoped>\n",
       "    .dataframe tbody tr th:only-of-type {\n",
       "        vertical-align: middle;\n",
       "    }\n",
       "\n",
       "    .dataframe tbody tr th {\n",
       "        vertical-align: top;\n",
       "    }\n",
       "\n",
       "    .dataframe thead th {\n",
       "        text-align: right;\n",
       "    }\n",
       "</style>\n",
       "<table border=\"1\" class=\"dataframe\">\n",
       "  <thead>\n",
       "    <tr style=\"text-align: right;\">\n",
       "      <th></th>\n",
       "      <th>Postcode</th>\n",
       "      <th>Borough</th>\n",
       "      <th>Neighbourhood</th>\n",
       "    </tr>\n",
       "  </thead>\n",
       "  <tbody>\n",
       "    <tr>\n",
       "      <th>0</th>\n",
       "      <td>M1A</td>\n",
       "      <td>Not assigned</td>\n",
       "      <td>Not assigned</td>\n",
       "    </tr>\n",
       "    <tr>\n",
       "      <th>1</th>\n",
       "      <td>M2A</td>\n",
       "      <td>Not assigned</td>\n",
       "      <td>Not assigned</td>\n",
       "    </tr>\n",
       "    <tr>\n",
       "      <th>2</th>\n",
       "      <td>M3A</td>\n",
       "      <td>North York</td>\n",
       "      <td>Parkwoods</td>\n",
       "    </tr>\n",
       "    <tr>\n",
       "      <th>3</th>\n",
       "      <td>M4A</td>\n",
       "      <td>North York</td>\n",
       "      <td>Victoria Village</td>\n",
       "    </tr>\n",
       "    <tr>\n",
       "      <th>4</th>\n",
       "      <td>M5A</td>\n",
       "      <td>Downtown Toronto</td>\n",
       "      <td>Harbourfront</td>\n",
       "    </tr>\n",
       "    <tr>\n",
       "      <th>5</th>\n",
       "      <td>M6A</td>\n",
       "      <td>North York</td>\n",
       "      <td>Lawrence Heights</td>\n",
       "    </tr>\n",
       "    <tr>\n",
       "      <th>6</th>\n",
       "      <td>M6A</td>\n",
       "      <td>North York</td>\n",
       "      <td>Lawrence Manor</td>\n",
       "    </tr>\n",
       "    <tr>\n",
       "      <th>7</th>\n",
       "      <td>M7A</td>\n",
       "      <td>Queen's Park</td>\n",
       "      <td>Not assigned</td>\n",
       "    </tr>\n",
       "    <tr>\n",
       "      <th>8</th>\n",
       "      <td>M8A</td>\n",
       "      <td>Not assigned</td>\n",
       "      <td>Not assigned</td>\n",
       "    </tr>\n",
       "    <tr>\n",
       "      <th>9</th>\n",
       "      <td>M9A</td>\n",
       "      <td>Queen's Park</td>\n",
       "      <td>Queen's Park</td>\n",
       "    </tr>\n",
       "  </tbody>\n",
       "</table>\n",
       "</div>"
      ],
      "text/plain": [
       "  Postcode           Borough     Neighbourhood\n",
       "0      M1A      Not assigned      Not assigned\n",
       "1      M2A      Not assigned      Not assigned\n",
       "2      M3A        North York         Parkwoods\n",
       "3      M4A        North York  Victoria Village\n",
       "4      M5A  Downtown Toronto      Harbourfront\n",
       "5      M6A        North York  Lawrence Heights\n",
       "6      M6A        North York    Lawrence Manor\n",
       "7      M7A      Queen's Park      Not assigned\n",
       "8      M8A      Not assigned      Not assigned\n",
       "9      M9A      Queen's Park      Queen's Park"
      ]
     },
     "execution_count": 7,
     "metadata": {},
     "output_type": "execute_result"
    }
   ],
   "source": [
    "df = pd.DataFrame(columns=headings,data=content)\n",
    "df.head(10)"
   ]
  },
  {
   "cell_type": "markdown",
   "metadata": {},
   "source": [
    "Drop row if ***Borough*** is ***Not assigned***"
   ]
  },
  {
   "cell_type": "code",
   "execution_count": 8,
   "metadata": {
    "scrolled": true
   },
   "outputs": [
    {
     "data": {
      "text/html": [
       "<div>\n",
       "<style scoped>\n",
       "    .dataframe tbody tr th:only-of-type {\n",
       "        vertical-align: middle;\n",
       "    }\n",
       "\n",
       "    .dataframe tbody tr th {\n",
       "        vertical-align: top;\n",
       "    }\n",
       "\n",
       "    .dataframe thead th {\n",
       "        text-align: right;\n",
       "    }\n",
       "</style>\n",
       "<table border=\"1\" class=\"dataframe\">\n",
       "  <thead>\n",
       "    <tr style=\"text-align: right;\">\n",
       "      <th></th>\n",
       "      <th>Postcode</th>\n",
       "      <th>Borough</th>\n",
       "      <th>Neighbourhood</th>\n",
       "    </tr>\n",
       "  </thead>\n",
       "  <tbody>\n",
       "    <tr>\n",
       "      <th>2</th>\n",
       "      <td>M3A</td>\n",
       "      <td>North York</td>\n",
       "      <td>Parkwoods</td>\n",
       "    </tr>\n",
       "    <tr>\n",
       "      <th>3</th>\n",
       "      <td>M4A</td>\n",
       "      <td>North York</td>\n",
       "      <td>Victoria Village</td>\n",
       "    </tr>\n",
       "    <tr>\n",
       "      <th>4</th>\n",
       "      <td>M5A</td>\n",
       "      <td>Downtown Toronto</td>\n",
       "      <td>Harbourfront</td>\n",
       "    </tr>\n",
       "    <tr>\n",
       "      <th>5</th>\n",
       "      <td>M6A</td>\n",
       "      <td>North York</td>\n",
       "      <td>Lawrence Heights</td>\n",
       "    </tr>\n",
       "    <tr>\n",
       "      <th>6</th>\n",
       "      <td>M6A</td>\n",
       "      <td>North York</td>\n",
       "      <td>Lawrence Manor</td>\n",
       "    </tr>\n",
       "    <tr>\n",
       "      <th>7</th>\n",
       "      <td>M7A</td>\n",
       "      <td>Queen's Park</td>\n",
       "      <td>Not assigned</td>\n",
       "    </tr>\n",
       "    <tr>\n",
       "      <th>9</th>\n",
       "      <td>M9A</td>\n",
       "      <td>Queen's Park</td>\n",
       "      <td>Queen's Park</td>\n",
       "    </tr>\n",
       "    <tr>\n",
       "      <th>10</th>\n",
       "      <td>M1B</td>\n",
       "      <td>Scarborough</td>\n",
       "      <td>Rouge</td>\n",
       "    </tr>\n",
       "    <tr>\n",
       "      <th>11</th>\n",
       "      <td>M1B</td>\n",
       "      <td>Scarborough</td>\n",
       "      <td>Malvern</td>\n",
       "    </tr>\n",
       "    <tr>\n",
       "      <th>13</th>\n",
       "      <td>M3B</td>\n",
       "      <td>North York</td>\n",
       "      <td>Don Mills North</td>\n",
       "    </tr>\n",
       "  </tbody>\n",
       "</table>\n",
       "</div>"
      ],
      "text/plain": [
       "   Postcode           Borough     Neighbourhood\n",
       "2       M3A        North York         Parkwoods\n",
       "3       M4A        North York  Victoria Village\n",
       "4       M5A  Downtown Toronto      Harbourfront\n",
       "5       M6A        North York  Lawrence Heights\n",
       "6       M6A        North York    Lawrence Manor\n",
       "7       M7A      Queen's Park      Not assigned\n",
       "9       M9A      Queen's Park      Queen's Park\n",
       "10      M1B       Scarborough             Rouge\n",
       "11      M1B       Scarborough           Malvern\n",
       "13      M3B        North York   Don Mills North"
      ]
     },
     "execution_count": 8,
     "metadata": {},
     "output_type": "execute_result"
    }
   ],
   "source": [
    "df = df[df['Borough']!='Not assigned'].dropna()\n",
    "df.head(10)"
   ]
  },
  {
   "cell_type": "markdown",
   "metadata": {},
   "source": [
    "##### Combine the neighbourhoods if they are in the same borough"
   ]
  },
  {
   "cell_type": "code",
   "execution_count": 9,
   "metadata": {
    "scrolled": true
   },
   "outputs": [
    {
     "data": {
      "text/html": [
       "<div>\n",
       "<style scoped>\n",
       "    .dataframe tbody tr th:only-of-type {\n",
       "        vertical-align: middle;\n",
       "    }\n",
       "\n",
       "    .dataframe tbody tr th {\n",
       "        vertical-align: top;\n",
       "    }\n",
       "\n",
       "    .dataframe thead th {\n",
       "        text-align: right;\n",
       "    }\n",
       "</style>\n",
       "<table border=\"1\" class=\"dataframe\">\n",
       "  <thead>\n",
       "    <tr style=\"text-align: right;\">\n",
       "      <th></th>\n",
       "      <th>Postcode</th>\n",
       "      <th>Borough</th>\n",
       "      <th>Neighbourhood</th>\n",
       "    </tr>\n",
       "  </thead>\n",
       "  <tbody>\n",
       "    <tr>\n",
       "      <th>0</th>\n",
       "      <td>M1B</td>\n",
       "      <td>Scarborough</td>\n",
       "      <td>Rouge, Malvern</td>\n",
       "    </tr>\n",
       "    <tr>\n",
       "      <th>1</th>\n",
       "      <td>M1C</td>\n",
       "      <td>Scarborough</td>\n",
       "      <td>Highland Creek, Rouge Hill, Port Union</td>\n",
       "    </tr>\n",
       "    <tr>\n",
       "      <th>2</th>\n",
       "      <td>M1E</td>\n",
       "      <td>Scarborough</td>\n",
       "      <td>Guildwood, Morningside, West Hill</td>\n",
       "    </tr>\n",
       "    <tr>\n",
       "      <th>3</th>\n",
       "      <td>M1G</td>\n",
       "      <td>Scarborough</td>\n",
       "      <td>Woburn</td>\n",
       "    </tr>\n",
       "    <tr>\n",
       "      <th>4</th>\n",
       "      <td>M1H</td>\n",
       "      <td>Scarborough</td>\n",
       "      <td>Cedarbrae</td>\n",
       "    </tr>\n",
       "    <tr>\n",
       "      <th>5</th>\n",
       "      <td>M1J</td>\n",
       "      <td>Scarborough</td>\n",
       "      <td>Scarborough Village</td>\n",
       "    </tr>\n",
       "    <tr>\n",
       "      <th>6</th>\n",
       "      <td>M1K</td>\n",
       "      <td>Scarborough</td>\n",
       "      <td>East Birchmount Park, Ionview, Kennedy Park</td>\n",
       "    </tr>\n",
       "    <tr>\n",
       "      <th>7</th>\n",
       "      <td>M1L</td>\n",
       "      <td>Scarborough</td>\n",
       "      <td>Clairlea, Golden Mile, Oakridge</td>\n",
       "    </tr>\n",
       "    <tr>\n",
       "      <th>8</th>\n",
       "      <td>M1M</td>\n",
       "      <td>Scarborough</td>\n",
       "      <td>Cliffcrest, Cliffside, Scarborough Village West</td>\n",
       "    </tr>\n",
       "    <tr>\n",
       "      <th>9</th>\n",
       "      <td>M1N</td>\n",
       "      <td>Scarborough</td>\n",
       "      <td>Birch Cliff, Cliffside West</td>\n",
       "    </tr>\n",
       "  </tbody>\n",
       "</table>\n",
       "</div>"
      ],
      "text/plain": [
       "  Postcode      Borough                                    Neighbourhood\n",
       "0      M1B  Scarborough                                   Rouge, Malvern\n",
       "1      M1C  Scarborough           Highland Creek, Rouge Hill, Port Union\n",
       "2      M1E  Scarborough                Guildwood, Morningside, West Hill\n",
       "3      M1G  Scarborough                                           Woburn\n",
       "4      M1H  Scarborough                                        Cedarbrae\n",
       "5      M1J  Scarborough                              Scarborough Village\n",
       "6      M1K  Scarborough      East Birchmount Park, Ionview, Kennedy Park\n",
       "7      M1L  Scarborough                  Clairlea, Golden Mile, Oakridge\n",
       "8      M1M  Scarborough  Cliffcrest, Cliffside, Scarborough Village West\n",
       "9      M1N  Scarborough                      Birch Cliff, Cliffside West"
      ]
     },
     "execution_count": 9,
     "metadata": {},
     "output_type": "execute_result"
    }
   ],
   "source": [
    "df = df.groupby(['Postcode','Borough'])['Neighbourhood'].apply(lambda x:', '.join(x.astype(str))).reset_index()\n",
    "df.head(10)"
   ]
  },
  {
   "cell_type": "markdown",
   "metadata": {},
   "source": [
    "#### Assign the borough name to neighbourhood if neighbourhood'name is not assigned"
   ]
  },
  {
   "cell_type": "code",
   "execution_count": 10,
   "metadata": {
    "scrolled": true
   },
   "outputs": [
    {
     "data": {
      "text/html": [
       "<div>\n",
       "<style scoped>\n",
       "    .dataframe tbody tr th:only-of-type {\n",
       "        vertical-align: middle;\n",
       "    }\n",
       "\n",
       "    .dataframe tbody tr th {\n",
       "        vertical-align: top;\n",
       "    }\n",
       "\n",
       "    .dataframe thead th {\n",
       "        text-align: right;\n",
       "    }\n",
       "</style>\n",
       "<table border=\"1\" class=\"dataframe\">\n",
       "  <thead>\n",
       "    <tr style=\"text-align: right;\">\n",
       "      <th></th>\n",
       "      <th>Postcode</th>\n",
       "      <th>Borough</th>\n",
       "      <th>Neighbourhood</th>\n",
       "    </tr>\n",
       "  </thead>\n",
       "  <tbody>\n",
       "    <tr>\n",
       "      <th>0</th>\n",
       "      <td>M1B</td>\n",
       "      <td>Scarborough</td>\n",
       "      <td>Rouge, Malvern</td>\n",
       "    </tr>\n",
       "    <tr>\n",
       "      <th>1</th>\n",
       "      <td>M1C</td>\n",
       "      <td>Scarborough</td>\n",
       "      <td>Highland Creek, Rouge Hill, Port Union</td>\n",
       "    </tr>\n",
       "    <tr>\n",
       "      <th>2</th>\n",
       "      <td>M1E</td>\n",
       "      <td>Scarborough</td>\n",
       "      <td>Guildwood, Morningside, West Hill</td>\n",
       "    </tr>\n",
       "    <tr>\n",
       "      <th>3</th>\n",
       "      <td>M1G</td>\n",
       "      <td>Scarborough</td>\n",
       "      <td>Woburn</td>\n",
       "    </tr>\n",
       "    <tr>\n",
       "      <th>4</th>\n",
       "      <td>M1H</td>\n",
       "      <td>Scarborough</td>\n",
       "      <td>Cedarbrae</td>\n",
       "    </tr>\n",
       "    <tr>\n",
       "      <th>5</th>\n",
       "      <td>M1J</td>\n",
       "      <td>Scarborough</td>\n",
       "      <td>Scarborough Village</td>\n",
       "    </tr>\n",
       "    <tr>\n",
       "      <th>6</th>\n",
       "      <td>M1K</td>\n",
       "      <td>Scarborough</td>\n",
       "      <td>East Birchmount Park, Ionview, Kennedy Park</td>\n",
       "    </tr>\n",
       "    <tr>\n",
       "      <th>7</th>\n",
       "      <td>M1L</td>\n",
       "      <td>Scarborough</td>\n",
       "      <td>Clairlea, Golden Mile, Oakridge</td>\n",
       "    </tr>\n",
       "    <tr>\n",
       "      <th>8</th>\n",
       "      <td>M1M</td>\n",
       "      <td>Scarborough</td>\n",
       "      <td>Cliffcrest, Cliffside, Scarborough Village West</td>\n",
       "    </tr>\n",
       "    <tr>\n",
       "      <th>9</th>\n",
       "      <td>M1N</td>\n",
       "      <td>Scarborough</td>\n",
       "      <td>Birch Cliff, Cliffside West</td>\n",
       "    </tr>\n",
       "  </tbody>\n",
       "</table>\n",
       "</div>"
      ],
      "text/plain": [
       "  Postcode      Borough                                    Neighbourhood\n",
       "0      M1B  Scarborough                                   Rouge, Malvern\n",
       "1      M1C  Scarborough           Highland Creek, Rouge Hill, Port Union\n",
       "2      M1E  Scarborough                Guildwood, Morningside, West Hill\n",
       "3      M1G  Scarborough                                           Woburn\n",
       "4      M1H  Scarborough                                        Cedarbrae\n",
       "5      M1J  Scarborough                              Scarborough Village\n",
       "6      M1K  Scarborough      East Birchmount Park, Ionview, Kennedy Park\n",
       "7      M1L  Scarborough                  Clairlea, Golden Mile, Oakridge\n",
       "8      M1M  Scarborough  Cliffcrest, Cliffside, Scarborough Village West\n",
       "9      M1N  Scarborough                      Birch Cliff, Cliffside West"
      ]
     },
     "execution_count": 10,
     "metadata": {},
     "output_type": "execute_result"
    }
   ],
   "source": [
    "df['Neighbourhood'][df['Neighbourhood'] == 'Not assigned'] = df['Borough']\n",
    "df.head(10)"
   ]
  },
  {
   "cell_type": "code",
   "execution_count": 11,
   "metadata": {},
   "outputs": [
    {
     "data": {
      "text/plain": [
       "(103, 3)"
      ]
     },
     "execution_count": 11,
     "metadata": {},
     "output_type": "execute_result"
    }
   ],
   "source": [
    "df.shape"
   ]
  },
  {
   "cell_type": "markdown",
   "metadata": {},
   "source": [
    "## Collect latitude and longitude, and append to the dataframe "
   ]
  },
  {
   "cell_type": "code",
   "execution_count": 12,
   "metadata": {
    "scrolled": true
   },
   "outputs": [],
   "source": [
    "import geocoder"
   ]
  },
  {
   "cell_type": "code",
   "execution_count": 13,
   "metadata": {},
   "outputs": [],
   "source": [
    "#### "
   ]
  },
  {
   "cell_type": "code",
   "execution_count": 14,
   "metadata": {},
   "outputs": [
    {
     "data": {
      "text/plain": [
       "\"# initialize your variable to None\\nlat_lng_coords = None\\n\\n# loop until you get the coordinates\\n# get all postal code\\nlatitude = []\\nlongitude = []\\nfor postal_code in df.Postcode.to_list():\\n    while(lat_lng_coords is None):\\n      g = geocoder.google('{}, Toronto, Ontario'.format(postal_code))\\n      lat_lng_coords = g.latlng\\n\\n    latitude.append(lat_lng_coords[0])\\n    longitude.append(lat_lng_coords[1])\""
      ]
     },
     "execution_count": 14,
     "metadata": {},
     "output_type": "execute_result"
    }
   ],
   "source": [
    "'''# initialize your variable to None\n",
    "lat_lng_coords = None\n",
    "\n",
    "# loop until you get the coordinates\n",
    "# get all postal code\n",
    "latitude = []\n",
    "longitude = []\n",
    "for postal_code in df.Postcode.to_list():\n",
    "    while(lat_lng_coords is None):\n",
    "      g = geocoder.google('{}, Toronto, Ontario'.format(postal_code))\n",
    "      lat_lng_coords = g.latlng\n",
    "\n",
    "    latitude.append(lat_lng_coords[0])\n",
    "    longitude.append(lat_lng_coords[1])'''"
   ]
  },
  {
   "cell_type": "code",
   "execution_count": 15,
   "metadata": {},
   "outputs": [
    {
     "data": {
      "text/html": [
       "<div>\n",
       "<style scoped>\n",
       "    .dataframe tbody tr th:only-of-type {\n",
       "        vertical-align: middle;\n",
       "    }\n",
       "\n",
       "    .dataframe tbody tr th {\n",
       "        vertical-align: top;\n",
       "    }\n",
       "\n",
       "    .dataframe thead th {\n",
       "        text-align: right;\n",
       "    }\n",
       "</style>\n",
       "<table border=\"1\" class=\"dataframe\">\n",
       "  <thead>\n",
       "    <tr style=\"text-align: right;\">\n",
       "      <th></th>\n",
       "      <th>Postal Code</th>\n",
       "      <th>Latitude</th>\n",
       "      <th>Longitude</th>\n",
       "    </tr>\n",
       "  </thead>\n",
       "  <tbody>\n",
       "    <tr>\n",
       "      <th>0</th>\n",
       "      <td>M1B</td>\n",
       "      <td>43.806686</td>\n",
       "      <td>-79.194353</td>\n",
       "    </tr>\n",
       "    <tr>\n",
       "      <th>1</th>\n",
       "      <td>M1C</td>\n",
       "      <td>43.784535</td>\n",
       "      <td>-79.160497</td>\n",
       "    </tr>\n",
       "    <tr>\n",
       "      <th>2</th>\n",
       "      <td>M1E</td>\n",
       "      <td>43.763573</td>\n",
       "      <td>-79.188711</td>\n",
       "    </tr>\n",
       "    <tr>\n",
       "      <th>3</th>\n",
       "      <td>M1G</td>\n",
       "      <td>43.770992</td>\n",
       "      <td>-79.216917</td>\n",
       "    </tr>\n",
       "    <tr>\n",
       "      <th>4</th>\n",
       "      <td>M1H</td>\n",
       "      <td>43.773136</td>\n",
       "      <td>-79.239476</td>\n",
       "    </tr>\n",
       "  </tbody>\n",
       "</table>\n",
       "</div>"
      ],
      "text/plain": [
       "  Postal Code   Latitude  Longitude\n",
       "0         M1B  43.806686 -79.194353\n",
       "1         M1C  43.784535 -79.160497\n",
       "2         M1E  43.763573 -79.188711\n",
       "3         M1G  43.770992 -79.216917\n",
       "4         M1H  43.773136 -79.239476"
      ]
     },
     "execution_count": 15,
     "metadata": {},
     "output_type": "execute_result"
    }
   ],
   "source": [
    "df_geo = pd.read_csv('Geospatial_Coordinates.csv')\n",
    "df_geo.head()"
   ]
  },
  {
   "cell_type": "code",
   "execution_count": 16,
   "metadata": {},
   "outputs": [],
   "source": [
    "df = df.merge(df_geo,left_on='Postcode',right_on='Postal Code',how='left')\n",
    "df.drop(['Postal Code'],axis=1,inplace=True)"
   ]
  },
  {
   "cell_type": "code",
   "execution_count": 17,
   "metadata": {},
   "outputs": [
    {
     "data": {
      "text/html": [
       "<div>\n",
       "<style scoped>\n",
       "    .dataframe tbody tr th:only-of-type {\n",
       "        vertical-align: middle;\n",
       "    }\n",
       "\n",
       "    .dataframe tbody tr th {\n",
       "        vertical-align: top;\n",
       "    }\n",
       "\n",
       "    .dataframe thead th {\n",
       "        text-align: right;\n",
       "    }\n",
       "</style>\n",
       "<table border=\"1\" class=\"dataframe\">\n",
       "  <thead>\n",
       "    <tr style=\"text-align: right;\">\n",
       "      <th></th>\n",
       "      <th>Postcode</th>\n",
       "      <th>Borough</th>\n",
       "      <th>Neighbourhood</th>\n",
       "      <th>Latitude</th>\n",
       "      <th>Longitude</th>\n",
       "    </tr>\n",
       "  </thead>\n",
       "  <tbody>\n",
       "    <tr>\n",
       "      <th>0</th>\n",
       "      <td>M1B</td>\n",
       "      <td>Scarborough</td>\n",
       "      <td>Rouge, Malvern</td>\n",
       "      <td>43.806686</td>\n",
       "      <td>-79.194353</td>\n",
       "    </tr>\n",
       "    <tr>\n",
       "      <th>1</th>\n",
       "      <td>M1C</td>\n",
       "      <td>Scarborough</td>\n",
       "      <td>Highland Creek, Rouge Hill, Port Union</td>\n",
       "      <td>43.784535</td>\n",
       "      <td>-79.160497</td>\n",
       "    </tr>\n",
       "    <tr>\n",
       "      <th>2</th>\n",
       "      <td>M1E</td>\n",
       "      <td>Scarborough</td>\n",
       "      <td>Guildwood, Morningside, West Hill</td>\n",
       "      <td>43.763573</td>\n",
       "      <td>-79.188711</td>\n",
       "    </tr>\n",
       "    <tr>\n",
       "      <th>3</th>\n",
       "      <td>M1G</td>\n",
       "      <td>Scarborough</td>\n",
       "      <td>Woburn</td>\n",
       "      <td>43.770992</td>\n",
       "      <td>-79.216917</td>\n",
       "    </tr>\n",
       "    <tr>\n",
       "      <th>4</th>\n",
       "      <td>M1H</td>\n",
       "      <td>Scarborough</td>\n",
       "      <td>Cedarbrae</td>\n",
       "      <td>43.773136</td>\n",
       "      <td>-79.239476</td>\n",
       "    </tr>\n",
       "  </tbody>\n",
       "</table>\n",
       "</div>"
      ],
      "text/plain": [
       "  Postcode      Borough                           Neighbourhood   Latitude  \\\n",
       "0      M1B  Scarborough                          Rouge, Malvern  43.806686   \n",
       "1      M1C  Scarborough  Highland Creek, Rouge Hill, Port Union  43.784535   \n",
       "2      M1E  Scarborough       Guildwood, Morningside, West Hill  43.763573   \n",
       "3      M1G  Scarborough                                  Woburn  43.770992   \n",
       "4      M1H  Scarborough                               Cedarbrae  43.773136   \n",
       "\n",
       "   Longitude  \n",
       "0 -79.194353  \n",
       "1 -79.160497  \n",
       "2 -79.188711  \n",
       "3 -79.216917  \n",
       "4 -79.239476  "
      ]
     },
     "execution_count": 17,
     "metadata": {},
     "output_type": "execute_result"
    }
   ],
   "source": [
    "df.head()"
   ]
  },
  {
   "cell_type": "markdown",
   "metadata": {},
   "source": [
    "### Create a map of Toronto with neighborhoods"
   ]
  },
  {
   "cell_type": "code",
   "execution_count": 18,
   "metadata": {
    "scrolled": true
   },
   "outputs": [],
   "source": [
    "import folium\n",
    "from geopy.geocoders import Nominatim \n",
    "import json"
   ]
  },
  {
   "cell_type": "code",
   "execution_count": 19,
   "metadata": {},
   "outputs": [
    {
     "name": "stdout",
     "output_type": "stream",
     "text": [
      "There are 11 boroughs in Toronto. They are ['Scarborough' 'North York' 'East York' 'East Toronto' 'Central Toronto'\n",
      " 'Downtown Toronto' 'York' 'West Toronto' \"Queen's Park\" 'Mississauga'\n",
      " 'Etobicoke']\n",
      "The geograpical coordinate of Toronto are 43.653963, -79.387207.\n"
     ]
    }
   ],
   "source": [
    "#count how many unique boroughes in Toronto\n",
    "print('There are {} boroughs in Toronto. They are {}'.format(df.Borough.nunique(),df.Borough.unique()))\n",
    "# Use geopy library to get the latitude and longitude values of Toronto\n",
    "address = 'Toronto, Ontario'\n",
    "\n",
    "geolocator = Nominatim(user_agent=\"toronto_explorer\")\n",
    "location = geolocator.geocode(address)\n",
    "latitude = location.latitude\n",
    "longitude = location.longitude\n",
    "print('The geograpical coordinate of Toronto are {}, {}.'.format(latitude, longitude))"
   ]
  },
  {
   "cell_type": "code",
   "execution_count": 20,
   "metadata": {
    "scrolled": false
   },
   "outputs": [
    {
     "data": {
      "text/html": [
       "<div style=\"width:100%;\"><div style=\"position:relative;width:100%;height:0;padding-bottom:60%;\"><iframe src=\"data:text/html;charset=utf-8;base64,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\" style=\"position:absolute;width:100%;height:100%;left:0;top:0;border:none !important;\" allowfullscreen webkitallowfullscreen mozallowfullscreen></iframe></div></div>"
      ],
      "text/plain": [
       "<IPython.core.display.HTML object>"
      ]
     },
     "execution_count": 20,
     "metadata": {},
     "output_type": "execute_result"
    }
   ],
   "source": [
    "# create map of Toronto using latitude and longitude values\n",
    "map_toronto = folium.Map(location=[latitude, longitude], zoom_start=10)\n",
    "\n",
    "# add markers to map\n",
    "for lat, lng, borough, neighborhood in zip(df['Latitude'], df['Longitude'], df['Borough'], df['Neighbourhood']):\n",
    "    label = '{}, {}'.format(neighborhood, borough)\n",
    "    label = folium.Popup(label, parse_html=True)\n",
    "    folium.CircleMarker(\n",
    "        [lat, lng],\n",
    "        radius=5,\n",
    "        popup=label,\n",
    "        color='blue',\n",
    "        fill=True,\n",
    "        fill_color='#3186cc',\n",
    "        fill_opacity=0.7,\n",
    "        parse_html=False).add_to(map_toronto)  \n",
    "\n",
    "# Github can't render folium map in notebook, please use the following link to render the map\n",
    "# https://nbviewer.jupyter.org/github/chrisliuxq/IBM-Capstone/blob/master/clustering_neighborhoods_toronto.ipynb\n",
    "map_toronto"
   ]
  },
  {
   "cell_type": "markdown",
   "metadata": {},
   "source": [
    "## Define the problem and the Background\n",
    "Tom lives in Highland Creek which is a neighbourhood in eastern Toronto, Ontario. He gets a new job in Etobicoke at the western part of Toronto. Without a car, the commute between the two places must be painful and it would take 2-hour，three transfers for one way. So Tom decide to move to a new place in Etobicoke to mitigate his pressure. His wants to find a neighborhood similar to Highland Creek. \n",
    "\n",
    "**Data Source**\n",
    "<br />Data are collected from Foursquare. We will use information of venues to cluster the neighborhoods in Etobicode as well as Highland creek in order to find similar neighborhoods to Highland creek."
   ]
  },
  {
   "cell_type": "code",
   "execution_count": 21,
   "metadata": {
    "scrolled": true
   },
   "outputs": [],
   "source": [
    "# Find all the neighborhoods in Borough in dataframe and concatenate with Highland Creek \n",
    "nbh = df[df['Borough']=='Etobicoke']\n",
    "hc = df[df['Neighbourhood'].str.contains('Highland Creek')]\n",
    "nbh = pd.concat([nbh,hc])"
   ]
  },
  {
   "cell_type": "code",
   "execution_count": 22,
   "metadata": {},
   "outputs": [
    {
     "data": {
      "text/html": [
       "<div>\n",
       "<style scoped>\n",
       "    .dataframe tbody tr th:only-of-type {\n",
       "        vertical-align: middle;\n",
       "    }\n",
       "\n",
       "    .dataframe tbody tr th {\n",
       "        vertical-align: top;\n",
       "    }\n",
       "\n",
       "    .dataframe thead th {\n",
       "        text-align: right;\n",
       "    }\n",
       "</style>\n",
       "<table border=\"1\" class=\"dataframe\">\n",
       "  <thead>\n",
       "    <tr style=\"text-align: right;\">\n",
       "      <th></th>\n",
       "      <th>Postcode</th>\n",
       "      <th>Borough</th>\n",
       "      <th>Neighbourhood</th>\n",
       "      <th>Latitude</th>\n",
       "      <th>Longitude</th>\n",
       "    </tr>\n",
       "  </thead>\n",
       "  <tbody>\n",
       "    <tr>\n",
       "      <th>88</th>\n",
       "      <td>M8V</td>\n",
       "      <td>Etobicoke</td>\n",
       "      <td>Humber Bay Shores, Mimico South, New Toronto</td>\n",
       "      <td>43.605647</td>\n",
       "      <td>-79.501321</td>\n",
       "    </tr>\n",
       "    <tr>\n",
       "      <th>89</th>\n",
       "      <td>M8W</td>\n",
       "      <td>Etobicoke</td>\n",
       "      <td>Alderwood, Long Branch</td>\n",
       "      <td>43.602414</td>\n",
       "      <td>-79.543484</td>\n",
       "    </tr>\n",
       "    <tr>\n",
       "      <th>90</th>\n",
       "      <td>M8X</td>\n",
       "      <td>Etobicoke</td>\n",
       "      <td>The Kingsway, Montgomery Road, Old Mill North</td>\n",
       "      <td>43.653654</td>\n",
       "      <td>-79.506944</td>\n",
       "    </tr>\n",
       "    <tr>\n",
       "      <th>91</th>\n",
       "      <td>M8Y</td>\n",
       "      <td>Etobicoke</td>\n",
       "      <td>Humber Bay, King's Mill Park, Kingsway Park So...</td>\n",
       "      <td>43.636258</td>\n",
       "      <td>-79.498509</td>\n",
       "    </tr>\n",
       "    <tr>\n",
       "      <th>92</th>\n",
       "      <td>M8Z</td>\n",
       "      <td>Etobicoke</td>\n",
       "      <td>Kingsway Park South West, Mimico NW, The Queen...</td>\n",
       "      <td>43.628841</td>\n",
       "      <td>-79.520999</td>\n",
       "    </tr>\n",
       "    <tr>\n",
       "      <th>94</th>\n",
       "      <td>M9B</td>\n",
       "      <td>Etobicoke</td>\n",
       "      <td>Cloverdale, Islington, Martin Grove, Princess ...</td>\n",
       "      <td>43.650943</td>\n",
       "      <td>-79.554724</td>\n",
       "    </tr>\n",
       "    <tr>\n",
       "      <th>95</th>\n",
       "      <td>M9C</td>\n",
       "      <td>Etobicoke</td>\n",
       "      <td>Bloordale Gardens, Eringate, Markland Wood, Ol...</td>\n",
       "      <td>43.643515</td>\n",
       "      <td>-79.577201</td>\n",
       "    </tr>\n",
       "    <tr>\n",
       "      <th>99</th>\n",
       "      <td>M9P</td>\n",
       "      <td>Etobicoke</td>\n",
       "      <td>Westmount</td>\n",
       "      <td>43.696319</td>\n",
       "      <td>-79.532242</td>\n",
       "    </tr>\n",
       "    <tr>\n",
       "      <th>100</th>\n",
       "      <td>M9R</td>\n",
       "      <td>Etobicoke</td>\n",
       "      <td>Kingsview Village, Martin Grove Gardens, Richv...</td>\n",
       "      <td>43.688905</td>\n",
       "      <td>-79.554724</td>\n",
       "    </tr>\n",
       "    <tr>\n",
       "      <th>101</th>\n",
       "      <td>M9V</td>\n",
       "      <td>Etobicoke</td>\n",
       "      <td>Albion Gardens, Beaumond Heights, Humbergate, ...</td>\n",
       "      <td>43.739416</td>\n",
       "      <td>-79.588437</td>\n",
       "    </tr>\n",
       "    <tr>\n",
       "      <th>102</th>\n",
       "      <td>M9W</td>\n",
       "      <td>Etobicoke</td>\n",
       "      <td>Northwest</td>\n",
       "      <td>43.706748</td>\n",
       "      <td>-79.594054</td>\n",
       "    </tr>\n",
       "    <tr>\n",
       "      <th>1</th>\n",
       "      <td>M1C</td>\n",
       "      <td>Scarborough</td>\n",
       "      <td>Highland Creek, Rouge Hill, Port Union</td>\n",
       "      <td>43.784535</td>\n",
       "      <td>-79.160497</td>\n",
       "    </tr>\n",
       "  </tbody>\n",
       "</table>\n",
       "</div>"
      ],
      "text/plain": [
       "    Postcode      Borough                                      Neighbourhood  \\\n",
       "88       M8V    Etobicoke       Humber Bay Shores, Mimico South, New Toronto   \n",
       "89       M8W    Etobicoke                             Alderwood, Long Branch   \n",
       "90       M8X    Etobicoke      The Kingsway, Montgomery Road, Old Mill North   \n",
       "91       M8Y    Etobicoke  Humber Bay, King's Mill Park, Kingsway Park So...   \n",
       "92       M8Z    Etobicoke  Kingsway Park South West, Mimico NW, The Queen...   \n",
       "94       M9B    Etobicoke  Cloverdale, Islington, Martin Grove, Princess ...   \n",
       "95       M9C    Etobicoke  Bloordale Gardens, Eringate, Markland Wood, Ol...   \n",
       "99       M9P    Etobicoke                                          Westmount   \n",
       "100      M9R    Etobicoke  Kingsview Village, Martin Grove Gardens, Richv...   \n",
       "101      M9V    Etobicoke  Albion Gardens, Beaumond Heights, Humbergate, ...   \n",
       "102      M9W    Etobicoke                                          Northwest   \n",
       "1        M1C  Scarborough             Highland Creek, Rouge Hill, Port Union   \n",
       "\n",
       "      Latitude  Longitude  \n",
       "88   43.605647 -79.501321  \n",
       "89   43.602414 -79.543484  \n",
       "90   43.653654 -79.506944  \n",
       "91   43.636258 -79.498509  \n",
       "92   43.628841 -79.520999  \n",
       "94   43.650943 -79.554724  \n",
       "95   43.643515 -79.577201  \n",
       "99   43.696319 -79.532242  \n",
       "100  43.688905 -79.554724  \n",
       "101  43.739416 -79.588437  \n",
       "102  43.706748 -79.594054  \n",
       "1    43.784535 -79.160497  "
      ]
     },
     "execution_count": 22,
     "metadata": {},
     "output_type": "execute_result"
    }
   ],
   "source": [
    "nbh"
   ]
  },
  {
   "cell_type": "markdown",
   "metadata": {},
   "source": [
    "Let's explore what would be the responses from Foursquare API like"
   ]
  },
  {
   "cell_type": "code",
   "execution_count": 23,
   "metadata": {},
   "outputs": [],
   "source": [
    "CLIENT_ID = 'JFDKDG3XPKST3YRQG4EQBE2IWO4UZ5WTOJLALMOSZU1OASHQ' # Foursquare ID\n",
    "CLIENT_SECRET = 'HO1SWF1Z4GH4QHKFKOFXXFFYO5NECIT15RYAV4OVJGTPKXJ4' # Foursquare Secret\n",
    "VERSION = '20191120' # Foursquare API version"
   ]
  },
  {
   "cell_type": "code",
   "execution_count": 24,
   "metadata": {},
   "outputs": [
    {
     "data": {
      "text/plain": [
       "[{'id': '4c38d4ab18e72d7fb01d19f5',\n",
       "  'name': 'Colonel Danforth Park',\n",
       "  'location': {'lat': 43.7775073613354,\n",
       "   'lng': -79.16430271940706,\n",
       "   'labeledLatLngs': [{'label': 'display',\n",
       "     'lat': 43.7775073613354,\n",
       "     'lng': -79.16430271940706}],\n",
       "   'distance': 840,\n",
       "   'cc': 'CA',\n",
       "   'city': 'Toronto',\n",
       "   'state': 'ON',\n",
       "   'country': 'Canada',\n",
       "   'formattedAddress': ['Toronto ON', 'Canada']},\n",
       "  'categories': [{'id': '4bf58dd8d48988d1e7941735',\n",
       "    'name': 'Playground',\n",
       "    'pluralName': 'Playgrounds',\n",
       "    'shortName': 'Playground',\n",
       "    'icon': {'prefix': 'https://ss3.4sqi.net/img/categories_v2/parks_outdoors/playground_',\n",
       "     'suffix': '.png'},\n",
       "    'primary': True}],\n",
       "  'referralId': 'v-1574491985',\n",
       "  'hasPerk': False},\n",
       " {'id': '4c23d3aaf7ced13a5ed7216d',\n",
       "  'name': 'Royal Canadian Legion',\n",
       "  'location': {'address': '45 Lawson Rd',\n",
       "   'lat': 43.78253332838298,\n",
       "   'lng': -79.16308473261682,\n",
       "   'labeledLatLngs': [{'label': 'display',\n",
       "     'lat': 43.78253332838298,\n",
       "     'lng': -79.16308473261682}],\n",
       "   'distance': 305,\n",
       "   'cc': 'CA',\n",
       "   'city': 'Toronto',\n",
       "   'state': 'ON',\n",
       "   'country': 'Canada',\n",
       "   'formattedAddress': ['45 Lawson Rd', 'Toronto ON', 'Canada']},\n",
       "  'categories': [{'id': '4bf58dd8d48988d116941735',\n",
       "    'name': 'Bar',\n",
       "    'pluralName': 'Bars',\n",
       "    'shortName': 'Bar',\n",
       "    'icon': {'prefix': 'https://ss3.4sqi.net/img/categories_v2/nightlife/pub_',\n",
       "     'suffix': '.png'},\n",
       "    'primary': True}],\n",
       "  'referralId': 'v-1574491985',\n",
       "  'hasPerk': False}]"
      ]
     },
     "execution_count": 24,
     "metadata": {},
     "output_type": "execute_result"
    }
   ],
   "source": [
    "url = 'https://api.foursquare.com/v2/venues/search?\\\n",
    "client_id={}&client_secret={}\\\n",
    "&ll=43.784535,-79.160479\\\n",
    "&v={}\\\n",
    "&radius=1000\\\n",
    "&limit=2'.format(CLIENT_ID, CLIENT_SECRET, VERSION) \n",
    "\n",
    "response = requests.get(url).json()\n",
    "response['response']['venues']"
   ]
  },
  {
   "cell_type": "code",
   "execution_count": 25,
   "metadata": {},
   "outputs": [],
   "source": [
    "# Get venus information within these areas. Find venues' categories as a standard of \"similar neightborhood\". \n",
    "# Set radius to 2000m， sounds reasonable \n",
    "latitude = nbh.Latitude.values.tolist()\n",
    "longitude = nbh.Longitude.values.tolist()\n",
    "radius = 2000\n",
    "category_names = []\n",
    "\n",
    "for i in range(len(nbh)):\n",
    "    url = 'https://api.foursquare.com/v2/venues/search?client_id={}&client_secret={}&ll={},{}&v={}&radius={}'.format(CLIENT_ID, CLIENT_SECRET, latitude[i], longitude[i], VERSION, radius) \n",
    "    response = requests.get(url).json()\n",
    "    if len(response['response'])==0:\n",
    "        cat_name = []\n",
    "        category_names.append(cat_name)\n",
    "    else:  \n",
    "        venues = response['response']['venues']\n",
    "        cat_name = []\n",
    "        for j in range(len(venues)):\n",
    "            for k in range(len(venues[j]['categories'])):\n",
    "                cat_name.append(venues[j]['categories'][k]['name'])\n",
    "        category_names.append(cat_name)    "
   ]
  },
  {
   "cell_type": "code",
   "execution_count": 26,
   "metadata": {
    "scrolled": false
   },
   "outputs": [
    {
     "data": {
      "text/plain": [
       "['Middle School',\n",
       " 'Coworking Space',\n",
       " 'General College & University',\n",
       " 'Athletics & Sports',\n",
       " 'Light Rail Station',\n",
       " 'Miscellaneous Shop',\n",
       " 'Intersection',\n",
       " 'Sandwich Place',\n",
       " 'Yoga Studio',\n",
       " 'Housing Development',\n",
       " 'Coworking Space',\n",
       " 'Athletics & Sports',\n",
       " \"Dentist's Office\",\n",
       " 'Fast Food Restaurant',\n",
       " 'IT Services',\n",
       " 'Office',\n",
       " 'Office',\n",
       " 'Other Nightlife',\n",
       " 'Lounge',\n",
       " 'Park',\n",
       " 'Factory',\n",
       " 'Rock Club',\n",
       " 'Housing Development',\n",
       " 'Breakfast Spot',\n",
       " 'Park']"
      ]
     },
     "execution_count": 26,
     "metadata": {},
     "output_type": "execute_result"
    }
   ],
   "source": [
    "# Check what venues' categories we have in M8V\n",
    "category_names[0]"
   ]
  },
  {
   "cell_type": "code",
   "execution_count": 27,
   "metadata": {
    "scrolled": true
   },
   "outputs": [
    {
     "data": {
      "text/plain": [
       "138"
      ]
     },
     "execution_count": 27,
     "metadata": {},
     "output_type": "execute_result"
    }
   ],
   "source": [
    "# Check unique categories we have in total \n",
    "from itertools import chain\n",
    "total_categories = set(list(chain.from_iterable(category_names)))\n",
    "len(total_categories)"
   ]
  },
  {
   "cell_type": "code",
   "execution_count": 28,
   "metadata": {},
   "outputs": [],
   "source": [
    "# Add these categories as features to the dataframe\n",
    "features = nbh\n",
    "vector = [0]*12\n",
    "for i in total_categories:\n",
    "    features[i] = vector\n",
    "    \n",
    "# reset index for features dataframe\n",
    "features.reset_index(drop=True, inplace=True)"
   ]
  },
  {
   "cell_type": "code",
   "execution_count": 29,
   "metadata": {},
   "outputs": [],
   "source": [
    "# Encode the features: if the area has such feature, it will be encoded as 1, or 0.\n",
    "for i in range(len(nbh)):\n",
    "    for j in features.columns[5:]:\n",
    "        if j in category_names[i]:\n",
    "            features.loc[i,j]=1            "
   ]
  },
  {
   "cell_type": "code",
   "execution_count": 30,
   "metadata": {},
   "outputs": [
    {
     "data": {
      "text/html": [
       "<div>\n",
       "<style scoped>\n",
       "    .dataframe tbody tr th:only-of-type {\n",
       "        vertical-align: middle;\n",
       "    }\n",
       "\n",
       "    .dataframe tbody tr th {\n",
       "        vertical-align: top;\n",
       "    }\n",
       "\n",
       "    .dataframe thead th {\n",
       "        text-align: right;\n",
       "    }\n",
       "</style>\n",
       "<table border=\"1\" class=\"dataframe\">\n",
       "  <thead>\n",
       "    <tr style=\"text-align: right;\">\n",
       "      <th></th>\n",
       "      <th>Postcode</th>\n",
       "      <th>Borough</th>\n",
       "      <th>Neighbourhood</th>\n",
       "      <th>Latitude</th>\n",
       "      <th>Longitude</th>\n",
       "      <th>Event Space</th>\n",
       "      <th>ATM</th>\n",
       "      <th>Movie Theater</th>\n",
       "      <th>Government Building</th>\n",
       "      <th>Gas Station</th>\n",
       "      <th>...</th>\n",
       "      <th>Sculpture Garden</th>\n",
       "      <th>Liquor Store</th>\n",
       "      <th>Middle Eastern Restaurant</th>\n",
       "      <th>Factory</th>\n",
       "      <th>Housing Development</th>\n",
       "      <th>Playground</th>\n",
       "      <th>Parking</th>\n",
       "      <th>Fast Food Restaurant</th>\n",
       "      <th>Breakfast Spot</th>\n",
       "      <th>Bus Station</th>\n",
       "    </tr>\n",
       "  </thead>\n",
       "  <tbody>\n",
       "    <tr>\n",
       "      <th>0</th>\n",
       "      <td>M8V</td>\n",
       "      <td>Etobicoke</td>\n",
       "      <td>Humber Bay Shores, Mimico South, New Toronto</td>\n",
       "      <td>43.605647</td>\n",
       "      <td>-79.501321</td>\n",
       "      <td>0</td>\n",
       "      <td>0</td>\n",
       "      <td>0</td>\n",
       "      <td>0</td>\n",
       "      <td>0</td>\n",
       "      <td>...</td>\n",
       "      <td>0</td>\n",
       "      <td>0</td>\n",
       "      <td>0</td>\n",
       "      <td>1</td>\n",
       "      <td>1</td>\n",
       "      <td>0</td>\n",
       "      <td>0</td>\n",
       "      <td>1</td>\n",
       "      <td>1</td>\n",
       "      <td>0</td>\n",
       "    </tr>\n",
       "    <tr>\n",
       "      <th>1</th>\n",
       "      <td>M8W</td>\n",
       "      <td>Etobicoke</td>\n",
       "      <td>Alderwood, Long Branch</td>\n",
       "      <td>43.602414</td>\n",
       "      <td>-79.543484</td>\n",
       "      <td>0</td>\n",
       "      <td>0</td>\n",
       "      <td>0</td>\n",
       "      <td>0</td>\n",
       "      <td>1</td>\n",
       "      <td>...</td>\n",
       "      <td>0</td>\n",
       "      <td>0</td>\n",
       "      <td>0</td>\n",
       "      <td>0</td>\n",
       "      <td>0</td>\n",
       "      <td>1</td>\n",
       "      <td>0</td>\n",
       "      <td>0</td>\n",
       "      <td>1</td>\n",
       "      <td>0</td>\n",
       "    </tr>\n",
       "    <tr>\n",
       "      <th>2</th>\n",
       "      <td>M8X</td>\n",
       "      <td>Etobicoke</td>\n",
       "      <td>The Kingsway, Montgomery Road, Old Mill North</td>\n",
       "      <td>43.653654</td>\n",
       "      <td>-79.506944</td>\n",
       "      <td>0</td>\n",
       "      <td>0</td>\n",
       "      <td>0</td>\n",
       "      <td>0</td>\n",
       "      <td>0</td>\n",
       "      <td>...</td>\n",
       "      <td>0</td>\n",
       "      <td>1</td>\n",
       "      <td>0</td>\n",
       "      <td>0</td>\n",
       "      <td>0</td>\n",
       "      <td>0</td>\n",
       "      <td>0</td>\n",
       "      <td>0</td>\n",
       "      <td>0</td>\n",
       "      <td>0</td>\n",
       "    </tr>\n",
       "    <tr>\n",
       "      <th>3</th>\n",
       "      <td>M8Y</td>\n",
       "      <td>Etobicoke</td>\n",
       "      <td>Humber Bay, King's Mill Park, Kingsway Park So...</td>\n",
       "      <td>43.636258</td>\n",
       "      <td>-79.498509</td>\n",
       "      <td>1</td>\n",
       "      <td>0</td>\n",
       "      <td>0</td>\n",
       "      <td>0</td>\n",
       "      <td>0</td>\n",
       "      <td>...</td>\n",
       "      <td>0</td>\n",
       "      <td>0</td>\n",
       "      <td>0</td>\n",
       "      <td>0</td>\n",
       "      <td>0</td>\n",
       "      <td>1</td>\n",
       "      <td>0</td>\n",
       "      <td>0</td>\n",
       "      <td>0</td>\n",
       "      <td>0</td>\n",
       "    </tr>\n",
       "    <tr>\n",
       "      <th>4</th>\n",
       "      <td>M8Z</td>\n",
       "      <td>Etobicoke</td>\n",
       "      <td>Kingsway Park South West, Mimico NW, The Queen...</td>\n",
       "      <td>43.628841</td>\n",
       "      <td>-79.520999</td>\n",
       "      <td>0</td>\n",
       "      <td>0</td>\n",
       "      <td>0</td>\n",
       "      <td>1</td>\n",
       "      <td>0</td>\n",
       "      <td>...</td>\n",
       "      <td>0</td>\n",
       "      <td>0</td>\n",
       "      <td>0</td>\n",
       "      <td>1</td>\n",
       "      <td>0</td>\n",
       "      <td>0</td>\n",
       "      <td>1</td>\n",
       "      <td>1</td>\n",
       "      <td>0</td>\n",
       "      <td>0</td>\n",
       "    </tr>\n",
       "  </tbody>\n",
       "</table>\n",
       "<p>5 rows × 143 columns</p>\n",
       "</div>"
      ],
      "text/plain": [
       "  Postcode    Borough                                      Neighbourhood  \\\n",
       "0      M8V  Etobicoke       Humber Bay Shores, Mimico South, New Toronto   \n",
       "1      M8W  Etobicoke                             Alderwood, Long Branch   \n",
       "2      M8X  Etobicoke      The Kingsway, Montgomery Road, Old Mill North   \n",
       "3      M8Y  Etobicoke  Humber Bay, King's Mill Park, Kingsway Park So...   \n",
       "4      M8Z  Etobicoke  Kingsway Park South West, Mimico NW, The Queen...   \n",
       "\n",
       "    Latitude  Longitude  Event Space  ATM  Movie Theater  Government Building  \\\n",
       "0  43.605647 -79.501321            0    0              0                    0   \n",
       "1  43.602414 -79.543484            0    0              0                    0   \n",
       "2  43.653654 -79.506944            0    0              0                    0   \n",
       "3  43.636258 -79.498509            1    0              0                    0   \n",
       "4  43.628841 -79.520999            0    0              0                    1   \n",
       "\n",
       "   Gas Station  ...  Sculpture Garden  Liquor Store  \\\n",
       "0            0  ...                 0             0   \n",
       "1            1  ...                 0             0   \n",
       "2            0  ...                 0             1   \n",
       "3            0  ...                 0             0   \n",
       "4            0  ...                 0             0   \n",
       "\n",
       "   Middle Eastern Restaurant  Factory  Housing Development  Playground  \\\n",
       "0                          0        1                    1           0   \n",
       "1                          0        0                    0           1   \n",
       "2                          0        0                    0           0   \n",
       "3                          0        0                    0           1   \n",
       "4                          0        1                    0           0   \n",
       "\n",
       "   Parking  Fast Food Restaurant  Breakfast Spot  Bus Station  \n",
       "0        0                     1               1            0  \n",
       "1        0                     0               1            0  \n",
       "2        0                     0               0            0  \n",
       "3        0                     0               0            0  \n",
       "4        1                     1               0            0  \n",
       "\n",
       "[5 rows x 143 columns]"
      ]
     },
     "execution_count": 30,
     "metadata": {},
     "output_type": "execute_result"
    }
   ],
   "source": [
    "features.head()"
   ]
  },
  {
   "cell_type": "markdown",
   "metadata": {},
   "source": [
    "### Cluster Neighborhoods by features\n",
    "run K-means to cluster the neiborhoods"
   ]
  },
  {
   "cell_type": "code",
   "execution_count": 31,
   "metadata": {},
   "outputs": [
    {
     "data": {
      "image/png": "[encoded data removed]",
      "text/plain": [
       "<Figure size 432x288 with 1 Axes>"
      ]
     },
     "metadata": {
      "needs_background": "light"
     },
     "output_type": "display_data"
    }
   ],
   "source": [
    "from sklearn.cluster import KMeans\n",
    "import matplotlib.pyplot as plt\n",
    "%matplotlib inline\n",
    "# using the elbow method to find the optimal number of clusters\n",
    "# the dataset is small so I didn't split the dataset into training and testing\n",
    "X = features.iloc[:,5:].values\n",
    "wcss=[]\n",
    "for i in range(2,6):\n",
    "    kmeans = KMeans(n_clusters = i, init = 'k-means++', random_state=0)\n",
    "    kmeans.fit(X)\n",
    "    wcss.append(kmeans.inertia_)\n",
    "\n",
    "plt.plot(range(2, 6), wcss)\n",
    "plt.title('The Elbow Method')\n",
    "plt.xlabel('Number of clusters')\n",
    "plt.ylabel('WCSS')\n",
    "plt.show()"
   ]
  },
  {
   "cell_type": "code",
   "execution_count": 32,
   "metadata": {},
   "outputs": [
    {
     "name": "stdout",
     "output_type": "stream",
     "text": [
      "Label for each area: [0, 2, 1, 1, 0, 0, 2, 1, 1, 1, 1, 1]\n"
     ]
    }
   ],
   "source": [
    "# decide k=3, fitting k-means to the dataset\n",
    "k = 3\n",
    "kmeans = KMeans(n_clusters = k, init = 'k-means++', random_state=0)\n",
    "y_kmeans = kmeans.fit_predict(X)\n",
    "\n",
    "# check cluster labels\n",
    "print('Label for each area: {}'.format(kmeans.labels_.tolist()))\n",
    "\n",
    "# append cluster labels to dataframe\n",
    "features['label']=kmeans.labels_.tolist()"
   ]
  },
  {
   "cell_type": "code",
   "execution_count": 33,
   "metadata": {},
   "outputs": [
    {
     "data": {
      "text/html": [
       "<div style=\"width:100%;\"><div style=\"position:relative;width:100%;height:0;padding-bottom:60%;\"><iframe src=\"data:text/html;charset=utf-8;base64,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\" style=\"position:absolute;width:100%;height:100%;left:0;top:0;border:none !important;\" allowfullscreen webkitallowfullscreen mozallowfullscreen></iframe></div></div>"
      ],
      "text/plain": [
       "<IPython.core.display.HTML object>"
      ]
     },
     "execution_count": 33,
     "metadata": {},
     "output_type": "execute_result"
    }
   ],
   "source": [
    "# Visualizing the clusters on map\n",
    "import matplotlib.cm as cm\n",
    "import matplotlib.colors as colors\n",
    "# Initialize the map first\n",
    "map_clusters = folium.Map(location=[location.latitude,location.longitude],zoom_start=11)\n",
    "\n",
    "# set color scheme for the clusters\n",
    "x = np.arange(k)\n",
    "ys = [i + x + (i*x)**2 for i in range(k)]\n",
    "colors_array = cm.rainbow(np.linspace(0, 1, len(ys)))\n",
    "rainbow = [colors.rgb2hex(i) for i in colors_array]\n",
    "\n",
    "# add markers to the map,  \n",
    "markers_colors = []\n",
    "for lat, lon, poi, cluster in zip(features['Latitude'], features['Longitude'], features['Neighbourhood'], features['label']):\n",
    "    label = folium.Popup(str(poi) + ' Cluster ' + str(cluster), parse_html=True)\n",
    "    folium.CircleMarker(\n",
    "        [lat, lon],\n",
    "        radius=5,\n",
    "        popup=label,\n",
    "        color=rainbow[cluster-1],\n",
    "        fill=True,\n",
    "        fill_color=rainbow[cluster-1],\n",
    "        fill_opacity=0.7).add_to(map_clusters)\n",
    "\n",
    "map_clusters\n"
   ]
  },
  {
   "cell_type": "markdown",
   "metadata": {},
   "source": [
    "### Tom can choose the following neighborhoods close to his new workplace if he would like to live in a neighborhood resembles Highland Creek."
   ]
  },
  {
   "cell_type": "code",
   "execution_count": 34,
   "metadata": {},
   "outputs": [
    {
     "name": "stdout",
     "output_type": "stream",
     "text": [
      "Humber Bay Shores\n",
      " Mimico South\n",
      " New Toronto\n",
      "Kingsway Park South West\n",
      " Mimico NW\n",
      " The Queensway West\n",
      " Royal York South West\n",
      " South of Bloor\n",
      "Cloverdale\n",
      " Islington\n",
      " Martin Grove\n",
      " Princess Gardens\n",
      " West Deane Park\n"
     ]
    }
   ],
   "source": [
    "# check neighborhoods in cluster 0\n",
    "results = features[features['label']==0]['Neighbourhood'].tolist()\n",
    "\n",
    "lst = [i.split(',') for i in results]\n",
    "for i in lst:\n",
    "    for j in i:\n",
    "        print(j)"
   ]
  },
  {
   "cell_type": "code",
   "execution_count": null,
   "metadata": {},
   "outputs": [],
   "source": []
  }
 ],
 "metadata": {
  "kernelspec": {
   "display_name": "Python 3",
   "language": "python",
   "name": "python3"
  },
  "language_info": {
   "codemirror_mode": {
    "name": "ipython",
    "version": 3
   },
   "file_extension": ".py",
   "mimetype": "text/x-python",
   "name": "python",
   "nbconvert_exporter": "python",
   "pygments_lexer": "ipython3",
   "version": "3.7.3"
  }
 },
 "nbformat": 4,
 "nbformat_minor": 2
}
