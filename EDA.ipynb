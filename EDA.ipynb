{
 "cells": [
  {
   "cell_type": "code",
   "execution_count": 1,
   "metadata": {},
   "outputs": [],
   "source": [
    "import pandas as pd\n",
    "from bs4 import BeautifulSoup\n",
    "import requests \n",
    "import numpy as np"
   ]
  },
  {
   "cell_type": "markdown",
   "metadata": {},
   "source": [
    "#### I used **BeautifulSoup** and **Requests** to scrape the table from Wikipedia"
   ]
  },
  {
   "cell_type": "code",
   "execution_count": 2,
   "metadata": {},
   "outputs": [],
   "source": [
    "url = 'https://en.wikipedia.org/wiki/List_of_postal_codes_of_Canada:_M'\n",
    "response = requests.get(url)"
   ]
  },
  {
   "cell_type": "code",
   "execution_count": 3,
   "metadata": {},
   "outputs": [],
   "source": [
    "soup = BeautifulSoup(response.content,'html.parser')"
   ]
  },
  {
   "cell_type": "code",
   "execution_count": 4,
   "metadata": {},
   "outputs": [],
   "source": [
    "tables = soup.find_all('table',class_='wikitable sortable')"
   ]
  },
  {
   "cell_type": "code",
   "execution_count": 5,
   "metadata": {},
   "outputs": [],
   "source": [
    "for table in tables:\n",
    "    ths = table.find_all('th')\n",
    "    headings = [th.text.strip() for th in ths]\n",
    "content=[]\n",
    "for tr in table.find_all('tr'):\n",
    "    tds = tr.find_all('td')\n",
    "    row = [td.text.strip() for td in tds]\n",
    "    content.append(row)\n",
    "content = content[1:]"
   ]
  },
  {
   "cell_type": "code",
   "execution_count": 6,
   "metadata": {},
   "outputs": [
    {
     "data": {
      "text/plain": [
       "[['M1A', 'Not assigned', 'Not assigned'],\n",
       " ['M2A', 'Not assigned', 'Not assigned'],\n",
       " ['M3A', 'North York', 'Parkwoods'],\n",
       " ['M4A', 'North York', 'Victoria Village'],\n",
       " ['M5A', 'Downtown Toronto', 'Harbourfront']]"
      ]
     },
     "execution_count": 6,
     "metadata": {},
     "output_type": "execute_result"
    }
   ],
   "source": [
    "content[0:5]"
   ]
  },
  {
   "cell_type": "markdown",
   "metadata": {},
   "source": [
    "#### This is the dataframe that exactly same as the table on Wikipedia"
   ]
  },
  {
   "cell_type": "code",
   "execution_count": 7,
   "metadata": {
    "scrolled": false
   },
   "outputs": [
    {
     "data": {
      "text/html": [
       "<div>\n",
       "<style scoped>\n",
       "    .dataframe tbody tr th:only-of-type {\n",
       "        vertical-align: middle;\n",
       "    }\n",
       "\n",
       "    .dataframe tbody tr th {\n",
       "        vertical-align: top;\n",
       "    }\n",
       "\n",
       "    .dataframe thead th {\n",
       "        text-align: right;\n",
       "    }\n",
       "</style>\n",
       "<table border=\"1\" class=\"dataframe\">\n",
       "  <thead>\n",
       "    <tr style=\"text-align: right;\">\n",
       "      <th></th>\n",
       "      <th>Postcode</th>\n",
       "      <th>Borough</th>\n",
       "      <th>Neighbourhood</th>\n",
       "    </tr>\n",
       "  </thead>\n",
       "  <tbody>\n",
       "    <tr>\n",
       "      <th>0</th>\n",
       "      <td>M1A</td>\n",
       "      <td>Not assigned</td>\n",
       "      <td>Not assigned</td>\n",
       "    </tr>\n",
       "    <tr>\n",
       "      <th>1</th>\n",
       "      <td>M2A</td>\n",
       "      <td>Not assigned</td>\n",
       "      <td>Not assigned</td>\n",
       "    </tr>\n",
       "    <tr>\n",
       "      <th>2</th>\n",
       "      <td>M3A</td>\n",
       "      <td>North York</td>\n",
       "      <td>Parkwoods</td>\n",
       "    </tr>\n",
       "    <tr>\n",
       "      <th>3</th>\n",
       "      <td>M4A</td>\n",
       "      <td>North York</td>\n",
       "      <td>Victoria Village</td>\n",
       "    </tr>\n",
       "    <tr>\n",
       "      <th>4</th>\n",
       "      <td>M5A</td>\n",
       "      <td>Downtown Toronto</td>\n",
       "      <td>Harbourfront</td>\n",
       "    </tr>\n",
       "    <tr>\n",
       "      <th>5</th>\n",
       "      <td>M6A</td>\n",
       "      <td>North York</td>\n",
       "      <td>Lawrence Heights</td>\n",
       "    </tr>\n",
       "    <tr>\n",
       "      <th>6</th>\n",
       "      <td>M6A</td>\n",
       "      <td>North York</td>\n",
       "      <td>Lawrence Manor</td>\n",
       "    </tr>\n",
       "    <tr>\n",
       "      <th>7</th>\n",
       "      <td>M7A</td>\n",
       "      <td>Queen's Park</td>\n",
       "      <td>Not assigned</td>\n",
       "    </tr>\n",
       "    <tr>\n",
       "      <th>8</th>\n",
       "      <td>M8A</td>\n",
       "      <td>Not assigned</td>\n",
       "      <td>Not assigned</td>\n",
       "    </tr>\n",
       "    <tr>\n",
       "      <th>9</th>\n",
       "      <td>M9A</td>\n",
       "      <td>Queen's Park</td>\n",
       "      <td>Queen's Park</td>\n",
       "    </tr>\n",
       "  </tbody>\n",
       "</table>\n",
       "</div>"
      ],
      "text/plain": [
       "  Postcode           Borough     Neighbourhood\n",
       "0      M1A      Not assigned      Not assigned\n",
       "1      M2A      Not assigned      Not assigned\n",
       "2      M3A        North York         Parkwoods\n",
       "3      M4A        North York  Victoria Village\n",
       "4      M5A  Downtown Toronto      Harbourfront\n",
       "5      M6A        North York  Lawrence Heights\n",
       "6      M6A        North York    Lawrence Manor\n",
       "7      M7A      Queen's Park      Not assigned\n",
       "8      M8A      Not assigned      Not assigned\n",
       "9      M9A      Queen's Park      Queen's Park"
      ]
     },
     "execution_count": 7,
     "metadata": {},
     "output_type": "execute_result"
    }
   ],
   "source": [
    "df = pd.DataFrame(columns=headings,data=content)\n",
    "df.head(10)"
   ]
  },
  {
   "cell_type": "markdown",
   "metadata": {},
   "source": [
    "Drop row if ***Borough*** is ***Not assigned***"
   ]
  },
  {
   "cell_type": "code",
   "execution_count": 8,
   "metadata": {
    "scrolled": true
   },
   "outputs": [
    {
     "data": {
      "text/html": [
       "<div>\n",
       "<style scoped>\n",
       "    .dataframe tbody tr th:only-of-type {\n",
       "        vertical-align: middle;\n",
       "    }\n",
       "\n",
       "    .dataframe tbody tr th {\n",
       "        vertical-align: top;\n",
       "    }\n",
       "\n",
       "    .dataframe thead th {\n",
       "        text-align: right;\n",
       "    }\n",
       "</style>\n",
       "<table border=\"1\" class=\"dataframe\">\n",
       "  <thead>\n",
       "    <tr style=\"text-align: right;\">\n",
       "      <th></th>\n",
       "      <th>Postcode</th>\n",
       "      <th>Borough</th>\n",
       "      <th>Neighbourhood</th>\n",
       "    </tr>\n",
       "  </thead>\n",
       "  <tbody>\n",
       "    <tr>\n",
       "      <th>2</th>\n",
       "      <td>M3A</td>\n",
       "      <td>North York</td>\n",
       "      <td>Parkwoods</td>\n",
       "    </tr>\n",
       "    <tr>\n",
       "      <th>3</th>\n",
       "      <td>M4A</td>\n",
       "      <td>North York</td>\n",
       "      <td>Victoria Village</td>\n",
       "    </tr>\n",
       "    <tr>\n",
       "      <th>4</th>\n",
       "      <td>M5A</td>\n",
       "      <td>Downtown Toronto</td>\n",
       "      <td>Harbourfront</td>\n",
       "    </tr>\n",
       "    <tr>\n",
       "      <th>5</th>\n",
       "      <td>M6A</td>\n",
       "      <td>North York</td>\n",
       "      <td>Lawrence Heights</td>\n",
       "    </tr>\n",
       "    <tr>\n",
       "      <th>6</th>\n",
       "      <td>M6A</td>\n",
       "      <td>North York</td>\n",
       "      <td>Lawrence Manor</td>\n",
       "    </tr>\n",
       "    <tr>\n",
       "      <th>7</th>\n",
       "      <td>M7A</td>\n",
       "      <td>Queen's Park</td>\n",
       "      <td>Not assigned</td>\n",
       "    </tr>\n",
       "    <tr>\n",
       "      <th>9</th>\n",
       "      <td>M9A</td>\n",
       "      <td>Queen's Park</td>\n",
       "      <td>Queen's Park</td>\n",
       "    </tr>\n",
       "    <tr>\n",
       "      <th>10</th>\n",
       "      <td>M1B</td>\n",
       "      <td>Scarborough</td>\n",
       "      <td>Rouge</td>\n",
       "    </tr>\n",
       "    <tr>\n",
       "      <th>11</th>\n",
       "      <td>M1B</td>\n",
       "      <td>Scarborough</td>\n",
       "      <td>Malvern</td>\n",
       "    </tr>\n",
       "    <tr>\n",
       "      <th>13</th>\n",
       "      <td>M3B</td>\n",
       "      <td>North York</td>\n",
       "      <td>Don Mills North</td>\n",
       "    </tr>\n",
       "  </tbody>\n",
       "</table>\n",
       "</div>"
      ],
      "text/plain": [
       "   Postcode           Borough     Neighbourhood\n",
       "2       M3A        North York         Parkwoods\n",
       "3       M4A        North York  Victoria Village\n",
       "4       M5A  Downtown Toronto      Harbourfront\n",
       "5       M6A        North York  Lawrence Heights\n",
       "6       M6A        North York    Lawrence Manor\n",
       "7       M7A      Queen's Park      Not assigned\n",
       "9       M9A      Queen's Park      Queen's Park\n",
       "10      M1B       Scarborough             Rouge\n",
       "11      M1B       Scarborough           Malvern\n",
       "13      M3B        North York   Don Mills North"
      ]
     },
     "execution_count": 8,
     "metadata": {},
     "output_type": "execute_result"
    }
   ],
   "source": [
    "df = df[df['Borough']!='Not assigned'].dropna()\n",
    "df.head(10)"
   ]
  },
  {
   "cell_type": "markdown",
   "metadata": {},
   "source": [
    "##### Combine the neighbourhoods if they are in the same borough"
   ]
  },
  {
   "cell_type": "code",
   "execution_count": 9,
   "metadata": {
    "scrolled": true
   },
   "outputs": [
    {
     "data": {
      "text/html": [
       "<div>\n",
       "<style scoped>\n",
       "    .dataframe tbody tr th:only-of-type {\n",
       "        vertical-align: middle;\n",
       "    }\n",
       "\n",
       "    .dataframe tbody tr th {\n",
       "        vertical-align: top;\n",
       "    }\n",
       "\n",
       "    .dataframe thead th {\n",
       "        text-align: right;\n",
       "    }\n",
       "</style>\n",
       "<table border=\"1\" class=\"dataframe\">\n",
       "  <thead>\n",
       "    <tr style=\"text-align: right;\">\n",
       "      <th></th>\n",
       "      <th>Postcode</th>\n",
       "      <th>Borough</th>\n",
       "      <th>Neighbourhood</th>\n",
       "    </tr>\n",
       "  </thead>\n",
       "  <tbody>\n",
       "    <tr>\n",
       "      <th>0</th>\n",
       "      <td>M1B</td>\n",
       "      <td>Scarborough</td>\n",
       "      <td>Rouge, Malvern</td>\n",
       "    </tr>\n",
       "    <tr>\n",
       "      <th>1</th>\n",
       "      <td>M1C</td>\n",
       "      <td>Scarborough</td>\n",
       "      <td>Highland Creek, Rouge Hill, Port Union</td>\n",
       "    </tr>\n",
       "    <tr>\n",
       "      <th>2</th>\n",
       "      <td>M1E</td>\n",
       "      <td>Scarborough</td>\n",
       "      <td>Guildwood, Morningside, West Hill</td>\n",
       "    </tr>\n",
       "    <tr>\n",
       "      <th>3</th>\n",
       "      <td>M1G</td>\n",
       "      <td>Scarborough</td>\n",
       "      <td>Woburn</td>\n",
       "    </tr>\n",
       "    <tr>\n",
       "      <th>4</th>\n",
       "      <td>M1H</td>\n",
       "      <td>Scarborough</td>\n",
       "      <td>Cedarbrae</td>\n",
       "    </tr>\n",
       "    <tr>\n",
       "      <th>5</th>\n",
       "      <td>M1J</td>\n",
       "      <td>Scarborough</td>\n",
       "      <td>Scarborough Village</td>\n",
       "    </tr>\n",
       "    <tr>\n",
       "      <th>6</th>\n",
       "      <td>M1K</td>\n",
       "      <td>Scarborough</td>\n",
       "      <td>East Birchmount Park, Ionview, Kennedy Park</td>\n",
       "    </tr>\n",
       "    <tr>\n",
       "      <th>7</th>\n",
       "      <td>M1L</td>\n",
       "      <td>Scarborough</td>\n",
       "      <td>Clairlea, Golden Mile, Oakridge</td>\n",
       "    </tr>\n",
       "    <tr>\n",
       "      <th>8</th>\n",
       "      <td>M1M</td>\n",
       "      <td>Scarborough</td>\n",
       "      <td>Cliffcrest, Cliffside, Scarborough Village West</td>\n",
       "    </tr>\n",
       "    <tr>\n",
       "      <th>9</th>\n",
       "      <td>M1N</td>\n",
       "      <td>Scarborough</td>\n",
       "      <td>Birch Cliff, Cliffside West</td>\n",
       "    </tr>\n",
       "  </tbody>\n",
       "</table>\n",
       "</div>"
      ],
      "text/plain": [
       "  Postcode      Borough                                    Neighbourhood\n",
       "0      M1B  Scarborough                                   Rouge, Malvern\n",
       "1      M1C  Scarborough           Highland Creek, Rouge Hill, Port Union\n",
       "2      M1E  Scarborough                Guildwood, Morningside, West Hill\n",
       "3      M1G  Scarborough                                           Woburn\n",
       "4      M1H  Scarborough                                        Cedarbrae\n",
       "5      M1J  Scarborough                              Scarborough Village\n",
       "6      M1K  Scarborough      East Birchmount Park, Ionview, Kennedy Park\n",
       "7      M1L  Scarborough                  Clairlea, Golden Mile, Oakridge\n",
       "8      M1M  Scarborough  Cliffcrest, Cliffside, Scarborough Village West\n",
       "9      M1N  Scarborough                      Birch Cliff, Cliffside West"
      ]
     },
     "execution_count": 9,
     "metadata": {},
     "output_type": "execute_result"
    }
   ],
   "source": [
    "df = df.groupby(['Postcode','Borough'])['Neighbourhood'].apply(lambda x:', '.join(x.astype(str))).reset_index()\n",
    "df.head(10)"
   ]
  },
  {
   "cell_type": "markdown",
   "metadata": {},
   "source": [
    "#### Assign the borough name to neighbourhood if neighbourhood'name is not assigned"
   ]
  },
  {
   "cell_type": "code",
   "execution_count": 10,
   "metadata": {
    "scrolled": true
   },
   "outputs": [
    {
     "data": {
      "text/html": [
       "<div>\n",
       "<style scoped>\n",
       "    .dataframe tbody tr th:only-of-type {\n",
       "        vertical-align: middle;\n",
       "    }\n",
       "\n",
       "    .dataframe tbody tr th {\n",
       "        vertical-align: top;\n",
       "    }\n",
       "\n",
       "    .dataframe thead th {\n",
       "        text-align: right;\n",
       "    }\n",
       "</style>\n",
       "<table border=\"1\" class=\"dataframe\">\n",
       "  <thead>\n",
       "    <tr style=\"text-align: right;\">\n",
       "      <th></th>\n",
       "      <th>Postcode</th>\n",
       "      <th>Borough</th>\n",
       "      <th>Neighbourhood</th>\n",
       "    </tr>\n",
       "  </thead>\n",
       "  <tbody>\n",
       "    <tr>\n",
       "      <th>0</th>\n",
       "      <td>M1B</td>\n",
       "      <td>Scarborough</td>\n",
       "      <td>Rouge, Malvern</td>\n",
       "    </tr>\n",
       "    <tr>\n",
       "      <th>1</th>\n",
       "      <td>M1C</td>\n",
       "      <td>Scarborough</td>\n",
       "      <td>Highland Creek, Rouge Hill, Port Union</td>\n",
       "    </tr>\n",
       "    <tr>\n",
       "      <th>2</th>\n",
       "      <td>M1E</td>\n",
       "      <td>Scarborough</td>\n",
       "      <td>Guildwood, Morningside, West Hill</td>\n",
       "    </tr>\n",
       "    <tr>\n",
       "      <th>3</th>\n",
       "      <td>M1G</td>\n",
       "      <td>Scarborough</td>\n",
       "      <td>Woburn</td>\n",
       "    </tr>\n",
       "    <tr>\n",
       "      <th>4</th>\n",
       "      <td>M1H</td>\n",
       "      <td>Scarborough</td>\n",
       "      <td>Cedarbrae</td>\n",
       "    </tr>\n",
       "    <tr>\n",
       "      <th>5</th>\n",
       "      <td>M1J</td>\n",
       "      <td>Scarborough</td>\n",
       "      <td>Scarborough Village</td>\n",
       "    </tr>\n",
       "    <tr>\n",
       "      <th>6</th>\n",
       "      <td>M1K</td>\n",
       "      <td>Scarborough</td>\n",
       "      <td>East Birchmount Park, Ionview, Kennedy Park</td>\n",
       "    </tr>\n",
       "    <tr>\n",
       "      <th>7</th>\n",
       "      <td>M1L</td>\n",
       "      <td>Scarborough</td>\n",
       "      <td>Clairlea, Golden Mile, Oakridge</td>\n",
       "    </tr>\n",
       "    <tr>\n",
       "      <th>8</th>\n",
       "      <td>M1M</td>\n",
       "      <td>Scarborough</td>\n",
       "      <td>Cliffcrest, Cliffside, Scarborough Village West</td>\n",
       "    </tr>\n",
       "    <tr>\n",
       "      <th>9</th>\n",
       "      <td>M1N</td>\n",
       "      <td>Scarborough</td>\n",
       "      <td>Birch Cliff, Cliffside West</td>\n",
       "    </tr>\n",
       "  </tbody>\n",
       "</table>\n",
       "</div>"
      ],
      "text/plain": [
       "  Postcode      Borough                                    Neighbourhood\n",
       "0      M1B  Scarborough                                   Rouge, Malvern\n",
       "1      M1C  Scarborough           Highland Creek, Rouge Hill, Port Union\n",
       "2      M1E  Scarborough                Guildwood, Morningside, West Hill\n",
       "3      M1G  Scarborough                                           Woburn\n",
       "4      M1H  Scarborough                                        Cedarbrae\n",
       "5      M1J  Scarborough                              Scarborough Village\n",
       "6      M1K  Scarborough      East Birchmount Park, Ionview, Kennedy Park\n",
       "7      M1L  Scarborough                  Clairlea, Golden Mile, Oakridge\n",
       "8      M1M  Scarborough  Cliffcrest, Cliffside, Scarborough Village West\n",
       "9      M1N  Scarborough                      Birch Cliff, Cliffside West"
      ]
     },
     "execution_count": 10,
     "metadata": {},
     "output_type": "execute_result"
    }
   ],
   "source": [
    "df['Neighbourhood'][df['Neighbourhood'] == 'Not assigned'] = df['Borough']\n",
    "df.head(10)"
   ]
  },
  {
   "cell_type": "code",
   "execution_count": 11,
   "metadata": {},
   "outputs": [
    {
     "data": {
      "text/plain": [
       "(103, 3)"
      ]
     },
     "execution_count": 11,
     "metadata": {},
     "output_type": "execute_result"
    }
   ],
   "source": [
    "df.shape"
   ]
  },
  {
   "cell_type": "markdown",
   "metadata": {},
   "source": [
    "## Collect latitude and longitude, and append to the dataframe "
   ]
  },
  {
   "cell_type": "code",
   "execution_count": 12,
   "metadata": {
    "scrolled": true
   },
   "outputs": [],
   "source": [
    "import geocoder"
   ]
  },
  {
   "cell_type": "code",
   "execution_count": 13,
   "metadata": {},
   "outputs": [],
   "source": [
    "#### "
   ]
  },
  {
   "cell_type": "code",
   "execution_count": 14,
   "metadata": {},
   "outputs": [
    {
     "data": {
      "text/plain": [
       "\"# initialize your variable to None\\nlat_lng_coords = None\\n\\n# loop until you get the coordinates\\n# get all postal code\\nlatitude = []\\nlongitude = []\\nfor postal_code in df.Postcode.to_list():\\n    while(lat_lng_coords is None):\\n      g = geocoder.google('{}, Toronto, Ontario'.format(postal_code))\\n      lat_lng_coords = g.latlng\\n\\n    latitude.append(lat_lng_coords[0])\\n    longitude.append(lat_lng_coords[1])\""
      ]
     },
     "execution_count": 14,
     "metadata": {},
     "output_type": "execute_result"
    }
   ],
   "source": [
    "'''# initialize your variable to None\n",
    "lat_lng_coords = None\n",
    "\n",
    "# loop until you get the coordinates\n",
    "# get all postal code\n",
    "latitude = []\n",
    "longitude = []\n",
    "for postal_code in df.Postcode.to_list():\n",
    "    while(lat_lng_coords is None):\n",
    "      g = geocoder.google('{}, Toronto, Ontario'.format(postal_code))\n",
    "      lat_lng_coords = g.latlng\n",
    "\n",
    "    latitude.append(lat_lng_coords[0])\n",
    "    longitude.append(lat_lng_coords[1])'''"
   ]
  },
  {
   "cell_type": "code",
   "execution_count": 15,
   "metadata": {},
   "outputs": [
    {
     "data": {
      "text/html": [
       "<div>\n",
       "<style scoped>\n",
       "    .dataframe tbody tr th:only-of-type {\n",
       "        vertical-align: middle;\n",
       "    }\n",
       "\n",
       "    .dataframe tbody tr th {\n",
       "        vertical-align: top;\n",
       "    }\n",
       "\n",
       "    .dataframe thead th {\n",
       "        text-align: right;\n",
       "    }\n",
       "</style>\n",
       "<table border=\"1\" class=\"dataframe\">\n",
       "  <thead>\n",
       "    <tr style=\"text-align: right;\">\n",
       "      <th></th>\n",
       "      <th>Postal Code</th>\n",
       "      <th>Latitude</th>\n",
       "      <th>Longitude</th>\n",
       "    </tr>\n",
       "  </thead>\n",
       "  <tbody>\n",
       "    <tr>\n",
       "      <th>0</th>\n",
       "      <td>M1B</td>\n",
       "      <td>43.806686</td>\n",
       "      <td>-79.194353</td>\n",
       "    </tr>\n",
       "    <tr>\n",
       "      <th>1</th>\n",
       "      <td>M1C</td>\n",
       "      <td>43.784535</td>\n",
       "      <td>-79.160497</td>\n",
       "    </tr>\n",
       "    <tr>\n",
       "      <th>2</th>\n",
       "      <td>M1E</td>\n",
       "      <td>43.763573</td>\n",
       "      <td>-79.188711</td>\n",
       "    </tr>\n",
       "    <tr>\n",
       "      <th>3</th>\n",
       "      <td>M1G</td>\n",
       "      <td>43.770992</td>\n",
       "      <td>-79.216917</td>\n",
       "    </tr>\n",
       "    <tr>\n",
       "      <th>4</th>\n",
       "      <td>M1H</td>\n",
       "      <td>43.773136</td>\n",
       "      <td>-79.239476</td>\n",
       "    </tr>\n",
       "  </tbody>\n",
       "</table>\n",
       "</div>"
      ],
      "text/plain": [
       "  Postal Code   Latitude  Longitude\n",
       "0         M1B  43.806686 -79.194353\n",
       "1         M1C  43.784535 -79.160497\n",
       "2         M1E  43.763573 -79.188711\n",
       "3         M1G  43.770992 -79.216917\n",
       "4         M1H  43.773136 -79.239476"
      ]
     },
     "execution_count": 15,
     "metadata": {},
     "output_type": "execute_result"
    }
   ],
   "source": [
    "df_geo = pd.read_csv('Geospatial_Coordinates.csv')\n",
    "df_geo.head()"
   ]
  },
  {
   "cell_type": "code",
   "execution_count": 16,
   "metadata": {},
   "outputs": [],
   "source": [
    "df = df.merge(df_geo,left_on='Postcode',right_on='Postal Code',how='left')\n",
    "df.drop(['Postal Code'],axis=1,inplace=True)"
   ]
  },
  {
   "cell_type": "code",
   "execution_count": 17,
   "metadata": {},
   "outputs": [
    {
     "data": {
      "text/html": [
       "<div>\n",
       "<style scoped>\n",
       "    .dataframe tbody tr th:only-of-type {\n",
       "        vertical-align: middle;\n",
       "    }\n",
       "\n",
       "    .dataframe tbody tr th {\n",
       "        vertical-align: top;\n",
       "    }\n",
       "\n",
       "    .dataframe thead th {\n",
       "        text-align: right;\n",
       "    }\n",
       "</style>\n",
       "<table border=\"1\" class=\"dataframe\">\n",
       "  <thead>\n",
       "    <tr style=\"text-align: right;\">\n",
       "      <th></th>\n",
       "      <th>Postcode</th>\n",
       "      <th>Borough</th>\n",
       "      <th>Neighbourhood</th>\n",
       "      <th>Latitude</th>\n",
       "      <th>Longitude</th>\n",
       "    </tr>\n",
       "  </thead>\n",
       "  <tbody>\n",
       "    <tr>\n",
       "      <th>0</th>\n",
       "      <td>M1B</td>\n",
       "      <td>Scarborough</td>\n",
       "      <td>Rouge, Malvern</td>\n",
       "      <td>43.806686</td>\n",
       "      <td>-79.194353</td>\n",
       "    </tr>\n",
       "    <tr>\n",
       "      <th>1</th>\n",
       "      <td>M1C</td>\n",
       "      <td>Scarborough</td>\n",
       "      <td>Highland Creek, Rouge Hill, Port Union</td>\n",
       "      <td>43.784535</td>\n",
       "      <td>-79.160497</td>\n",
       "    </tr>\n",
       "    <tr>\n",
       "      <th>2</th>\n",
       "      <td>M1E</td>\n",
       "      <td>Scarborough</td>\n",
       "      <td>Guildwood, Morningside, West Hill</td>\n",
       "      <td>43.763573</td>\n",
       "      <td>-79.188711</td>\n",
       "    </tr>\n",
       "    <tr>\n",
       "      <th>3</th>\n",
       "      <td>M1G</td>\n",
       "      <td>Scarborough</td>\n",
       "      <td>Woburn</td>\n",
       "      <td>43.770992</td>\n",
       "      <td>-79.216917</td>\n",
       "    </tr>\n",
       "    <tr>\n",
       "      <th>4</th>\n",
       "      <td>M1H</td>\n",
       "      <td>Scarborough</td>\n",
       "      <td>Cedarbrae</td>\n",
       "      <td>43.773136</td>\n",
       "      <td>-79.239476</td>\n",
       "    </tr>\n",
       "  </tbody>\n",
       "</table>\n",
       "</div>"
      ],
      "text/plain": [
       "  Postcode      Borough                           Neighbourhood   Latitude  \\\n",
       "0      M1B  Scarborough                          Rouge, Malvern  43.806686   \n",
       "1      M1C  Scarborough  Highland Creek, Rouge Hill, Port Union  43.784535   \n",
       "2      M1E  Scarborough       Guildwood, Morningside, West Hill  43.763573   \n",
       "3      M1G  Scarborough                                  Woburn  43.770992   \n",
       "4      M1H  Scarborough                               Cedarbrae  43.773136   \n",
       "\n",
       "   Longitude  \n",
       "0 -79.194353  \n",
       "1 -79.160497  \n",
       "2 -79.188711  \n",
       "3 -79.216917  \n",
       "4 -79.239476  "
      ]
     },
     "execution_count": 17,
     "metadata": {},
     "output_type": "execute_result"
    }
   ],
   "source": [
    "df.head()"
   ]
  },
  {
   "cell_type": "markdown",
   "metadata": {},
   "source": [
    "### Create a map of Toronto with neighborhoods"
   ]
  },
  {
   "cell_type": "code",
   "execution_count": 24,
   "metadata": {
    "scrolled": true
   },
   "outputs": [],
   "source": [
    "import folium\n",
    "from geopy.geocoders import Nominatim "
   ]
  },
  {
   "cell_type": "code",
   "execution_count": 33,
   "metadata": {},
   "outputs": [
    {
     "name": "stdout",
     "output_type": "stream",
     "text": [
      "There are 11 boroughs in Toronto. They are ['Scarborough' 'North York' 'East York' 'East Toronto' 'Central Toronto'\n",
      " 'Downtown Toronto' 'York' 'West Toronto' \"Queen's Park\" 'Mississauga'\n",
      " 'Etobicoke']\n",
      "The geograpical coordinate of Toronto are 43.653963, -79.387207.\n"
     ]
    }
   ],
   "source": [
    "#count how many unique boroughes in Toronto\n",
    "print('There are {} boroughs in Toronto. They are {}'.format(df.Borough.nunique(),df.Borough.unique()))\n",
    "# Use geopy library to get the latitude and longitude values of Toronto\n",
    "address = 'Toronto, Ontario'\n",
    "\n",
    "geolocator = Nominatim(user_agent=\"toronto_explorer\")\n",
    "location = geolocator.geocode(address)\n",
    "latitude = location.latitude\n",
    "longitude = location.longitude\n",
    "print('The geograpical coordinate of Toronto are {}, {}.'.format(latitude, longitude))"
   ]
  },
  {
   "cell_type": "code",
   "execution_count": 28,
   "metadata": {},
   "outputs": [
    {
     "data": {
      "text/html": [
       "<div style=\"width:100%;\"><div style=\"position:relative;width:100%;height:0;padding-bottom:60%;\"><iframe src=\"data:text/html;charset=utf-8;base64,PCFET0NUWVBFIGh0bWw+CjxoZWFkPiAgICAKICAgIDxtZXRhIGh0dHAtZXF1aXY9ImNvbnRlbnQtdHlwZSIgY29udGVudD0idGV4dC9odG1sOyBjaGFyc2V0PVVURi04IiAvPgogICAgCiAgICAgICAgPHNjcmlwdD4KICAgICAgICAgICAgTF9OT19UT1VDSCA9IGZhbHNlOwogICAgICAgICAgICBMX0RJU0FCTEVfM0QgPSBmYWxzZTsKICAgICAgICA8L3NjcmlwdD4KICAgIAogICAgPHNjcmlwdCBzcmM9Imh0dHBzOi8vY2RuLmpzZGVsaXZyLm5ldC9ucG0vbGVhZmxldEAxLjUuMS9kaXN0L2xlYWZsZXQuanMiPjwvc2NyaXB0PgogICAgPHNjcmlwdCBzcmM9Imh0dHBzOi8vY29kZS5qcXVlcnkuY29tL2pxdWVyeS0xLjEyLjQubWluLmpzIj48L3NjcmlwdD4KICAgIDxzY3JpcHQgc3JjPSJodHRwczovL21heGNkbi5ib290c3RyYXBjZG4uY29tL2Jvb3RzdHJhcC8zLjIuMC9qcy9ib290c3RyYXAubWluLmpzIj48L3NjcmlwdD4KICAgIDxzY3JpcHQgc3JjPSJodHRwczovL2NkbmpzLmNsb3VkZmxhcmUuY29tL2FqYXgvbGlicy9MZWFmbGV0LmF3ZXNvbWUtbWFya2Vycy8yLjAuMi9sZWFmbGV0LmF3ZXNvbWUtbWFya2Vycy5qcyI+PC9zY3JpcHQ+CiAgICA8bGluayByZWw9InN0eWxlc2hlZXQiIGhyZWY9Imh0dHBzOi8vY2RuLmpzZGVsaXZyLm5ldC9ucG0vbGVhZmxldEAxLjUuMS9kaXN0L2xlYWZsZXQuY3NzIi8+CiAgICA8bGluayByZWw9InN0eWxlc2hlZXQiIGhyZWY9Imh0dHBzOi8vbWF4Y2RuLmJvb3RzdHJhcGNkbi5jb20vYm9vdHN0cmFwLzMuMi4wL2Nzcy9ib290c3RyYXAubWluLmNzcyIvPgogICAgPGxpbmsgcmVsPSJzdHlsZXNoZWV0IiBocmVmPSJodHRwczovL21heGNkbi5ib290c3RyYXBjZG4uY29tL2Jvb3RzdHJhcC8zLjIuMC9jc3MvYm9vdHN0cmFwLXRoZW1lLm1pbi5jc3MiLz4KICAgIDxsaW5rIHJlbD0ic3R5bGVzaGVldCIgaHJlZj0iaHR0cHM6Ly9tYXhjZG4uYm9vdHN0cmFwY2RuLmNvbS9mb250LWF3ZXNvbWUvNC42LjMvY3NzL2ZvbnQtYXdlc29tZS5taW4uY3NzIi8+CiAgICA8bGluayByZWw9InN0eWxlc2hlZXQiIGhyZWY9Imh0dHBzOi8vY2RuanMuY2xvdWRmbGFyZS5jb20vYWpheC9saWJzL0xlYWZsZXQuYXdlc29tZS1tYXJrZXJzLzIuMC4yL2xlYWZsZXQuYXdlc29tZS1tYXJrZXJzLmNzcyIvPgogICAgPGxpbmsgcmVsPSJzdHlsZXNoZWV0IiBocmVmPSJodHRwczovL3Jhd2Nkbi5naXRoYWNrLmNvbS9weXRob24tdmlzdWFsaXphdGlvbi9mb2xpdW0vbWFzdGVyL2ZvbGl1bS90ZW1wbGF0ZXMvbGVhZmxldC5hd2Vzb21lLnJvdGF0ZS5jc3MiLz4KICAgIDxzdHlsZT5odG1sLCBib2R5IHt3aWR0aDogMTAwJTtoZWlnaHQ6IDEwMCU7bWFyZ2luOiAwO3BhZGRpbmc6IDA7fTwvc3R5bGU+CiAgICA8c3R5bGU+I21hcCB7cG9zaXRpb246YWJzb2x1dGU7dG9wOjA7Ym90dG9tOjA7cmlnaHQ6MDtsZWZ0OjA7fTwvc3R5bGU+CiAgICAKICAgICAgICAgICAgPG1ldGEgbmFtZT0idmlld3BvcnQiIGNvbnRlbnQ9IndpZHRoPWRldmljZS13aWR0aCwKICAgICAgICAgICAgICAgIGluaXRpYWwtc2NhbGU9MS4wLCBtYXhpbXVtLXNjYWxlPTEuMCwgdXNlci1zY2FsYWJsZT1ubyIgLz4KICAgICAgICAgICAgPHN0eWxlPgogICAgICAgICAgICAgICAgI21hcF8zNWFhY2IyMmQwYWM0ZjkzYmUzMzNiYmYzYzkzN2I0MSB7CiAgICAgICAgICAgICAgICAgICAgcG9zaXRpb246IHJlbGF0aXZlOwogICAgICAgICAgICAgICAgICAgIHdpZHRoOiAxMDAuMCU7CiAgICAgICAgICAgICAgICAgICAgaGVpZ2h0OiAxMDAuMCU7CiAgICAgICAgICAgICAgICAgICAgbGVmdDogMC4wJTsKICAgICAgICAgICAgICAgICAgICB0b3A6IDAuMCU7CiAgICAgICAgICAgICAgICB9CiAgICAgICAgICAgIDwvc3R5bGU+CiAgICAgICAgCjwvaGVhZD4KPGJvZHk+ICAgIAogICAgCiAgICAgICAgICAgIDxkaXYgY2xhc3M9ImZvbGl1bS1tYXAiIGlkPSJtYXBfMzVhYWNiMjJkMGFjNGY5M2JlMzMzYmJmM2M5MzdiNDEiID48L2Rpdj4KICAgICAgICAKPC9ib2R5Pgo8c2NyaXB0PiAgICAKICAgIAogICAgICAgICAgICB2YXIgbWFwXzM1YWFjYjIyZDBhYzRmOTNiZTMzM2JiZjNjOTM3YjQxID0gTC5tYXAoCiAgICAgICAgICAgICAgICAibWFwXzM1YWFjYjIyZDBhYzRmOTNiZTMzM2JiZjNjOTM3YjQxIiwKICAgICAgICAgICAgICAgIHsKICAgICAgICAgICAgICAgICAgICBjZW50ZXI6IFs0My42NTM5NjMsIC03OS4zODcyMDddLAogICAgICAgICAgICAgICAgICAgIGNyczogTC5DUlMuRVBTRzM4NTcsCiAgICAgICAgICAgICAgICAgICAgem9vbTogMTAsCiAgICAgICAgICAgICAgICAgICAgem9vbUNvbnRyb2w6IHRydWUsCiAgICAgICAgICAgICAgICAgICAgcHJlZmVyQ2FudmFzOiBmYWxzZSwKICAgICAgICAgICAgICAgIH0KICAgICAgICAgICAgKTsKCiAgICAgICAgICAgIAoKICAgICAgICAKICAgIAogICAgICAgICAgICB2YXIgdGlsZV9sYXllcl80MzQ4OThlZTI2NTY0M2M3OTYwMjZiODEyNWYwZjgwZSA9IEwudGlsZUxheWVyKAogICAgICAgICAgICAgICAgImh0dHBzOi8ve3N9LnRpbGUub3BlbnN0cmVldG1hcC5vcmcve3p9L3t4fS97eX0ucG5nIiwKICAgICAgICAgICAgICAgIHsiYXR0cmlidXRpb24iOiAiRGF0YSBieSBcdTAwMjZjb3B5OyBcdTAwM2NhIGhyZWY9XCJodHRwOi8vb3BlbnN0cmVldG1hcC5vcmdcIlx1MDAzZU9wZW5TdHJlZXRNYXBcdTAwM2MvYVx1MDAzZSwgdW5kZXIgXHUwMDNjYSBocmVmPVwiaHR0cDovL3d3dy5vcGVuc3RyZWV0bWFwLm9yZy9jb3B5cmlnaHRcIlx1MDAzZU9EYkxcdTAwM2MvYVx1MDAzZS4iLCAiZGV0ZWN0UmV0aW5hIjogZmFsc2UsICJtYXhOYXRpdmVab29tIjogMTgsICJtYXhab29tIjogMTgsICJtaW5ab29tIjogMCwgIm5vV3JhcCI6IGZhbHNlLCAib3BhY2l0eSI6IDEsICJzdWJkb21haW5zIjogImFiYyIsICJ0bXMiOiBmYWxzZX0KICAgICAgICAgICAgKS5hZGRUbyhtYXBfMzVhYWNiMjJkMGFjNGY5M2JlMzMzYmJmM2M5MzdiNDEpOwogICAgICAgIAogICAgCiAgICAgICAgICAgIHZhciBjaXJjbGVfbWFya2VyXzYwODJlOTVhNTU1ZDQxMTg5YTE2ZjdhYWRiYmZiOGE3ID0gTC5jaXJjbGVNYXJrZXIoCiAgICAgICAgICAgICAgICBbNDMuODA2Njg2Mjk5OTk5OTk2LCAtNzkuMTk0MzUzNDAwMDAwMDFdLAogICAgICAgICAgICAgICAgeyJidWJibGluZ01vdXNlRXZlbnRzIjogdHJ1ZSwgImNvbG9yIjogImJsdWUiLCAiZGFzaEFycmF5IjogbnVsbCwgImRhc2hPZmZzZXQiOiBudWxsLCAiZmlsbCI6IHRydWUsICJmaWxsQ29sb3IiOiAiIzMxODZjYyIsICJmaWxsT3BhY2l0eSI6IDAuNywgImZpbGxSdWxlIjogImV2ZW5vZGQiLCAibGluZUNhcCI6ICJyb3VuZCIsICJsaW5lSm9pbiI6ICJyb3VuZCIsICJvcGFjaXR5IjogMS4wLCAicmFkaXVzIjogNSwgInN0cm9rZSI6IHRydWUsICJ3ZWlnaHQiOiAzfQogICAgICAgICAgICApLmFkZFRvKG1hcF8zNWFhY2IyMmQwYWM0ZjkzYmUzMzNiYmYzYzkzN2I0MSk7CiAgICAgICAgCiAgICAKICAgICAgICB2YXIgcG9wdXBfNmYyMWY4MmVkM2ExNGE0ZGEwYzFlYjY0NWFlNWM3MjMgPSBMLnBvcHVwKHsibWF4V2lkdGgiOiAiMTAwJSJ9KTsKCiAgICAgICAgCiAgICAgICAgICAgIHZhciBodG1sXzI0ZDk2YWUxYmQ5MzRiMDVhYmVjMGMxOGE1NThiZTM4ID0gJChgPGRpdiBpZD0iaHRtbF8yNGQ5NmFlMWJkOTM0YjA1YWJlYzBjMThhNTU4YmUzOCIgc3R5bGU9IndpZHRoOiAxMDAuMCU7IGhlaWdodDogMTAwLjAlOyI+Um91Z2UsIE1hbHZlcm4sIFNjYXJib3JvdWdoPC9kaXY+YClbMF07CiAgICAgICAgICAgIHBvcHVwXzZmMjFmODJlZDNhMTRhNGRhMGMxZWI2NDVhZTVjNzIzLnNldENvbnRlbnQoaHRtbF8yNGQ5NmFlMWJkOTM0YjA1YWJlYzBjMThhNTU4YmUzOCk7CiAgICAgICAgCgogICAgICAgIGNpcmNsZV9tYXJrZXJfNjA4MmU5NWE1NTVkNDExODlhMTZmN2FhZGJiZmI4YTcuYmluZFBvcHVwKHBvcHVwXzZmMjFmODJlZDNhMTRhNGRhMGMxZWI2NDVhZTVjNzIzKQogICAgICAgIDsKCiAgICAgICAgCiAgICAKICAgIAogICAgICAgICAgICB2YXIgY2lyY2xlX21hcmtlcl81Y2I0MTYzOWUyMTI0MjlkOWY5MWU3MTdiYTE2MjAyZSA9IEwuY2lyY2xlTWFya2VyKAogICAgICAgICAgICAgICAgWzQzLjc4NDUzNTEsIC03OS4xNjA0OTcwOTk5OTk5OV0sCiAgICAgICAgICAgICAgICB7ImJ1YmJsaW5nTW91c2VFdmVudHMiOiB0cnVlLCAiY29sb3IiOiAiYmx1ZSIsICJkYXNoQXJyYXkiOiBudWxsLCAiZGFzaE9mZnNldCI6IG51bGwsICJmaWxsIjogdHJ1ZSwgImZpbGxDb2xvciI6ICIjMzE4NmNjIiwgImZpbGxPcGFjaXR5IjogMC43LCAiZmlsbFJ1bGUiOiAiZXZlbm9kZCIsICJsaW5lQ2FwIjogInJvdW5kIiwgImxpbmVKb2luIjogInJvdW5kIiwgIm9wYWNpdHkiOiAxLjAsICJyYWRpdXMiOiA1LCAic3Ryb2tlIjogdHJ1ZSwgIndlaWdodCI6IDN9CiAgICAgICAgICAgICkuYWRkVG8obWFwXzM1YWFjYjIyZDBhYzRmOTNiZTMzM2JiZjNjOTM3YjQxKTsKICAgICAgICAKICAgIAogICAgICAgIHZhciBwb3B1cF84YTZmMWMxNzgzOGQ0ZGQxYjM5NDEzMGQ1ODc4NGVmNSA9IEwucG9wdXAoeyJtYXhXaWR0aCI6ICIxMDAlIn0pOwoKICAgICAgICAKICAgICAgICAgICAgdmFyIGh0bWxfOTUwZWYzNDNlMmU3NDcxZmFhZmM5MjdjNjg5M2JhNWQgPSAkKGA8ZGl2IGlkPSJodG1sXzk1MGVmMzQzZTJlNzQ3MWZhYWZjOTI3YzY4OTNiYTVkIiBzdHlsZT0id2lkdGg6IDEwMC4wJTsgaGVpZ2h0OiAxMDAuMCU7Ij5IaWdobGFuZCBDcmVlaywgUm91Z2UgSGlsbCwgUG9ydCBVbmlvbiwgU2NhcmJvcm91Z2g8L2Rpdj5gKVswXTsKICAgICAgICAgICAgcG9wdXBfOGE2ZjFjMTc4MzhkNGRkMWIzOTQxMzBkNTg3ODRlZjUuc2V0Q29udGVudChodG1sXzk1MGVmMzQzZTJlNzQ3MWZhYWZjOTI3YzY4OTNiYTVkKTsKICAgICAgICAKCiAgICAgICAgY2lyY2xlX21hcmtlcl81Y2I0MTYzOWUyMTI0MjlkOWY5MWU3MTdiYTE2MjAyZS5iaW5kUG9wdXAocG9wdXBfOGE2ZjFjMTc4MzhkNGRkMWIzOTQxMzBkNTg3ODRlZjUpCiAgICAgICAgOwoKICAgICAgICAKICAgIAogICAgCiAgICAgICAgICAgIHZhciBjaXJjbGVfbWFya2VyX2Q0ZWFmYzExOGRkYTQ3MjdiMzJmYWNmMThjOTdhMjViID0gTC5jaXJjbGVNYXJrZXIoCiAgICAgICAgICAgICAgICBbNDMuNzYzNTcyNiwgLTc5LjE4ODcxMTVdLAogICAgICAgICAgICAgICAgeyJidWJibGluZ01vdXNlRXZlbnRzIjogdHJ1ZSwgImNvbG9yIjogImJsdWUiLCAiZGFzaEFycmF5IjogbnVsbCwgImRhc2hPZmZzZXQiOiBudWxsLCAiZmlsbCI6IHRydWUsICJmaWxsQ29sb3IiOiAiIzMxODZjYyIsICJmaWxsT3BhY2l0eSI6IDAuNywgImZpbGxSdWxlIjogImV2ZW5vZGQiLCAibGluZUNhcCI6ICJyb3VuZCIsICJsaW5lSm9pbiI6ICJyb3VuZCIsICJvcGFjaXR5IjogMS4wLCAicmFkaXVzIjogNSwgInN0cm9rZSI6IHRydWUsICJ3ZWlnaHQiOiAzfQogICAgICAgICAgICApLmFkZFRvKG1hcF8zNWFhY2IyMmQwYWM0ZjkzYmUzMzNiYmYzYzkzN2I0MSk7CiAgICAgICAgCiAgICAKICAgICAgICB2YXIgcG9wdXBfNjJlY2IxNDcxYjk5NDJmY2JkZTlmZTFiMzc5MzBmOTcgPSBMLnBvcHVwKHsibWF4V2lkdGgiOiAiMTAwJSJ9KTsKCiAgICAgICAgCiAgICAgICAgICAgIHZhciBodG1sXzMzZjRhYTk4Mzg0MDRkNTU5NGMyYmM4MDM2YjEwZGU2ID0gJChgPGRpdiBpZD0iaHRtbF8zM2Y0YWE5ODM4NDA0ZDU1OTRjMmJjODAzNmIxMGRlNiIgc3R5bGU9IndpZHRoOiAxMDAuMCU7IGhlaWdodDogMTAwLjAlOyI+R3VpbGR3b29kLCBNb3JuaW5nc2lkZSwgV2VzdCBIaWxsLCBTY2FyYm9yb3VnaDwvZGl2PmApWzBdOwogICAgICAgICAgICBwb3B1cF82MmVjYjE0NzFiOTk0MmZjYmRlOWZlMWIzNzkzMGY5Ny5zZXRDb250ZW50KGh0bWxfMzNmNGFhOTgzODQwNGQ1NTk0YzJiYzgwMzZiMTBkZTYpOwogICAgICAgIAoKICAgICAgICBjaXJjbGVfbWFya2VyX2Q0ZWFmYzExOGRkYTQ3MjdiMzJmYWNmMThjOTdhMjViLmJpbmRQb3B1cChwb3B1cF82MmVjYjE0NzFiOTk0MmZjYmRlOWZlMWIzNzkzMGY5NykKICAgICAgICA7CgogICAgICAgIAogICAgCiAgICAKICAgICAgICAgICAgdmFyIGNpcmNsZV9tYXJrZXJfYmI2Njc5NGFjZDliNDQwNTk0N2QzOTM5NmI1ZGQ2YjkgPSBMLmNpcmNsZU1hcmtlcigKICAgICAgICAgICAgICAgIFs0My43NzA5OTIxLCAtNzkuMjE2OTE3NDAwMDAwMDFdLAogICAgICAgICAgICAgICAgeyJidWJibGluZ01vdXNlRXZlbnRzIjogdHJ1ZSwgImNvbG9yIjogImJsdWUiLCAiZGFzaEFycmF5IjogbnVsbCwgImRhc2hPZmZzZXQiOiBudWxsLCAiZmlsbCI6IHRydWUsICJmaWxsQ29sb3IiOiAiIzMxODZjYyIsICJmaWxsT3BhY2l0eSI6IDAuNywgImZpbGxSdWxlIjogImV2ZW5vZGQiLCAibGluZUNhcCI6ICJyb3VuZCIsICJsaW5lSm9pbiI6ICJyb3VuZCIsICJvcGFjaXR5IjogMS4wLCAicmFkaXVzIjogNSwgInN0cm9rZSI6IHRydWUsICJ3ZWlnaHQiOiAzfQogICAgICAgICAgICApLmFkZFRvKG1hcF8zNWFhY2IyMmQwYWM0ZjkzYmUzMzNiYmYzYzkzN2I0MSk7CiAgICAgICAgCiAgICAKICAgICAgICB2YXIgcG9wdXBfMDEzOWVlYjM1YTU4NGUxNzhkYmNjYTk1N2RhOThmYjMgPSBMLnBvcHVwKHsibWF4V2lkdGgiOiAiMTAwJSJ9KTsKCiAgICAgICAgCiAgICAgICAgICAgIHZhciBodG1sX2MzNjcwNDJkZGQyMzQ3NTg4NDJhYmQ3NzFjNGE0ZWZhID0gJChgPGRpdiBpZD0iaHRtbF9jMzY3MDQyZGRkMjM0NzU4ODQyYWJkNzcxYzRhNGVmYSIgc3R5bGU9IndpZHRoOiAxMDAuMCU7IGhlaWdodDogMTAwLjAlOyI+V29idXJuLCBTY2FyYm9yb3VnaDwvZGl2PmApWzBdOwogICAgICAgICAgICBwb3B1cF8wMTM5ZWViMzVhNTg0ZTE3OGRiY2NhOTU3ZGE5OGZiMy5zZXRDb250ZW50KGh0bWxfYzM2NzA0MmRkZDIzNDc1ODg0MmFiZDc3MWM0YTRlZmEpOwogICAgICAgIAoKICAgICAgICBjaXJjbGVfbWFya2VyX2JiNjY3OTRhY2Q5YjQ0MDU5NDdkMzkzOTZiNWRkNmI5LmJpbmRQb3B1cChwb3B1cF8wMTM5ZWViMzVhNTg0ZTE3OGRiY2NhOTU3ZGE5OGZiMykKICAgICAgICA7CgogICAgICAgIAogICAgCiAgICAKICAgICAgICAgICAgdmFyIGNpcmNsZV9tYXJrZXJfMWMwY2QxODVjOTZmNDkzNmE4MzQ4NTdjZGE0YzVkYmUgPSBMLmNpcmNsZU1hcmtlcigKICAgICAgICAgICAgICAgIFs0My43NzMxMzYsIC03OS4yMzk0NzYwOTk5OTk5OV0sCiAgICAgICAgICAgICAgICB7ImJ1YmJsaW5nTW91c2VFdmVudHMiOiB0cnVlLCAiY29sb3IiOiAiYmx1ZSIsICJkYXNoQXJyYXkiOiBudWxsLCAiZGFzaE9mZnNldCI6IG51bGwsICJmaWxsIjogdHJ1ZSwgImZpbGxDb2xvciI6ICIjMzE4NmNjIiwgImZpbGxPcGFjaXR5IjogMC43LCAiZmlsbFJ1bGUiOiAiZXZlbm9kZCIsICJsaW5lQ2FwIjogInJvdW5kIiwgImxpbmVKb2luIjogInJvdW5kIiwgIm9wYWNpdHkiOiAxLjAsICJyYWRpdXMiOiA1LCAic3Ryb2tlIjogdHJ1ZSwgIndlaWdodCI6IDN9CiAgICAgICAgICAgICkuYWRkVG8obWFwXzM1YWFjYjIyZDBhYzRmOTNiZTMzM2JiZjNjOTM3YjQxKTsKICAgICAgICAKICAgIAogICAgICAgIHZhciBwb3B1cF84NTc5MDBmNzBmZjI0YzAwYTc5OTU1ZTUzOTYxZjdlOCA9IEwucG9wdXAoeyJtYXhXaWR0aCI6ICIxMDAlIn0pOwoKICAgICAgICAKICAgICAgICAgICAgdmFyIGh0bWxfZjJlYTZjNjQwZjNjNGE2ZmFmYTFlNjQxNDM3OTdmZmUgPSAkKGA8ZGl2IGlkPSJodG1sX2YyZWE2YzY0MGYzYzRhNmZhZmExZTY0MTQzNzk3ZmZlIiBzdHlsZT0id2lkdGg6IDEwMC4wJTsgaGVpZ2h0OiAxMDAuMCU7Ij5DZWRhcmJyYWUsIFNjYXJib3JvdWdoPC9kaXY+YClbMF07CiAgICAgICAgICAgIHBvcHVwXzg1NzkwMGY3MGZmMjRjMDBhNzk5NTVlNTM5NjFmN2U4LnNldENvbnRlbnQoaHRtbF9mMmVhNmM2NDBmM2M0YTZmYWZhMWU2NDE0Mzc5N2ZmZSk7CiAgICAgICAgCgogICAgICAgIGNpcmNsZV9tYXJrZXJfMWMwY2QxODVjOTZmNDkzNmE4MzQ4NTdjZGE0YzVkYmUuYmluZFBvcHVwKHBvcHVwXzg1NzkwMGY3MGZmMjRjMDBhNzk5NTVlNTM5NjFmN2U4KQogICAgICAgIDsKCiAgICAgICAgCiAgICAKICAgIAogICAgICAgICAgICB2YXIgY2lyY2xlX21hcmtlcl85Y2ViOTE1ZmZjZGQ0ZWEzOWE0YzZmN2U4NjA2NWE2YiA9IEwuY2lyY2xlTWFya2VyKAogICAgICAgICAgICAgICAgWzQzLjc0NDczNDIsIC03OS4yMzk0NzYwOTk5OTk5OV0sCiAgICAgICAgICAgICAgICB7ImJ1YmJsaW5nTW91c2VFdmVudHMiOiB0cnVlLCAiY29sb3IiOiAiYmx1ZSIsICJkYXNoQXJyYXkiOiBudWxsLCAiZGFzaE9mZnNldCI6IG51bGwsICJmaWxsIjogdHJ1ZSwgImZpbGxDb2xvciI6ICIjMzE4NmNjIiwgImZpbGxPcGFjaXR5IjogMC43LCAiZmlsbFJ1bGUiOiAiZXZlbm9kZCIsICJsaW5lQ2FwIjogInJvdW5kIiwgImxpbmVKb2luIjogInJvdW5kIiwgIm9wYWNpdHkiOiAxLjAsICJyYWRpdXMiOiA1LCAic3Ryb2tlIjogdHJ1ZSwgIndlaWdodCI6IDN9CiAgICAgICAgICAgICkuYWRkVG8obWFwXzM1YWFjYjIyZDBhYzRmOTNiZTMzM2JiZjNjOTM3YjQxKTsKICAgICAgICAKICAgIAogICAgICAgIHZhciBwb3B1cF8xMmJlMzhjNWIzODM0ODg3YjcxMjk5MTNhMWRjMjE4NSA9IEwucG9wdXAoeyJtYXhXaWR0aCI6ICIxMDAlIn0pOwoKICAgICAgICAKICAgICAgICAgICAgdmFyIGh0bWxfZGYxODZiYTkzNDNiNGNlNmJmM2NmZDE5ZDUyODYyOTUgPSAkKGA8ZGl2IGlkPSJodG1sX2RmMTg2YmE5MzQzYjRjZTZiZjNjZmQxOWQ1Mjg2Mjk1IiBzdHlsZT0id2lkdGg6IDEwMC4wJTsgaGVpZ2h0OiAxMDAuMCU7Ij5TY2FyYm9yb3VnaCBWaWxsYWdlLCBTY2FyYm9yb3VnaDwvZGl2PmApWzBdOwogICAgICAgICAgICBwb3B1cF8xMmJlMzhjNWIzODM0ODg3YjcxMjk5MTNhMWRjMjE4NS5zZXRDb250ZW50KGh0bWxfZGYxODZiYTkzNDNiNGNlNmJmM2NmZDE5ZDUyODYyOTUpOwogICAgICAgIAoKICAgICAgICBjaXJjbGVfbWFya2VyXzljZWI5MTVmZmNkZDRlYTM5YTRjNmY3ZTg2MDY1YTZiLmJpbmRQb3B1cChwb3B1cF8xMmJlMzhjNWIzODM0ODg3YjcxMjk5MTNhMWRjMjE4NSkKICAgICAgICA7CgogICAgICAgIAogICAgCiAgICAKICAgICAgICAgICAgdmFyIGNpcmNsZV9tYXJrZXJfYjQ2YzZmZjc3NmE5NDRhYWJjOTdjMGNkMzJkOTE4YzkgPSBMLmNpcmNsZU1hcmtlcigKICAgICAgICAgICAgICAgIFs0My43Mjc5MjkyLCAtNzkuMjYyMDI5NDAwMDAwMDJdLAogICAgICAgICAgICAgICAgeyJidWJibGluZ01vdXNlRXZlbnRzIjogdHJ1ZSwgImNvbG9yIjogImJsdWUiLCAiZGFzaEFycmF5IjogbnVsbCwgImRhc2hPZmZzZXQiOiBudWxsLCAiZmlsbCI6IHRydWUsICJmaWxsQ29sb3IiOiAiIzMxODZjYyIsICJmaWxsT3BhY2l0eSI6IDAuNywgImZpbGxSdWxlIjogImV2ZW5vZGQiLCAibGluZUNhcCI6ICJyb3VuZCIsICJsaW5lSm9pbiI6ICJyb3VuZCIsICJvcGFjaXR5IjogMS4wLCAicmFkaXVzIjogNSwgInN0cm9rZSI6IHRydWUsICJ3ZWlnaHQiOiAzfQogICAgICAgICAgICApLmFkZFRvKG1hcF8zNWFhY2IyMmQwYWM0ZjkzYmUzMzNiYmYzYzkzN2I0MSk7CiAgICAgICAgCiAgICAKICAgICAgICB2YXIgcG9wdXBfMDExZTkwNjEyM2FkNDFmMzgzMDk0NTA3MTc4NWE4MjAgPSBMLnBvcHVwKHsibWF4V2lkdGgiOiAiMTAwJSJ9KTsKCiAgICAgICAgCiAgICAgICAgICAgIHZhciBodG1sX2I3NDlkNDI5MTA1ZDQzNTliMDI0NWVjMzg3NmRiMjIwID0gJChgPGRpdiBpZD0iaHRtbF9iNzQ5ZDQyOTEwNWQ0MzU5YjAyNDVlYzM4NzZkYjIyMCIgc3R5bGU9IndpZHRoOiAxMDAuMCU7IGhlaWdodDogMTAwLjAlOyI+RWFzdCBCaXJjaG1vdW50IFBhcmssIElvbnZpZXcsIEtlbm5lZHkgUGFyaywgU2NhcmJvcm91Z2g8L2Rpdj5gKVswXTsKICAgICAgICAgICAgcG9wdXBfMDExZTkwNjEyM2FkNDFmMzgzMDk0NTA3MTc4NWE4MjAuc2V0Q29udGVudChodG1sX2I3NDlkNDI5MTA1ZDQzNTliMDI0NWVjMzg3NmRiMjIwKTsKICAgICAgICAKCiAgICAgICAgY2lyY2xlX21hcmtlcl9iNDZjNmZmNzc2YTk0NGFhYmM5N2MwY2QzMmQ5MThjOS5iaW5kUG9wdXAocG9wdXBfMDExZTkwNjEyM2FkNDFmMzgzMDk0NTA3MTc4NWE4MjApCiAgICAgICAgOwoKICAgICAgICAKICAgIAogICAgCiAgICAgICAgICAgIHZhciBjaXJjbGVfbWFya2VyXzAxY2FkODUzOGM1ODQ1N2Y5OTJlOTc0ZTI5ZmQ0MzY4ID0gTC5jaXJjbGVNYXJrZXIoCiAgICAgICAgICAgICAgICBbNDMuNzExMTExNzAwMDAwMDA0LCAtNzkuMjg0NTc3Ml0sCiAgICAgICAgICAgICAgICB7ImJ1YmJsaW5nTW91c2VFdmVudHMiOiB0cnVlLCAiY29sb3IiOiAiYmx1ZSIsICJkYXNoQXJyYXkiOiBudWxsLCAiZGFzaE9mZnNldCI6IG51bGwsICJmaWxsIjogdHJ1ZSwgImZpbGxDb2xvciI6ICIjMzE4NmNjIiwgImZpbGxPcGFjaXR5IjogMC43LCAiZmlsbFJ1bGUiOiAiZXZlbm9kZCIsICJsaW5lQ2FwIjogInJvdW5kIiwgImxpbmVKb2luIjogInJvdW5kIiwgIm9wYWNpdHkiOiAxLjAsICJyYWRpdXMiOiA1LCAic3Ryb2tlIjogdHJ1ZSwgIndlaWdodCI6IDN9CiAgICAgICAgICAgICkuYWRkVG8obWFwXzM1YWFjYjIyZDBhYzRmOTNiZTMzM2JiZjNjOTM3YjQxKTsKICAgICAgICAKICAgIAogICAgICAgIHZhciBwb3B1cF9lMjkwYWIwNGRiM2M0MzY4YjA4YWY1ZjQ2OTQyZTViNSA9IEwucG9wdXAoeyJtYXhXaWR0aCI6ICIxMDAlIn0pOwoKICAgICAgICAKICAgICAgICAgICAgdmFyIGh0bWxfMDU1MWI2NWMzOTJmNDBiOWFhMTQ5MjU0YWE2YTAxNzIgPSAkKGA8ZGl2IGlkPSJodG1sXzA1NTFiNjVjMzkyZjQwYjlhYTE0OTI1NGFhNmEwMTcyIiBzdHlsZT0id2lkdGg6IDEwMC4wJTsgaGVpZ2h0OiAxMDAuMCU7Ij5DbGFpcmxlYSwgR29sZGVuIE1pbGUsIE9ha3JpZGdlLCBTY2FyYm9yb3VnaDwvZGl2PmApWzBdOwogICAgICAgICAgICBwb3B1cF9lMjkwYWIwNGRiM2M0MzY4YjA4YWY1ZjQ2OTQyZTViNS5zZXRDb250ZW50KGh0bWxfMDU1MWI2NWMzOTJmNDBiOWFhMTQ5MjU0YWE2YTAxNzIpOwogICAgICAgIAoKICAgICAgICBjaXJjbGVfbWFya2VyXzAxY2FkODUzOGM1ODQ1N2Y5OTJlOTc0ZTI5ZmQ0MzY4LmJpbmRQb3B1cChwb3B1cF9lMjkwYWIwNGRiM2M0MzY4YjA4YWY1ZjQ2OTQyZTViNSkKICAgICAgICA7CgogICAgICAgIAogICAgCiAgICAKICAgICAgICAgICAgdmFyIGNpcmNsZV9tYXJrZXJfMzg0ZDJiMTUxYzE4NGRlZGE0MGY0MWQ4YTgzNWYxNWMgPSBMLmNpcmNsZU1hcmtlcigKICAgICAgICAgICAgICAgIFs0My43MTYzMTYsIC03OS4yMzk0NzYwOTk5OTk5OV0sCiAgICAgICAgICAgICAgICB7ImJ1YmJsaW5nTW91c2VFdmVudHMiOiB0cnVlLCAiY29sb3IiOiAiYmx1ZSIsICJkYXNoQXJyYXkiOiBudWxsLCAiZGFzaE9mZnNldCI6IG51bGwsICJmaWxsIjogdHJ1ZSwgImZpbGxDb2xvciI6ICIjMzE4NmNjIiwgImZpbGxPcGFjaXR5IjogMC43LCAiZmlsbFJ1bGUiOiAiZXZlbm9kZCIsICJsaW5lQ2FwIjogInJvdW5kIiwgImxpbmVKb2luIjogInJvdW5kIiwgIm9wYWNpdHkiOiAxLjAsICJyYWRpdXMiOiA1LCAic3Ryb2tlIjogdHJ1ZSwgIndlaWdodCI6IDN9CiAgICAgICAgICAgICkuYWRkVG8obWFwXzM1YWFjYjIyZDBhYzRmOTNiZTMzM2JiZjNjOTM3YjQxKTsKICAgICAgICAKICAgIAogICAgICAgIHZhciBwb3B1cF8zNmVmMjJlZjdmMGQ0YTkwOWQ5ZjU3NGM3NDY3NTM4YiA9IEwucG9wdXAoeyJtYXhXaWR0aCI6ICIxMDAlIn0pOwoKICAgICAgICAKICAgICAgICAgICAgdmFyIGh0bWxfNjg0ZmFlNjFhYWZlNGY0ODkyZmQ4OTkyNGY4NTVhM2IgPSAkKGA8ZGl2IGlkPSJodG1sXzY4NGZhZTYxYWFmZTRmNDg5MmZkODk5MjRmODU1YTNiIiBzdHlsZT0id2lkdGg6IDEwMC4wJTsgaGVpZ2h0OiAxMDAuMCU7Ij5DbGlmZmNyZXN0LCBDbGlmZnNpZGUsIFNjYXJib3JvdWdoIFZpbGxhZ2UgV2VzdCwgU2NhcmJvcm91Z2g8L2Rpdj5gKVswXTsKICAgICAgICAgICAgcG9wdXBfMzZlZjIyZWY3ZjBkNGE5MDlkOWY1NzRjNzQ2NzUzOGIuc2V0Q29udGVudChodG1sXzY4NGZhZTYxYWFmZTRmNDg5MmZkODk5MjRmODU1YTNiKTsKICAgICAgICAKCiAgICAgICAgY2lyY2xlX21hcmtlcl8zODRkMmIxNTFjMTg0ZGVkYTQwZjQxZDhhODM1ZjE1Yy5iaW5kUG9wdXAocG9wdXBfMzZlZjIyZWY3ZjBkNGE5MDlkOWY1NzRjNzQ2NzUzOGIpCiAgICAgICAgOwoKICAgICAgICAKICAgIAogICAgCiAgICAgICAgICAgIHZhciBjaXJjbGVfbWFya2VyX2IzYzVhZmRjYjgyZTRkNmJhMzRjZmE5ZDkzNWMyODU4ID0gTC5jaXJjbGVNYXJrZXIoCiAgICAgICAgICAgICAgICBbNDMuNjkyNjU3MDAwMDAwMDA0LCAtNzkuMjY0ODQ4MV0sCiAgICAgICAgICAgICAgICB7ImJ1YmJsaW5nTW91c2VFdmVudHMiOiB0cnVlLCAiY29sb3IiOiAiYmx1ZSIsICJkYXNoQXJyYXkiOiBudWxsLCAiZGFzaE9mZnNldCI6IG51bGwsICJmaWxsIjogdHJ1ZSwgImZpbGxDb2xvciI6ICIjMzE4NmNjIiwgImZpbGxPcGFjaXR5IjogMC43LCAiZmlsbFJ1bGUiOiAiZXZlbm9kZCIsICJsaW5lQ2FwIjogInJvdW5kIiwgImxpbmVKb2luIjogInJvdW5kIiwgIm9wYWNpdHkiOiAxLjAsICJyYWRpdXMiOiA1LCAic3Ryb2tlIjogdHJ1ZSwgIndlaWdodCI6IDN9CiAgICAgICAgICAgICkuYWRkVG8obWFwXzM1YWFjYjIyZDBhYzRmOTNiZTMzM2JiZjNjOTM3YjQxKTsKICAgICAgICAKICAgIAogICAgICAgIHZhciBwb3B1cF85NjczMTc0OWJlNjY0MDQ5OTkwODYyOGY0Y2IxODRjMSA9IEwucG9wdXAoeyJtYXhXaWR0aCI6ICIxMDAlIn0pOwoKICAgICAgICAKICAgICAgICAgICAgdmFyIGh0bWxfZDlkYjMzMGRmNTU4NDRmMmExYzIzYmJkOTA2ODFmMjMgPSAkKGA8ZGl2IGlkPSJodG1sX2Q5ZGIzMzBkZjU1ODQ0ZjJhMWMyM2JiZDkwNjgxZjIzIiBzdHlsZT0id2lkdGg6IDEwMC4wJTsgaGVpZ2h0OiAxMDAuMCU7Ij5CaXJjaCBDbGlmZiwgQ2xpZmZzaWRlIFdlc3QsIFNjYXJib3JvdWdoPC9kaXY+YClbMF07CiAgICAgICAgICAgIHBvcHVwXzk2NzMxNzQ5YmU2NjQwNDk5OTA4NjI4ZjRjYjE4NGMxLnNldENvbnRlbnQoaHRtbF9kOWRiMzMwZGY1NTg0NGYyYTFjMjNiYmQ5MDY4MWYyMyk7CiAgICAgICAgCgogICAgICAgIGNpcmNsZV9tYXJrZXJfYjNjNWFmZGNiODJlNGQ2YmEzNGNmYTlkOTM1YzI4NTguYmluZFBvcHVwKHBvcHVwXzk2NzMxNzQ5YmU2NjQwNDk5OTA4NjI4ZjRjYjE4NGMxKQogICAgICAgIDsKCiAgICAgICAgCiAgICAKICAgIAogICAgICAgICAgICB2YXIgY2lyY2xlX21hcmtlcl85ZDIwZTQyNjVmNzI0ZGZlYjJiZThiYWZhODFiZTYwNiA9IEwuY2lyY2xlTWFya2VyKAogICAgICAgICAgICAgICAgWzQzLjc1NzQwOTYsIC03OS4yNzMzMDQwMDAwMDAwMV0sCiAgICAgICAgICAgICAgICB7ImJ1YmJsaW5nTW91c2VFdmVudHMiOiB0cnVlLCAiY29sb3IiOiAiYmx1ZSIsICJkYXNoQXJyYXkiOiBudWxsLCAiZGFzaE9mZnNldCI6IG51bGwsICJmaWxsIjogdHJ1ZSwgImZpbGxDb2xvciI6ICIjMzE4NmNjIiwgImZpbGxPcGFjaXR5IjogMC43LCAiZmlsbFJ1bGUiOiAiZXZlbm9kZCIsICJsaW5lQ2FwIjogInJvdW5kIiwgImxpbmVKb2luIjogInJvdW5kIiwgIm9wYWNpdHkiOiAxLjAsICJyYWRpdXMiOiA1LCAic3Ryb2tlIjogdHJ1ZSwgIndlaWdodCI6IDN9CiAgICAgICAgICAgICkuYWRkVG8obWFwXzM1YWFjYjIyZDBhYzRmOTNiZTMzM2JiZjNjOTM3YjQxKTsKICAgICAgICAKICAgIAogICAgICAgIHZhciBwb3B1cF9kZjI5NGJiYzA0NDc0N2YxOGUwODA3NmY5MmJjNTU1OSA9IEwucG9wdXAoeyJtYXhXaWR0aCI6ICIxMDAlIn0pOwoKICAgICAgICAKICAgICAgICAgICAgdmFyIGh0bWxfZWMzNjE2MTQ3NjliNDBkZDg2YWI3M2MwZDcwYjAyZDEgPSAkKGA8ZGl2IGlkPSJodG1sX2VjMzYxNjE0NzY5YjQwZGQ4NmFiNzNjMGQ3MGIwMmQxIiBzdHlsZT0id2lkdGg6IDEwMC4wJTsgaGVpZ2h0OiAxMDAuMCU7Ij5Eb3JzZXQgUGFyaywgU2NhcmJvcm91Z2ggVG93biBDZW50cmUsIFdleGZvcmQgSGVpZ2h0cywgU2NhcmJvcm91Z2g8L2Rpdj5gKVswXTsKICAgICAgICAgICAgcG9wdXBfZGYyOTRiYmMwNDQ3NDdmMThlMDgwNzZmOTJiYzU1NTkuc2V0Q29udGVudChodG1sX2VjMzYxNjE0NzY5YjQwZGQ4NmFiNzNjMGQ3MGIwMmQxKTsKICAgICAgICAKCiAgICAgICAgY2lyY2xlX21hcmtlcl85ZDIwZTQyNjVmNzI0ZGZlYjJiZThiYWZhODFiZTYwNi5iaW5kUG9wdXAocG9wdXBfZGYyOTRiYmMwNDQ3NDdmMThlMDgwNzZmOTJiYzU1NTkpCiAgICAgICAgOwoKICAgICAgICAKICAgIAogICAgCiAgICAgICAgICAgIHZhciBjaXJjbGVfbWFya2VyX2VjMWQ5MmFmZjgzMTQ3OGZiNGFkNjg3YTA3ZWQ2OTBiID0gTC5jaXJjbGVNYXJrZXIoCiAgICAgICAgICAgICAgICBbNDMuNzUwMDcxNTAwMDAwMDA0LCAtNzkuMjk1ODQ5MV0sCiAgICAgICAgICAgICAgICB7ImJ1YmJsaW5nTW91c2VFdmVudHMiOiB0cnVlLCAiY29sb3IiOiAiYmx1ZSIsICJkYXNoQXJyYXkiOiBudWxsLCAiZGFzaE9mZnNldCI6IG51bGwsICJmaWxsIjogdHJ1ZSwgImZpbGxDb2xvciI6ICIjMzE4NmNjIiwgImZpbGxPcGFjaXR5IjogMC43LCAiZmlsbFJ1bGUiOiAiZXZlbm9kZCIsICJsaW5lQ2FwIjogInJvdW5kIiwgImxpbmVKb2luIjogInJvdW5kIiwgIm9wYWNpdHkiOiAxLjAsICJyYWRpdXMiOiA1LCAic3Ryb2tlIjogdHJ1ZSwgIndlaWdodCI6IDN9CiAgICAgICAgICAgICkuYWRkVG8obWFwXzM1YWFjYjIyZDBhYzRmOTNiZTMzM2JiZjNjOTM3YjQxKTsKICAgICAgICAKICAgIAogICAgICAgIHZhciBwb3B1cF85MWY3NTYyYTEwYjM0MTAxYmFkMGYxNjY4Mzg3YWFlMCA9IEwucG9wdXAoeyJtYXhXaWR0aCI6ICIxMDAlIn0pOwoKICAgICAgICAKICAgICAgICAgICAgdmFyIGh0bWxfMTQyMjAwNmZiYTZiNGUxMjgxMjI4YmE1MDc3MjE3NjIgPSAkKGA8ZGl2IGlkPSJodG1sXzE0MjIwMDZmYmE2YjRlMTI4MTIyOGJhNTA3NzIxNzYyIiBzdHlsZT0id2lkdGg6IDEwMC4wJTsgaGVpZ2h0OiAxMDAuMCU7Ij5NYXJ5dmFsZSwgV2V4Zm9yZCwgU2NhcmJvcm91Z2g8L2Rpdj5gKVswXTsKICAgICAgICAgICAgcG9wdXBfOTFmNzU2MmExMGIzNDEwMWJhZDBmMTY2ODM4N2FhZTAuc2V0Q29udGVudChodG1sXzE0MjIwMDZmYmE2YjRlMTI4MTIyOGJhNTA3NzIxNzYyKTsKICAgICAgICAKCiAgICAgICAgY2lyY2xlX21hcmtlcl9lYzFkOTJhZmY4MzE0NzhmYjRhZDY4N2EwN2VkNjkwYi5iaW5kUG9wdXAocG9wdXBfOTFmNzU2MmExMGIzNDEwMWJhZDBmMTY2ODM4N2FhZTApCiAgICAgICAgOwoKICAgICAgICAKICAgIAogICAgCiAgICAgICAgICAgIHZhciBjaXJjbGVfbWFya2VyXzY2MzRiODQzOTA4ZjQyZWViZjBiNDU5ZjI0MTk1MTNlID0gTC5jaXJjbGVNYXJrZXIoCiAgICAgICAgICAgICAgICBbNDMuNzk0MjAwMywgLTc5LjI2MjAyOTQwMDAwMDAyXSwKICAgICAgICAgICAgICAgIHsiYnViYmxpbmdNb3VzZUV2ZW50cyI6IHRydWUsICJjb2xvciI6ICJibHVlIiwgImRhc2hBcnJheSI6IG51bGwsICJkYXNoT2Zmc2V0IjogbnVsbCwgImZpbGwiOiB0cnVlLCAiZmlsbENvbG9yIjogIiMzMTg2Y2MiLCAiZmlsbE9wYWNpdHkiOiAwLjcsICJmaWxsUnVsZSI6ICJldmVub2RkIiwgImxpbmVDYXAiOiAicm91bmQiLCAibGluZUpvaW4iOiAicm91bmQiLCAib3BhY2l0eSI6IDEuMCwgInJhZGl1cyI6IDUsICJzdHJva2UiOiB0cnVlLCAid2VpZ2h0IjogM30KICAgICAgICAgICAgKS5hZGRUbyhtYXBfMzVhYWNiMjJkMGFjNGY5M2JlMzMzYmJmM2M5MzdiNDEpOwogICAgICAgIAogICAgCiAgICAgICAgdmFyIHBvcHVwXzdlNGI2ZGQ5NzcwYzQ4MDdiMTJiODhmYTMxZTMzNTFhID0gTC5wb3B1cCh7Im1heFdpZHRoIjogIjEwMCUifSk7CgogICAgICAgIAogICAgICAgICAgICB2YXIgaHRtbF9mYzExNjBiNTc0OWY0MmFmOTI0NWEzZWZiNGU3YWY2MyA9ICQoYDxkaXYgaWQ9Imh0bWxfZmMxMTYwYjU3NDlmNDJhZjkyNDVhM2VmYjRlN2FmNjMiIHN0eWxlPSJ3aWR0aDogMTAwLjAlOyBoZWlnaHQ6IDEwMC4wJTsiPkFnaW5jb3VydCwgU2NhcmJvcm91Z2g8L2Rpdj5gKVswXTsKICAgICAgICAgICAgcG9wdXBfN2U0YjZkZDk3NzBjNDgwN2IxMmI4OGZhMzFlMzM1MWEuc2V0Q29udGVudChodG1sX2ZjMTE2MGI1NzQ5ZjQyYWY5MjQ1YTNlZmI0ZTdhZjYzKTsKICAgICAgICAKCiAgICAgICAgY2lyY2xlX21hcmtlcl82NjM0Yjg0MzkwOGY0MmVlYmYwYjQ1OWYyNDE5NTEzZS5iaW5kUG9wdXAocG9wdXBfN2U0YjZkZDk3NzBjNDgwN2IxMmI4OGZhMzFlMzM1MWEpCiAgICAgICAgOwoKICAgICAgICAKICAgIAogICAgCiAgICAgICAgICAgIHZhciBjaXJjbGVfbWFya2VyX2MwOTA3ZTY0NWJiMjRjOGNiMmYzNDAyN2QyZGZjYzE4ID0gTC5jaXJjbGVNYXJrZXIoCiAgICAgICAgICAgICAgICBbNDMuNzgxNjM3NSwgLTc5LjMwNDMwMjFdLAogICAgICAgICAgICAgICAgeyJidWJibGluZ01vdXNlRXZlbnRzIjogdHJ1ZSwgImNvbG9yIjogImJsdWUiLCAiZGFzaEFycmF5IjogbnVsbCwgImRhc2hPZmZzZXQiOiBudWxsLCAiZmlsbCI6IHRydWUsICJmaWxsQ29sb3IiOiAiIzMxODZjYyIsICJmaWxsT3BhY2l0eSI6IDAuNywgImZpbGxSdWxlIjogImV2ZW5vZGQiLCAibGluZUNhcCI6ICJyb3VuZCIsICJsaW5lSm9pbiI6ICJyb3VuZCIsICJvcGFjaXR5IjogMS4wLCAicmFkaXVzIjogNSwgInN0cm9rZSI6IHRydWUsICJ3ZWlnaHQiOiAzfQogICAgICAgICAgICApLmFkZFRvKG1hcF8zNWFhY2IyMmQwYWM0ZjkzYmUzMzNiYmYzYzkzN2I0MSk7CiAgICAgICAgCiAgICAKICAgICAgICB2YXIgcG9wdXBfNzc3ODViZjY4ZmMxNDQ0NmE1ZjRkZmQyOTBkOGVhMjQgPSBMLnBvcHVwKHsibWF4V2lkdGgiOiAiMTAwJSJ9KTsKCiAgICAgICAgCiAgICAgICAgICAgIHZhciBodG1sXzY4MzgwYjZiODVmMzQ1MjhhZjU5NThlNGIxMTU1YWI1ID0gJChgPGRpdiBpZD0iaHRtbF82ODM4MGI2Yjg1ZjM0NTI4YWY1OTU4ZTRiMTE1NWFiNSIgc3R5bGU9IndpZHRoOiAxMDAuMCU7IGhlaWdodDogMTAwLjAlOyI+Q2xhcmtzIENvcm5lcnMsIFN1bGxpdmFuLCBUYW0gTyYjMzk7U2hhbnRlciwgU2NhcmJvcm91Z2g8L2Rpdj5gKVswXTsKICAgICAgICAgICAgcG9wdXBfNzc3ODViZjY4ZmMxNDQ0NmE1ZjRkZmQyOTBkOGVhMjQuc2V0Q29udGVudChodG1sXzY4MzgwYjZiODVmMzQ1MjhhZjU5NThlNGIxMTU1YWI1KTsKICAgICAgICAKCiAgICAgICAgY2lyY2xlX21hcmtlcl9jMDkwN2U2NDViYjI0YzhjYjJmMzQwMjdkMmRmY2MxOC5iaW5kUG9wdXAocG9wdXBfNzc3ODViZjY4ZmMxNDQ0NmE1ZjRkZmQyOTBkOGVhMjQpCiAgICAgICAgOwoKICAgICAgICAKICAgIAogICAgCiAgICAgICAgICAgIHZhciBjaXJjbGVfbWFya2VyXzZjYjdiMTA1YTgxNTQ5NjJiNGIyNWY4ZmUxMjIxZDc0ID0gTC5jaXJjbGVNYXJrZXIoCiAgICAgICAgICAgICAgICBbNDMuODE1MjUyMiwgLTc5LjI4NDU3NzJdLAogICAgICAgICAgICAgICAgeyJidWJibGluZ01vdXNlRXZlbnRzIjogdHJ1ZSwgImNvbG9yIjogImJsdWUiLCAiZGFzaEFycmF5IjogbnVsbCwgImRhc2hPZmZzZXQiOiBudWxsLCAiZmlsbCI6IHRydWUsICJmaWxsQ29sb3IiOiAiIzMxODZjYyIsICJmaWxsT3BhY2l0eSI6IDAuNywgImZpbGxSdWxlIjogImV2ZW5vZGQiLCAibGluZUNhcCI6ICJyb3VuZCIsICJsaW5lSm9pbiI6ICJyb3VuZCIsICJvcGFjaXR5IjogMS4wLCAicmFkaXVzIjogNSwgInN0cm9rZSI6IHRydWUsICJ3ZWlnaHQiOiAzfQogICAgICAgICAgICApLmFkZFRvKG1hcF8zNWFhY2IyMmQwYWM0ZjkzYmUzMzNiYmYzYzkzN2I0MSk7CiAgICAgICAgCiAgICAKICAgICAgICB2YXIgcG9wdXBfMTYxMDJmZjEwOTFmNGM3Yzk4Y2RhNWYwOTQ4ODJmZjEgPSBMLnBvcHVwKHsibWF4V2lkdGgiOiAiMTAwJSJ9KTsKCiAgICAgICAgCiAgICAgICAgICAgIHZhciBodG1sXzU0NTU5MzQ3ZDdmMTQ1MTNiZTM2NTk0OTE1NzNiODczID0gJChgPGRpdiBpZD0iaHRtbF81NDU1OTM0N2Q3ZjE0NTEzYmUzNjU5NDkxNTczYjg3MyIgc3R5bGU9IndpZHRoOiAxMDAuMCU7IGhlaWdodDogMTAwLjAlOyI+QWdpbmNvdXJ0IE5vcnRoLCBMJiMzOTtBbW9yZWF1eCBFYXN0LCBNaWxsaWtlbiwgU3RlZWxlcyBFYXN0LCBTY2FyYm9yb3VnaDwvZGl2PmApWzBdOwogICAgICAgICAgICBwb3B1cF8xNjEwMmZmMTA5MWY0YzdjOThjZGE1ZjA5NDg4MmZmMS5zZXRDb250ZW50KGh0bWxfNTQ1NTkzNDdkN2YxNDUxM2JlMzY1OTQ5MTU3M2I4NzMpOwogICAgICAgIAoKICAgICAgICBjaXJjbGVfbWFya2VyXzZjYjdiMTA1YTgxNTQ5NjJiNGIyNWY4ZmUxMjIxZDc0LmJpbmRQb3B1cChwb3B1cF8xNjEwMmZmMTA5MWY0YzdjOThjZGE1ZjA5NDg4MmZmMSkKICAgICAgICA7CgogICAgICAgIAogICAgCiAgICAKICAgICAgICAgICAgdmFyIGNpcmNsZV9tYXJrZXJfNmY1MDFlZmQ4NmRlNGViM2E5YWM2ZDg5YzFhMWM0MmYgPSBMLmNpcmNsZU1hcmtlcigKICAgICAgICAgICAgICAgIFs0My43OTk1MjUyMDAwMDAwMDUsIC03OS4zMTgzODg3XSwKICAgICAgICAgICAgICAgIHsiYnViYmxpbmdNb3VzZUV2ZW50cyI6IHRydWUsICJjb2xvciI6ICJibHVlIiwgImRhc2hBcnJheSI6IG51bGwsICJkYXNoT2Zmc2V0IjogbnVsbCwgImZpbGwiOiB0cnVlLCAiZmlsbENvbG9yIjogIiMzMTg2Y2MiLCAiZmlsbE9wYWNpdHkiOiAwLjcsICJmaWxsUnVsZSI6ICJldmVub2RkIiwgImxpbmVDYXAiOiAicm91bmQiLCAibGluZUpvaW4iOiAicm91bmQiLCAib3BhY2l0eSI6IDEuMCwgInJhZGl1cyI6IDUsICJzdHJva2UiOiB0cnVlLCAid2VpZ2h0IjogM30KICAgICAgICAgICAgKS5hZGRUbyhtYXBfMzVhYWNiMjJkMGFjNGY5M2JlMzMzYmJmM2M5MzdiNDEpOwogICAgICAgIAogICAgCiAgICAgICAgdmFyIHBvcHVwX2ZmNDNlOTg4MWViODQ0YTZhNmEyODEwNmM3NjUzZTc1ID0gTC5wb3B1cCh7Im1heFdpZHRoIjogIjEwMCUifSk7CgogICAgICAgIAogICAgICAgICAgICB2YXIgaHRtbF80ZWI0MmM1YWU1MDI0OGIyODc3ODMwMjU2NTkxZGEwMSA9ICQoYDxkaXYgaWQ9Imh0bWxfNGViNDJjNWFlNTAyNDhiMjg3NzgzMDI1NjU5MWRhMDEiIHN0eWxlPSJ3aWR0aDogMTAwLjAlOyBoZWlnaHQ6IDEwMC4wJTsiPkwmIzM5O0Ftb3JlYXV4IFdlc3QsIFNjYXJib3JvdWdoPC9kaXY+YClbMF07CiAgICAgICAgICAgIHBvcHVwX2ZmNDNlOTg4MWViODQ0YTZhNmEyODEwNmM3NjUzZTc1LnNldENvbnRlbnQoaHRtbF80ZWI0MmM1YWU1MDI0OGIyODc3ODMwMjU2NTkxZGEwMSk7CiAgICAgICAgCgogICAgICAgIGNpcmNsZV9tYXJrZXJfNmY1MDFlZmQ4NmRlNGViM2E5YWM2ZDg5YzFhMWM0MmYuYmluZFBvcHVwKHBvcHVwX2ZmNDNlOTg4MWViODQ0YTZhNmEyODEwNmM3NjUzZTc1KQogICAgICAgIDsKCiAgICAgICAgCiAgICAKICAgIAogICAgICAgICAgICB2YXIgY2lyY2xlX21hcmtlcl8yOWIxOWYxMjA1NDc0YmZmOTQwYjBmZTllZmM5OTNhOSA9IEwuY2lyY2xlTWFya2VyKAogICAgICAgICAgICAgICAgWzQzLjgzNjEyNDcwMDAwMDAwNiwgLTc5LjIwNTYzNjA5OTk5OTk5XSwKICAgICAgICAgICAgICAgIHsiYnViYmxpbmdNb3VzZUV2ZW50cyI6IHRydWUsICJjb2xvciI6ICJibHVlIiwgImRhc2hBcnJheSI6IG51bGwsICJkYXNoT2Zmc2V0IjogbnVsbCwgImZpbGwiOiB0cnVlLCAiZmlsbENvbG9yIjogIiMzMTg2Y2MiLCAiZmlsbE9wYWNpdHkiOiAwLjcsICJmaWxsUnVsZSI6ICJldmVub2RkIiwgImxpbmVDYXAiOiAicm91bmQiLCAibGluZUpvaW4iOiAicm91bmQiLCAib3BhY2l0eSI6IDEuMCwgInJhZGl1cyI6IDUsICJzdHJva2UiOiB0cnVlLCAid2VpZ2h0IjogM30KICAgICAgICAgICAgKS5hZGRUbyhtYXBfMzVhYWNiMjJkMGFjNGY5M2JlMzMzYmJmM2M5MzdiNDEpOwogICAgICAgIAogICAgCiAgICAgICAgdmFyIHBvcHVwX2FhZTQyMTRkY2UzMzQ4MmU5MGZlYzRlNjVhMzhjZjBiID0gTC5wb3B1cCh7Im1heFdpZHRoIjogIjEwMCUifSk7CgogICAgICAgIAogICAgICAgICAgICB2YXIgaHRtbF9iNjRkNDAyMjhkZjM0NTUxOTI5NjJlMTY0Y2Y4ZTJjOCA9ICQoYDxkaXYgaWQ9Imh0bWxfYjY0ZDQwMjI4ZGYzNDU1MTkyOTYyZTE2NGNmOGUyYzgiIHN0eWxlPSJ3aWR0aDogMTAwLjAlOyBoZWlnaHQ6IDEwMC4wJTsiPlVwcGVyIFJvdWdlLCBTY2FyYm9yb3VnaDwvZGl2PmApWzBdOwogICAgICAgICAgICBwb3B1cF9hYWU0MjE0ZGNlMzM0ODJlOTBmZWM0ZTY1YTM4Y2YwYi5zZXRDb250ZW50KGh0bWxfYjY0ZDQwMjI4ZGYzNDU1MTkyOTYyZTE2NGNmOGUyYzgpOwogICAgICAgIAoKICAgICAgICBjaXJjbGVfbWFya2VyXzI5YjE5ZjEyMDU0NzRiZmY5NDBiMGZlOWVmYzk5M2E5LmJpbmRQb3B1cChwb3B1cF9hYWU0MjE0ZGNlMzM0ODJlOTBmZWM0ZTY1YTM4Y2YwYikKICAgICAgICA7CgogICAgICAgIAogICAgCiAgICAKICAgICAgICAgICAgdmFyIGNpcmNsZV9tYXJrZXJfMjhhYTNlODdmZjg0NDg4ZWJkZDFhZWY3YzI5ZjFiM2IgPSBMLmNpcmNsZU1hcmtlcigKICAgICAgICAgICAgICAgIFs0My44MDM3NjIyLCAtNzkuMzYzNDUxN10sCiAgICAgICAgICAgICAgICB7ImJ1YmJsaW5nTW91c2VFdmVudHMiOiB0cnVlLCAiY29sb3IiOiAiYmx1ZSIsICJkYXNoQXJyYXkiOiBudWxsLCAiZGFzaE9mZnNldCI6IG51bGwsICJmaWxsIjogdHJ1ZSwgImZpbGxDb2xvciI6ICIjMzE4NmNjIiwgImZpbGxPcGFjaXR5IjogMC43LCAiZmlsbFJ1bGUiOiAiZXZlbm9kZCIsICJsaW5lQ2FwIjogInJvdW5kIiwgImxpbmVKb2luIjogInJvdW5kIiwgIm9wYWNpdHkiOiAxLjAsICJyYWRpdXMiOiA1LCAic3Ryb2tlIjogdHJ1ZSwgIndlaWdodCI6IDN9CiAgICAgICAgICAgICkuYWRkVG8obWFwXzM1YWFjYjIyZDBhYzRmOTNiZTMzM2JiZjNjOTM3YjQxKTsKICAgICAgICAKICAgIAogICAgICAgIHZhciBwb3B1cF80ODdjN2YwYjlmMDk0YTI5ODBjY2FmMjAwZmIxMThiZSA9IEwucG9wdXAoeyJtYXhXaWR0aCI6ICIxMDAlIn0pOwoKICAgICAgICAKICAgICAgICAgICAgdmFyIGh0bWxfNjE5MjQ4ZTA5ZWM5NDhkODliZjZiMjU4NWQ1YmZkOTIgPSAkKGA8ZGl2IGlkPSJodG1sXzYxOTI0OGUwOWVjOTQ4ZDg5YmY2YjI1ODVkNWJmZDkyIiBzdHlsZT0id2lkdGg6IDEwMC4wJTsgaGVpZ2h0OiAxMDAuMCU7Ij5IaWxsY3Jlc3QgVmlsbGFnZSwgTm9ydGggWW9yazwvZGl2PmApWzBdOwogICAgICAgICAgICBwb3B1cF80ODdjN2YwYjlmMDk0YTI5ODBjY2FmMjAwZmIxMThiZS5zZXRDb250ZW50KGh0bWxfNjE5MjQ4ZTA5ZWM5NDhkODliZjZiMjU4NWQ1YmZkOTIpOwogICAgICAgIAoKICAgICAgICBjaXJjbGVfbWFya2VyXzI4YWEzZTg3ZmY4NDQ4OGViZGQxYWVmN2MyOWYxYjNiLmJpbmRQb3B1cChwb3B1cF80ODdjN2YwYjlmMDk0YTI5ODBjY2FmMjAwZmIxMThiZSkKICAgICAgICA7CgogICAgICAgIAogICAgCiAgICAKICAgICAgICAgICAgdmFyIGNpcmNsZV9tYXJrZXJfMGFhMTJjY2I2YmZkNDdhNTkwYzgxZWIyNmE0NzhmYTkgPSBMLmNpcmNsZU1hcmtlcigKICAgICAgICAgICAgICAgIFs0My43Nzg1MTc1LCAtNzkuMzQ2NTU1N10sCiAgICAgICAgICAgICAgICB7ImJ1YmJsaW5nTW91c2VFdmVudHMiOiB0cnVlLCAiY29sb3IiOiAiYmx1ZSIsICJkYXNoQXJyYXkiOiBudWxsLCAiZGFzaE9mZnNldCI6IG51bGwsICJmaWxsIjogdHJ1ZSwgImZpbGxDb2xvciI6ICIjMzE4NmNjIiwgImZpbGxPcGFjaXR5IjogMC43LCAiZmlsbFJ1bGUiOiAiZXZlbm9kZCIsICJsaW5lQ2FwIjogInJvdW5kIiwgImxpbmVKb2luIjogInJvdW5kIiwgIm9wYWNpdHkiOiAxLjAsICJyYWRpdXMiOiA1LCAic3Ryb2tlIjogdHJ1ZSwgIndlaWdodCI6IDN9CiAgICAgICAgICAgICkuYWRkVG8obWFwXzM1YWFjYjIyZDBhYzRmOTNiZTMzM2JiZjNjOTM3YjQxKTsKICAgICAgICAKICAgIAogICAgICAgIHZhciBwb3B1cF9jNDI3YWZlNjg3YjA0ODVhYjgzN2NkMWJkNzNmZWIzNyA9IEwucG9wdXAoeyJtYXhXaWR0aCI6ICIxMDAlIn0pOwoKICAgICAgICAKICAgICAgICAgICAgdmFyIGh0bWxfMzM5MGYzMWVlN2FmNGM3MzlkYWRkOGJjY2ZkN2VmYjEgPSAkKGA8ZGl2IGlkPSJodG1sXzMzOTBmMzFlZTdhZjRjNzM5ZGFkZDhiY2NmZDdlZmIxIiBzdHlsZT0id2lkdGg6IDEwMC4wJTsgaGVpZ2h0OiAxMDAuMCU7Ij5GYWlydmlldywgSGVucnkgRmFybSwgT3Jpb2xlLCBOb3J0aCBZb3JrPC9kaXY+YClbMF07CiAgICAgICAgICAgIHBvcHVwX2M0MjdhZmU2ODdiMDQ4NWFiODM3Y2QxYmQ3M2ZlYjM3LnNldENvbnRlbnQoaHRtbF8zMzkwZjMxZWU3YWY0YzczOWRhZGQ4YmNjZmQ3ZWZiMSk7CiAgICAgICAgCgogICAgICAgIGNpcmNsZV9tYXJrZXJfMGFhMTJjY2I2YmZkNDdhNTkwYzgxZWIyNmE0NzhmYTkuYmluZFBvcHVwKHBvcHVwX2M0MjdhZmU2ODdiMDQ4NWFiODM3Y2QxYmQ3M2ZlYjM3KQogICAgICAgIDsKCiAgICAgICAgCiAgICAKICAgIAogICAgICAgICAgICB2YXIgY2lyY2xlX21hcmtlcl9kZTBhZTI2NmQ4OTA0NTJlYjUyNGFkMmIyZGVkYjI4ZSA9IEwuY2lyY2xlTWFya2VyKAogICAgICAgICAgICAgICAgWzQzLjc4Njk0NzMsIC03OS4zODU5NzVdLAogICAgICAgICAgICAgICAgeyJidWJibGluZ01vdXNlRXZlbnRzIjogdHJ1ZSwgImNvbG9yIjogImJsdWUiLCAiZGFzaEFycmF5IjogbnVsbCwgImRhc2hPZmZzZXQiOiBudWxsLCAiZmlsbCI6IHRydWUsICJmaWxsQ29sb3IiOiAiIzMxODZjYyIsICJmaWxsT3BhY2l0eSI6IDAuNywgImZpbGxSdWxlIjogImV2ZW5vZGQiLCAibGluZUNhcCI6ICJyb3VuZCIsICJsaW5lSm9pbiI6ICJyb3VuZCIsICJvcGFjaXR5IjogMS4wLCAicmFkaXVzIjogNSwgInN0cm9rZSI6IHRydWUsICJ3ZWlnaHQiOiAzfQogICAgICAgICAgICApLmFkZFRvKG1hcF8zNWFhY2IyMmQwYWM0ZjkzYmUzMzNiYmYzYzkzN2I0MSk7CiAgICAgICAgCiAgICAKICAgICAgICB2YXIgcG9wdXBfNzc5ZjZlMDA2NTc2NDYwYmEyNjA0MjcyMTZiNDZhMWYgPSBMLnBvcHVwKHsibWF4V2lkdGgiOiAiMTAwJSJ9KTsKCiAgICAgICAgCiAgICAgICAgICAgIHZhciBodG1sXzQ5YTQzMTRjZDg3MDQ4ODZiZmUwMGRmMWQ2MmE2YTU0ID0gJChgPGRpdiBpZD0iaHRtbF80OWE0MzE0Y2Q4NzA0ODg2YmZlMDBkZjFkNjJhNmE1NCIgc3R5bGU9IndpZHRoOiAxMDAuMCU7IGhlaWdodDogMTAwLjAlOyI+QmF5dmlldyBWaWxsYWdlLCBOb3J0aCBZb3JrPC9kaXY+YClbMF07CiAgICAgICAgICAgIHBvcHVwXzc3OWY2ZTAwNjU3NjQ2MGJhMjYwNDI3MjE2YjQ2YTFmLnNldENvbnRlbnQoaHRtbF80OWE0MzE0Y2Q4NzA0ODg2YmZlMDBkZjFkNjJhNmE1NCk7CiAgICAgICAgCgogICAgICAgIGNpcmNsZV9tYXJrZXJfZGUwYWUyNjZkODkwNDUyZWI1MjRhZDJiMmRlZGIyOGUuYmluZFBvcHVwKHBvcHVwXzc3OWY2ZTAwNjU3NjQ2MGJhMjYwNDI3MjE2YjQ2YTFmKQogICAgICAgIDsKCiAgICAgICAgCiAgICAKICAgIAogICAgICAgICAgICB2YXIgY2lyY2xlX21hcmtlcl83NGIzNDAzOTFlYzM0ZWYwOTNlOTQ4NTQ4ZjhiYjdmYiA9IEwuY2lyY2xlTWFya2VyKAogICAgICAgICAgICAgICAgWzQzLjc1NzQ5MDIsIC03OS4zNzQ3MTQwOTk5OTk5OV0sCiAgICAgICAgICAgICAgICB7ImJ1YmJsaW5nTW91c2VFdmVudHMiOiB0cnVlLCAiY29sb3IiOiAiYmx1ZSIsICJkYXNoQXJyYXkiOiBudWxsLCAiZGFzaE9mZnNldCI6IG51bGwsICJmaWxsIjogdHJ1ZSwgImZpbGxDb2xvciI6ICIjMzE4NmNjIiwgImZpbGxPcGFjaXR5IjogMC43LCAiZmlsbFJ1bGUiOiAiZXZlbm9kZCIsICJsaW5lQ2FwIjogInJvdW5kIiwgImxpbmVKb2luIjogInJvdW5kIiwgIm9wYWNpdHkiOiAxLjAsICJyYWRpdXMiOiA1LCAic3Ryb2tlIjogdHJ1ZSwgIndlaWdodCI6IDN9CiAgICAgICAgICAgICkuYWRkVG8obWFwXzM1YWFjYjIyZDBhYzRmOTNiZTMzM2JiZjNjOTM3YjQxKTsKICAgICAgICAKICAgIAogICAgICAgIHZhciBwb3B1cF84ZDY0ODQ5ZWM5OWY0ZjY2YTAzMzhiMDEzMzZlZTZhNSA9IEwucG9wdXAoeyJtYXhXaWR0aCI6ICIxMDAlIn0pOwoKICAgICAgICAKICAgICAgICAgICAgdmFyIGh0bWxfM2I4ZDU2NDc4M2RhNGEzOWJlNjM5N2FlOTA3ZGIzNzIgPSAkKGA8ZGl2IGlkPSJodG1sXzNiOGQ1NjQ3ODNkYTRhMzliZTYzOTdhZTkwN2RiMzcyIiBzdHlsZT0id2lkdGg6IDEwMC4wJTsgaGVpZ2h0OiAxMDAuMCU7Ij5TaWx2ZXIgSGlsbHMsIFlvcmsgTWlsbHMsIE5vcnRoIFlvcms8L2Rpdj5gKVswXTsKICAgICAgICAgICAgcG9wdXBfOGQ2NDg0OWVjOTlmNGY2NmEwMzM4YjAxMzM2ZWU2YTUuc2V0Q29udGVudChodG1sXzNiOGQ1NjQ3ODNkYTRhMzliZTYzOTdhZTkwN2RiMzcyKTsKICAgICAgICAKCiAgICAgICAgY2lyY2xlX21hcmtlcl83NGIzNDAzOTFlYzM0ZWYwOTNlOTQ4NTQ4ZjhiYjdmYi5iaW5kUG9wdXAocG9wdXBfOGQ2NDg0OWVjOTlmNGY2NmEwMzM4YjAxMzM2ZWU2YTUpCiAgICAgICAgOwoKICAgICAgICAKICAgIAogICAgCiAgICAgICAgICAgIHZhciBjaXJjbGVfbWFya2VyX2QxYzY4NTJmYjllNDQzNGM5OTEwZjBiZTVlZTdjZjk4ID0gTC5jaXJjbGVNYXJrZXIoCiAgICAgICAgICAgICAgICBbNDMuNzg5MDUzLCAtNzkuNDA4NDkyNzk5OTk5OTldLAogICAgICAgICAgICAgICAgeyJidWJibGluZ01vdXNlRXZlbnRzIjogdHJ1ZSwgImNvbG9yIjogImJsdWUiLCAiZGFzaEFycmF5IjogbnVsbCwgImRhc2hPZmZzZXQiOiBudWxsLCAiZmlsbCI6IHRydWUsICJmaWxsQ29sb3IiOiAiIzMxODZjYyIsICJmaWxsT3BhY2l0eSI6IDAuNywgImZpbGxSdWxlIjogImV2ZW5vZGQiLCAibGluZUNhcCI6ICJyb3VuZCIsICJsaW5lSm9pbiI6ICJyb3VuZCIsICJvcGFjaXR5IjogMS4wLCAicmFkaXVzIjogNSwgInN0cm9rZSI6IHRydWUsICJ3ZWlnaHQiOiAzfQogICAgICAgICAgICApLmFkZFRvKG1hcF8zNWFhY2IyMmQwYWM0ZjkzYmUzMzNiYmYzYzkzN2I0MSk7CiAgICAgICAgCiAgICAKICAgICAgICB2YXIgcG9wdXBfZmJiOWFkNDVkZGNkNGM4M2E5ZGI3YjAxZDRmYmE3ZjEgPSBMLnBvcHVwKHsibWF4V2lkdGgiOiAiMTAwJSJ9KTsKCiAgICAgICAgCiAgICAgICAgICAgIHZhciBodG1sX2I3NTdjYjIwYzI0NTQ4NjI5ZjEwODNiZjAzMmE2ZGZkID0gJChgPGRpdiBpZD0iaHRtbF9iNzU3Y2IyMGMyNDU0ODYyOWYxMDgzYmYwMzJhNmRmZCIgc3R5bGU9IndpZHRoOiAxMDAuMCU7IGhlaWdodDogMTAwLjAlOyI+TmV3dG9uYnJvb2ssIFdpbGxvd2RhbGUsIE5vcnRoIFlvcms8L2Rpdj5gKVswXTsKICAgICAgICAgICAgcG9wdXBfZmJiOWFkNDVkZGNkNGM4M2E5ZGI3YjAxZDRmYmE3ZjEuc2V0Q29udGVudChodG1sX2I3NTdjYjIwYzI0NTQ4NjI5ZjEwODNiZjAzMmE2ZGZkKTsKICAgICAgICAKCiAgICAgICAgY2lyY2xlX21hcmtlcl9kMWM2ODUyZmI5ZTQ0MzRjOTkxMGYwYmU1ZWU3Y2Y5OC5iaW5kUG9wdXAocG9wdXBfZmJiOWFkNDVkZGNkNGM4M2E5ZGI3YjAxZDRmYmE3ZjEpCiAgICAgICAgOwoKICAgICAgICAKICAgIAogICAgCiAgICAgICAgICAgIHZhciBjaXJjbGVfbWFya2VyXzI1M2M4YjI1ZDZkOTQyYmY4YmFmZGUwZDk5NjkzYzIyID0gTC5jaXJjbGVNYXJrZXIoCiAgICAgICAgICAgICAgICBbNDMuNzcwMTE5OSwgLTc5LjQwODQ5Mjc5OTk5OTk5XSwKICAgICAgICAgICAgICAgIHsiYnViYmxpbmdNb3VzZUV2ZW50cyI6IHRydWUsICJjb2xvciI6ICJibHVlIiwgImRhc2hBcnJheSI6IG51bGwsICJkYXNoT2Zmc2V0IjogbnVsbCwgImZpbGwiOiB0cnVlLCAiZmlsbENvbG9yIjogIiMzMTg2Y2MiLCAiZmlsbE9wYWNpdHkiOiAwLjcsICJmaWxsUnVsZSI6ICJldmVub2RkIiwgImxpbmVDYXAiOiAicm91bmQiLCAibGluZUpvaW4iOiAicm91bmQiLCAib3BhY2l0eSI6IDEuMCwgInJhZGl1cyI6IDUsICJzdHJva2UiOiB0cnVlLCAid2VpZ2h0IjogM30KICAgICAgICAgICAgKS5hZGRUbyhtYXBfMzVhYWNiMjJkMGFjNGY5M2JlMzMzYmJmM2M5MzdiNDEpOwogICAgICAgIAogICAgCiAgICAgICAgdmFyIHBvcHVwXzI4YmIzOTkwY2EyYzRiYzBhMWIyZWQ0Y2Q4ZGMyMDAyID0gTC5wb3B1cCh7Im1heFdpZHRoIjogIjEwMCUifSk7CgogICAgICAgIAogICAgICAgICAgICB2YXIgaHRtbF9mNjZmNTFhZTY3NGY0ZGQzOTVhNjA5MzcwOTJmZjg5ZSA9ICQoYDxkaXYgaWQ9Imh0bWxfZjY2ZjUxYWU2NzRmNGRkMzk1YTYwOTM3MDkyZmY4OWUiIHN0eWxlPSJ3aWR0aDogMTAwLjAlOyBoZWlnaHQ6IDEwMC4wJTsiPldpbGxvd2RhbGUgU291dGgsIE5vcnRoIFlvcms8L2Rpdj5gKVswXTsKICAgICAgICAgICAgcG9wdXBfMjhiYjM5OTBjYTJjNGJjMGExYjJlZDRjZDhkYzIwMDIuc2V0Q29udGVudChodG1sX2Y2NmY1MWFlNjc0ZjRkZDM5NWE2MDkzNzA5MmZmODllKTsKICAgICAgICAKCiAgICAgICAgY2lyY2xlX21hcmtlcl8yNTNjOGIyNWQ2ZDk0MmJmOGJhZmRlMGQ5OTY5M2MyMi5iaW5kUG9wdXAocG9wdXBfMjhiYjM5OTBjYTJjNGJjMGExYjJlZDRjZDhkYzIwMDIpCiAgICAgICAgOwoKICAgICAgICAKICAgIAogICAgCiAgICAgICAgICAgIHZhciBjaXJjbGVfbWFya2VyXzk5N2Q3MmJkYTRmYzRiZGE5OGM5MjY5YWQyNTdlODZmID0gTC5jaXJjbGVNYXJrZXIoCiAgICAgICAgICAgICAgICBbNDMuNzUyNzU4Mjk5OTk5OTk2LCAtNzkuNDAwMDQ5M10sCiAgICAgICAgICAgICAgICB7ImJ1YmJsaW5nTW91c2VFdmVudHMiOiB0cnVlLCAiY29sb3IiOiAiYmx1ZSIsICJkYXNoQXJyYXkiOiBudWxsLCAiZGFzaE9mZnNldCI6IG51bGwsICJmaWxsIjogdHJ1ZSwgImZpbGxDb2xvciI6ICIjMzE4NmNjIiwgImZpbGxPcGFjaXR5IjogMC43LCAiZmlsbFJ1bGUiOiAiZXZlbm9kZCIsICJsaW5lQ2FwIjogInJvdW5kIiwgImxpbmVKb2luIjogInJvdW5kIiwgIm9wYWNpdHkiOiAxLjAsICJyYWRpdXMiOiA1LCAic3Ryb2tlIjogdHJ1ZSwgIndlaWdodCI6IDN9CiAgICAgICAgICAgICkuYWRkVG8obWFwXzM1YWFjYjIyZDBhYzRmOTNiZTMzM2JiZjNjOTM3YjQxKTsKICAgICAgICAKICAgIAogICAgICAgIHZhciBwb3B1cF8wNWU1NTYyOWU2NTU0YjUzODc1ZWZjZTlmYzgxN2MwZSA9IEwucG9wdXAoeyJtYXhXaWR0aCI6ICIxMDAlIn0pOwoKICAgICAgICAKICAgICAgICAgICAgdmFyIGh0bWxfNGRkOTgwZDQ4OWIwNDljN2IzMjVhODQyYjFlZTI2MmEgPSAkKGA8ZGl2IGlkPSJodG1sXzRkZDk4MGQ0ODliMDQ5YzdiMzI1YTg0MmIxZWUyNjJhIiBzdHlsZT0id2lkdGg6IDEwMC4wJTsgaGVpZ2h0OiAxMDAuMCU7Ij5Zb3JrIE1pbGxzIFdlc3QsIE5vcnRoIFlvcms8L2Rpdj5gKVswXTsKICAgICAgICAgICAgcG9wdXBfMDVlNTU2MjllNjU1NGI1Mzg3NWVmY2U5ZmM4MTdjMGUuc2V0Q29udGVudChodG1sXzRkZDk4MGQ0ODliMDQ5YzdiMzI1YTg0MmIxZWUyNjJhKTsKICAgICAgICAKCiAgICAgICAgY2lyY2xlX21hcmtlcl85OTdkNzJiZGE0ZmM0YmRhOThjOTI2OWFkMjU3ZTg2Zi5iaW5kUG9wdXAocG9wdXBfMDVlNTU2MjllNjU1NGI1Mzg3NWVmY2U5ZmM4MTdjMGUpCiAgICAgICAgOwoKICAgICAgICAKICAgIAogICAgCiAgICAgICAgICAgIHZhciBjaXJjbGVfbWFya2VyX2IzYzM2MjE0Nzk2NzRlNDJiYjllZGU1ZjA3YTM3MWY4ID0gTC5jaXJjbGVNYXJrZXIoCiAgICAgICAgICAgICAgICBbNDMuNzgyNzM2NCwgLTc5LjQ0MjI1OTNdLAogICAgICAgICAgICAgICAgeyJidWJibGluZ01vdXNlRXZlbnRzIjogdHJ1ZSwgImNvbG9yIjogImJsdWUiLCAiZGFzaEFycmF5IjogbnVsbCwgImRhc2hPZmZzZXQiOiBudWxsLCAiZmlsbCI6IHRydWUsICJmaWxsQ29sb3IiOiAiIzMxODZjYyIsICJmaWxsT3BhY2l0eSI6IDAuNywgImZpbGxSdWxlIjogImV2ZW5vZGQiLCAibGluZUNhcCI6ICJyb3VuZCIsICJsaW5lSm9pbiI6ICJyb3VuZCIsICJvcGFjaXR5IjogMS4wLCAicmFkaXVzIjogNSwgInN0cm9rZSI6IHRydWUsICJ3ZWlnaHQiOiAzfQogICAgICAgICAgICApLmFkZFRvKG1hcF8zNWFhY2IyMmQwYWM0ZjkzYmUzMzNiYmYzYzkzN2I0MSk7CiAgICAgICAgCiAgICAKICAgICAgICB2YXIgcG9wdXBfMzE2OWQ4NzE4NDMyNDQ2ZWEzNmFiODczZjMxZjVjZDggPSBMLnBvcHVwKHsibWF4V2lkdGgiOiAiMTAwJSJ9KTsKCiAgICAgICAgCiAgICAgICAgICAgIHZhciBodG1sX2UxYzFlNTYyNGY3MjRmZmRhNGY0MGVhZjlkMzcxNWQ2ID0gJChgPGRpdiBpZD0iaHRtbF9lMWMxZTU2MjRmNzI0ZmZkYTRmNDBlYWY5ZDM3MTVkNiIgc3R5bGU9IndpZHRoOiAxMDAuMCU7IGhlaWdodDogMTAwLjAlOyI+V2lsbG93ZGFsZSBXZXN0LCBOb3J0aCBZb3JrPC9kaXY+YClbMF07CiAgICAgICAgICAgIHBvcHVwXzMxNjlkODcxODQzMjQ0NmVhMzZhYjg3M2YzMWY1Y2Q4LnNldENvbnRlbnQoaHRtbF9lMWMxZTU2MjRmNzI0ZmZkYTRmNDBlYWY5ZDM3MTVkNik7CiAgICAgICAgCgogICAgICAgIGNpcmNsZV9tYXJrZXJfYjNjMzYyMTQ3OTY3NGU0MmJiOWVkZTVmMDdhMzcxZjguYmluZFBvcHVwKHBvcHVwXzMxNjlkODcxODQzMjQ0NmVhMzZhYjg3M2YzMWY1Y2Q4KQogICAgICAgIDsKCiAgICAgICAgCiAgICAKICAgIAogICAgICAgICAgICB2YXIgY2lyY2xlX21hcmtlcl82NmUxM2Y3ZGMzMGE0M2RhYWE3MjAxNzE3ZmE1OTRhMCA9IEwuY2lyY2xlTWFya2VyKAogICAgICAgICAgICAgICAgWzQzLjc1MzI1ODYsIC03OS4zMjk2NTY1XSwKICAgICAgICAgICAgICAgIHsiYnViYmxpbmdNb3VzZUV2ZW50cyI6IHRydWUsICJjb2xvciI6ICJibHVlIiwgImRhc2hBcnJheSI6IG51bGwsICJkYXNoT2Zmc2V0IjogbnVsbCwgImZpbGwiOiB0cnVlLCAiZmlsbENvbG9yIjogIiMzMTg2Y2MiLCAiZmlsbE9wYWNpdHkiOiAwLjcsICJmaWxsUnVsZSI6ICJldmVub2RkIiwgImxpbmVDYXAiOiAicm91bmQiLCAibGluZUpvaW4iOiAicm91bmQiLCAib3BhY2l0eSI6IDEuMCwgInJhZGl1cyI6IDUsICJzdHJva2UiOiB0cnVlLCAid2VpZ2h0IjogM30KICAgICAgICAgICAgKS5hZGRUbyhtYXBfMzVhYWNiMjJkMGFjNGY5M2JlMzMzYmJmM2M5MzdiNDEpOwogICAgICAgIAogICAgCiAgICAgICAgdmFyIHBvcHVwXzVhY2M1YmUxM2QzYjQ1YzdhNzYxZjQwNWMwNjExY2QxID0gTC5wb3B1cCh7Im1heFdpZHRoIjogIjEwMCUifSk7CgogICAgICAgIAogICAgICAgICAgICB2YXIgaHRtbF85NTM3N2JhODM4ZmI0ZGJiYjU0NDdmYmY1ZTU3NTk1YiA9ICQoYDxkaXYgaWQ9Imh0bWxfOTUzNzdiYTgzOGZiNGRiYmI1NDQ3ZmJmNWU1NzU5NWIiIHN0eWxlPSJ3aWR0aDogMTAwLjAlOyBoZWlnaHQ6IDEwMC4wJTsiPlBhcmt3b29kcywgTm9ydGggWW9yazwvZGl2PmApWzBdOwogICAgICAgICAgICBwb3B1cF81YWNjNWJlMTNkM2I0NWM3YTc2MWY0MDVjMDYxMWNkMS5zZXRDb250ZW50KGh0bWxfOTUzNzdiYTgzOGZiNGRiYmI1NDQ3ZmJmNWU1NzU5NWIpOwogICAgICAgIAoKICAgICAgICBjaXJjbGVfbWFya2VyXzY2ZTEzZjdkYzMwYTQzZGFhYTcyMDE3MTdmYTU5NGEwLmJpbmRQb3B1cChwb3B1cF81YWNjNWJlMTNkM2I0NWM3YTc2MWY0MDVjMDYxMWNkMSkKICAgICAgICA7CgogICAgICAgIAogICAgCiAgICAKICAgICAgICAgICAgdmFyIGNpcmNsZV9tYXJrZXJfYmRiNzU2OGZmMWEwNGRjOTg2NmFjNjNkNjA0ZWUxNjEgPSBMLmNpcmNsZU1hcmtlcigKICAgICAgICAgICAgICAgIFs0My43NDU5MDU3OTk5OTk5OTYsIC03OS4zNTIxODhdLAogICAgICAgICAgICAgICAgeyJidWJibGluZ01vdXNlRXZlbnRzIjogdHJ1ZSwgImNvbG9yIjogImJsdWUiLCAiZGFzaEFycmF5IjogbnVsbCwgImRhc2hPZmZzZXQiOiBudWxsLCAiZmlsbCI6IHRydWUsICJmaWxsQ29sb3IiOiAiIzMxODZjYyIsICJmaWxsT3BhY2l0eSI6IDAuNywgImZpbGxSdWxlIjogImV2ZW5vZGQiLCAibGluZUNhcCI6ICJyb3VuZCIsICJsaW5lSm9pbiI6ICJyb3VuZCIsICJvcGFjaXR5IjogMS4wLCAicmFkaXVzIjogNSwgInN0cm9rZSI6IHRydWUsICJ3ZWlnaHQiOiAzfQogICAgICAgICAgICApLmFkZFRvKG1hcF8zNWFhY2IyMmQwYWM0ZjkzYmUzMzNiYmYzYzkzN2I0MSk7CiAgICAgICAgCiAgICAKICAgICAgICB2YXIgcG9wdXBfN2NlM2Y0NDJjMTg3NDAzYjk2N2IwMmZhM2ZlNGY1NWEgPSBMLnBvcHVwKHsibWF4V2lkdGgiOiAiMTAwJSJ9KTsKCiAgICAgICAgCiAgICAgICAgICAgIHZhciBodG1sXzI0YThiZjQxYzc0NDRmNTc4ZjdmOTNkMWY5ZWI2MjNiID0gJChgPGRpdiBpZD0iaHRtbF8yNGE4YmY0MWM3NDQ0ZjU3OGY3ZjkzZDFmOWViNjIzYiIgc3R5bGU9IndpZHRoOiAxMDAuMCU7IGhlaWdodDogMTAwLjAlOyI+RG9uIE1pbGxzIE5vcnRoLCBOb3J0aCBZb3JrPC9kaXY+YClbMF07CiAgICAgICAgICAgIHBvcHVwXzdjZTNmNDQyYzE4NzQwM2I5NjdiMDJmYTNmZTRmNTVhLnNldENvbnRlbnQoaHRtbF8yNGE4YmY0MWM3NDQ0ZjU3OGY3ZjkzZDFmOWViNjIzYik7CiAgICAgICAgCgogICAgICAgIGNpcmNsZV9tYXJrZXJfYmRiNzU2OGZmMWEwNGRjOTg2NmFjNjNkNjA0ZWUxNjEuYmluZFBvcHVwKHBvcHVwXzdjZTNmNDQyYzE4NzQwM2I5NjdiMDJmYTNmZTRmNTVhKQogICAgICAgIDsKCiAgICAgICAgCiAgICAKICAgIAogICAgICAgICAgICB2YXIgY2lyY2xlX21hcmtlcl9hODNhYzExZjJhNzg0NDRiOTUxMGY0ZmY4MjRhMWNlNSA9IEwuY2lyY2xlTWFya2VyKAogICAgICAgICAgICAgICAgWzQzLjcyNTg5OTcwMDAwMDAxLCAtNzkuMzQwOTIzXSwKICAgICAgICAgICAgICAgIHsiYnViYmxpbmdNb3VzZUV2ZW50cyI6IHRydWUsICJjb2xvciI6ICJibHVlIiwgImRhc2hBcnJheSI6IG51bGwsICJkYXNoT2Zmc2V0IjogbnVsbCwgImZpbGwiOiB0cnVlLCAiZmlsbENvbG9yIjogIiMzMTg2Y2MiLCAiZmlsbE9wYWNpdHkiOiAwLjcsICJmaWxsUnVsZSI6ICJldmVub2RkIiwgImxpbmVDYXAiOiAicm91bmQiLCAibGluZUpvaW4iOiAicm91bmQiLCAib3BhY2l0eSI6IDEuMCwgInJhZGl1cyI6IDUsICJzdHJva2UiOiB0cnVlLCAid2VpZ2h0IjogM30KICAgICAgICAgICAgKS5hZGRUbyhtYXBfMzVhYWNiMjJkMGFjNGY5M2JlMzMzYmJmM2M5MzdiNDEpOwogICAgICAgIAogICAgCiAgICAgICAgdmFyIHBvcHVwXzdlZTYzMmIwN2NjMjRjM2Y5MzM5ODk1ZDY4NTkxOTgyID0gTC5wb3B1cCh7Im1heFdpZHRoIjogIjEwMCUifSk7CgogICAgICAgIAogICAgICAgICAgICB2YXIgaHRtbF9hYTMyMGYzNjM1MTk0MjhhYWJiMzQ4OGZiMmEzYTY4NCA9ICQoYDxkaXYgaWQ9Imh0bWxfYWEzMjBmMzYzNTE5NDI4YWFiYjM0ODhmYjJhM2E2ODQiIHN0eWxlPSJ3aWR0aDogMTAwLjAlOyBoZWlnaHQ6IDEwMC4wJTsiPkZsZW1pbmdkb24gUGFyaywgRG9uIE1pbGxzIFNvdXRoLCBOb3J0aCBZb3JrPC9kaXY+YClbMF07CiAgICAgICAgICAgIHBvcHVwXzdlZTYzMmIwN2NjMjRjM2Y5MzM5ODk1ZDY4NTkxOTgyLnNldENvbnRlbnQoaHRtbF9hYTMyMGYzNjM1MTk0MjhhYWJiMzQ4OGZiMmEzYTY4NCk7CiAgICAgICAgCgogICAgICAgIGNpcmNsZV9tYXJrZXJfYTgzYWMxMWYyYTc4NDQ0Yjk1MTBmNGZmODI0YTFjZTUuYmluZFBvcHVwKHBvcHVwXzdlZTYzMmIwN2NjMjRjM2Y5MzM5ODk1ZDY4NTkxOTgyKQogICAgICAgIDsKCiAgICAgICAgCiAgICAKICAgIAogICAgICAgICAgICB2YXIgY2lyY2xlX21hcmtlcl9lZDVjNjczYzEwNDg0NzQ0YTc0ZjUwOGU4MGY5YTlhOCA9IEwuY2lyY2xlTWFya2VyKAogICAgICAgICAgICAgICAgWzQzLjc1NDMyODMsIC03OS40NDIyNTkzXSwKICAgICAgICAgICAgICAgIHsiYnViYmxpbmdNb3VzZUV2ZW50cyI6IHRydWUsICJjb2xvciI6ICJibHVlIiwgImRhc2hBcnJheSI6IG51bGwsICJkYXNoT2Zmc2V0IjogbnVsbCwgImZpbGwiOiB0cnVlLCAiZmlsbENvbG9yIjogIiMzMTg2Y2MiLCAiZmlsbE9wYWNpdHkiOiAwLjcsICJmaWxsUnVsZSI6ICJldmVub2RkIiwgImxpbmVDYXAiOiAicm91bmQiLCAibGluZUpvaW4iOiAicm91bmQiLCAib3BhY2l0eSI6IDEuMCwgInJhZGl1cyI6IDUsICJzdHJva2UiOiB0cnVlLCAid2VpZ2h0IjogM30KICAgICAgICAgICAgKS5hZGRUbyhtYXBfMzVhYWNiMjJkMGFjNGY5M2JlMzMzYmJmM2M5MzdiNDEpOwogICAgICAgIAogICAgCiAgICAgICAgdmFyIHBvcHVwX2U4ZGZiMGU2NzhiNzQ5OTk5ZmM0YzY3NTYzMmNhNDE0ID0gTC5wb3B1cCh7Im1heFdpZHRoIjogIjEwMCUifSk7CgogICAgICAgIAogICAgICAgICAgICB2YXIgaHRtbF9kNjEwMThjNTdjZGM0YWIyODNiNGU3ZWQ4ZTFlNTYxOSA9ICQoYDxkaXYgaWQ9Imh0bWxfZDYxMDE4YzU3Y2RjNGFiMjgzYjRlN2VkOGUxZTU2MTkiIHN0eWxlPSJ3aWR0aDogMTAwLjAlOyBoZWlnaHQ6IDEwMC4wJTsiPkJhdGh1cnN0IE1hbm9yLCBEb3duc3ZpZXcgTm9ydGgsIFdpbHNvbiBIZWlnaHRzLCBOb3J0aCBZb3JrPC9kaXY+YClbMF07CiAgICAgICAgICAgIHBvcHVwX2U4ZGZiMGU2NzhiNzQ5OTk5ZmM0YzY3NTYzMmNhNDE0LnNldENvbnRlbnQoaHRtbF9kNjEwMThjNTdjZGM0YWIyODNiNGU3ZWQ4ZTFlNTYxOSk7CiAgICAgICAgCgogICAgICAgIGNpcmNsZV9tYXJrZXJfZWQ1YzY3M2MxMDQ4NDc0NGE3NGY1MDhlODBmOWE5YTguYmluZFBvcHVwKHBvcHVwX2U4ZGZiMGU2NzhiNzQ5OTk5ZmM0YzY3NTYzMmNhNDE0KQogICAgICAgIDsKCiAgICAgICAgCiAgICAKICAgIAogICAgICAgICAgICB2YXIgY2lyY2xlX21hcmtlcl82MDFhYTE1MzgyNzU0YmQ0OWFiOTYxZWQxOTgwNDdmZiA9IEwuY2lyY2xlTWFya2VyKAogICAgICAgICAgICAgICAgWzQzLjc2Nzk4MDMsIC03OS40ODcyNjE5MDAwMDAwMV0sCiAgICAgICAgICAgICAgICB7ImJ1YmJsaW5nTW91c2VFdmVudHMiOiB0cnVlLCAiY29sb3IiOiAiYmx1ZSIsICJkYXNoQXJyYXkiOiBudWxsLCAiZGFzaE9mZnNldCI6IG51bGwsICJmaWxsIjogdHJ1ZSwgImZpbGxDb2xvciI6ICIjMzE4NmNjIiwgImZpbGxPcGFjaXR5IjogMC43LCAiZmlsbFJ1bGUiOiAiZXZlbm9kZCIsICJsaW5lQ2FwIjogInJvdW5kIiwgImxpbmVKb2luIjogInJvdW5kIiwgIm9wYWNpdHkiOiAxLjAsICJyYWRpdXMiOiA1LCAic3Ryb2tlIjogdHJ1ZSwgIndlaWdodCI6IDN9CiAgICAgICAgICAgICkuYWRkVG8obWFwXzM1YWFjYjIyZDBhYzRmOTNiZTMzM2JiZjNjOTM3YjQxKTsKICAgICAgICAKICAgIAogICAgICAgIHZhciBwb3B1cF9kZjExNjYwM2Q0MjI0YTJhYTNmNmMyZGJiMTAxZGVhOCA9IEwucG9wdXAoeyJtYXhXaWR0aCI6ICIxMDAlIn0pOwoKICAgICAgICAKICAgICAgICAgICAgdmFyIGh0bWxfZGVjYmNlNDJiMGU4NDU1YThjNTU4MmM5NWQ4ZTA3YTUgPSAkKGA8ZGl2IGlkPSJodG1sX2RlY2JjZTQyYjBlODQ1NWE4YzU1ODJjOTVkOGUwN2E1IiBzdHlsZT0id2lkdGg6IDEwMC4wJTsgaGVpZ2h0OiAxMDAuMCU7Ij5Ob3J0aHdvb2QgUGFyaywgWW9yayBVbml2ZXJzaXR5LCBOb3J0aCBZb3JrPC9kaXY+YClbMF07CiAgICAgICAgICAgIHBvcHVwX2RmMTE2NjAzZDQyMjRhMmFhM2Y2YzJkYmIxMDFkZWE4LnNldENvbnRlbnQoaHRtbF9kZWNiY2U0MmIwZTg0NTVhOGM1NTgyYzk1ZDhlMDdhNSk7CiAgICAgICAgCgogICAgICAgIGNpcmNsZV9tYXJrZXJfNjAxYWExNTM4Mjc1NGJkNDlhYjk2MWVkMTk4MDQ3ZmYuYmluZFBvcHVwKHBvcHVwX2RmMTE2NjAzZDQyMjRhMmFhM2Y2YzJkYmIxMDFkZWE4KQogICAgICAgIDsKCiAgICAgICAgCiAgICAKICAgIAogICAgICAgICAgICB2YXIgY2lyY2xlX21hcmtlcl9kMWQxNWFiZjBjOTM0YjdkODcxMTgzYTQ4OGQxZDkxMyA9IEwuY2lyY2xlTWFya2VyKAogICAgICAgICAgICAgICAgWzQzLjczNzQ3MzIwMDAwMDAwNCwgLTc5LjQ2NDc2MzI5OTk5OTk5XSwKICAgICAgICAgICAgICAgIHsiYnViYmxpbmdNb3VzZUV2ZW50cyI6IHRydWUsICJjb2xvciI6ICJibHVlIiwgImRhc2hBcnJheSI6IG51bGwsICJkYXNoT2Zmc2V0IjogbnVsbCwgImZpbGwiOiB0cnVlLCAiZmlsbENvbG9yIjogIiMzMTg2Y2MiLCAiZmlsbE9wYWNpdHkiOiAwLjcsICJmaWxsUnVsZSI6ICJldmVub2RkIiwgImxpbmVDYXAiOiAicm91bmQiLCAibGluZUpvaW4iOiAicm91bmQiLCAib3BhY2l0eSI6IDEuMCwgInJhZGl1cyI6IDUsICJzdHJva2UiOiB0cnVlLCAid2VpZ2h0IjogM30KICAgICAgICAgICAgKS5hZGRUbyhtYXBfMzVhYWNiMjJkMGFjNGY5M2JlMzMzYmJmM2M5MzdiNDEpOwogICAgICAgIAogICAgCiAgICAgICAgdmFyIHBvcHVwXzBhNWFjNjU2YmE2NTRmOWI5NDYxMTdkNTI1YmIyZWJiID0gTC5wb3B1cCh7Im1heFdpZHRoIjogIjEwMCUifSk7CgogICAgICAgIAogICAgICAgICAgICB2YXIgaHRtbF81ZmFiMWJiZTNjNDc0MjVkODQ0ZWUyNTFiZTg1NmE1ZSA9ICQoYDxkaXYgaWQ9Imh0bWxfNWZhYjFiYmUzYzQ3NDI1ZDg0NGVlMjUxYmU4NTZhNWUiIHN0eWxlPSJ3aWR0aDogMTAwLjAlOyBoZWlnaHQ6IDEwMC4wJTsiPkNGQiBUb3JvbnRvLCBEb3duc3ZpZXcgRWFzdCwgTm9ydGggWW9yazwvZGl2PmApWzBdOwogICAgICAgICAgICBwb3B1cF8wYTVhYzY1NmJhNjU0ZjliOTQ2MTE3ZDUyNWJiMmViYi5zZXRDb250ZW50KGh0bWxfNWZhYjFiYmUzYzQ3NDI1ZDg0NGVlMjUxYmU4NTZhNWUpOwogICAgICAgIAoKICAgICAgICBjaXJjbGVfbWFya2VyX2QxZDE1YWJmMGM5MzRiN2Q4NzExODNhNDg4ZDFkOTEzLmJpbmRQb3B1cChwb3B1cF8wYTVhYzY1NmJhNjU0ZjliOTQ2MTE3ZDUyNWJiMmViYikKICAgICAgICA7CgogICAgICAgIAogICAgCiAgICAKICAgICAgICAgICAgdmFyIGNpcmNsZV9tYXJrZXJfOTZkNjExZjRlYjU1NGJkOWI5M2MxY2M1YjJiMjBkMGIgPSBMLmNpcmNsZU1hcmtlcigKICAgICAgICAgICAgICAgIFs0My43MzkwMTQ2LCAtNzkuNTA2OTQzNl0sCiAgICAgICAgICAgICAgICB7ImJ1YmJsaW5nTW91c2VFdmVudHMiOiB0cnVlLCAiY29sb3IiOiAiYmx1ZSIsICJkYXNoQXJyYXkiOiBudWxsLCAiZGFzaE9mZnNldCI6IG51bGwsICJmaWxsIjogdHJ1ZSwgImZpbGxDb2xvciI6ICIjMzE4NmNjIiwgImZpbGxPcGFjaXR5IjogMC43LCAiZmlsbFJ1bGUiOiAiZXZlbm9kZCIsICJsaW5lQ2FwIjogInJvdW5kIiwgImxpbmVKb2luIjogInJvdW5kIiwgIm9wYWNpdHkiOiAxLjAsICJyYWRpdXMiOiA1LCAic3Ryb2tlIjogdHJ1ZSwgIndlaWdodCI6IDN9CiAgICAgICAgICAgICkuYWRkVG8obWFwXzM1YWFjYjIyZDBhYzRmOTNiZTMzM2JiZjNjOTM3YjQxKTsKICAgICAgICAKICAgIAogICAgICAgIHZhciBwb3B1cF9jMDMzYzc4MTM3NTc0ZDUwYTBlNWIxZjI2ZjY1YzM0YiA9IEwucG9wdXAoeyJtYXhXaWR0aCI6ICIxMDAlIn0pOwoKICAgICAgICAKICAgICAgICAgICAgdmFyIGh0bWxfY2YxNTQwZDUzYmE0NDQxYTgyZWE3ZTIxYWFiNmFiNmEgPSAkKGA8ZGl2IGlkPSJodG1sX2NmMTU0MGQ1M2JhNDQ0MWE4MmVhN2UyMWFhYjZhYjZhIiBzdHlsZT0id2lkdGg6IDEwMC4wJTsgaGVpZ2h0OiAxMDAuMCU7Ij5Eb3duc3ZpZXcgV2VzdCwgTm9ydGggWW9yazwvZGl2PmApWzBdOwogICAgICAgICAgICBwb3B1cF9jMDMzYzc4MTM3NTc0ZDUwYTBlNWIxZjI2ZjY1YzM0Yi5zZXRDb250ZW50KGh0bWxfY2YxNTQwZDUzYmE0NDQxYTgyZWE3ZTIxYWFiNmFiNmEpOwogICAgICAgIAoKICAgICAgICBjaXJjbGVfbWFya2VyXzk2ZDYxMWY0ZWI1NTRiZDliOTNjMWNjNWIyYjIwZDBiLmJpbmRQb3B1cChwb3B1cF9jMDMzYzc4MTM3NTc0ZDUwYTBlNWIxZjI2ZjY1YzM0YikKICAgICAgICA7CgogICAgICAgIAogICAgCiAgICAKICAgICAgICAgICAgdmFyIGNpcmNsZV9tYXJrZXJfYTcyNGVjZmU4YzA0NDNkZjk5NWVlYTYyY2VmYzg1MTkgPSBMLmNpcmNsZU1hcmtlcigKICAgICAgICAgICAgICAgIFs0My43Mjg0OTY0LCAtNzkuNDk1Njk3NDAwMDAwMDFdLAogICAgICAgICAgICAgICAgeyJidWJibGluZ01vdXNlRXZlbnRzIjogdHJ1ZSwgImNvbG9yIjogImJsdWUiLCAiZGFzaEFycmF5IjogbnVsbCwgImRhc2hPZmZzZXQiOiBudWxsLCAiZmlsbCI6IHRydWUsICJmaWxsQ29sb3IiOiAiIzMxODZjYyIsICJmaWxsT3BhY2l0eSI6IDAuNywgImZpbGxSdWxlIjogImV2ZW5vZGQiLCAibGluZUNhcCI6ICJyb3VuZCIsICJsaW5lSm9pbiI6ICJyb3VuZCIsICJvcGFjaXR5IjogMS4wLCAicmFkaXVzIjogNSwgInN0cm9rZSI6IHRydWUsICJ3ZWlnaHQiOiAzfQogICAgICAgICAgICApLmFkZFRvKG1hcF8zNWFhY2IyMmQwYWM0ZjkzYmUzMzNiYmYzYzkzN2I0MSk7CiAgICAgICAgCiAgICAKICAgICAgICB2YXIgcG9wdXBfZmYyZTNhZmExYmU2NDIzYjllOGQ4Y2YzZjY5MDgzY2IgPSBMLnBvcHVwKHsibWF4V2lkdGgiOiAiMTAwJSJ9KTsKCiAgICAgICAgCiAgICAgICAgICAgIHZhciBodG1sXzNjZmU4MDdjZjBmYTRhYjQ5NjE3YmM5NWQwMzUyNzc0ID0gJChgPGRpdiBpZD0iaHRtbF8zY2ZlODA3Y2YwZmE0YWI0OTYxN2JjOTVkMDM1Mjc3NCIgc3R5bGU9IndpZHRoOiAxMDAuMCU7IGhlaWdodDogMTAwLjAlOyI+RG93bnN2aWV3IENlbnRyYWwsIE5vcnRoIFlvcms8L2Rpdj5gKVswXTsKICAgICAgICAgICAgcG9wdXBfZmYyZTNhZmExYmU2NDIzYjllOGQ4Y2YzZjY5MDgzY2Iuc2V0Q29udGVudChodG1sXzNjZmU4MDdjZjBmYTRhYjQ5NjE3YmM5NWQwMzUyNzc0KTsKICAgICAgICAKCiAgICAgICAgY2lyY2xlX21hcmtlcl9hNzI0ZWNmZThjMDQ0M2RmOTk1ZWVhNjJjZWZjODUxOS5iaW5kUG9wdXAocG9wdXBfZmYyZTNhZmExYmU2NDIzYjllOGQ4Y2YzZjY5MDgzY2IpCiAgICAgICAgOwoKICAgICAgICAKICAgIAogICAgCiAgICAgICAgICAgIHZhciBjaXJjbGVfbWFya2VyXzkzNjVlNGM1YjliYjRmZmI4ODNkYzNjYWU0Zjc0NTY3ID0gTC5jaXJjbGVNYXJrZXIoCiAgICAgICAgICAgICAgICBbNDMuNzYxNjMxMywgLTc5LjUyMDk5OTQwMDAwMDAxXSwKICAgICAgICAgICAgICAgIHsiYnViYmxpbmdNb3VzZUV2ZW50cyI6IHRydWUsICJjb2xvciI6ICJibHVlIiwgImRhc2hBcnJheSI6IG51bGwsICJkYXNoT2Zmc2V0IjogbnVsbCwgImZpbGwiOiB0cnVlLCAiZmlsbENvbG9yIjogIiMzMTg2Y2MiLCAiZmlsbE9wYWNpdHkiOiAwLjcsICJmaWxsUnVsZSI6ICJldmVub2RkIiwgImxpbmVDYXAiOiAicm91bmQiLCAibGluZUpvaW4iOiAicm91bmQiLCAib3BhY2l0eSI6IDEuMCwgInJhZGl1cyI6IDUsICJzdHJva2UiOiB0cnVlLCAid2VpZ2h0IjogM30KICAgICAgICAgICAgKS5hZGRUbyhtYXBfMzVhYWNiMjJkMGFjNGY5M2JlMzMzYmJmM2M5MzdiNDEpOwogICAgICAgIAogICAgCiAgICAgICAgdmFyIHBvcHVwX2Q5ODhiYjcxZDZlMTQ0ZmY5NWI0ZTIzZTAwZTkyZjI4ID0gTC5wb3B1cCh7Im1heFdpZHRoIjogIjEwMCUifSk7CgogICAgICAgIAogICAgICAgICAgICB2YXIgaHRtbF9kMGFmYTAzZDUwNDM0NDRlYjdmMmRjOTU2OWFlNzhjMyA9ICQoYDxkaXYgaWQ9Imh0bWxfZDBhZmEwM2Q1MDQzNDQ0ZWI3ZjJkYzk1NjlhZTc4YzMiIHN0eWxlPSJ3aWR0aDogMTAwLjAlOyBoZWlnaHQ6IDEwMC4wJTsiPkRvd25zdmlldyBOb3J0aHdlc3QsIE5vcnRoIFlvcms8L2Rpdj5gKVswXTsKICAgICAgICAgICAgcG9wdXBfZDk4OGJiNzFkNmUxNDRmZjk1YjRlMjNlMDBlOTJmMjguc2V0Q29udGVudChodG1sX2QwYWZhMDNkNTA0MzQ0NGViN2YyZGM5NTY5YWU3OGMzKTsKICAgICAgICAKCiAgICAgICAgY2lyY2xlX21hcmtlcl85MzY1ZTRjNWI5YmI0ZmZiODgzZGMzY2FlNGY3NDU2Ny5iaW5kUG9wdXAocG9wdXBfZDk4OGJiNzFkNmUxNDRmZjk1YjRlMjNlMDBlOTJmMjgpCiAgICAgICAgOwoKICAgICAgICAKICAgIAogICAgCiAgICAgICAgICAgIHZhciBjaXJjbGVfbWFya2VyXzBkMGMyZTVhNGEzMjRjMjdhZTNiZTBlN2NiMjBiMGExID0gTC5jaXJjbGVNYXJrZXIoCiAgICAgICAgICAgICAgICBbNDMuNzI1ODgyMjk5OTk5OTk1LCAtNzkuMzE1NTcxNTk5OTk5OThdLAogICAgICAgICAgICAgICAgeyJidWJibGluZ01vdXNlRXZlbnRzIjogdHJ1ZSwgImNvbG9yIjogImJsdWUiLCAiZGFzaEFycmF5IjogbnVsbCwgImRhc2hPZmZzZXQiOiBudWxsLCAiZmlsbCI6IHRydWUsICJmaWxsQ29sb3IiOiAiIzMxODZjYyIsICJmaWxsT3BhY2l0eSI6IDAuNywgImZpbGxSdWxlIjogImV2ZW5vZGQiLCAibGluZUNhcCI6ICJyb3VuZCIsICJsaW5lSm9pbiI6ICJyb3VuZCIsICJvcGFjaXR5IjogMS4wLCAicmFkaXVzIjogNSwgInN0cm9rZSI6IHRydWUsICJ3ZWlnaHQiOiAzfQogICAgICAgICAgICApLmFkZFRvKG1hcF8zNWFhY2IyMmQwYWM0ZjkzYmUzMzNiYmYzYzkzN2I0MSk7CiAgICAgICAgCiAgICAKICAgICAgICB2YXIgcG9wdXBfODY5OWRjMzgyNDc0NDA0YWFjY2ViYWE1ZDZjMTI0ODYgPSBMLnBvcHVwKHsibWF4V2lkdGgiOiAiMTAwJSJ9KTsKCiAgICAgICAgCiAgICAgICAgICAgIHZhciBodG1sXzA4Y2YyYjRhZGE5NjRkNTZhYzY4YTQ5YjNmMjJjMGQ2ID0gJChgPGRpdiBpZD0iaHRtbF8wOGNmMmI0YWRhOTY0ZDU2YWM2OGE0OWIzZjIyYzBkNiIgc3R5bGU9IndpZHRoOiAxMDAuMCU7IGhlaWdodDogMTAwLjAlOyI+VmljdG9yaWEgVmlsbGFnZSwgTm9ydGggWW9yazwvZGl2PmApWzBdOwogICAgICAgICAgICBwb3B1cF84Njk5ZGMzODI0NzQ0MDRhYWNjZWJhYTVkNmMxMjQ4Ni5zZXRDb250ZW50KGh0bWxfMDhjZjJiNGFkYTk2NGQ1NmFjNjhhNDliM2YyMmMwZDYpOwogICAgICAgIAoKICAgICAgICBjaXJjbGVfbWFya2VyXzBkMGMyZTVhNGEzMjRjMjdhZTNiZTBlN2NiMjBiMGExLmJpbmRQb3B1cChwb3B1cF84Njk5ZGMzODI0NzQ0MDRhYWNjZWJhYTVkNmMxMjQ4NikKICAgICAgICA7CgogICAgICAgIAogICAgCiAgICAKICAgICAgICAgICAgdmFyIGNpcmNsZV9tYXJrZXJfNjZlNmZlYTExM2ZkNDAxOTg3MGIwOTM2ZDhlNmQwZGQgPSBMLmNpcmNsZU1hcmtlcigKICAgICAgICAgICAgICAgIFs0My43MDYzOTcyLCAtNzkuMzA5OTM3XSwKICAgICAgICAgICAgICAgIHsiYnViYmxpbmdNb3VzZUV2ZW50cyI6IHRydWUsICJjb2xvciI6ICJibHVlIiwgImRhc2hBcnJheSI6IG51bGwsICJkYXNoT2Zmc2V0IjogbnVsbCwgImZpbGwiOiB0cnVlLCAiZmlsbENvbG9yIjogIiMzMTg2Y2MiLCAiZmlsbE9wYWNpdHkiOiAwLjcsICJmaWxsUnVsZSI6ICJldmVub2RkIiwgImxpbmVDYXAiOiAicm91bmQiLCAibGluZUpvaW4iOiAicm91bmQiLCAib3BhY2l0eSI6IDEuMCwgInJhZGl1cyI6IDUsICJzdHJva2UiOiB0cnVlLCAid2VpZ2h0IjogM30KICAgICAgICAgICAgKS5hZGRUbyhtYXBfMzVhYWNiMjJkMGFjNGY5M2JlMzMzYmJmM2M5MzdiNDEpOwogICAgICAgIAogICAgCiAgICAgICAgdmFyIHBvcHVwX2YzYTY1NTlmNTQxMzRmMmZhOWYyYjViNTQzMTg3M2U1ID0gTC5wb3B1cCh7Im1heFdpZHRoIjogIjEwMCUifSk7CgogICAgICAgIAogICAgICAgICAgICB2YXIgaHRtbF83MWUxN2NlZTA4MTQ0NDczYjIwOTljNzE1MDFhYTY4YiA9ICQoYDxkaXYgaWQ9Imh0bWxfNzFlMTdjZWUwODE0NDQ3M2IyMDk5YzcxNTAxYWE2OGIiIHN0eWxlPSJ3aWR0aDogMTAwLjAlOyBoZWlnaHQ6IDEwMC4wJTsiPldvb2RiaW5lIEdhcmRlbnMsIFBhcmt2aWV3IEhpbGwsIEVhc3QgWW9yazwvZGl2PmApWzBdOwogICAgICAgICAgICBwb3B1cF9mM2E2NTU5ZjU0MTM0ZjJmYTlmMmI1YjU0MzE4NzNlNS5zZXRDb250ZW50KGh0bWxfNzFlMTdjZWUwODE0NDQ3M2IyMDk5YzcxNTAxYWE2OGIpOwogICAgICAgIAoKICAgICAgICBjaXJjbGVfbWFya2VyXzY2ZTZmZWExMTNmZDQwMTk4NzBiMDkzNmQ4ZTZkMGRkLmJpbmRQb3B1cChwb3B1cF9mM2E2NTU5ZjU0MTM0ZjJmYTlmMmI1YjU0MzE4NzNlNSkKICAgICAgICA7CgogICAgICAgIAogICAgCiAgICAKICAgICAgICAgICAgdmFyIGNpcmNsZV9tYXJrZXJfNTY5ZWY4YTIzZmEzNDBmOGE3YWMwZTYxMjE4ODAxNDMgPSBMLmNpcmNsZU1hcmtlcigKICAgICAgICAgICAgICAgIFs0My42OTUzNDM5MDAwMDAwMDUsIC03OS4zMTgzODg3XSwKICAgICAgICAgICAgICAgIHsiYnViYmxpbmdNb3VzZUV2ZW50cyI6IHRydWUsICJjb2xvciI6ICJibHVlIiwgImRhc2hBcnJheSI6IG51bGwsICJkYXNoT2Zmc2V0IjogbnVsbCwgImZpbGwiOiB0cnVlLCAiZmlsbENvbG9yIjogIiMzMTg2Y2MiLCAiZmlsbE9wYWNpdHkiOiAwLjcsICJmaWxsUnVsZSI6ICJldmVub2RkIiwgImxpbmVDYXAiOiAicm91bmQiLCAibGluZUpvaW4iOiAicm91bmQiLCAib3BhY2l0eSI6IDEuMCwgInJhZGl1cyI6IDUsICJzdHJva2UiOiB0cnVlLCAid2VpZ2h0IjogM30KICAgICAgICAgICAgKS5hZGRUbyhtYXBfMzVhYWNiMjJkMGFjNGY5M2JlMzMzYmJmM2M5MzdiNDEpOwogICAgICAgIAogICAgCiAgICAgICAgdmFyIHBvcHVwXzI5ZjNjOTA0ZTg2YTQ4NjBhZjg4NzExZGVhZjFiODM5ID0gTC5wb3B1cCh7Im1heFdpZHRoIjogIjEwMCUifSk7CgogICAgICAgIAogICAgICAgICAgICB2YXIgaHRtbF9iNmQxZjk5MDFlMDU0YTMwOWEzZWYyMGYwNDc4Mjk5ZSA9ICQoYDxkaXYgaWQ9Imh0bWxfYjZkMWY5OTAxZTA1NGEzMDlhM2VmMjBmMDQ3ODI5OWUiIHN0eWxlPSJ3aWR0aDogMTAwLjAlOyBoZWlnaHQ6IDEwMC4wJTsiPldvb2RiaW5lIEhlaWdodHMsIEVhc3QgWW9yazwvZGl2PmApWzBdOwogICAgICAgICAgICBwb3B1cF8yOWYzYzkwNGU4NmE0ODYwYWY4ODcxMWRlYWYxYjgzOS5zZXRDb250ZW50KGh0bWxfYjZkMWY5OTAxZTA1NGEzMDlhM2VmMjBmMDQ3ODI5OWUpOwogICAgICAgIAoKICAgICAgICBjaXJjbGVfbWFya2VyXzU2OWVmOGEyM2ZhMzQwZjhhN2FjMGU2MTIxODgwMTQzLmJpbmRQb3B1cChwb3B1cF8yOWYzYzkwNGU4NmE0ODYwYWY4ODcxMWRlYWYxYjgzOSkKICAgICAgICA7CgogICAgICAgIAogICAgCiAgICAKICAgICAgICAgICAgdmFyIGNpcmNsZV9tYXJrZXJfOWVhYzhkNDJlOWMyNGI4NGJjOWU4MjMxMDIwODk3NGEgPSBMLmNpcmNsZU1hcmtlcigKICAgICAgICAgICAgICAgIFs0My42NzYzNTczOTk5OTk5OSwgLTc5LjI5MzAzMTJdLAogICAgICAgICAgICAgICAgeyJidWJibGluZ01vdXNlRXZlbnRzIjogdHJ1ZSwgImNvbG9yIjogImJsdWUiLCAiZGFzaEFycmF5IjogbnVsbCwgImRhc2hPZmZzZXQiOiBudWxsLCAiZmlsbCI6IHRydWUsICJmaWxsQ29sb3IiOiAiIzMxODZjYyIsICJmaWxsT3BhY2l0eSI6IDAuNywgImZpbGxSdWxlIjogImV2ZW5vZGQiLCAibGluZUNhcCI6ICJyb3VuZCIsICJsaW5lSm9pbiI6ICJyb3VuZCIsICJvcGFjaXR5IjogMS4wLCAicmFkaXVzIjogNSwgInN0cm9rZSI6IHRydWUsICJ3ZWlnaHQiOiAzfQogICAgICAgICAgICApLmFkZFRvKG1hcF8zNWFhY2IyMmQwYWM0ZjkzYmUzMzNiYmYzYzkzN2I0MSk7CiAgICAgICAgCiAgICAKICAgICAgICB2YXIgcG9wdXBfYWUwODBhOWViZGZlNDk2ODhmZmMyNzg3N2NjYWFkZGYgPSBMLnBvcHVwKHsibWF4V2lkdGgiOiAiMTAwJSJ9KTsKCiAgICAgICAgCiAgICAgICAgICAgIHZhciBodG1sX2MxOWU1ODY4MjFmMzQyNzliM2Q3M2M0OTUwMjMxMmFhID0gJChgPGRpdiBpZD0iaHRtbF9jMTllNTg2ODIxZjM0Mjc5YjNkNzNjNDk1MDIzMTJhYSIgc3R5bGU9IndpZHRoOiAxMDAuMCU7IGhlaWdodDogMTAwLjAlOyI+VGhlIEJlYWNoZXMsIEVhc3QgVG9yb250bzwvZGl2PmApWzBdOwogICAgICAgICAgICBwb3B1cF9hZTA4MGE5ZWJkZmU0OTY4OGZmYzI3ODc3Y2NhYWRkZi5zZXRDb250ZW50KGh0bWxfYzE5ZTU4NjgyMWYzNDI3OWIzZDczYzQ5NTAyMzEyYWEpOwogICAgICAgIAoKICAgICAgICBjaXJjbGVfbWFya2VyXzllYWM4ZDQyZTljMjRiODRiYzllODIzMTAyMDg5NzRhLmJpbmRQb3B1cChwb3B1cF9hZTA4MGE5ZWJkZmU0OTY4OGZmYzI3ODc3Y2NhYWRkZikKICAgICAgICA7CgogICAgICAgIAogICAgCiAgICAKICAgICAgICAgICAgdmFyIGNpcmNsZV9tYXJrZXJfZjY2YTllNDJjMTBkNDQ4ODk0ZWYyZGMyYzFmMjVjY2YgPSBMLmNpcmNsZU1hcmtlcigKICAgICAgICAgICAgICAgIFs0My43MDkwNjA0LCAtNzkuMzYzNDUxN10sCiAgICAgICAgICAgICAgICB7ImJ1YmJsaW5nTW91c2VFdmVudHMiOiB0cnVlLCAiY29sb3IiOiAiYmx1ZSIsICJkYXNoQXJyYXkiOiBudWxsLCAiZGFzaE9mZnNldCI6IG51bGwsICJmaWxsIjogdHJ1ZSwgImZpbGxDb2xvciI6ICIjMzE4NmNjIiwgImZpbGxPcGFjaXR5IjogMC43LCAiZmlsbFJ1bGUiOiAiZXZlbm9kZCIsICJsaW5lQ2FwIjogInJvdW5kIiwgImxpbmVKb2luIjogInJvdW5kIiwgIm9wYWNpdHkiOiAxLjAsICJyYWRpdXMiOiA1LCAic3Ryb2tlIjogdHJ1ZSwgIndlaWdodCI6IDN9CiAgICAgICAgICAgICkuYWRkVG8obWFwXzM1YWFjYjIyZDBhYzRmOTNiZTMzM2JiZjNjOTM3YjQxKTsKICAgICAgICAKICAgIAogICAgICAgIHZhciBwb3B1cF9hNWFhNTU2NDg0ZTg0N2ZiODIwN2E1NzY0ZTczOTkzNyA9IEwucG9wdXAoeyJtYXhXaWR0aCI6ICIxMDAlIn0pOwoKICAgICAgICAKICAgICAgICAgICAgdmFyIGh0bWxfYmMwY2I2ZDFiYmY3NDQ0Yzg5NzgxYzNiOTJlOWQ3ZTYgPSAkKGA8ZGl2IGlkPSJodG1sX2JjMGNiNmQxYmJmNzQ0NGM4OTc4MWMzYjkyZTlkN2U2IiBzdHlsZT0id2lkdGg6IDEwMC4wJTsgaGVpZ2h0OiAxMDAuMCU7Ij5MZWFzaWRlLCBFYXN0IFlvcms8L2Rpdj5gKVswXTsKICAgICAgICAgICAgcG9wdXBfYTVhYTU1NjQ4NGU4NDdmYjgyMDdhNTc2NGU3Mzk5Mzcuc2V0Q29udGVudChodG1sX2JjMGNiNmQxYmJmNzQ0NGM4OTc4MWMzYjkyZTlkN2U2KTsKICAgICAgICAKCiAgICAgICAgY2lyY2xlX21hcmtlcl9mNjZhOWU0MmMxMGQ0NDg4OTRlZjJkYzJjMWYyNWNjZi5iaW5kUG9wdXAocG9wdXBfYTVhYTU1NjQ4NGU4NDdmYjgyMDdhNTc2NGU3Mzk5MzcpCiAgICAgICAgOwoKICAgICAgICAKICAgIAogICAgCiAgICAgICAgICAgIHZhciBjaXJjbGVfbWFya2VyX2E5NDM3YjEyNjg5YjRlNDY5NjlhMDc3MTY5MWFkOGE0ID0gTC5jaXJjbGVNYXJrZXIoCiAgICAgICAgICAgICAgICBbNDMuNzA1MzY4OSwgLTc5LjM0OTM3MTkwMDAwMDAxXSwKICAgICAgICAgICAgICAgIHsiYnViYmxpbmdNb3VzZUV2ZW50cyI6IHRydWUsICJjb2xvciI6ICJibHVlIiwgImRhc2hBcnJheSI6IG51bGwsICJkYXNoT2Zmc2V0IjogbnVsbCwgImZpbGwiOiB0cnVlLCAiZmlsbENvbG9yIjogIiMzMTg2Y2MiLCAiZmlsbE9wYWNpdHkiOiAwLjcsICJmaWxsUnVsZSI6ICJldmVub2RkIiwgImxpbmVDYXAiOiAicm91bmQiLCAibGluZUpvaW4iOiAicm91bmQiLCAib3BhY2l0eSI6IDEuMCwgInJhZGl1cyI6IDUsICJzdHJva2UiOiB0cnVlLCAid2VpZ2h0IjogM30KICAgICAgICAgICAgKS5hZGRUbyhtYXBfMzVhYWNiMjJkMGFjNGY5M2JlMzMzYmJmM2M5MzdiNDEpOwogICAgICAgIAogICAgCiAgICAgICAgdmFyIHBvcHVwX2RhYmM0OGZkYjU3NDQ1Y2Q5ZmU2ZjkxMWZhNTk0ZjZjID0gTC5wb3B1cCh7Im1heFdpZHRoIjogIjEwMCUifSk7CgogICAgICAgIAogICAgICAgICAgICB2YXIgaHRtbF8wZTVkNmVkMGFjNWM0ZDdlYWE3NDc2YTM2YTFmMTI0YSA9ICQoYDxkaXYgaWQ9Imh0bWxfMGU1ZDZlZDBhYzVjNGQ3ZWFhNzQ3NmEzNmExZjEyNGEiIHN0eWxlPSJ3aWR0aDogMTAwLjAlOyBoZWlnaHQ6IDEwMC4wJTsiPlRob3JuY2xpZmZlIFBhcmssIEVhc3QgWW9yazwvZGl2PmApWzBdOwogICAgICAgICAgICBwb3B1cF9kYWJjNDhmZGI1NzQ0NWNkOWZlNmY5MTFmYTU5NGY2Yy5zZXRDb250ZW50KGh0bWxfMGU1ZDZlZDBhYzVjNGQ3ZWFhNzQ3NmEzNmExZjEyNGEpOwogICAgICAgIAoKICAgICAgICBjaXJjbGVfbWFya2VyX2E5NDM3YjEyNjg5YjRlNDY5NjlhMDc3MTY5MWFkOGE0LmJpbmRQb3B1cChwb3B1cF9kYWJjNDhmZGI1NzQ0NWNkOWZlNmY5MTFmYTU5NGY2YykKICAgICAgICA7CgogICAgICAgIAogICAgCiAgICAKICAgICAgICAgICAgdmFyIGNpcmNsZV9tYXJrZXJfMmRiYzdlNjU4MTU2NDgxZWI0MmQxNzZlODBjYjg4MzAgPSBMLmNpcmNsZU1hcmtlcigKICAgICAgICAgICAgICAgIFs0My42ODUzNDcsIC03OS4zMzgxMDY1XSwKICAgICAgICAgICAgICAgIHsiYnViYmxpbmdNb3VzZUV2ZW50cyI6IHRydWUsICJjb2xvciI6ICJibHVlIiwgImRhc2hBcnJheSI6IG51bGwsICJkYXNoT2Zmc2V0IjogbnVsbCwgImZpbGwiOiB0cnVlLCAiZmlsbENvbG9yIjogIiMzMTg2Y2MiLCAiZmlsbE9wYWNpdHkiOiAwLjcsICJmaWxsUnVsZSI6ICJldmVub2RkIiwgImxpbmVDYXAiOiAicm91bmQiLCAibGluZUpvaW4iOiAicm91bmQiLCAib3BhY2l0eSI6IDEuMCwgInJhZGl1cyI6IDUsICJzdHJva2UiOiB0cnVlLCAid2VpZ2h0IjogM30KICAgICAgICAgICAgKS5hZGRUbyhtYXBfMzVhYWNiMjJkMGFjNGY5M2JlMzMzYmJmM2M5MzdiNDEpOwogICAgICAgIAogICAgCiAgICAgICAgdmFyIHBvcHVwXzA0M2VhZTIxMWE5ZTQ0Mzg5YzgwZDMwZjk2NWRlMTlmID0gTC5wb3B1cCh7Im1heFdpZHRoIjogIjEwMCUifSk7CgogICAgICAgIAogICAgICAgICAgICB2YXIgaHRtbF9hOTFlMmIyNjBhYjg0ZDQ1ODNiYjU4YTE2MGQzNzhhNiA9ICQoYDxkaXYgaWQ9Imh0bWxfYTkxZTJiMjYwYWI4NGQ0NTgzYmI1OGExNjBkMzc4YTYiIHN0eWxlPSJ3aWR0aDogMTAwLjAlOyBoZWlnaHQ6IDEwMC4wJTsiPkVhc3QgVG9yb250bywgRWFzdCBZb3JrPC9kaXY+YClbMF07CiAgICAgICAgICAgIHBvcHVwXzA0M2VhZTIxMWE5ZTQ0Mzg5YzgwZDMwZjk2NWRlMTlmLnNldENvbnRlbnQoaHRtbF9hOTFlMmIyNjBhYjg0ZDQ1ODNiYjU4YTE2MGQzNzhhNik7CiAgICAgICAgCgogICAgICAgIGNpcmNsZV9tYXJrZXJfMmRiYzdlNjU4MTU2NDgxZWI0MmQxNzZlODBjYjg4MzAuYmluZFBvcHVwKHBvcHVwXzA0M2VhZTIxMWE5ZTQ0Mzg5YzgwZDMwZjk2NWRlMTlmKQogICAgICAgIDsKCiAgICAgICAgCiAgICAKICAgIAogICAgICAgICAgICB2YXIgY2lyY2xlX21hcmtlcl9hZmJjNDM0NWJmYTI0MzI0OGRhNWJmYjE2ZTU5MTg3ZSA9IEwuY2lyY2xlTWFya2VyKAogICAgICAgICAgICAgICAgWzQzLjY3OTU1NzEsIC03OS4zNTIxODhdLAogICAgICAgICAgICAgICAgeyJidWJibGluZ01vdXNlRXZlbnRzIjogdHJ1ZSwgImNvbG9yIjogImJsdWUiLCAiZGFzaEFycmF5IjogbnVsbCwgImRhc2hPZmZzZXQiOiBudWxsLCAiZmlsbCI6IHRydWUsICJmaWxsQ29sb3IiOiAiIzMxODZjYyIsICJmaWxsT3BhY2l0eSI6IDAuNywgImZpbGxSdWxlIjogImV2ZW5vZGQiLCAibGluZUNhcCI6ICJyb3VuZCIsICJsaW5lSm9pbiI6ICJyb3VuZCIsICJvcGFjaXR5IjogMS4wLCAicmFkaXVzIjogNSwgInN0cm9rZSI6IHRydWUsICJ3ZWlnaHQiOiAzfQogICAgICAgICAgICApLmFkZFRvKG1hcF8zNWFhY2IyMmQwYWM0ZjkzYmUzMzNiYmYzYzkzN2I0MSk7CiAgICAgICAgCiAgICAKICAgICAgICB2YXIgcG9wdXBfODcxM2UwMGNhODVjNDcyZjhkYWJmZDIwNjk4OWY1MTAgPSBMLnBvcHVwKHsibWF4V2lkdGgiOiAiMTAwJSJ9KTsKCiAgICAgICAgCiAgICAgICAgICAgIHZhciBodG1sXzdiZjUwMGEzN2FhYzRhYTA5Zjg1Y2JlMTkzN2RkNmZkID0gJChgPGRpdiBpZD0iaHRtbF83YmY1MDBhMzdhYWM0YWEwOWY4NWNiZTE5MzdkZDZmZCIgc3R5bGU9IndpZHRoOiAxMDAuMCU7IGhlaWdodDogMTAwLjAlOyI+VGhlIERhbmZvcnRoIFdlc3QsIFJpdmVyZGFsZSwgRWFzdCBUb3JvbnRvPC9kaXY+YClbMF07CiAgICAgICAgICAgIHBvcHVwXzg3MTNlMDBjYTg1YzQ3MmY4ZGFiZmQyMDY5ODlmNTEwLnNldENvbnRlbnQoaHRtbF83YmY1MDBhMzdhYWM0YWEwOWY4NWNiZTE5MzdkZDZmZCk7CiAgICAgICAgCgogICAgICAgIGNpcmNsZV9tYXJrZXJfYWZiYzQzNDViZmEyNDMyNDhkYTViZmIxNmU1OTE4N2UuYmluZFBvcHVwKHBvcHVwXzg3MTNlMDBjYTg1YzQ3MmY4ZGFiZmQyMDY5ODlmNTEwKQogICAgICAgIDsKCiAgICAgICAgCiAgICAKICAgIAogICAgICAgICAgICB2YXIgY2lyY2xlX21hcmtlcl81M2E0NGNjZGI3NjM0NzcwYWU3ZTllYzVhMmQ3M2VjMiA9IEwuY2lyY2xlTWFya2VyKAogICAgICAgICAgICAgICAgWzQzLjY2ODk5ODUsIC03OS4zMTU1NzE1OTk5OTk5OF0sCiAgICAgICAgICAgICAgICB7ImJ1YmJsaW5nTW91c2VFdmVudHMiOiB0cnVlLCAiY29sb3IiOiAiYmx1ZSIsICJkYXNoQXJyYXkiOiBudWxsLCAiZGFzaE9mZnNldCI6IG51bGwsICJmaWxsIjogdHJ1ZSwgImZpbGxDb2xvciI6ICIjMzE4NmNjIiwgImZpbGxPcGFjaXR5IjogMC43LCAiZmlsbFJ1bGUiOiAiZXZlbm9kZCIsICJsaW5lQ2FwIjogInJvdW5kIiwgImxpbmVKb2luIjogInJvdW5kIiwgIm9wYWNpdHkiOiAxLjAsICJyYWRpdXMiOiA1LCAic3Ryb2tlIjogdHJ1ZSwgIndlaWdodCI6IDN9CiAgICAgICAgICAgICkuYWRkVG8obWFwXzM1YWFjYjIyZDBhYzRmOTNiZTMzM2JiZjNjOTM3YjQxKTsKICAgICAgICAKICAgIAogICAgICAgIHZhciBwb3B1cF84YzI5ODg2MDYxZGI0YWZiOGE0NDM4MzQ0ZmVkM2RjMiA9IEwucG9wdXAoeyJtYXhXaWR0aCI6ICIxMDAlIn0pOwoKICAgICAgICAKICAgICAgICAgICAgdmFyIGh0bWxfYmU3NzE5NThjNjk4NGY1MDlmZmIzZTg5ZGE5ZTdiOWUgPSAkKGA8ZGl2IGlkPSJodG1sX2JlNzcxOTU4YzY5ODRmNTA5ZmZiM2U4OWRhOWU3YjllIiBzdHlsZT0id2lkdGg6IDEwMC4wJTsgaGVpZ2h0OiAxMDAuMCU7Ij5UaGUgQmVhY2hlcyBXZXN0LCBJbmRpYSBCYXphYXIsIEVhc3QgVG9yb250bzwvZGl2PmApWzBdOwogICAgICAgICAgICBwb3B1cF84YzI5ODg2MDYxZGI0YWZiOGE0NDM4MzQ0ZmVkM2RjMi5zZXRDb250ZW50KGh0bWxfYmU3NzE5NThjNjk4NGY1MDlmZmIzZTg5ZGE5ZTdiOWUpOwogICAgICAgIAoKICAgICAgICBjaXJjbGVfbWFya2VyXzUzYTQ0Y2NkYjc2MzQ3NzBhZTdlOWVjNWEyZDczZWMyLmJpbmRQb3B1cChwb3B1cF84YzI5ODg2MDYxZGI0YWZiOGE0NDM4MzQ0ZmVkM2RjMikKICAgICAgICA7CgogICAgICAgIAogICAgCiAgICAKICAgICAgICAgICAgdmFyIGNpcmNsZV9tYXJrZXJfNzZhNGM1MGYxOGUyNGEzNGI4ZDc1MzAxOTVhMjc1YzEgPSBMLmNpcmNsZU1hcmtlcigKICAgICAgICAgICAgICAgIFs0My42NTk1MjU1LCAtNzkuMzQwOTIzXSwKICAgICAgICAgICAgICAgIHsiYnViYmxpbmdNb3VzZUV2ZW50cyI6IHRydWUsICJjb2xvciI6ICJibHVlIiwgImRhc2hBcnJheSI6IG51bGwsICJkYXNoT2Zmc2V0IjogbnVsbCwgImZpbGwiOiB0cnVlLCAiZmlsbENvbG9yIjogIiMzMTg2Y2MiLCAiZmlsbE9wYWNpdHkiOiAwLjcsICJmaWxsUnVsZSI6ICJldmVub2RkIiwgImxpbmVDYXAiOiAicm91bmQiLCAibGluZUpvaW4iOiAicm91bmQiLCAib3BhY2l0eSI6IDEuMCwgInJhZGl1cyI6IDUsICJzdHJva2UiOiB0cnVlLCAid2VpZ2h0IjogM30KICAgICAgICAgICAgKS5hZGRUbyhtYXBfMzVhYWNiMjJkMGFjNGY5M2JlMzMzYmJmM2M5MzdiNDEpOwogICAgICAgIAogICAgCiAgICAgICAgdmFyIHBvcHVwX2I4MjIwZWJmYjBhNzQ0MTI5NGU1NTMyZTRjNGRjYTAyID0gTC5wb3B1cCh7Im1heFdpZHRoIjogIjEwMCUifSk7CgogICAgICAgIAogICAgICAgICAgICB2YXIgaHRtbF9hMWVjNDgwOWFiYWU0ZTYxYTViZjUxYzFlMjViOTM0MSA9ICQoYDxkaXYgaWQ9Imh0bWxfYTFlYzQ4MDlhYmFlNGU2MWE1YmY1MWMxZTI1YjkzNDEiIHN0eWxlPSJ3aWR0aDogMTAwLjAlOyBoZWlnaHQ6IDEwMC4wJTsiPlN0dWRpbyBEaXN0cmljdCwgRWFzdCBUb3JvbnRvPC9kaXY+YClbMF07CiAgICAgICAgICAgIHBvcHVwX2I4MjIwZWJmYjBhNzQ0MTI5NGU1NTMyZTRjNGRjYTAyLnNldENvbnRlbnQoaHRtbF9hMWVjNDgwOWFiYWU0ZTYxYTViZjUxYzFlMjViOTM0MSk7CiAgICAgICAgCgogICAgICAgIGNpcmNsZV9tYXJrZXJfNzZhNGM1MGYxOGUyNGEzNGI4ZDc1MzAxOTVhMjc1YzEuYmluZFBvcHVwKHBvcHVwX2I4MjIwZWJmYjBhNzQ0MTI5NGU1NTMyZTRjNGRjYTAyKQogICAgICAgIDsKCiAgICAgICAgCiAgICAKICAgIAogICAgICAgICAgICB2YXIgY2lyY2xlX21hcmtlcl85Y2ExZTg4NjUzZWE0MTJkODZiMjRkZTBiN2JiYWFmMiA9IEwuY2lyY2xlTWFya2VyKAogICAgICAgICAgICAgICAgWzQzLjcyODAyMDUsIC03OS4zODg3OTAxXSwKICAgICAgICAgICAgICAgIHsiYnViYmxpbmdNb3VzZUV2ZW50cyI6IHRydWUsICJjb2xvciI6ICJibHVlIiwgImRhc2hBcnJheSI6IG51bGwsICJkYXNoT2Zmc2V0IjogbnVsbCwgImZpbGwiOiB0cnVlLCAiZmlsbENvbG9yIjogIiMzMTg2Y2MiLCAiZmlsbE9wYWNpdHkiOiAwLjcsICJmaWxsUnVsZSI6ICJldmVub2RkIiwgImxpbmVDYXAiOiAicm91bmQiLCAibGluZUpvaW4iOiAicm91bmQiLCAib3BhY2l0eSI6IDEuMCwgInJhZGl1cyI6IDUsICJzdHJva2UiOiB0cnVlLCAid2VpZ2h0IjogM30KICAgICAgICAgICAgKS5hZGRUbyhtYXBfMzVhYWNiMjJkMGFjNGY5M2JlMzMzYmJmM2M5MzdiNDEpOwogICAgICAgIAogICAgCiAgICAgICAgdmFyIHBvcHVwXzUwNTlkNGU5ZDY3MDQwMmU4YTYyZDA5NTg0OWI3YmI4ID0gTC5wb3B1cCh7Im1heFdpZHRoIjogIjEwMCUifSk7CgogICAgICAgIAogICAgICAgICAgICB2YXIgaHRtbF82NDgxZjhlZDcxYzg0M2FlOTUzZDIxMjAyM2YwZjQ2NCA9ICQoYDxkaXYgaWQ9Imh0bWxfNjQ4MWY4ZWQ3MWM4NDNhZTk1M2QyMTIwMjNmMGY0NjQiIHN0eWxlPSJ3aWR0aDogMTAwLjAlOyBoZWlnaHQ6IDEwMC4wJTsiPkxhd3JlbmNlIFBhcmssIENlbnRyYWwgVG9yb250bzwvZGl2PmApWzBdOwogICAgICAgICAgICBwb3B1cF81MDU5ZDRlOWQ2NzA0MDJlOGE2MmQwOTU4NDliN2JiOC5zZXRDb250ZW50KGh0bWxfNjQ4MWY4ZWQ3MWM4NDNhZTk1M2QyMTIwMjNmMGY0NjQpOwogICAgICAgIAoKICAgICAgICBjaXJjbGVfbWFya2VyXzljYTFlODg2NTNlYTQxMmQ4NmIyNGRlMGI3YmJhYWYyLmJpbmRQb3B1cChwb3B1cF81MDU5ZDRlOWQ2NzA0MDJlOGE2MmQwOTU4NDliN2JiOCkKICAgICAgICA7CgogICAgICAgIAogICAgCiAgICAKICAgICAgICAgICAgdmFyIGNpcmNsZV9tYXJrZXJfMzU5ZjcyMWExMDhjNDQ0MTlhYTJmOTdmMjZlNDE2OGQgPSBMLmNpcmNsZU1hcmtlcigKICAgICAgICAgICAgICAgIFs0My43MTI3NTExLCAtNzkuMzkwMTk3NV0sCiAgICAgICAgICAgICAgICB7ImJ1YmJsaW5nTW91c2VFdmVudHMiOiB0cnVlLCAiY29sb3IiOiAiYmx1ZSIsICJkYXNoQXJyYXkiOiBudWxsLCAiZGFzaE9mZnNldCI6IG51bGwsICJmaWxsIjogdHJ1ZSwgImZpbGxDb2xvciI6ICIjMzE4NmNjIiwgImZpbGxPcGFjaXR5IjogMC43LCAiZmlsbFJ1bGUiOiAiZXZlbm9kZCIsICJsaW5lQ2FwIjogInJvdW5kIiwgImxpbmVKb2luIjogInJvdW5kIiwgIm9wYWNpdHkiOiAxLjAsICJyYWRpdXMiOiA1LCAic3Ryb2tlIjogdHJ1ZSwgIndlaWdodCI6IDN9CiAgICAgICAgICAgICkuYWRkVG8obWFwXzM1YWFjYjIyZDBhYzRmOTNiZTMzM2JiZjNjOTM3YjQxKTsKICAgICAgICAKICAgIAogICAgICAgIHZhciBwb3B1cF83NzE4OTk4MmY1Nzc0OGU1OGU3NTgxYmRiZjk5NDRmYiA9IEwucG9wdXAoeyJtYXhXaWR0aCI6ICIxMDAlIn0pOwoKICAgICAgICAKICAgICAgICAgICAgdmFyIGh0bWxfODEwMDhiODRlZDJlNGE5ZDkyZjQzYTA5OWVhOGJhNGQgPSAkKGA8ZGl2IGlkPSJodG1sXzgxMDA4Yjg0ZWQyZTRhOWQ5MmY0M2EwOTllYThiYTRkIiBzdHlsZT0id2lkdGg6IDEwMC4wJTsgaGVpZ2h0OiAxMDAuMCU7Ij5EYXZpc3ZpbGxlIE5vcnRoLCBDZW50cmFsIFRvcm9udG88L2Rpdj5gKVswXTsKICAgICAgICAgICAgcG9wdXBfNzcxODk5ODJmNTc3NDhlNThlNzU4MWJkYmY5OTQ0ZmIuc2V0Q29udGVudChodG1sXzgxMDA4Yjg0ZWQyZTRhOWQ5MmY0M2EwOTllYThiYTRkKTsKICAgICAgICAKCiAgICAgICAgY2lyY2xlX21hcmtlcl8zNTlmNzIxYTEwOGM0NDQxOWFhMmY5N2YyNmU0MTY4ZC5iaW5kUG9wdXAocG9wdXBfNzcxODk5ODJmNTc3NDhlNThlNzU4MWJkYmY5OTQ0ZmIpCiAgICAgICAgOwoKICAgICAgICAKICAgIAogICAgCiAgICAgICAgICAgIHZhciBjaXJjbGVfbWFya2VyXzlmNjg4NWVlMGVjMTRlYWNhYzljMTk3NDdkZDk3MDExID0gTC5jaXJjbGVNYXJrZXIoCiAgICAgICAgICAgICAgICBbNDMuNzE1MzgzNCwgLTc5LjQwNTY3ODQwMDAwMDAxXSwKICAgICAgICAgICAgICAgIHsiYnViYmxpbmdNb3VzZUV2ZW50cyI6IHRydWUsICJjb2xvciI6ICJibHVlIiwgImRhc2hBcnJheSI6IG51bGwsICJkYXNoT2Zmc2V0IjogbnVsbCwgImZpbGwiOiB0cnVlLCAiZmlsbENvbG9yIjogIiMzMTg2Y2MiLCAiZmlsbE9wYWNpdHkiOiAwLjcsICJmaWxsUnVsZSI6ICJldmVub2RkIiwgImxpbmVDYXAiOiAicm91bmQiLCAibGluZUpvaW4iOiAicm91bmQiLCAib3BhY2l0eSI6IDEuMCwgInJhZGl1cyI6IDUsICJzdHJva2UiOiB0cnVlLCAid2VpZ2h0IjogM30KICAgICAgICAgICAgKS5hZGRUbyhtYXBfMzVhYWNiMjJkMGFjNGY5M2JlMzMzYmJmM2M5MzdiNDEpOwogICAgICAgIAogICAgCiAgICAgICAgdmFyIHBvcHVwXzZkZTRjNDVlNzI4YTQ4YTI5YTRlMGI2OTY1OTUwNmI4ID0gTC5wb3B1cCh7Im1heFdpZHRoIjogIjEwMCUifSk7CgogICAgICAgIAogICAgICAgICAgICB2YXIgaHRtbF85ZTExMGYwYmI5Njc0MTNlODkzNjUxNDliNDdiNDU2YSA9ICQoYDxkaXYgaWQ9Imh0bWxfOWUxMTBmMGJiOTY3NDEzZTg5MzY1MTQ5YjQ3YjQ1NmEiIHN0eWxlPSJ3aWR0aDogMTAwLjAlOyBoZWlnaHQ6IDEwMC4wJTsiPk5vcnRoIFRvcm9udG8gV2VzdCwgQ2VudHJhbCBUb3JvbnRvPC9kaXY+YClbMF07CiAgICAgICAgICAgIHBvcHVwXzZkZTRjNDVlNzI4YTQ4YTI5YTRlMGI2OTY1OTUwNmI4LnNldENvbnRlbnQoaHRtbF85ZTExMGYwYmI5Njc0MTNlODkzNjUxNDliNDdiNDU2YSk7CiAgICAgICAgCgogICAgICAgIGNpcmNsZV9tYXJrZXJfOWY2ODg1ZWUwZWMxNGVhY2FjOWMxOTc0N2RkOTcwMTEuYmluZFBvcHVwKHBvcHVwXzZkZTRjNDVlNzI4YTQ4YTI5YTRlMGI2OTY1OTUwNmI4KQogICAgICAgIDsKCiAgICAgICAgCiAgICAKICAgIAogICAgICAgICAgICB2YXIgY2lyY2xlX21hcmtlcl81M2U5MjRiZmQ4MDg0MTY3YjA4YWU5OTJhMmUxNjQ1ZSA9IEwuY2lyY2xlTWFya2VyKAogICAgICAgICAgICAgICAgWzQzLjcwNDMyNDQsIC03OS4zODg3OTAxXSwKICAgICAgICAgICAgICAgIHsiYnViYmxpbmdNb3VzZUV2ZW50cyI6IHRydWUsICJjb2xvciI6ICJibHVlIiwgImRhc2hBcnJheSI6IG51bGwsICJkYXNoT2Zmc2V0IjogbnVsbCwgImZpbGwiOiB0cnVlLCAiZmlsbENvbG9yIjogIiMzMTg2Y2MiLCAiZmlsbE9wYWNpdHkiOiAwLjcsICJmaWxsUnVsZSI6ICJldmVub2RkIiwgImxpbmVDYXAiOiAicm91bmQiLCAibGluZUpvaW4iOiAicm91bmQiLCAib3BhY2l0eSI6IDEuMCwgInJhZGl1cyI6IDUsICJzdHJva2UiOiB0cnVlLCAid2VpZ2h0IjogM30KICAgICAgICAgICAgKS5hZGRUbyhtYXBfMzVhYWNiMjJkMGFjNGY5M2JlMzMzYmJmM2M5MzdiNDEpOwogICAgICAgIAogICAgCiAgICAgICAgdmFyIHBvcHVwX2NiY2U1NTFiMDNlNzQxOWE4ZjQ0NDQ2N2Q4MjU0YWI5ID0gTC5wb3B1cCh7Im1heFdpZHRoIjogIjEwMCUifSk7CgogICAgICAgIAogICAgICAgICAgICB2YXIgaHRtbF9mMDlmMGI4Y2QzYzU0Y2NiOGJmMjY5NGYyMGUxNzJkMCA9ICQoYDxkaXYgaWQ9Imh0bWxfZjA5ZjBiOGNkM2M1NGNjYjhiZjI2OTRmMjBlMTcyZDAiIHN0eWxlPSJ3aWR0aDogMTAwLjAlOyBoZWlnaHQ6IDEwMC4wJTsiPkRhdmlzdmlsbGUsIENlbnRyYWwgVG9yb250bzwvZGl2PmApWzBdOwogICAgICAgICAgICBwb3B1cF9jYmNlNTUxYjAzZTc0MTlhOGY0NDQ0NjdkODI1NGFiOS5zZXRDb250ZW50KGh0bWxfZjA5ZjBiOGNkM2M1NGNjYjhiZjI2OTRmMjBlMTcyZDApOwogICAgICAgIAoKICAgICAgICBjaXJjbGVfbWFya2VyXzUzZTkyNGJmZDgwODQxNjdiMDhhZTk5MmEyZTE2NDVlLmJpbmRQb3B1cChwb3B1cF9jYmNlNTUxYjAzZTc0MTlhOGY0NDQ0NjdkODI1NGFiOSkKICAgICAgICA7CgogICAgICAgIAogICAgCiAgICAKICAgICAgICAgICAgdmFyIGNpcmNsZV9tYXJrZXJfMjk5MDdmMmY3MmZjNDE2Yzg0YTE3MGMzZjM0MTVjYTkgPSBMLmNpcmNsZU1hcmtlcigKICAgICAgICAgICAgICAgIFs0My42ODk1NzQzLCAtNzkuMzgzMTU5OTAwMDAwMDFdLAogICAgICAgICAgICAgICAgeyJidWJibGluZ01vdXNlRXZlbnRzIjogdHJ1ZSwgImNvbG9yIjogImJsdWUiLCAiZGFzaEFycmF5IjogbnVsbCwgImRhc2hPZmZzZXQiOiBudWxsLCAiZmlsbCI6IHRydWUsICJmaWxsQ29sb3IiOiAiIzMxODZjYyIsICJmaWxsT3BhY2l0eSI6IDAuNywgImZpbGxSdWxlIjogImV2ZW5vZGQiLCAibGluZUNhcCI6ICJyb3VuZCIsICJsaW5lSm9pbiI6ICJyb3VuZCIsICJvcGFjaXR5IjogMS4wLCAicmFkaXVzIjogNSwgInN0cm9rZSI6IHRydWUsICJ3ZWlnaHQiOiAzfQogICAgICAgICAgICApLmFkZFRvKG1hcF8zNWFhY2IyMmQwYWM0ZjkzYmUzMzNiYmYzYzkzN2I0MSk7CiAgICAgICAgCiAgICAKICAgICAgICB2YXIgcG9wdXBfZGI4OGJlYzFlNDZkNDczMzliZTM0MDNlZjMyZDk0MzkgPSBMLnBvcHVwKHsibWF4V2lkdGgiOiAiMTAwJSJ9KTsKCiAgICAgICAgCiAgICAgICAgICAgIHZhciBodG1sXzE0OGU2YzQ1OTVhYTQ2ZGViZDY2NDgxYjIyMDMzMDhlID0gJChgPGRpdiBpZD0iaHRtbF8xNDhlNmM0NTk1YWE0NmRlYmQ2NjQ4MWIyMjAzMzA4ZSIgc3R5bGU9IndpZHRoOiAxMDAuMCU7IGhlaWdodDogMTAwLjAlOyI+TW9vcmUgUGFyaywgU3VtbWVyaGlsbCBFYXN0LCBDZW50cmFsIFRvcm9udG88L2Rpdj5gKVswXTsKICAgICAgICAgICAgcG9wdXBfZGI4OGJlYzFlNDZkNDczMzliZTM0MDNlZjMyZDk0Mzkuc2V0Q29udGVudChodG1sXzE0OGU2YzQ1OTVhYTQ2ZGViZDY2NDgxYjIyMDMzMDhlKTsKICAgICAgICAKCiAgICAgICAgY2lyY2xlX21hcmtlcl8yOTkwN2YyZjcyZmM0MTZjODRhMTcwYzNmMzQxNWNhOS5iaW5kUG9wdXAocG9wdXBfZGI4OGJlYzFlNDZkNDczMzliZTM0MDNlZjMyZDk0MzkpCiAgICAgICAgOwoKICAgICAgICAKICAgIAogICAgCiAgICAgICAgICAgIHZhciBjaXJjbGVfbWFya2VyXzNjZmFiNDcxYTNmMTRjMmU5ZjlkOTBkOGFkYzQyMzg0ID0gTC5jaXJjbGVNYXJrZXIoCiAgICAgICAgICAgICAgICBbNDMuNjg2NDEyMjk5OTk5OTksIC03OS40MDAwNDkzXSwKICAgICAgICAgICAgICAgIHsiYnViYmxpbmdNb3VzZUV2ZW50cyI6IHRydWUsICJjb2xvciI6ICJibHVlIiwgImRhc2hBcnJheSI6IG51bGwsICJkYXNoT2Zmc2V0IjogbnVsbCwgImZpbGwiOiB0cnVlLCAiZmlsbENvbG9yIjogIiMzMTg2Y2MiLCAiZmlsbE9wYWNpdHkiOiAwLjcsICJmaWxsUnVsZSI6ICJldmVub2RkIiwgImxpbmVDYXAiOiAicm91bmQiLCAibGluZUpvaW4iOiAicm91bmQiLCAib3BhY2l0eSI6IDEuMCwgInJhZGl1cyI6IDUsICJzdHJva2UiOiB0cnVlLCAid2VpZ2h0IjogM30KICAgICAgICAgICAgKS5hZGRUbyhtYXBfMzVhYWNiMjJkMGFjNGY5M2JlMzMzYmJmM2M5MzdiNDEpOwogICAgICAgIAogICAgCiAgICAgICAgdmFyIHBvcHVwXzhjMDQ4ZjJiMmZiMzQyYzg5YjdhYzhkMmM5NmVkZjdlID0gTC5wb3B1cCh7Im1heFdpZHRoIjogIjEwMCUifSk7CgogICAgICAgIAogICAgICAgICAgICB2YXIgaHRtbF8xZjY4N2RjMzliZDU0MDQ1YTQ1YTk2NmViMDUxM2RhNiA9ICQoYDxkaXYgaWQ9Imh0bWxfMWY2ODdkYzM5YmQ1NDA0NWE0NWE5NjZlYjA1MTNkYTYiIHN0eWxlPSJ3aWR0aDogMTAwLjAlOyBoZWlnaHQ6IDEwMC4wJTsiPkRlZXIgUGFyaywgRm9yZXN0IEhpbGwgU0UsIFJhdGhuZWxseSwgU291dGggSGlsbCwgU3VtbWVyaGlsbCBXZXN0LCBDZW50cmFsIFRvcm9udG88L2Rpdj5gKVswXTsKICAgICAgICAgICAgcG9wdXBfOGMwNDhmMmIyZmIzNDJjODliN2FjOGQyYzk2ZWRmN2Uuc2V0Q29udGVudChodG1sXzFmNjg3ZGMzOWJkNTQwNDVhNDVhOTY2ZWIwNTEzZGE2KTsKICAgICAgICAKCiAgICAgICAgY2lyY2xlX21hcmtlcl8zY2ZhYjQ3MWEzZjE0YzJlOWY5ZDkwZDhhZGM0MjM4NC5iaW5kUG9wdXAocG9wdXBfOGMwNDhmMmIyZmIzNDJjODliN2FjOGQyYzk2ZWRmN2UpCiAgICAgICAgOwoKICAgICAgICAKICAgIAogICAgCiAgICAgICAgICAgIHZhciBjaXJjbGVfbWFya2VyXzI2ODZlMzY4ZGExNjQxMTc4NjM1YjY4Y2JkMzJjYWUzID0gTC5jaXJjbGVNYXJrZXIoCiAgICAgICAgICAgICAgICBbNDMuNjc5NTYyNiwgLTc5LjM3NzUyOTQwMDAwMDAxXSwKICAgICAgICAgICAgICAgIHsiYnViYmxpbmdNb3VzZUV2ZW50cyI6IHRydWUsICJjb2xvciI6ICJibHVlIiwgImRhc2hBcnJheSI6IG51bGwsICJkYXNoT2Zmc2V0IjogbnVsbCwgImZpbGwiOiB0cnVlLCAiZmlsbENvbG9yIjogIiMzMTg2Y2MiLCAiZmlsbE9wYWNpdHkiOiAwLjcsICJmaWxsUnVsZSI6ICJldmVub2RkIiwgImxpbmVDYXAiOiAicm91bmQiLCAibGluZUpvaW4iOiAicm91bmQiLCAib3BhY2l0eSI6IDEuMCwgInJhZGl1cyI6IDUsICJzdHJva2UiOiB0cnVlLCAid2VpZ2h0IjogM30KICAgICAgICAgICAgKS5hZGRUbyhtYXBfMzVhYWNiMjJkMGFjNGY5M2JlMzMzYmJmM2M5MzdiNDEpOwogICAgICAgIAogICAgCiAgICAgICAgdmFyIHBvcHVwXzdiZjcyMDVkZWRlODQyMjlhODllZTM0OThiZjA5ZjIxID0gTC5wb3B1cCh7Im1heFdpZHRoIjogIjEwMCUifSk7CgogICAgICAgIAogICAgICAgICAgICB2YXIgaHRtbF81ZDdmMGI4ZTZhOGY0NTNiODlkMmFkMDFkNzY4MjEzMCA9ICQoYDxkaXYgaWQ9Imh0bWxfNWQ3ZjBiOGU2YThmNDUzYjg5ZDJhZDAxZDc2ODIxMzAiIHN0eWxlPSJ3aWR0aDogMTAwLjAlOyBoZWlnaHQ6IDEwMC4wJTsiPlJvc2VkYWxlLCBEb3dudG93biBUb3JvbnRvPC9kaXY+YClbMF07CiAgICAgICAgICAgIHBvcHVwXzdiZjcyMDVkZWRlODQyMjlhODllZTM0OThiZjA5ZjIxLnNldENvbnRlbnQoaHRtbF81ZDdmMGI4ZTZhOGY0NTNiODlkMmFkMDFkNzY4MjEzMCk7CiAgICAgICAgCgogICAgICAgIGNpcmNsZV9tYXJrZXJfMjY4NmUzNjhkYTE2NDExNzg2MzViNjhjYmQzMmNhZTMuYmluZFBvcHVwKHBvcHVwXzdiZjcyMDVkZWRlODQyMjlhODllZTM0OThiZjA5ZjIxKQogICAgICAgIDsKCiAgICAgICAgCiAgICAKICAgIAogICAgICAgICAgICB2YXIgY2lyY2xlX21hcmtlcl83MzExMGQ1ZWY4MWM0NGM0YWNmODZjYjc5Yzc3Yzc1NCA9IEwuY2lyY2xlTWFya2VyKAogICAgICAgICAgICAgICAgWzQzLjY2Nzk2NywgLTc5LjM2NzY3NTNdLAogICAgICAgICAgICAgICAgeyJidWJibGluZ01vdXNlRXZlbnRzIjogdHJ1ZSwgImNvbG9yIjogImJsdWUiLCAiZGFzaEFycmF5IjogbnVsbCwgImRhc2hPZmZzZXQiOiBudWxsLCAiZmlsbCI6IHRydWUsICJmaWxsQ29sb3IiOiAiIzMxODZjYyIsICJmaWxsT3BhY2l0eSI6IDAuNywgImZpbGxSdWxlIjogImV2ZW5vZGQiLCAibGluZUNhcCI6ICJyb3VuZCIsICJsaW5lSm9pbiI6ICJyb3VuZCIsICJvcGFjaXR5IjogMS4wLCAicmFkaXVzIjogNSwgInN0cm9rZSI6IHRydWUsICJ3ZWlnaHQiOiAzfQogICAgICAgICAgICApLmFkZFRvKG1hcF8zNWFhY2IyMmQwYWM0ZjkzYmUzMzNiYmYzYzkzN2I0MSk7CiAgICAgICAgCiAgICAKICAgICAgICB2YXIgcG9wdXBfNTE1NDFhYmU0ZTM2NDdiYTkzMmQ2NzEwMjhlODI1ZjMgPSBMLnBvcHVwKHsibWF4V2lkdGgiOiAiMTAwJSJ9KTsKCiAgICAgICAgCiAgICAgICAgICAgIHZhciBodG1sXzE5MGYwNjAzNzA1YzQxZjY5MWFlNWUzNDkxOTZkZTI1ID0gJChgPGRpdiBpZD0iaHRtbF8xOTBmMDYwMzcwNWM0MWY2OTFhZTVlMzQ5MTk2ZGUyNSIgc3R5bGU9IndpZHRoOiAxMDAuMCU7IGhlaWdodDogMTAwLjAlOyI+Q2FiYmFnZXRvd24sIFN0LiBKYW1lcyBUb3duLCBEb3dudG93biBUb3JvbnRvPC9kaXY+YClbMF07CiAgICAgICAgICAgIHBvcHVwXzUxNTQxYWJlNGUzNjQ3YmE5MzJkNjcxMDI4ZTgyNWYzLnNldENvbnRlbnQoaHRtbF8xOTBmMDYwMzcwNWM0MWY2OTFhZTVlMzQ5MTk2ZGUyNSk7CiAgICAgICAgCgogICAgICAgIGNpcmNsZV9tYXJrZXJfNzMxMTBkNWVmODFjNDRjNGFjZjg2Y2I3OWM3N2M3NTQuYmluZFBvcHVwKHBvcHVwXzUxNTQxYWJlNGUzNjQ3YmE5MzJkNjcxMDI4ZTgyNWYzKQogICAgICAgIDsKCiAgICAgICAgCiAgICAKICAgIAogICAgICAgICAgICB2YXIgY2lyY2xlX21hcmtlcl9lZTdjNmVmYTI5ODk0MmI1YmVjZjZiODhhMzQ4ZDVkMCA9IEwuY2lyY2xlTWFya2VyKAogICAgICAgICAgICAgICAgWzQzLjY2NTg1OTksIC03OS4zODMxNTk5MDAwMDAwMV0sCiAgICAgICAgICAgICAgICB7ImJ1YmJsaW5nTW91c2VFdmVudHMiOiB0cnVlLCAiY29sb3IiOiAiYmx1ZSIsICJkYXNoQXJyYXkiOiBudWxsLCAiZGFzaE9mZnNldCI6IG51bGwsICJmaWxsIjogdHJ1ZSwgImZpbGxDb2xvciI6ICIjMzE4NmNjIiwgImZpbGxPcGFjaXR5IjogMC43LCAiZmlsbFJ1bGUiOiAiZXZlbm9kZCIsICJsaW5lQ2FwIjogInJvdW5kIiwgImxpbmVKb2luIjogInJvdW5kIiwgIm9wYWNpdHkiOiAxLjAsICJyYWRpdXMiOiA1LCAic3Ryb2tlIjogdHJ1ZSwgIndlaWdodCI6IDN9CiAgICAgICAgICAgICkuYWRkVG8obWFwXzM1YWFjYjIyZDBhYzRmOTNiZTMzM2JiZjNjOTM3YjQxKTsKICAgICAgICAKICAgIAogICAgICAgIHZhciBwb3B1cF82NzQyOTAyYmYxMzk0NWYzODE3Yjc1NjhjMTRlNDVkZCA9IEwucG9wdXAoeyJtYXhXaWR0aCI6ICIxMDAlIn0pOwoKICAgICAgICAKICAgICAgICAgICAgdmFyIGh0bWxfMzIyODE3YTY5YWQyNDc4NzgyOWMzYjllNWYyYTQ0MjEgPSAkKGA8ZGl2IGlkPSJodG1sXzMyMjgxN2E2OWFkMjQ3ODc4MjljM2I5ZTVmMmE0NDIxIiBzdHlsZT0id2lkdGg6IDEwMC4wJTsgaGVpZ2h0OiAxMDAuMCU7Ij5DaHVyY2ggYW5kIFdlbGxlc2xleSwgRG93bnRvd24gVG9yb250bzwvZGl2PmApWzBdOwogICAgICAgICAgICBwb3B1cF82NzQyOTAyYmYxMzk0NWYzODE3Yjc1NjhjMTRlNDVkZC5zZXRDb250ZW50KGh0bWxfMzIyODE3YTY5YWQyNDc4NzgyOWMzYjllNWYyYTQ0MjEpOwogICAgICAgIAoKICAgICAgICBjaXJjbGVfbWFya2VyX2VlN2M2ZWZhMjk4OTQyYjViZWNmNmI4OGEzNDhkNWQwLmJpbmRQb3B1cChwb3B1cF82NzQyOTAyYmYxMzk0NWYzODE3Yjc1NjhjMTRlNDVkZCkKICAgICAgICA7CgogICAgICAgIAogICAgCiAgICAKICAgICAgICAgICAgdmFyIGNpcmNsZV9tYXJrZXJfZTMzMDkwZDYzYjJhNGNkMzhmMTBlMjkyYmNiMzI1MTIgPSBMLmNpcmNsZU1hcmtlcigKICAgICAgICAgICAgICAgIFs0My42NTQyNTk5LCAtNzkuMzYwNjM1OV0sCiAgICAgICAgICAgICAgICB7ImJ1YmJsaW5nTW91c2VFdmVudHMiOiB0cnVlLCAiY29sb3IiOiAiYmx1ZSIsICJkYXNoQXJyYXkiOiBudWxsLCAiZGFzaE9mZnNldCI6IG51bGwsICJmaWxsIjogdHJ1ZSwgImZpbGxDb2xvciI6ICIjMzE4NmNjIiwgImZpbGxPcGFjaXR5IjogMC43LCAiZmlsbFJ1bGUiOiAiZXZlbm9kZCIsICJsaW5lQ2FwIjogInJvdW5kIiwgImxpbmVKb2luIjogInJvdW5kIiwgIm9wYWNpdHkiOiAxLjAsICJyYWRpdXMiOiA1LCAic3Ryb2tlIjogdHJ1ZSwgIndlaWdodCI6IDN9CiAgICAgICAgICAgICkuYWRkVG8obWFwXzM1YWFjYjIyZDBhYzRmOTNiZTMzM2JiZjNjOTM3YjQxKTsKICAgICAgICAKICAgIAogICAgICAgIHZhciBwb3B1cF9hMzk4OTJhYmJlY2E0NzM1OTdkYzBmNWE0NzhjMDc1MiA9IEwucG9wdXAoeyJtYXhXaWR0aCI6ICIxMDAlIn0pOwoKICAgICAgICAKICAgICAgICAgICAgdmFyIGh0bWxfODNiY2FmMjI3MGRlNDE4MDg5NjcxZDRiMjk5M2FiMGMgPSAkKGA8ZGl2IGlkPSJodG1sXzgzYmNhZjIyNzBkZTQxODA4OTY3MWQ0YjI5OTNhYjBjIiBzdHlsZT0id2lkdGg6IDEwMC4wJTsgaGVpZ2h0OiAxMDAuMCU7Ij5IYXJib3VyZnJvbnQsIERvd250b3duIFRvcm9udG88L2Rpdj5gKVswXTsKICAgICAgICAgICAgcG9wdXBfYTM5ODkyYWJiZWNhNDczNTk3ZGMwZjVhNDc4YzA3NTIuc2V0Q29udGVudChodG1sXzgzYmNhZjIyNzBkZTQxODA4OTY3MWQ0YjI5OTNhYjBjKTsKICAgICAgICAKCiAgICAgICAgY2lyY2xlX21hcmtlcl9lMzMwOTBkNjNiMmE0Y2QzOGYxMGUyOTJiY2IzMjUxMi5iaW5kUG9wdXAocG9wdXBfYTM5ODkyYWJiZWNhNDczNTk3ZGMwZjVhNDc4YzA3NTIpCiAgICAgICAgOwoKICAgICAgICAKICAgIAogICAgCiAgICAgICAgICAgIHZhciBjaXJjbGVfbWFya2VyXzQ4NDEwNjJiYWFlNDQ0YmU5ZjE0MDIxZjYwZTE1ZTQ2ID0gTC5jaXJjbGVNYXJrZXIoCiAgICAgICAgICAgICAgICBbNDMuNjU3MTYxOCwgLTc5LjM3ODkzNzA5OTk5OTk5XSwKICAgICAgICAgICAgICAgIHsiYnViYmxpbmdNb3VzZUV2ZW50cyI6IHRydWUsICJjb2xvciI6ICJibHVlIiwgImRhc2hBcnJheSI6IG51bGwsICJkYXNoT2Zmc2V0IjogbnVsbCwgImZpbGwiOiB0cnVlLCAiZmlsbENvbG9yIjogIiMzMTg2Y2MiLCAiZmlsbE9wYWNpdHkiOiAwLjcsICJmaWxsUnVsZSI6ICJldmVub2RkIiwgImxpbmVDYXAiOiAicm91bmQiLCAibGluZUpvaW4iOiAicm91bmQiLCAib3BhY2l0eSI6IDEuMCwgInJhZGl1cyI6IDUsICJzdHJva2UiOiB0cnVlLCAid2VpZ2h0IjogM30KICAgICAgICAgICAgKS5hZGRUbyhtYXBfMzVhYWNiMjJkMGFjNGY5M2JlMzMzYmJmM2M5MzdiNDEpOwogICAgICAgIAogICAgCiAgICAgICAgdmFyIHBvcHVwXzg4MjgzYWRhODZkMzRlYTI4MDM0ZmMzMjdjODk2YzhiID0gTC5wb3B1cCh7Im1heFdpZHRoIjogIjEwMCUifSk7CgogICAgICAgIAogICAgICAgICAgICB2YXIgaHRtbF81MmFkZmFhZDQ1MDU0NzhkOWU1ZDg1MGMyYWIzMmVjNyA9ICQoYDxkaXYgaWQ9Imh0bWxfNTJhZGZhYWQ0NTA1NDc4ZDllNWQ4NTBjMmFiMzJlYzciIHN0eWxlPSJ3aWR0aDogMTAwLjAlOyBoZWlnaHQ6IDEwMC4wJTsiPlJ5ZXJzb24sIEdhcmRlbiBEaXN0cmljdCwgRG93bnRvd24gVG9yb250bzwvZGl2PmApWzBdOwogICAgICAgICAgICBwb3B1cF84ODI4M2FkYTg2ZDM0ZWEyODAzNGZjMzI3Yzg5NmM4Yi5zZXRDb250ZW50KGh0bWxfNTJhZGZhYWQ0NTA1NDc4ZDllNWQ4NTBjMmFiMzJlYzcpOwogICAgICAgIAoKICAgICAgICBjaXJjbGVfbWFya2VyXzQ4NDEwNjJiYWFlNDQ0YmU5ZjE0MDIxZjYwZTE1ZTQ2LmJpbmRQb3B1cChwb3B1cF84ODI4M2FkYTg2ZDM0ZWEyODAzNGZjMzI3Yzg5NmM4YikKICAgICAgICA7CgogICAgICAgIAogICAgCiAgICAKICAgICAgICAgICAgdmFyIGNpcmNsZV9tYXJrZXJfM2FkZDc5NDUwNDliNDJmYTkzNTY1ZGJkMjM3MTY1ODMgPSBMLmNpcmNsZU1hcmtlcigKICAgICAgICAgICAgICAgIFs0My42NTE0OTM5LCAtNzkuMzc1NDE3OV0sCiAgICAgICAgICAgICAgICB7ImJ1YmJsaW5nTW91c2VFdmVudHMiOiB0cnVlLCAiY29sb3IiOiAiYmx1ZSIsICJkYXNoQXJyYXkiOiBudWxsLCAiZGFzaE9mZnNldCI6IG51bGwsICJmaWxsIjogdHJ1ZSwgImZpbGxDb2xvciI6ICIjMzE4NmNjIiwgImZpbGxPcGFjaXR5IjogMC43LCAiZmlsbFJ1bGUiOiAiZXZlbm9kZCIsICJsaW5lQ2FwIjogInJvdW5kIiwgImxpbmVKb2luIjogInJvdW5kIiwgIm9wYWNpdHkiOiAxLjAsICJyYWRpdXMiOiA1LCAic3Ryb2tlIjogdHJ1ZSwgIndlaWdodCI6IDN9CiAgICAgICAgICAgICkuYWRkVG8obWFwXzM1YWFjYjIyZDBhYzRmOTNiZTMzM2JiZjNjOTM3YjQxKTsKICAgICAgICAKICAgIAogICAgICAgIHZhciBwb3B1cF80OWY0M2NkNWIyNDQ0N2YxYjNjYzVhNWJiYWY2YzYyNSA9IEwucG9wdXAoeyJtYXhXaWR0aCI6ICIxMDAlIn0pOwoKICAgICAgICAKICAgICAgICAgICAgdmFyIGh0bWxfZThjNmJiY2Y2NzY2NDM3NWI1NjQ2ODU2Y2QzY2EzMmYgPSAkKGA8ZGl2IGlkPSJodG1sX2U4YzZiYmNmNjc2NjQzNzViNTY0Njg1NmNkM2NhMzJmIiBzdHlsZT0id2lkdGg6IDEwMC4wJTsgaGVpZ2h0OiAxMDAuMCU7Ij5TdC4gSmFtZXMgVG93biwgRG93bnRvd24gVG9yb250bzwvZGl2PmApWzBdOwogICAgICAgICAgICBwb3B1cF80OWY0M2NkNWIyNDQ0N2YxYjNjYzVhNWJiYWY2YzYyNS5zZXRDb250ZW50KGh0bWxfZThjNmJiY2Y2NzY2NDM3NWI1NjQ2ODU2Y2QzY2EzMmYpOwogICAgICAgIAoKICAgICAgICBjaXJjbGVfbWFya2VyXzNhZGQ3OTQ1MDQ5YjQyZmE5MzU2NWRiZDIzNzE2NTgzLmJpbmRQb3B1cChwb3B1cF80OWY0M2NkNWIyNDQ0N2YxYjNjYzVhNWJiYWY2YzYyNSkKICAgICAgICA7CgogICAgICAgIAogICAgCiAgICAKICAgICAgICAgICAgdmFyIGNpcmNsZV9tYXJrZXJfMGFiMmQ2NGJjOTRlNGU1N2I1MzQyOGFmNmMwODNkMDYgPSBMLmNpcmNsZU1hcmtlcigKICAgICAgICAgICAgICAgIFs0My42NDQ3NzA3OTk5OTk5OTYsIC03OS4zNzMzMDY0XSwKICAgICAgICAgICAgICAgIHsiYnViYmxpbmdNb3VzZUV2ZW50cyI6IHRydWUsICJjb2xvciI6ICJibHVlIiwgImRhc2hBcnJheSI6IG51bGwsICJkYXNoT2Zmc2V0IjogbnVsbCwgImZpbGwiOiB0cnVlLCAiZmlsbENvbG9yIjogIiMzMTg2Y2MiLCAiZmlsbE9wYWNpdHkiOiAwLjcsICJmaWxsUnVsZSI6ICJldmVub2RkIiwgImxpbmVDYXAiOiAicm91bmQiLCAibGluZUpvaW4iOiAicm91bmQiLCAib3BhY2l0eSI6IDEuMCwgInJhZGl1cyI6IDUsICJzdHJva2UiOiB0cnVlLCAid2VpZ2h0IjogM30KICAgICAgICAgICAgKS5hZGRUbyhtYXBfMzVhYWNiMjJkMGFjNGY5M2JlMzMzYmJmM2M5MzdiNDEpOwogICAgICAgIAogICAgCiAgICAgICAgdmFyIHBvcHVwX2U0OWJkNmU0ZGM5MDQwZmY5ODU1ZTIxYTc3YzNhNzdiID0gTC5wb3B1cCh7Im1heFdpZHRoIjogIjEwMCUifSk7CgogICAgICAgIAogICAgICAgICAgICB2YXIgaHRtbF9hOGI0ZDFkYmZiNDc0OTI2YWFkMTRmYmY1MDQxNWFmNiA9ICQoYDxkaXYgaWQ9Imh0bWxfYThiNGQxZGJmYjQ3NDkyNmFhZDE0ZmJmNTA0MTVhZjYiIHN0eWxlPSJ3aWR0aDogMTAwLjAlOyBoZWlnaHQ6IDEwMC4wJTsiPkJlcmN6eSBQYXJrLCBEb3dudG93biBUb3JvbnRvPC9kaXY+YClbMF07CiAgICAgICAgICAgIHBvcHVwX2U0OWJkNmU0ZGM5MDQwZmY5ODU1ZTIxYTc3YzNhNzdiLnNldENvbnRlbnQoaHRtbF9hOGI0ZDFkYmZiNDc0OTI2YWFkMTRmYmY1MDQxNWFmNik7CiAgICAgICAgCgogICAgICAgIGNpcmNsZV9tYXJrZXJfMGFiMmQ2NGJjOTRlNGU1N2I1MzQyOGFmNmMwODNkMDYuYmluZFBvcHVwKHBvcHVwX2U0OWJkNmU0ZGM5MDQwZmY5ODU1ZTIxYTc3YzNhNzdiKQogICAgICAgIDsKCiAgICAgICAgCiAgICAKICAgIAogICAgICAgICAgICB2YXIgY2lyY2xlX21hcmtlcl8wZWI5Y2M4YjQyYzg0MjIzOGI4NGQ0NjdhODA1OGYxNiA9IEwuY2lyY2xlTWFya2VyKAogICAgICAgICAgICAgICAgWzQzLjY1Nzk1MjQsIC03OS4zODczODI2XSwKICAgICAgICAgICAgICAgIHsiYnViYmxpbmdNb3VzZUV2ZW50cyI6IHRydWUsICJjb2xvciI6ICJibHVlIiwgImRhc2hBcnJheSI6IG51bGwsICJkYXNoT2Zmc2V0IjogbnVsbCwgImZpbGwiOiB0cnVlLCAiZmlsbENvbG9yIjogIiMzMTg2Y2MiLCAiZmlsbE9wYWNpdHkiOiAwLjcsICJmaWxsUnVsZSI6ICJldmVub2RkIiwgImxpbmVDYXAiOiAicm91bmQiLCAibGluZUpvaW4iOiAicm91bmQiLCAib3BhY2l0eSI6IDEuMCwgInJhZGl1cyI6IDUsICJzdHJva2UiOiB0cnVlLCAid2VpZ2h0IjogM30KICAgICAgICAgICAgKS5hZGRUbyhtYXBfMzVhYWNiMjJkMGFjNGY5M2JlMzMzYmJmM2M5MzdiNDEpOwogICAgICAgIAogICAgCiAgICAgICAgdmFyIHBvcHVwX2YwZGQ1MDJkZTNmNzRhMmY5NzUyNjc3MmMzZTM1NGRhID0gTC5wb3B1cCh7Im1heFdpZHRoIjogIjEwMCUifSk7CgogICAgICAgIAogICAgICAgICAgICB2YXIgaHRtbF9jMGFiNzA2MTRlMjg0M2FiOTgzZTc3N2MzOThjMzVjOSA9ICQoYDxkaXYgaWQ9Imh0bWxfYzBhYjcwNjE0ZTI4NDNhYjk4M2U3NzdjMzk4YzM1YzkiIHN0eWxlPSJ3aWR0aDogMTAwLjAlOyBoZWlnaHQ6IDEwMC4wJTsiPkNlbnRyYWwgQmF5IFN0cmVldCwgRG93bnRvd24gVG9yb250bzwvZGl2PmApWzBdOwogICAgICAgICAgICBwb3B1cF9mMGRkNTAyZGUzZjc0YTJmOTc1MjY3NzJjM2UzNTRkYS5zZXRDb250ZW50KGh0bWxfYzBhYjcwNjE0ZTI4NDNhYjk4M2U3NzdjMzk4YzM1YzkpOwogICAgICAgIAoKICAgICAgICBjaXJjbGVfbWFya2VyXzBlYjljYzhiNDJjODQyMjM4Yjg0ZDQ2N2E4MDU4ZjE2LmJpbmRQb3B1cChwb3B1cF9mMGRkNTAyZGUzZjc0YTJmOTc1MjY3NzJjM2UzNTRkYSkKICAgICAgICA7CgogICAgICAgIAogICAgCiAgICAKICAgICAgICAgICAgdmFyIGNpcmNsZV9tYXJrZXJfMDg1NTk3OWFhM2Y3NDFiOTlmNmM0ODZjN2NmY2NjZmEgPSBMLmNpcmNsZU1hcmtlcigKICAgICAgICAgICAgICAgIFs0My42NTA1NzEyMDAwMDAwMSwgLTc5LjM4NDU2NzVdLAogICAgICAgICAgICAgICAgeyJidWJibGluZ01vdXNlRXZlbnRzIjogdHJ1ZSwgImNvbG9yIjogImJsdWUiLCAiZGFzaEFycmF5IjogbnVsbCwgImRhc2hPZmZzZXQiOiBudWxsLCAiZmlsbCI6IHRydWUsICJmaWxsQ29sb3IiOiAiIzMxODZjYyIsICJmaWxsT3BhY2l0eSI6IDAuNywgImZpbGxSdWxlIjogImV2ZW5vZGQiLCAibGluZUNhcCI6ICJyb3VuZCIsICJsaW5lSm9pbiI6ICJyb3VuZCIsICJvcGFjaXR5IjogMS4wLCAicmFkaXVzIjogNSwgInN0cm9rZSI6IHRydWUsICJ3ZWlnaHQiOiAzfQogICAgICAgICAgICApLmFkZFRvKG1hcF8zNWFhY2IyMmQwYWM0ZjkzYmUzMzNiYmYzYzkzN2I0MSk7CiAgICAgICAgCiAgICAKICAgICAgICB2YXIgcG9wdXBfNzA1NDg2YTUzZDNlNDRiZmJmOTMxOTliMTJmMGM2NTggPSBMLnBvcHVwKHsibWF4V2lkdGgiOiAiMTAwJSJ9KTsKCiAgICAgICAgCiAgICAgICAgICAgIHZhciBodG1sXzNiZDkyM2ViMTg0YjQ3NWE5MjBjMjlmYzQyYWI0MDEwID0gJChgPGRpdiBpZD0iaHRtbF8zYmQ5MjNlYjE4NGI0NzVhOTIwYzI5ZmM0MmFiNDAxMCIgc3R5bGU9IndpZHRoOiAxMDAuMCU7IGhlaWdodDogMTAwLjAlOyI+QWRlbGFpZGUsIEtpbmcsIFJpY2htb25kLCBEb3dudG93biBUb3JvbnRvPC9kaXY+YClbMF07CiAgICAgICAgICAgIHBvcHVwXzcwNTQ4NmE1M2QzZTQ0YmZiZjkzMTk5YjEyZjBjNjU4LnNldENvbnRlbnQoaHRtbF8zYmQ5MjNlYjE4NGI0NzVhOTIwYzI5ZmM0MmFiNDAxMCk7CiAgICAgICAgCgogICAgICAgIGNpcmNsZV9tYXJrZXJfMDg1NTk3OWFhM2Y3NDFiOTlmNmM0ODZjN2NmY2NjZmEuYmluZFBvcHVwKHBvcHVwXzcwNTQ4NmE1M2QzZTQ0YmZiZjkzMTk5YjEyZjBjNjU4KQogICAgICAgIDsKCiAgICAgICAgCiAgICAKICAgIAogICAgICAgICAgICB2YXIgY2lyY2xlX21hcmtlcl9jZjYwYWQzOTYzMTM0NjUzOTg3ZTNhYTYyZjZjODczYSA9IEwuY2lyY2xlTWFya2VyKAogICAgICAgICAgICAgICAgWzQzLjY0MDgxNTcsIC03OS4zODE3NTIyOTk5OTk5OV0sCiAgICAgICAgICAgICAgICB7ImJ1YmJsaW5nTW91c2VFdmVudHMiOiB0cnVlLCAiY29sb3IiOiAiYmx1ZSIsICJkYXNoQXJyYXkiOiBudWxsLCAiZGFzaE9mZnNldCI6IG51bGwsICJmaWxsIjogdHJ1ZSwgImZpbGxDb2xvciI6ICIjMzE4NmNjIiwgImZpbGxPcGFjaXR5IjogMC43LCAiZmlsbFJ1bGUiOiAiZXZlbm9kZCIsICJsaW5lQ2FwIjogInJvdW5kIiwgImxpbmVKb2luIjogInJvdW5kIiwgIm9wYWNpdHkiOiAxLjAsICJyYWRpdXMiOiA1LCAic3Ryb2tlIjogdHJ1ZSwgIndlaWdodCI6IDN9CiAgICAgICAgICAgICkuYWRkVG8obWFwXzM1YWFjYjIyZDBhYzRmOTNiZTMzM2JiZjNjOTM3YjQxKTsKICAgICAgICAKICAgIAogICAgICAgIHZhciBwb3B1cF82Nzc3N2Q1MjUyNjY0M2E3OGY5YmI0MjgwZjFlMWM0YSA9IEwucG9wdXAoeyJtYXhXaWR0aCI6ICIxMDAlIn0pOwoKICAgICAgICAKICAgICAgICAgICAgdmFyIGh0bWxfOTA0NGU0NTQzMTUzNDhiOWFlNTRiYWJiNWM1ODU0ODQgPSAkKGA8ZGl2IGlkPSJodG1sXzkwNDRlNDU0MzE1MzQ4YjlhZTU0YmFiYjVjNTg1NDg0IiBzdHlsZT0id2lkdGg6IDEwMC4wJTsgaGVpZ2h0OiAxMDAuMCU7Ij5IYXJib3VyZnJvbnQgRWFzdCwgVG9yb250byBJc2xhbmRzLCBVbmlvbiBTdGF0aW9uLCBEb3dudG93biBUb3JvbnRvPC9kaXY+YClbMF07CiAgICAgICAgICAgIHBvcHVwXzY3Nzc3ZDUyNTI2NjQzYTc4ZjliYjQyODBmMWUxYzRhLnNldENvbnRlbnQoaHRtbF85MDQ0ZTQ1NDMxNTM0OGI5YWU1NGJhYmI1YzU4NTQ4NCk7CiAgICAgICAgCgogICAgICAgIGNpcmNsZV9tYXJrZXJfY2Y2MGFkMzk2MzEzNDY1Mzk4N2UzYWE2MmY2Yzg3M2EuYmluZFBvcHVwKHBvcHVwXzY3Nzc3ZDUyNTI2NjQzYTc4ZjliYjQyODBmMWUxYzRhKQogICAgICAgIDsKCiAgICAgICAgCiAgICAKICAgIAogICAgICAgICAgICB2YXIgY2lyY2xlX21hcmtlcl9iNDc0OGU4MGMwYWY0OWEzOWJiZmIyZTYxNjE3MTg5OSA9IEwuY2lyY2xlTWFya2VyKAogICAgICAgICAgICAgICAgWzQzLjY0NzE3NjgsIC03OS4zODE1NzY0MDAwMDAwMV0sCiAgICAgICAgICAgICAgICB7ImJ1YmJsaW5nTW91c2VFdmVudHMiOiB0cnVlLCAiY29sb3IiOiAiYmx1ZSIsICJkYXNoQXJyYXkiOiBudWxsLCAiZGFzaE9mZnNldCI6IG51bGwsICJmaWxsIjogdHJ1ZSwgImZpbGxDb2xvciI6ICIjMzE4NmNjIiwgImZpbGxPcGFjaXR5IjogMC43LCAiZmlsbFJ1bGUiOiAiZXZlbm9kZCIsICJsaW5lQ2FwIjogInJvdW5kIiwgImxpbmVKb2luIjogInJvdW5kIiwgIm9wYWNpdHkiOiAxLjAsICJyYWRpdXMiOiA1LCAic3Ryb2tlIjogdHJ1ZSwgIndlaWdodCI6IDN9CiAgICAgICAgICAgICkuYWRkVG8obWFwXzM1YWFjYjIyZDBhYzRmOTNiZTMzM2JiZjNjOTM3YjQxKTsKICAgICAgICAKICAgIAogICAgICAgIHZhciBwb3B1cF9hZDdjODI1YmQxNDI0NGMwYTQwNzFhYTcyZWRkNjhiYiA9IEwucG9wdXAoeyJtYXhXaWR0aCI6ICIxMDAlIn0pOwoKICAgICAgICAKICAgICAgICAgICAgdmFyIGh0bWxfNDk2NmVhZDc4ZmQ3NGFmZmFlNWIyZWU2NDI5MGRlZmEgPSAkKGA8ZGl2IGlkPSJodG1sXzQ5NjZlYWQ3OGZkNzRhZmZhZTViMmVlNjQyOTBkZWZhIiBzdHlsZT0id2lkdGg6IDEwMC4wJTsgaGVpZ2h0OiAxMDAuMCU7Ij5EZXNpZ24gRXhjaGFuZ2UsIFRvcm9udG8gRG9taW5pb24gQ2VudHJlLCBEb3dudG93biBUb3JvbnRvPC9kaXY+YClbMF07CiAgICAgICAgICAgIHBvcHVwX2FkN2M4MjViZDE0MjQ0YzBhNDA3MWFhNzJlZGQ2OGJiLnNldENvbnRlbnQoaHRtbF80OTY2ZWFkNzhmZDc0YWZmYWU1YjJlZTY0MjkwZGVmYSk7CiAgICAgICAgCgogICAgICAgIGNpcmNsZV9tYXJrZXJfYjQ3NDhlODBjMGFmNDlhMzliYmZiMmU2MTYxNzE4OTkuYmluZFBvcHVwKHBvcHVwX2FkN2M4MjViZDE0MjQ0YzBhNDA3MWFhNzJlZGQ2OGJiKQogICAgICAgIDsKCiAgICAgICAgCiAgICAKICAgIAogICAgICAgICAgICB2YXIgY2lyY2xlX21hcmtlcl8xYWU0MDBhM2M5YTk0NTlhYWVkYzk0MGIxYTdmZmQ2NiA9IEwuY2lyY2xlTWFya2VyKAogICAgICAgICAgICAgICAgWzQzLjY0ODE5ODUsIC03OS4zNzk4MTY5MDAwMDAwMV0sCiAgICAgICAgICAgICAgICB7ImJ1YmJsaW5nTW91c2VFdmVudHMiOiB0cnVlLCAiY29sb3IiOiAiYmx1ZSIsICJkYXNoQXJyYXkiOiBudWxsLCAiZGFzaE9mZnNldCI6IG51bGwsICJmaWxsIjogdHJ1ZSwgImZpbGxDb2xvciI6ICIjMzE4NmNjIiwgImZpbGxPcGFjaXR5IjogMC43LCAiZmlsbFJ1bGUiOiAiZXZlbm9kZCIsICJsaW5lQ2FwIjogInJvdW5kIiwgImxpbmVKb2luIjogInJvdW5kIiwgIm9wYWNpdHkiOiAxLjAsICJyYWRpdXMiOiA1LCAic3Ryb2tlIjogdHJ1ZSwgIndlaWdodCI6IDN9CiAgICAgICAgICAgICkuYWRkVG8obWFwXzM1YWFjYjIyZDBhYzRmOTNiZTMzM2JiZjNjOTM3YjQxKTsKICAgICAgICAKICAgIAogICAgICAgIHZhciBwb3B1cF8xMDZjZGQ0YzRhZTI0OTE4YTQ2MDRmYjJhNjJlOGFhMCA9IEwucG9wdXAoeyJtYXhXaWR0aCI6ICIxMDAlIn0pOwoKICAgICAgICAKICAgICAgICAgICAgdmFyIGh0bWxfMTRkZGViYTcxY2Y3NGEwOTkxZjRiNTc3OTM0M2Y0NDUgPSAkKGA8ZGl2IGlkPSJodG1sXzE0ZGRlYmE3MWNmNzRhMDk5MWY0YjU3NzkzNDNmNDQ1IiBzdHlsZT0id2lkdGg6IDEwMC4wJTsgaGVpZ2h0OiAxMDAuMCU7Ij5Db21tZXJjZSBDb3VydCwgVmljdG9yaWEgSG90ZWwsIERvd250b3duIFRvcm9udG88L2Rpdj5gKVswXTsKICAgICAgICAgICAgcG9wdXBfMTA2Y2RkNGM0YWUyNDkxOGE0NjA0ZmIyYTYyZThhYTAuc2V0Q29udGVudChodG1sXzE0ZGRlYmE3MWNmNzRhMDk5MWY0YjU3NzkzNDNmNDQ1KTsKICAgICAgICAKCiAgICAgICAgY2lyY2xlX21hcmtlcl8xYWU0MDBhM2M5YTk0NTlhYWVkYzk0MGIxYTdmZmQ2Ni5iaW5kUG9wdXAocG9wdXBfMTA2Y2RkNGM0YWUyNDkxOGE0NjA0ZmIyYTYyZThhYTApCiAgICAgICAgOwoKICAgICAgICAKICAgIAogICAgCiAgICAgICAgICAgIHZhciBjaXJjbGVfbWFya2VyXzMwMDJjZmIwODViZjQ4MjE4NWJlN2U2OTg1ZDdiZGQ0ID0gTC5jaXJjbGVNYXJrZXIoCiAgICAgICAgICAgICAgICBbNDMuNzMzMjgyNSwgLTc5LjQxOTc0OTddLAogICAgICAgICAgICAgICAgeyJidWJibGluZ01vdXNlRXZlbnRzIjogdHJ1ZSwgImNvbG9yIjogImJsdWUiLCAiZGFzaEFycmF5IjogbnVsbCwgImRhc2hPZmZzZXQiOiBudWxsLCAiZmlsbCI6IHRydWUsICJmaWxsQ29sb3IiOiAiIzMxODZjYyIsICJmaWxsT3BhY2l0eSI6IDAuNywgImZpbGxSdWxlIjogImV2ZW5vZGQiLCAibGluZUNhcCI6ICJyb3VuZCIsICJsaW5lSm9pbiI6ICJyb3VuZCIsICJvcGFjaXR5IjogMS4wLCAicmFkaXVzIjogNSwgInN0cm9rZSI6IHRydWUsICJ3ZWlnaHQiOiAzfQogICAgICAgICAgICApLmFkZFRvKG1hcF8zNWFhY2IyMmQwYWM0ZjkzYmUzMzNiYmYzYzkzN2I0MSk7CiAgICAgICAgCiAgICAKICAgICAgICB2YXIgcG9wdXBfNzkyOTBhMGEzNDE2NGE4YzlmMDA0NGUzOTg5YzU5NDQgPSBMLnBvcHVwKHsibWF4V2lkdGgiOiAiMTAwJSJ9KTsKCiAgICAgICAgCiAgICAgICAgICAgIHZhciBodG1sXzQxMTRhMzJlZWZmYTQ4ZmU5MmNkYzdlYWE2OTBhMjdhID0gJChgPGRpdiBpZD0iaHRtbF80MTE0YTMyZWVmZmE0OGZlOTJjZGM3ZWFhNjkwYTI3YSIgc3R5bGU9IndpZHRoOiAxMDAuMCU7IGhlaWdodDogMTAwLjAlOyI+QmVkZm9yZCBQYXJrLCBMYXdyZW5jZSBNYW5vciBFYXN0LCBOb3J0aCBZb3JrPC9kaXY+YClbMF07CiAgICAgICAgICAgIHBvcHVwXzc5MjkwYTBhMzQxNjRhOGM5ZjAwNDRlMzk4OWM1OTQ0LnNldENvbnRlbnQoaHRtbF80MTE0YTMyZWVmZmE0OGZlOTJjZGM3ZWFhNjkwYTI3YSk7CiAgICAgICAgCgogICAgICAgIGNpcmNsZV9tYXJrZXJfMzAwMmNmYjA4NWJmNDgyMTg1YmU3ZTY5ODVkN2JkZDQuYmluZFBvcHVwKHBvcHVwXzc5MjkwYTBhMzQxNjRhOGM5ZjAwNDRlMzk4OWM1OTQ0KQogICAgICAgIDsKCiAgICAgICAgCiAgICAKICAgIAogICAgICAgICAgICB2YXIgY2lyY2xlX21hcmtlcl82Y2NlZmZhZWNhMWM0Yjc0OGZkNzQyMmUyMDU0ZDQ5YSA9IEwuY2lyY2xlTWFya2VyKAogICAgICAgICAgICAgICAgWzQzLjcxMTY5NDgsIC03OS40MTY5MzU1OTk5OTk5OV0sCiAgICAgICAgICAgICAgICB7ImJ1YmJsaW5nTW91c2VFdmVudHMiOiB0cnVlLCAiY29sb3IiOiAiYmx1ZSIsICJkYXNoQXJyYXkiOiBudWxsLCAiZGFzaE9mZnNldCI6IG51bGwsICJmaWxsIjogdHJ1ZSwgImZpbGxDb2xvciI6ICIjMzE4NmNjIiwgImZpbGxPcGFjaXR5IjogMC43LCAiZmlsbFJ1bGUiOiAiZXZlbm9kZCIsICJsaW5lQ2FwIjogInJvdW5kIiwgImxpbmVKb2luIjogInJvdW5kIiwgIm9wYWNpdHkiOiAxLjAsICJyYWRpdXMiOiA1LCAic3Ryb2tlIjogdHJ1ZSwgIndlaWdodCI6IDN9CiAgICAgICAgICAgICkuYWRkVG8obWFwXzM1YWFjYjIyZDBhYzRmOTNiZTMzM2JiZjNjOTM3YjQxKTsKICAgICAgICAKICAgIAogICAgICAgIHZhciBwb3B1cF8xMThhNTY1ODhjOWE0ZTNmYTcxOGZkMzJiYzRmNzM1YiA9IEwucG9wdXAoeyJtYXhXaWR0aCI6ICIxMDAlIn0pOwoKICAgICAgICAKICAgICAgICAgICAgdmFyIGh0bWxfZDVlZjZkM2ZhMjY2NDNkMTgwY2RhODllZjc5YTk1YzQgPSAkKGA8ZGl2IGlkPSJodG1sX2Q1ZWY2ZDNmYTI2NjQzZDE4MGNkYTg5ZWY3OWE5NWM0IiBzdHlsZT0id2lkdGg6IDEwMC4wJTsgaGVpZ2h0OiAxMDAuMCU7Ij5Sb3NlbGF3biwgQ2VudHJhbCBUb3JvbnRvPC9kaXY+YClbMF07CiAgICAgICAgICAgIHBvcHVwXzExOGE1NjU4OGM5YTRlM2ZhNzE4ZmQzMmJjNGY3MzViLnNldENvbnRlbnQoaHRtbF9kNWVmNmQzZmEyNjY0M2QxODBjZGE4OWVmNzlhOTVjNCk7CiAgICAgICAgCgogICAgICAgIGNpcmNsZV9tYXJrZXJfNmNjZWZmYWVjYTFjNGI3NDhmZDc0MjJlMjA1NGQ0OWEuYmluZFBvcHVwKHBvcHVwXzExOGE1NjU4OGM5YTRlM2ZhNzE4ZmQzMmJjNGY3MzViKQogICAgICAgIDsKCiAgICAgICAgCiAgICAKICAgIAogICAgICAgICAgICB2YXIgY2lyY2xlX21hcmtlcl8zZmI2ODMyZmYwY2M0YjE1OTc3MjQwMDUwZTg4ZmRiNiA9IEwuY2lyY2xlTWFya2VyKAogICAgICAgICAgICAgICAgWzQzLjY5Njk0NzYsIC03OS40MTEzMDcyMDAwMDAwMV0sCiAgICAgICAgICAgICAgICB7ImJ1YmJsaW5nTW91c2VFdmVudHMiOiB0cnVlLCAiY29sb3IiOiAiYmx1ZSIsICJkYXNoQXJyYXkiOiBudWxsLCAiZGFzaE9mZnNldCI6IG51bGwsICJmaWxsIjogdHJ1ZSwgImZpbGxDb2xvciI6ICIjMzE4NmNjIiwgImZpbGxPcGFjaXR5IjogMC43LCAiZmlsbFJ1bGUiOiAiZXZlbm9kZCIsICJsaW5lQ2FwIjogInJvdW5kIiwgImxpbmVKb2luIjogInJvdW5kIiwgIm9wYWNpdHkiOiAxLjAsICJyYWRpdXMiOiA1LCAic3Ryb2tlIjogdHJ1ZSwgIndlaWdodCI6IDN9CiAgICAgICAgICAgICkuYWRkVG8obWFwXzM1YWFjYjIyZDBhYzRmOTNiZTMzM2JiZjNjOTM3YjQxKTsKICAgICAgICAKICAgIAogICAgICAgIHZhciBwb3B1cF9jODZmN2E4MTdmYjE0YTg5YmU4NjQwNmU1YTkzODkxMyA9IEwucG9wdXAoeyJtYXhXaWR0aCI6ICIxMDAlIn0pOwoKICAgICAgICAKICAgICAgICAgICAgdmFyIGh0bWxfODQ3NTRlM2NmNTllNGI0ZDgxNDgyOGRiNTJhMDJhMmEgPSAkKGA8ZGl2IGlkPSJodG1sXzg0NzU0ZTNjZjU5ZTRiNGQ4MTQ4MjhkYjUyYTAyYTJhIiBzdHlsZT0id2lkdGg6IDEwMC4wJTsgaGVpZ2h0OiAxMDAuMCU7Ij5Gb3Jlc3QgSGlsbCBOb3J0aCwgRm9yZXN0IEhpbGwgV2VzdCwgQ2VudHJhbCBUb3JvbnRvPC9kaXY+YClbMF07CiAgICAgICAgICAgIHBvcHVwX2M4NmY3YTgxN2ZiMTRhODliZTg2NDA2ZTVhOTM4OTEzLnNldENvbnRlbnQoaHRtbF84NDc1NGUzY2Y1OWU0YjRkODE0ODI4ZGI1MmEwMmEyYSk7CiAgICAgICAgCgogICAgICAgIGNpcmNsZV9tYXJrZXJfM2ZiNjgzMmZmMGNjNGIxNTk3NzI0MDA1MGU4OGZkYjYuYmluZFBvcHVwKHBvcHVwX2M4NmY3YTgxN2ZiMTRhODliZTg2NDA2ZTVhOTM4OTEzKQogICAgICAgIDsKCiAgICAgICAgCiAgICAKICAgIAogICAgICAgICAgICB2YXIgY2lyY2xlX21hcmtlcl82YmI4YTMxMjk1ZDY0ZjM2ODJkMTg0MmNlZmQ4NmU3MCA9IEwuY2lyY2xlTWFya2VyKAogICAgICAgICAgICAgICAgWzQzLjY3MjcwOTcsIC03OS40MDU2Nzg0MDAwMDAwMV0sCiAgICAgICAgICAgICAgICB7ImJ1YmJsaW5nTW91c2VFdmVudHMiOiB0cnVlLCAiY29sb3IiOiAiYmx1ZSIsICJkYXNoQXJyYXkiOiBudWxsLCAiZGFzaE9mZnNldCI6IG51bGwsICJmaWxsIjogdHJ1ZSwgImZpbGxDb2xvciI6ICIjMzE4NmNjIiwgImZpbGxPcGFjaXR5IjogMC43LCAiZmlsbFJ1bGUiOiAiZXZlbm9kZCIsICJsaW5lQ2FwIjogInJvdW5kIiwgImxpbmVKb2luIjogInJvdW5kIiwgIm9wYWNpdHkiOiAxLjAsICJyYWRpdXMiOiA1LCAic3Ryb2tlIjogdHJ1ZSwgIndlaWdodCI6IDN9CiAgICAgICAgICAgICkuYWRkVG8obWFwXzM1YWFjYjIyZDBhYzRmOTNiZTMzM2JiZjNjOTM3YjQxKTsKICAgICAgICAKICAgIAogICAgICAgIHZhciBwb3B1cF9lNDIyN2M4YzY2YmU0ZGY2YTAzN2Y0ODM2NjE0Y2Q3MyA9IEwucG9wdXAoeyJtYXhXaWR0aCI6ICIxMDAlIn0pOwoKICAgICAgICAKICAgICAgICAgICAgdmFyIGh0bWxfYjYxYzcwYzA2YWJiNDljOTg3ZDlkM2VmOTVlM2Y2MDEgPSAkKGA8ZGl2IGlkPSJodG1sX2I2MWM3MGMwNmFiYjQ5Yzk4N2Q5ZDNlZjk1ZTNmNjAxIiBzdHlsZT0id2lkdGg6IDEwMC4wJTsgaGVpZ2h0OiAxMDAuMCU7Ij5UaGUgQW5uZXgsIE5vcnRoIE1pZHRvd24sIFlvcmt2aWxsZSwgQ2VudHJhbCBUb3JvbnRvPC9kaXY+YClbMF07CiAgICAgICAgICAgIHBvcHVwX2U0MjI3YzhjNjZiZTRkZjZhMDM3ZjQ4MzY2MTRjZDczLnNldENvbnRlbnQoaHRtbF9iNjFjNzBjMDZhYmI0OWM5ODdkOWQzZWY5NWUzZjYwMSk7CiAgICAgICAgCgogICAgICAgIGNpcmNsZV9tYXJrZXJfNmJiOGEzMTI5NWQ2NGYzNjgyZDE4NDJjZWZkODZlNzAuYmluZFBvcHVwKHBvcHVwX2U0MjI3YzhjNjZiZTRkZjZhMDM3ZjQ4MzY2MTRjZDczKQogICAgICAgIDsKCiAgICAgICAgCiAgICAKICAgIAogICAgICAgICAgICB2YXIgY2lyY2xlX21hcmtlcl9kMDJlNjkwMTNlMTY0YWE3YTAyMWUyNzkxYjZmNDViYyA9IEwuY2lyY2xlTWFya2VyKAogICAgICAgICAgICAgICAgWzQzLjY2MjY5NTYsIC03OS40MDAwNDkzXSwKICAgICAgICAgICAgICAgIHsiYnViYmxpbmdNb3VzZUV2ZW50cyI6IHRydWUsICJjb2xvciI6ICJibHVlIiwgImRhc2hBcnJheSI6IG51bGwsICJkYXNoT2Zmc2V0IjogbnVsbCwgImZpbGwiOiB0cnVlLCAiZmlsbENvbG9yIjogIiMzMTg2Y2MiLCAiZmlsbE9wYWNpdHkiOiAwLjcsICJmaWxsUnVsZSI6ICJldmVub2RkIiwgImxpbmVDYXAiOiAicm91bmQiLCAibGluZUpvaW4iOiAicm91bmQiLCAib3BhY2l0eSI6IDEuMCwgInJhZGl1cyI6IDUsICJzdHJva2UiOiB0cnVlLCAid2VpZ2h0IjogM30KICAgICAgICAgICAgKS5hZGRUbyhtYXBfMzVhYWNiMjJkMGFjNGY5M2JlMzMzYmJmM2M5MzdiNDEpOwogICAgICAgIAogICAgCiAgICAgICAgdmFyIHBvcHVwXzJiMDlmNjU4MjQ5NzQ2MzdhOTI1OTY0NDA3ZjZkNThmID0gTC5wb3B1cCh7Im1heFdpZHRoIjogIjEwMCUifSk7CgogICAgICAgIAogICAgICAgICAgICB2YXIgaHRtbF84MjJmZDZlZTQxZjQ0MDBkOWM4OWZiNjFiMDg5YWYwZSA9ICQoYDxkaXYgaWQ9Imh0bWxfODIyZmQ2ZWU0MWY0NDAwZDljODlmYjYxYjA4OWFmMGUiIHN0eWxlPSJ3aWR0aDogMTAwLjAlOyBoZWlnaHQ6IDEwMC4wJTsiPkhhcmJvcmQsIFVuaXZlcnNpdHkgb2YgVG9yb250bywgRG93bnRvd24gVG9yb250bzwvZGl2PmApWzBdOwogICAgICAgICAgICBwb3B1cF8yYjA5ZjY1ODI0OTc0NjM3YTkyNTk2NDQwN2Y2ZDU4Zi5zZXRDb250ZW50KGh0bWxfODIyZmQ2ZWU0MWY0NDAwZDljODlmYjYxYjA4OWFmMGUpOwogICAgICAgIAoKICAgICAgICBjaXJjbGVfbWFya2VyX2QwMmU2OTAxM2UxNjRhYTdhMDIxZTI3OTFiNmY0NWJjLmJpbmRQb3B1cChwb3B1cF8yYjA5ZjY1ODI0OTc0NjM3YTkyNTk2NDQwN2Y2ZDU4ZikKICAgICAgICA7CgogICAgICAgIAogICAgCiAgICAKICAgICAgICAgICAgdmFyIGNpcmNsZV9tYXJrZXJfNmRlYWU0MzIyNGJmNDY5NThlZjk0NjNlNTA2OGNhNDEgPSBMLmNpcmNsZU1hcmtlcigKICAgICAgICAgICAgICAgIFs0My42NTMyMDU3LCAtNzkuNDAwMDQ5M10sCiAgICAgICAgICAgICAgICB7ImJ1YmJsaW5nTW91c2VFdmVudHMiOiB0cnVlLCAiY29sb3IiOiAiYmx1ZSIsICJkYXNoQXJyYXkiOiBudWxsLCAiZGFzaE9mZnNldCI6IG51bGwsICJmaWxsIjogdHJ1ZSwgImZpbGxDb2xvciI6ICIjMzE4NmNjIiwgImZpbGxPcGFjaXR5IjogMC43LCAiZmlsbFJ1bGUiOiAiZXZlbm9kZCIsICJsaW5lQ2FwIjogInJvdW5kIiwgImxpbmVKb2luIjogInJvdW5kIiwgIm9wYWNpdHkiOiAxLjAsICJyYWRpdXMiOiA1LCAic3Ryb2tlIjogdHJ1ZSwgIndlaWdodCI6IDN9CiAgICAgICAgICAgICkuYWRkVG8obWFwXzM1YWFjYjIyZDBhYzRmOTNiZTMzM2JiZjNjOTM3YjQxKTsKICAgICAgICAKICAgIAogICAgICAgIHZhciBwb3B1cF8wM2ZjZmViMGExZWI0MjQ3OWJkYTQ0ZWViMTI2YjdkNyA9IEwucG9wdXAoeyJtYXhXaWR0aCI6ICIxMDAlIn0pOwoKICAgICAgICAKICAgICAgICAgICAgdmFyIGh0bWxfZGE2OGVjNWQxMzRiNGZjMGEyYmNmNTgzMWVmNmQyMTUgPSAkKGA8ZGl2IGlkPSJodG1sX2RhNjhlYzVkMTM0YjRmYzBhMmJjZjU4MzFlZjZkMjE1IiBzdHlsZT0id2lkdGg6IDEwMC4wJTsgaGVpZ2h0OiAxMDAuMCU7Ij5DaGluYXRvd24sIEdyYW5nZSBQYXJrLCBLZW5zaW5ndG9uIE1hcmtldCwgRG93bnRvd24gVG9yb250bzwvZGl2PmApWzBdOwogICAgICAgICAgICBwb3B1cF8wM2ZjZmViMGExZWI0MjQ3OWJkYTQ0ZWViMTI2YjdkNy5zZXRDb250ZW50KGh0bWxfZGE2OGVjNWQxMzRiNGZjMGEyYmNmNTgzMWVmNmQyMTUpOwogICAgICAgIAoKICAgICAgICBjaXJjbGVfbWFya2VyXzZkZWFlNDMyMjRiZjQ2OTU4ZWY5NDYzZTUwNjhjYTQxLmJpbmRQb3B1cChwb3B1cF8wM2ZjZmViMGExZWI0MjQ3OWJkYTQ0ZWViMTI2YjdkNykKICAgICAgICA7CgogICAgICAgIAogICAgCiAgICAKICAgICAgICAgICAgdmFyIGNpcmNsZV9tYXJrZXJfZjc3ZGMwNzA4NThkNDk1ZDljYWU5ZmZiMWVmYjg0ZTAgPSBMLmNpcmNsZU1hcmtlcigKICAgICAgICAgICAgICAgIFs0My42Mjg5NDY3LCAtNzkuMzk0NDE5OV0sCiAgICAgICAgICAgICAgICB7ImJ1YmJsaW5nTW91c2VFdmVudHMiOiB0cnVlLCAiY29sb3IiOiAiYmx1ZSIsICJkYXNoQXJyYXkiOiBudWxsLCAiZGFzaE9mZnNldCI6IG51bGwsICJmaWxsIjogdHJ1ZSwgImZpbGxDb2xvciI6ICIjMzE4NmNjIiwgImZpbGxPcGFjaXR5IjogMC43LCAiZmlsbFJ1bGUiOiAiZXZlbm9kZCIsICJsaW5lQ2FwIjogInJvdW5kIiwgImxpbmVKb2luIjogInJvdW5kIiwgIm9wYWNpdHkiOiAxLjAsICJyYWRpdXMiOiA1LCAic3Ryb2tlIjogdHJ1ZSwgIndlaWdodCI6IDN9CiAgICAgICAgICAgICkuYWRkVG8obWFwXzM1YWFjYjIyZDBhYzRmOTNiZTMzM2JiZjNjOTM3YjQxKTsKICAgICAgICAKICAgIAogICAgICAgIHZhciBwb3B1cF84OWU1MGI0YjQ3ZjQ0OTg0OWY1NTgyOTIwMWI0ZjFlZSA9IEwucG9wdXAoeyJtYXhXaWR0aCI6ICIxMDAlIn0pOwoKICAgICAgICAKICAgICAgICAgICAgdmFyIGh0bWxfNzFiMmU2MDhhM2NlNGFiMThiOTZjZTJjNjVhOGFhMzEgPSAkKGA8ZGl2IGlkPSJodG1sXzcxYjJlNjA4YTNjZTRhYjE4Yjk2Y2UyYzY1YThhYTMxIiBzdHlsZT0id2lkdGg6IDEwMC4wJTsgaGVpZ2h0OiAxMDAuMCU7Ij5DTiBUb3dlciwgQmF0aHVyc3QgUXVheSwgSXNsYW5kIGFpcnBvcnQsIEhhcmJvdXJmcm9udCBXZXN0LCBLaW5nIGFuZCBTcGFkaW5hLCBSYWlsd2F5IExhbmRzLCBTb3V0aCBOaWFnYXJhLCBEb3dudG93biBUb3JvbnRvPC9kaXY+YClbMF07CiAgICAgICAgICAgIHBvcHVwXzg5ZTUwYjRiNDdmNDQ5ODQ5ZjU1ODI5MjAxYjRmMWVlLnNldENvbnRlbnQoaHRtbF83MWIyZTYwOGEzY2U0YWIxOGI5NmNlMmM2NWE4YWEzMSk7CiAgICAgICAgCgogICAgICAgIGNpcmNsZV9tYXJrZXJfZjc3ZGMwNzA4NThkNDk1ZDljYWU5ZmZiMWVmYjg0ZTAuYmluZFBvcHVwKHBvcHVwXzg5ZTUwYjRiNDdmNDQ5ODQ5ZjU1ODI5MjAxYjRmMWVlKQogICAgICAgIDsKCiAgICAgICAgCiAgICAKICAgIAogICAgICAgICAgICB2YXIgY2lyY2xlX21hcmtlcl81OWI5MmNlOWM0N2I0NWIxODNjMTFhNWVhNmY2NmQ0MCA9IEwuY2lyY2xlTWFya2VyKAogICAgICAgICAgICAgICAgWzQzLjY0NjQzNTIsIC03OS4zNzQ4NDU5OTk5OTk5OV0sCiAgICAgICAgICAgICAgICB7ImJ1YmJsaW5nTW91c2VFdmVudHMiOiB0cnVlLCAiY29sb3IiOiAiYmx1ZSIsICJkYXNoQXJyYXkiOiBudWxsLCAiZGFzaE9mZnNldCI6IG51bGwsICJmaWxsIjogdHJ1ZSwgImZpbGxDb2xvciI6ICIjMzE4NmNjIiwgImZpbGxPcGFjaXR5IjogMC43LCAiZmlsbFJ1bGUiOiAiZXZlbm9kZCIsICJsaW5lQ2FwIjogInJvdW5kIiwgImxpbmVKb2luIjogInJvdW5kIiwgIm9wYWNpdHkiOiAxLjAsICJyYWRpdXMiOiA1LCAic3Ryb2tlIjogdHJ1ZSwgIndlaWdodCI6IDN9CiAgICAgICAgICAgICkuYWRkVG8obWFwXzM1YWFjYjIyZDBhYzRmOTNiZTMzM2JiZjNjOTM3YjQxKTsKICAgICAgICAKICAgIAogICAgICAgIHZhciBwb3B1cF80ZjU3NDkwNWIwOTA0ZmQ1YWE2MGZjNDA4YWQyYzgyOSA9IEwucG9wdXAoeyJtYXhXaWR0aCI6ICIxMDAlIn0pOwoKICAgICAgICAKICAgICAgICAgICAgdmFyIGh0bWxfZDJiZmI5YmZhNTFjNGIyZmE4Yzg1Yjg2OTNlNmU1ZDMgPSAkKGA8ZGl2IGlkPSJodG1sX2QyYmZiOWJmYTUxYzRiMmZhOGM4NWI4NjkzZTZlNWQzIiBzdHlsZT0id2lkdGg6IDEwMC4wJTsgaGVpZ2h0OiAxMDAuMCU7Ij5TdG4gQSBQTyBCb3hlcyAyNSBUaGUgRXNwbGFuYWRlLCBEb3dudG93biBUb3JvbnRvPC9kaXY+YClbMF07CiAgICAgICAgICAgIHBvcHVwXzRmNTc0OTA1YjA5MDRmZDVhYTYwZmM0MDhhZDJjODI5LnNldENvbnRlbnQoaHRtbF9kMmJmYjliZmE1MWM0YjJmYThjODViODY5M2U2ZTVkMyk7CiAgICAgICAgCgogICAgICAgIGNpcmNsZV9tYXJrZXJfNTliOTJjZTljNDdiNDViMTgzYzExYTVlYTZmNjZkNDAuYmluZFBvcHVwKHBvcHVwXzRmNTc0OTA1YjA5MDRmZDVhYTYwZmM0MDhhZDJjODI5KQogICAgICAgIDsKCiAgICAgICAgCiAgICAKICAgIAogICAgICAgICAgICB2YXIgY2lyY2xlX21hcmtlcl9hYWIxM2JkZjljZjk0NjNlOGRhNmI4ZGEyNzY4MTc0NyA9IEwuY2lyY2xlTWFya2VyKAogICAgICAgICAgICAgICAgWzQzLjY0ODQyOTIsIC03OS4zODIyODAyXSwKICAgICAgICAgICAgICAgIHsiYnViYmxpbmdNb3VzZUV2ZW50cyI6IHRydWUsICJjb2xvciI6ICJibHVlIiwgImRhc2hBcnJheSI6IG51bGwsICJkYXNoT2Zmc2V0IjogbnVsbCwgImZpbGwiOiB0cnVlLCAiZmlsbENvbG9yIjogIiMzMTg2Y2MiLCAiZmlsbE9wYWNpdHkiOiAwLjcsICJmaWxsUnVsZSI6ICJldmVub2RkIiwgImxpbmVDYXAiOiAicm91bmQiLCAibGluZUpvaW4iOiAicm91bmQiLCAib3BhY2l0eSI6IDEuMCwgInJhZGl1cyI6IDUsICJzdHJva2UiOiB0cnVlLCAid2VpZ2h0IjogM30KICAgICAgICAgICAgKS5hZGRUbyhtYXBfMzVhYWNiMjJkMGFjNGY5M2JlMzMzYmJmM2M5MzdiNDEpOwogICAgICAgIAogICAgCiAgICAgICAgdmFyIHBvcHVwX2Y0N2IzMjYxMTExMjQzNWFhY2ZiODgwNTY5NDRhNGNmID0gTC5wb3B1cCh7Im1heFdpZHRoIjogIjEwMCUifSk7CgogICAgICAgIAogICAgICAgICAgICB2YXIgaHRtbF9jOTYzYmI0YzljMTA0ZjVjYTMxM2Y1MDNlNmU5YzlhOCA9ICQoYDxkaXYgaWQ9Imh0bWxfYzk2M2JiNGM5YzEwNGY1Y2EzMTNmNTAzZTZlOWM5YTgiIHN0eWxlPSJ3aWR0aDogMTAwLjAlOyBoZWlnaHQ6IDEwMC4wJTsiPkZpcnN0IENhbmFkaWFuIFBsYWNlLCBVbmRlcmdyb3VuZCBjaXR5LCBEb3dudG93biBUb3JvbnRvPC9kaXY+YClbMF07CiAgICAgICAgICAgIHBvcHVwX2Y0N2IzMjYxMTExMjQzNWFhY2ZiODgwNTY5NDRhNGNmLnNldENvbnRlbnQoaHRtbF9jOTYzYmI0YzljMTA0ZjVjYTMxM2Y1MDNlNmU5YzlhOCk7CiAgICAgICAgCgogICAgICAgIGNpcmNsZV9tYXJrZXJfYWFiMTNiZGY5Y2Y5NDYzZThkYTZiOGRhMjc2ODE3NDcuYmluZFBvcHVwKHBvcHVwX2Y0N2IzMjYxMTExMjQzNWFhY2ZiODgwNTY5NDRhNGNmKQogICAgICAgIDsKCiAgICAgICAgCiAgICAKICAgIAogICAgICAgICAgICB2YXIgY2lyY2xlX21hcmtlcl9iYWRlNzNhNTVmZDY0MjE0Yjg1ODE5Njg5MTA5NjliMCA9IEwuY2lyY2xlTWFya2VyKAogICAgICAgICAgICAgICAgWzQzLjcxODUxNzk5OTk5OTk5NiwgLTc5LjQ2NDc2MzI5OTk5OTk5XSwKICAgICAgICAgICAgICAgIHsiYnViYmxpbmdNb3VzZUV2ZW50cyI6IHRydWUsICJjb2xvciI6ICJibHVlIiwgImRhc2hBcnJheSI6IG51bGwsICJkYXNoT2Zmc2V0IjogbnVsbCwgImZpbGwiOiB0cnVlLCAiZmlsbENvbG9yIjogIiMzMTg2Y2MiLCAiZmlsbE9wYWNpdHkiOiAwLjcsICJmaWxsUnVsZSI6ICJldmVub2RkIiwgImxpbmVDYXAiOiAicm91bmQiLCAibGluZUpvaW4iOiAicm91bmQiLCAib3BhY2l0eSI6IDEuMCwgInJhZGl1cyI6IDUsICJzdHJva2UiOiB0cnVlLCAid2VpZ2h0IjogM30KICAgICAgICAgICAgKS5hZGRUbyhtYXBfMzVhYWNiMjJkMGFjNGY5M2JlMzMzYmJmM2M5MzdiNDEpOwogICAgICAgIAogICAgCiAgICAgICAgdmFyIHBvcHVwX2I2ODA5MmZjNTA3MzRhYThiMWYxNzY5ZjkzZTM0ZGYzID0gTC5wb3B1cCh7Im1heFdpZHRoIjogIjEwMCUifSk7CgogICAgICAgIAogICAgICAgICAgICB2YXIgaHRtbF8zY2QyNTA4ZWFmNTA0OGQ1YjYxMDI1ZDQ2ODUxMDExYiA9ICQoYDxkaXYgaWQ9Imh0bWxfM2NkMjUwOGVhZjUwNDhkNWI2MTAyNWQ0Njg1MTAxMWIiIHN0eWxlPSJ3aWR0aDogMTAwLjAlOyBoZWlnaHQ6IDEwMC4wJTsiPkxhd3JlbmNlIEhlaWdodHMsIExhd3JlbmNlIE1hbm9yLCBOb3J0aCBZb3JrPC9kaXY+YClbMF07CiAgICAgICAgICAgIHBvcHVwX2I2ODA5MmZjNTA3MzRhYThiMWYxNzY5ZjkzZTM0ZGYzLnNldENvbnRlbnQoaHRtbF8zY2QyNTA4ZWFmNTA0OGQ1YjYxMDI1ZDQ2ODUxMDExYik7CiAgICAgICAgCgogICAgICAgIGNpcmNsZV9tYXJrZXJfYmFkZTczYTU1ZmQ2NDIxNGI4NTgxOTY4OTEwOTY5YjAuYmluZFBvcHVwKHBvcHVwX2I2ODA5MmZjNTA3MzRhYThiMWYxNzY5ZjkzZTM0ZGYzKQogICAgICAgIDsKCiAgICAgICAgCiAgICAKICAgIAogICAgICAgICAgICB2YXIgY2lyY2xlX21hcmtlcl8xN2U2NDBjZDE5Y2Q0NGE3ODcwYzAxOGE2Y2Q0ODY5NCA9IEwuY2lyY2xlTWFya2VyKAogICAgICAgICAgICAgICAgWzQzLjcwOTU3NywgLTc5LjQ0NTA3MjU5OTk5OTk5XSwKICAgICAgICAgICAgICAgIHsiYnViYmxpbmdNb3VzZUV2ZW50cyI6IHRydWUsICJjb2xvciI6ICJibHVlIiwgImRhc2hBcnJheSI6IG51bGwsICJkYXNoT2Zmc2V0IjogbnVsbCwgImZpbGwiOiB0cnVlLCAiZmlsbENvbG9yIjogIiMzMTg2Y2MiLCAiZmlsbE9wYWNpdHkiOiAwLjcsICJmaWxsUnVsZSI6ICJldmVub2RkIiwgImxpbmVDYXAiOiAicm91bmQiLCAibGluZUpvaW4iOiAicm91bmQiLCAib3BhY2l0eSI6IDEuMCwgInJhZGl1cyI6IDUsICJzdHJva2UiOiB0cnVlLCAid2VpZ2h0IjogM30KICAgICAgICAgICAgKS5hZGRUbyhtYXBfMzVhYWNiMjJkMGFjNGY5M2JlMzMzYmJmM2M5MzdiNDEpOwogICAgICAgIAogICAgCiAgICAgICAgdmFyIHBvcHVwXzQyNzkxMGEwOTNmNDQ0MDU5NWU2M2UwNWUwMmU0OTgyID0gTC5wb3B1cCh7Im1heFdpZHRoIjogIjEwMCUifSk7CgogICAgICAgIAogICAgICAgICAgICB2YXIgaHRtbF8yNzJmZDFmOGI4MGE0MDY0OThlOWE4YjQxOWViNDM4YyA9ICQoYDxkaXYgaWQ9Imh0bWxfMjcyZmQxZjhiODBhNDA2NDk4ZTlhOGI0MTllYjQzOGMiIHN0eWxlPSJ3aWR0aDogMTAwLjAlOyBoZWlnaHQ6IDEwMC4wJTsiPkdsZW5jYWlybiwgTm9ydGggWW9yazwvZGl2PmApWzBdOwogICAgICAgICAgICBwb3B1cF80Mjc5MTBhMDkzZjQ0NDA1OTVlNjNlMDVlMDJlNDk4Mi5zZXRDb250ZW50KGh0bWxfMjcyZmQxZjhiODBhNDA2NDk4ZTlhOGI0MTllYjQzOGMpOwogICAgICAgIAoKICAgICAgICBjaXJjbGVfbWFya2VyXzE3ZTY0MGNkMTljZDQ0YTc4NzBjMDE4YTZjZDQ4Njk0LmJpbmRQb3B1cChwb3B1cF80Mjc5MTBhMDkzZjQ0NDA1OTVlNjNlMDVlMDJlNDk4MikKICAgICAgICA7CgogICAgICAgIAogICAgCiAgICAKICAgICAgICAgICAgdmFyIGNpcmNsZV9tYXJrZXJfNjk1NjQwNDE5OTBhNGM2ZTg1Njc5ZTg2NWY1NTQzZjEgPSBMLmNpcmNsZU1hcmtlcigKICAgICAgICAgICAgICAgIFs0My42OTM3ODEzLCAtNzkuNDI4MTkxNDAwMDAwMDJdLAogICAgICAgICAgICAgICAgeyJidWJibGluZ01vdXNlRXZlbnRzIjogdHJ1ZSwgImNvbG9yIjogImJsdWUiLCAiZGFzaEFycmF5IjogbnVsbCwgImRhc2hPZmZzZXQiOiBudWxsLCAiZmlsbCI6IHRydWUsICJmaWxsQ29sb3IiOiAiIzMxODZjYyIsICJmaWxsT3BhY2l0eSI6IDAuNywgImZpbGxSdWxlIjogImV2ZW5vZGQiLCAibGluZUNhcCI6ICJyb3VuZCIsICJsaW5lSm9pbiI6ICJyb3VuZCIsICJvcGFjaXR5IjogMS4wLCAicmFkaXVzIjogNSwgInN0cm9rZSI6IHRydWUsICJ3ZWlnaHQiOiAzfQogICAgICAgICAgICApLmFkZFRvKG1hcF8zNWFhY2IyMmQwYWM0ZjkzYmUzMzNiYmYzYzkzN2I0MSk7CiAgICAgICAgCiAgICAKICAgICAgICB2YXIgcG9wdXBfMmI5ZWQ1NWFiNDFiNGFhMzlhNjZiNWFhNmFiYWYxMjEgPSBMLnBvcHVwKHsibWF4V2lkdGgiOiAiMTAwJSJ9KTsKCiAgICAgICAgCiAgICAgICAgICAgIHZhciBodG1sXzQ5MzgxMzZiYzAwYzQ4MTA5NTgzNmI0YTRjNzRkOTcxID0gJChgPGRpdiBpZD0iaHRtbF80OTM4MTM2YmMwMGM0ODEwOTU4MzZiNGE0Yzc0ZDk3MSIgc3R5bGU9IndpZHRoOiAxMDAuMCU7IGhlaWdodDogMTAwLjAlOyI+SHVtZXdvb2QtQ2VkYXJ2YWxlLCBZb3JrPC9kaXY+YClbMF07CiAgICAgICAgICAgIHBvcHVwXzJiOWVkNTVhYjQxYjRhYTM5YTY2YjVhYTZhYmFmMTIxLnNldENvbnRlbnQoaHRtbF80OTM4MTM2YmMwMGM0ODEwOTU4MzZiNGE0Yzc0ZDk3MSk7CiAgICAgICAgCgogICAgICAgIGNpcmNsZV9tYXJrZXJfNjk1NjQwNDE5OTBhNGM2ZTg1Njc5ZTg2NWY1NTQzZjEuYmluZFBvcHVwKHBvcHVwXzJiOWVkNTVhYjQxYjRhYTM5YTY2YjVhYTZhYmFmMTIxKQogICAgICAgIDsKCiAgICAgICAgCiAgICAKICAgIAogICAgICAgICAgICB2YXIgY2lyY2xlX21hcmtlcl8wYjU5NjdmMTA3MjQ0MzM2ODRmODg3ZjAxMzZjMTMxMyA9IEwuY2lyY2xlTWFya2VyKAogICAgICAgICAgICAgICAgWzQzLjY4OTAyNTYsIC03OS40NTM1MTJdLAogICAgICAgICAgICAgICAgeyJidWJibGluZ01vdXNlRXZlbnRzIjogdHJ1ZSwgImNvbG9yIjogImJsdWUiLCAiZGFzaEFycmF5IjogbnVsbCwgImRhc2hPZmZzZXQiOiBudWxsLCAiZmlsbCI6IHRydWUsICJmaWxsQ29sb3IiOiAiIzMxODZjYyIsICJmaWxsT3BhY2l0eSI6IDAuNywgImZpbGxSdWxlIjogImV2ZW5vZGQiLCAibGluZUNhcCI6ICJyb3VuZCIsICJsaW5lSm9pbiI6ICJyb3VuZCIsICJvcGFjaXR5IjogMS4wLCAicmFkaXVzIjogNSwgInN0cm9rZSI6IHRydWUsICJ3ZWlnaHQiOiAzfQogICAgICAgICAgICApLmFkZFRvKG1hcF8zNWFhY2IyMmQwYWM0ZjkzYmUzMzNiYmYzYzkzN2I0MSk7CiAgICAgICAgCiAgICAKICAgICAgICB2YXIgcG9wdXBfNjBmZjBjM2M5NjFlNDc3Yzk2MDk5ZWNkOTFjOGQyMjggPSBMLnBvcHVwKHsibWF4V2lkdGgiOiAiMTAwJSJ9KTsKCiAgICAgICAgCiAgICAgICAgICAgIHZhciBodG1sXzI0NGU2OTg2YzE0ZTRiNDViOGQzMGE3MDc4OGYyMjE0ID0gJChgPGRpdiBpZD0iaHRtbF8yNDRlNjk4NmMxNGU0YjQ1YjhkMzBhNzA3ODhmMjIxNCIgc3R5bGU9IndpZHRoOiAxMDAuMCU7IGhlaWdodDogMTAwLjAlOyI+Q2FsZWRvbmlhLUZhaXJiYW5rcywgWW9yazwvZGl2PmApWzBdOwogICAgICAgICAgICBwb3B1cF82MGZmMGMzYzk2MWU0NzdjOTYwOTllY2Q5MWM4ZDIyOC5zZXRDb250ZW50KGh0bWxfMjQ0ZTY5ODZjMTRlNGI0NWI4ZDMwYTcwNzg4ZjIyMTQpOwogICAgICAgIAoKICAgICAgICBjaXJjbGVfbWFya2VyXzBiNTk2N2YxMDcyNDQzMzY4NGY4ODdmMDEzNmMxMzEzLmJpbmRQb3B1cChwb3B1cF82MGZmMGMzYzk2MWU0NzdjOTYwOTllY2Q5MWM4ZDIyOCkKICAgICAgICA7CgogICAgICAgIAogICAgCiAgICAKICAgICAgICAgICAgdmFyIGNpcmNsZV9tYXJrZXJfMjlmMzVmMDA1ODU5NDJkY2JhMGYyZGNkYTI4NjU4MjMgPSBMLmNpcmNsZU1hcmtlcigKICAgICAgICAgICAgICAgIFs0My42Njk1NDIsIC03OS40MjI1NjM3XSwKICAgICAgICAgICAgICAgIHsiYnViYmxpbmdNb3VzZUV2ZW50cyI6IHRydWUsICJjb2xvciI6ICJibHVlIiwgImRhc2hBcnJheSI6IG51bGwsICJkYXNoT2Zmc2V0IjogbnVsbCwgImZpbGwiOiB0cnVlLCAiZmlsbENvbG9yIjogIiMzMTg2Y2MiLCAiZmlsbE9wYWNpdHkiOiAwLjcsICJmaWxsUnVsZSI6ICJldmVub2RkIiwgImxpbmVDYXAiOiAicm91bmQiLCAibGluZUpvaW4iOiAicm91bmQiLCAib3BhY2l0eSI6IDEuMCwgInJhZGl1cyI6IDUsICJzdHJva2UiOiB0cnVlLCAid2VpZ2h0IjogM30KICAgICAgICAgICAgKS5hZGRUbyhtYXBfMzVhYWNiMjJkMGFjNGY5M2JlMzMzYmJmM2M5MzdiNDEpOwogICAgICAgIAogICAgCiAgICAgICAgdmFyIHBvcHVwXzFmYzJhZTM3NjZjMDQ3YzU5NmYxNzhhMTcyMmE0NmY5ID0gTC5wb3B1cCh7Im1heFdpZHRoIjogIjEwMCUifSk7CgogICAgICAgIAogICAgICAgICAgICB2YXIgaHRtbF8xOGZiZGFkMWQ2Zjc0YTYyYTgwMDNlN2Y2YjkxY2JjNyA9ICQoYDxkaXYgaWQ9Imh0bWxfMThmYmRhZDFkNmY3NGE2MmE4MDAzZTdmNmI5MWNiYzciIHN0eWxlPSJ3aWR0aDogMTAwLjAlOyBoZWlnaHQ6IDEwMC4wJTsiPkNocmlzdGllLCBEb3dudG93biBUb3JvbnRvPC9kaXY+YClbMF07CiAgICAgICAgICAgIHBvcHVwXzFmYzJhZTM3NjZjMDQ3YzU5NmYxNzhhMTcyMmE0NmY5LnNldENvbnRlbnQoaHRtbF8xOGZiZGFkMWQ2Zjc0YTYyYTgwMDNlN2Y2YjkxY2JjNyk7CiAgICAgICAgCgogICAgICAgIGNpcmNsZV9tYXJrZXJfMjlmMzVmMDA1ODU5NDJkY2JhMGYyZGNkYTI4NjU4MjMuYmluZFBvcHVwKHBvcHVwXzFmYzJhZTM3NjZjMDQ3YzU5NmYxNzhhMTcyMmE0NmY5KQogICAgICAgIDsKCiAgICAgICAgCiAgICAKICAgIAogICAgICAgICAgICB2YXIgY2lyY2xlX21hcmtlcl8wMDBlMDIyZmQwZWI0Y2ZmOTc2YmM3MTE4ZjFiYzdjMyA9IEwuY2lyY2xlTWFya2VyKAogICAgICAgICAgICAgICAgWzQzLjY2OTAwNTEwMDAwMDAxLCAtNzkuNDQyMjU5M10sCiAgICAgICAgICAgICAgICB7ImJ1YmJsaW5nTW91c2VFdmVudHMiOiB0cnVlLCAiY29sb3IiOiAiYmx1ZSIsICJkYXNoQXJyYXkiOiBudWxsLCAiZGFzaE9mZnNldCI6IG51bGwsICJmaWxsIjogdHJ1ZSwgImZpbGxDb2xvciI6ICIjMzE4NmNjIiwgImZpbGxPcGFjaXR5IjogMC43LCAiZmlsbFJ1bGUiOiAiZXZlbm9kZCIsICJsaW5lQ2FwIjogInJvdW5kIiwgImxpbmVKb2luIjogInJvdW5kIiwgIm9wYWNpdHkiOiAxLjAsICJyYWRpdXMiOiA1LCAic3Ryb2tlIjogdHJ1ZSwgIndlaWdodCI6IDN9CiAgICAgICAgICAgICkuYWRkVG8obWFwXzM1YWFjYjIyZDBhYzRmOTNiZTMzM2JiZjNjOTM3YjQxKTsKICAgICAgICAKICAgIAogICAgICAgIHZhciBwb3B1cF80OTY3ODBkNzU0ZDI0OThmOTdmYWMzMGRiZDNmZWI5MyA9IEwucG9wdXAoeyJtYXhXaWR0aCI6ICIxMDAlIn0pOwoKICAgICAgICAKICAgICAgICAgICAgdmFyIGh0bWxfNDIwYzU3ZjJmNGY0NDJjODk4OWY4ZTEzOTg4ODA4YjcgPSAkKGA8ZGl2IGlkPSJodG1sXzQyMGM1N2YyZjRmNDQyYzg5ODlmOGUxMzk4ODgwOGI3IiBzdHlsZT0id2lkdGg6IDEwMC4wJTsgaGVpZ2h0OiAxMDAuMCU7Ij5Eb3ZlcmNvdXJ0IFZpbGxhZ2UsIER1ZmZlcmluLCBXZXN0IFRvcm9udG88L2Rpdj5gKVswXTsKICAgICAgICAgICAgcG9wdXBfNDk2NzgwZDc1NGQyNDk4Zjk3ZmFjMzBkYmQzZmViOTMuc2V0Q29udGVudChodG1sXzQyMGM1N2YyZjRmNDQyYzg5ODlmOGUxMzk4ODgwOGI3KTsKICAgICAgICAKCiAgICAgICAgY2lyY2xlX21hcmtlcl8wMDBlMDIyZmQwZWI0Y2ZmOTc2YmM3MTE4ZjFiYzdjMy5iaW5kUG9wdXAocG9wdXBfNDk2NzgwZDc1NGQyNDk4Zjk3ZmFjMzBkYmQzZmViOTMpCiAgICAgICAgOwoKICAgICAgICAKICAgIAogICAgCiAgICAgICAgICAgIHZhciBjaXJjbGVfbWFya2VyXzU5MmZiMzY1ODdjNzQwYWM4YmFhZTUyNGE1YzQzMDk0ID0gTC5jaXJjbGVNYXJrZXIoCiAgICAgICAgICAgICAgICBbNDMuNjQ3OTI2NzAwMDAwMDA2LCAtNzkuNDE5NzQ5N10sCiAgICAgICAgICAgICAgICB7ImJ1YmJsaW5nTW91c2VFdmVudHMiOiB0cnVlLCAiY29sb3IiOiAiYmx1ZSIsICJkYXNoQXJyYXkiOiBudWxsLCAiZGFzaE9mZnNldCI6IG51bGwsICJmaWxsIjogdHJ1ZSwgImZpbGxDb2xvciI6ICIjMzE4NmNjIiwgImZpbGxPcGFjaXR5IjogMC43LCAiZmlsbFJ1bGUiOiAiZXZlbm9kZCIsICJsaW5lQ2FwIjogInJvdW5kIiwgImxpbmVKb2luIjogInJvdW5kIiwgIm9wYWNpdHkiOiAxLjAsICJyYWRpdXMiOiA1LCAic3Ryb2tlIjogdHJ1ZSwgIndlaWdodCI6IDN9CiAgICAgICAgICAgICkuYWRkVG8obWFwXzM1YWFjYjIyZDBhYzRmOTNiZTMzM2JiZjNjOTM3YjQxKTsKICAgICAgICAKICAgIAogICAgICAgIHZhciBwb3B1cF84OTE5ZjM1YThkNzE0YWE2YmQ5MTk4MjJhOTJmMDUyNCA9IEwucG9wdXAoeyJtYXhXaWR0aCI6ICIxMDAlIn0pOwoKICAgICAgICAKICAgICAgICAgICAgdmFyIGh0bWxfNzUyNjAwZDc5OTVmNDIxOThlZjcwOWE3YmVlNjg0ZmMgPSAkKGA8ZGl2IGlkPSJodG1sXzc1MjYwMGQ3OTk1ZjQyMTk4ZWY3MDlhN2JlZTY4NGZjIiBzdHlsZT0id2lkdGg6IDEwMC4wJTsgaGVpZ2h0OiAxMDAuMCU7Ij5MaXR0bGUgUG9ydHVnYWwsIFRyaW5pdHksIFdlc3QgVG9yb250bzwvZGl2PmApWzBdOwogICAgICAgICAgICBwb3B1cF84OTE5ZjM1YThkNzE0YWE2YmQ5MTk4MjJhOTJmMDUyNC5zZXRDb250ZW50KGh0bWxfNzUyNjAwZDc5OTVmNDIxOThlZjcwOWE3YmVlNjg0ZmMpOwogICAgICAgIAoKICAgICAgICBjaXJjbGVfbWFya2VyXzU5MmZiMzY1ODdjNzQwYWM4YmFhZTUyNGE1YzQzMDk0LmJpbmRQb3B1cChwb3B1cF84OTE5ZjM1YThkNzE0YWE2YmQ5MTk4MjJhOTJmMDUyNCkKICAgICAgICA7CgogICAgICAgIAogICAgCiAgICAKICAgICAgICAgICAgdmFyIGNpcmNsZV9tYXJrZXJfYjkxYjFkODU5MTdhNDM5YzgzOTZhN2YxN2EwNjYwYjcgPSBMLmNpcmNsZU1hcmtlcigKICAgICAgICAgICAgICAgIFs0My42MzY4NDcyLCAtNzkuNDI4MTkxNDAwMDAwMDJdLAogICAgICAgICAgICAgICAgeyJidWJibGluZ01vdXNlRXZlbnRzIjogdHJ1ZSwgImNvbG9yIjogImJsdWUiLCAiZGFzaEFycmF5IjogbnVsbCwgImRhc2hPZmZzZXQiOiBudWxsLCAiZmlsbCI6IHRydWUsICJmaWxsQ29sb3IiOiAiIzMxODZjYyIsICJmaWxsT3BhY2l0eSI6IDAuNywgImZpbGxSdWxlIjogImV2ZW5vZGQiLCAibGluZUNhcCI6ICJyb3VuZCIsICJsaW5lSm9pbiI6ICJyb3VuZCIsICJvcGFjaXR5IjogMS4wLCAicmFkaXVzIjogNSwgInN0cm9rZSI6IHRydWUsICJ3ZWlnaHQiOiAzfQogICAgICAgICAgICApLmFkZFRvKG1hcF8zNWFhY2IyMmQwYWM0ZjkzYmUzMzNiYmYzYzkzN2I0MSk7CiAgICAgICAgCiAgICAKICAgICAgICB2YXIgcG9wdXBfZGE4YWI2ZGUxYjUxNDNiMzg2N2IwNzZjYWNkYTg0OGYgPSBMLnBvcHVwKHsibWF4V2lkdGgiOiAiMTAwJSJ9KTsKCiAgICAgICAgCiAgICAgICAgICAgIHZhciBodG1sXzVhZDkzZTRjMDI3NTQ3NDY4YTBlNjRjZjk4ZmI2NjljID0gJChgPGRpdiBpZD0iaHRtbF81YWQ5M2U0YzAyNzU0NzQ2OGEwZTY0Y2Y5OGZiNjY5YyIgc3R5bGU9IndpZHRoOiAxMDAuMCU7IGhlaWdodDogMTAwLjAlOyI+QnJvY2t0b24sIEV4aGliaXRpb24gUGxhY2UsIFBhcmtkYWxlIFZpbGxhZ2UsIFdlc3QgVG9yb250bzwvZGl2PmApWzBdOwogICAgICAgICAgICBwb3B1cF9kYThhYjZkZTFiNTE0M2IzODY3YjA3NmNhY2RhODQ4Zi5zZXRDb250ZW50KGh0bWxfNWFkOTNlNGMwMjc1NDc0NjhhMGU2NGNmOThmYjY2OWMpOwogICAgICAgIAoKICAgICAgICBjaXJjbGVfbWFya2VyX2I5MWIxZDg1OTE3YTQzOWM4Mzk2YTdmMTdhMDY2MGI3LmJpbmRQb3B1cChwb3B1cF9kYThhYjZkZTFiNTE0M2IzODY3YjA3NmNhY2RhODQ4ZikKICAgICAgICA7CgogICAgICAgIAogICAgCiAgICAKICAgICAgICAgICAgdmFyIGNpcmNsZV9tYXJrZXJfMTYwOWZjMzgzMzU2NDliODkxMzk5ZjYzNDQxNzVjMjYgPSBMLmNpcmNsZU1hcmtlcigKICAgICAgICAgICAgICAgIFs0My43MTM3NTYyMDAwMDAwMDYsIC03OS40OTAwNzM4XSwKICAgICAgICAgICAgICAgIHsiYnViYmxpbmdNb3VzZUV2ZW50cyI6IHRydWUsICJjb2xvciI6ICJibHVlIiwgImRhc2hBcnJheSI6IG51bGwsICJkYXNoT2Zmc2V0IjogbnVsbCwgImZpbGwiOiB0cnVlLCAiZmlsbENvbG9yIjogIiMzMTg2Y2MiLCAiZmlsbE9wYWNpdHkiOiAwLjcsICJmaWxsUnVsZSI6ICJldmVub2RkIiwgImxpbmVDYXAiOiAicm91bmQiLCAibGluZUpvaW4iOiAicm91bmQiLCAib3BhY2l0eSI6IDEuMCwgInJhZGl1cyI6IDUsICJzdHJva2UiOiB0cnVlLCAid2VpZ2h0IjogM30KICAgICAgICAgICAgKS5hZGRUbyhtYXBfMzVhYWNiMjJkMGFjNGY5M2JlMzMzYmJmM2M5MzdiNDEpOwogICAgICAgIAogICAgCiAgICAgICAgdmFyIHBvcHVwX2NkMzE3NWIwMzJjMjQzMTE4MzMwYmI2Yjk2NjRiYTYwID0gTC5wb3B1cCh7Im1heFdpZHRoIjogIjEwMCUifSk7CgogICAgICAgIAogICAgICAgICAgICB2YXIgaHRtbF9kMmIzZjY1ZjFkYjU0OGY3OTRkYmJkYWI5MzljOGZkYSA9ICQoYDxkaXYgaWQ9Imh0bWxfZDJiM2Y2NWYxZGI1NDhmNzk0ZGJiZGFiOTM5YzhmZGEiIHN0eWxlPSJ3aWR0aDogMTAwLjAlOyBoZWlnaHQ6IDEwMC4wJTsiPkRvd25zdmlldywgTm9ydGggUGFyaywgVXB3b29kIFBhcmssIE5vcnRoIFlvcms8L2Rpdj5gKVswXTsKICAgICAgICAgICAgcG9wdXBfY2QzMTc1YjAzMmMyNDMxMTgzMzBiYjZiOTY2NGJhNjAuc2V0Q29udGVudChodG1sX2QyYjNmNjVmMWRiNTQ4Zjc5NGRiYmRhYjkzOWM4ZmRhKTsKICAgICAgICAKCiAgICAgICAgY2lyY2xlX21hcmtlcl8xNjA5ZmMzODMzNTY0OWI4OTEzOTlmNjM0NDE3NWMyNi5iaW5kUG9wdXAocG9wdXBfY2QzMTc1YjAzMmMyNDMxMTgzMzBiYjZiOTY2NGJhNjApCiAgICAgICAgOwoKICAgICAgICAKICAgIAogICAgCiAgICAgICAgICAgIHZhciBjaXJjbGVfbWFya2VyX2E2OGVjZmYyMTdmZTQyYTE4OGVjNmJmMTc0OGM4MDU3ID0gTC5jaXJjbGVNYXJrZXIoCiAgICAgICAgICAgICAgICBbNDMuNjkxMTE1OCwgLTc5LjQ3NjAxMzI5OTk5OTk5XSwKICAgICAgICAgICAgICAgIHsiYnViYmxpbmdNb3VzZUV2ZW50cyI6IHRydWUsICJjb2xvciI6ICJibHVlIiwgImRhc2hBcnJheSI6IG51bGwsICJkYXNoT2Zmc2V0IjogbnVsbCwgImZpbGwiOiB0cnVlLCAiZmlsbENvbG9yIjogIiMzMTg2Y2MiLCAiZmlsbE9wYWNpdHkiOiAwLjcsICJmaWxsUnVsZSI6ICJldmVub2RkIiwgImxpbmVDYXAiOiAicm91bmQiLCAibGluZUpvaW4iOiAicm91bmQiLCAib3BhY2l0eSI6IDEuMCwgInJhZGl1cyI6IDUsICJzdHJva2UiOiB0cnVlLCAid2VpZ2h0IjogM30KICAgICAgICAgICAgKS5hZGRUbyhtYXBfMzVhYWNiMjJkMGFjNGY5M2JlMzMzYmJmM2M5MzdiNDEpOwogICAgICAgIAogICAgCiAgICAgICAgdmFyIHBvcHVwXzAzMDVmNWY2NjQ3MTQ2NTk4ZDE5ODg0NWQ2MDhjYzNlID0gTC5wb3B1cCh7Im1heFdpZHRoIjogIjEwMCUifSk7CgogICAgICAgIAogICAgICAgICAgICB2YXIgaHRtbF9kOGRkZGY1YTBiYWQ0NjE3YWNlN2Q0M2U5NmUxNTViYiA9ICQoYDxkaXYgaWQ9Imh0bWxfZDhkZGRmNWEwYmFkNDYxN2FjZTdkNDNlOTZlMTU1YmIiIHN0eWxlPSJ3aWR0aDogMTAwLjAlOyBoZWlnaHQ6IDEwMC4wJTsiPkRlbCBSYXksIEtlZWxlc2RhbGUsIE1vdW50IERlbm5pcywgU2lsdmVydGhvcm4sIFlvcms8L2Rpdj5gKVswXTsKICAgICAgICAgICAgcG9wdXBfMDMwNWY1ZjY2NDcxNDY1OThkMTk4ODQ1ZDYwOGNjM2Uuc2V0Q29udGVudChodG1sX2Q4ZGRkZjVhMGJhZDQ2MTdhY2U3ZDQzZTk2ZTE1NWJiKTsKICAgICAgICAKCiAgICAgICAgY2lyY2xlX21hcmtlcl9hNjhlY2ZmMjE3ZmU0MmExODhlYzZiZjE3NDhjODA1Ny5iaW5kUG9wdXAocG9wdXBfMDMwNWY1ZjY2NDcxNDY1OThkMTk4ODQ1ZDYwOGNjM2UpCiAgICAgICAgOwoKICAgICAgICAKICAgIAogICAgCiAgICAgICAgICAgIHZhciBjaXJjbGVfbWFya2VyXzE3MGI2NWU5ODE3NjQwZDU4YjE0ZjQ1MzljODVkZTFiID0gTC5jaXJjbGVNYXJrZXIoCiAgICAgICAgICAgICAgICBbNDMuNjczMTg1Mjk5OTk5OTksIC03OS40ODcyNjE5MDAwMDAwMV0sCiAgICAgICAgICAgICAgICB7ImJ1YmJsaW5nTW91c2VFdmVudHMiOiB0cnVlLCAiY29sb3IiOiAiYmx1ZSIsICJkYXNoQXJyYXkiOiBudWxsLCAiZGFzaE9mZnNldCI6IG51bGwsICJmaWxsIjogdHJ1ZSwgImZpbGxDb2xvciI6ICIjMzE4NmNjIiwgImZpbGxPcGFjaXR5IjogMC43LCAiZmlsbFJ1bGUiOiAiZXZlbm9kZCIsICJsaW5lQ2FwIjogInJvdW5kIiwgImxpbmVKb2luIjogInJvdW5kIiwgIm9wYWNpdHkiOiAxLjAsICJyYWRpdXMiOiA1LCAic3Ryb2tlIjogdHJ1ZSwgIndlaWdodCI6IDN9CiAgICAgICAgICAgICkuYWRkVG8obWFwXzM1YWFjYjIyZDBhYzRmOTNiZTMzM2JiZjNjOTM3YjQxKTsKICAgICAgICAKICAgIAogICAgICAgIHZhciBwb3B1cF9mNDlhOTY0N2JhYjg0ZmJhOTZlODI0MzUyMjg0NWE2MiA9IEwucG9wdXAoeyJtYXhXaWR0aCI6ICIxMDAlIn0pOwoKICAgICAgICAKICAgICAgICAgICAgdmFyIGh0bWxfZGVjNmU2ZjM2YWM1NDE5Y2FiNzkxMDE0ZjEyNmI4ZDYgPSAkKGA8ZGl2IGlkPSJodG1sX2RlYzZlNmYzNmFjNTQxOWNhYjc5MTAxNGYxMjZiOGQ2IiBzdHlsZT0id2lkdGg6IDEwMC4wJTsgaGVpZ2h0OiAxMDAuMCU7Ij5UaGUgSnVuY3Rpb24gTm9ydGgsIFJ1bm55bWVkZSwgWW9yazwvZGl2PmApWzBdOwogICAgICAgICAgICBwb3B1cF9mNDlhOTY0N2JhYjg0ZmJhOTZlODI0MzUyMjg0NWE2Mi5zZXRDb250ZW50KGh0bWxfZGVjNmU2ZjM2YWM1NDE5Y2FiNzkxMDE0ZjEyNmI4ZDYpOwogICAgICAgIAoKICAgICAgICBjaXJjbGVfbWFya2VyXzE3MGI2NWU5ODE3NjQwZDU4YjE0ZjQ1MzljODVkZTFiLmJpbmRQb3B1cChwb3B1cF9mNDlhOTY0N2JhYjg0ZmJhOTZlODI0MzUyMjg0NWE2MikKICAgICAgICA7CgogICAgICAgIAogICAgCiAgICAKICAgICAgICAgICAgdmFyIGNpcmNsZV9tYXJrZXJfOTJjYjMyYTkzNzM0NDI3MjllMDMyMmRlNWM2NzU2NzcgPSBMLmNpcmNsZU1hcmtlcigKICAgICAgICAgICAgICAgIFs0My42NjE2MDgzLCAtNzkuNDY0NzYzMjk5OTk5OTldLAogICAgICAgICAgICAgICAgeyJidWJibGluZ01vdXNlRXZlbnRzIjogdHJ1ZSwgImNvbG9yIjogImJsdWUiLCAiZGFzaEFycmF5IjogbnVsbCwgImRhc2hPZmZzZXQiOiBudWxsLCAiZmlsbCI6IHRydWUsICJmaWxsQ29sb3IiOiAiIzMxODZjYyIsICJmaWxsT3BhY2l0eSI6IDAuNywgImZpbGxSdWxlIjogImV2ZW5vZGQiLCAibGluZUNhcCI6ICJyb3VuZCIsICJsaW5lSm9pbiI6ICJyb3VuZCIsICJvcGFjaXR5IjogMS4wLCAicmFkaXVzIjogNSwgInN0cm9rZSI6IHRydWUsICJ3ZWlnaHQiOiAzfQogICAgICAgICAgICApLmFkZFRvKG1hcF8zNWFhY2IyMmQwYWM0ZjkzYmUzMzNiYmYzYzkzN2I0MSk7CiAgICAgICAgCiAgICAKICAgICAgICB2YXIgcG9wdXBfYzFlZTBmZTNmZWE3NGEzODkzNTU0NjBlNzU4Yjk4ZTggPSBMLnBvcHVwKHsibWF4V2lkdGgiOiAiMTAwJSJ9KTsKCiAgICAgICAgCiAgICAgICAgICAgIHZhciBodG1sXzA2MWJhOTEwNDgzYTQ3ZDliMGMwMThkYjNkMWM2ZGJiID0gJChgPGRpdiBpZD0iaHRtbF8wNjFiYTkxMDQ4M2E0N2Q5YjBjMDE4ZGIzZDFjNmRiYiIgc3R5bGU9IndpZHRoOiAxMDAuMCU7IGhlaWdodDogMTAwLjAlOyI+SGlnaCBQYXJrLCBUaGUgSnVuY3Rpb24gU291dGgsIFdlc3QgVG9yb250bzwvZGl2PmApWzBdOwogICAgICAgICAgICBwb3B1cF9jMWVlMGZlM2ZlYTc0YTM4OTM1NTQ2MGU3NThiOThlOC5zZXRDb250ZW50KGh0bWxfMDYxYmE5MTA0ODNhNDdkOWIwYzAxOGRiM2QxYzZkYmIpOwogICAgICAgIAoKICAgICAgICBjaXJjbGVfbWFya2VyXzkyY2IzMmE5MzczNDQyNzI5ZTAzMjJkZTVjNjc1Njc3LmJpbmRQb3B1cChwb3B1cF9jMWVlMGZlM2ZlYTc0YTM4OTM1NTQ2MGU3NThiOThlOCkKICAgICAgICA7CgogICAgICAgIAogICAgCiAgICAKICAgICAgICAgICAgdmFyIGNpcmNsZV9tYXJrZXJfMGI0NjIxOWJlZDY5NDUzOGI2Y2U1NDY3NGViMGEwNDQgPSBMLmNpcmNsZU1hcmtlcigKICAgICAgICAgICAgICAgIFs0My42NDg5NTk3LCAtNzkuNDU2MzI1XSwKICAgICAgICAgICAgICAgIHsiYnViYmxpbmdNb3VzZUV2ZW50cyI6IHRydWUsICJjb2xvciI6ICJibHVlIiwgImRhc2hBcnJheSI6IG51bGwsICJkYXNoT2Zmc2V0IjogbnVsbCwgImZpbGwiOiB0cnVlLCAiZmlsbENvbG9yIjogIiMzMTg2Y2MiLCAiZmlsbE9wYWNpdHkiOiAwLjcsICJmaWxsUnVsZSI6ICJldmVub2RkIiwgImxpbmVDYXAiOiAicm91bmQiLCAibGluZUpvaW4iOiAicm91bmQiLCAib3BhY2l0eSI6IDEuMCwgInJhZGl1cyI6IDUsICJzdHJva2UiOiB0cnVlLCAid2VpZ2h0IjogM30KICAgICAgICAgICAgKS5hZGRUbyhtYXBfMzVhYWNiMjJkMGFjNGY5M2JlMzMzYmJmM2M5MzdiNDEpOwogICAgICAgIAogICAgCiAgICAgICAgdmFyIHBvcHVwXzdkMWJjY2E4NGMxZjQ2MWRhODAyNzAzMDM2M2M4NmQ1ID0gTC5wb3B1cCh7Im1heFdpZHRoIjogIjEwMCUifSk7CgogICAgICAgIAogICAgICAgICAgICB2YXIgaHRtbF8yMWMyMzcyMjQxODY0N2ZmOTFkZGM2MGQ1ZDUzYzM3MSA9ICQoYDxkaXYgaWQ9Imh0bWxfMjFjMjM3MjI0MTg2NDdmZjkxZGRjNjBkNWQ1M2MzNzEiIHN0eWxlPSJ3aWR0aDogMTAwLjAlOyBoZWlnaHQ6IDEwMC4wJTsiPlBhcmtkYWxlLCBSb25jZXN2YWxsZXMsIFdlc3QgVG9yb250bzwvZGl2PmApWzBdOwogICAgICAgICAgICBwb3B1cF83ZDFiY2NhODRjMWY0NjFkYTgwMjcwMzAzNjNjODZkNS5zZXRDb250ZW50KGh0bWxfMjFjMjM3MjI0MTg2NDdmZjkxZGRjNjBkNWQ1M2MzNzEpOwogICAgICAgIAoKICAgICAgICBjaXJjbGVfbWFya2VyXzBiNDYyMTliZWQ2OTQ1MzhiNmNlNTQ2NzRlYjBhMDQ0LmJpbmRQb3B1cChwb3B1cF83ZDFiY2NhODRjMWY0NjFkYTgwMjcwMzAzNjNjODZkNSkKICAgICAgICA7CgogICAgICAgIAogICAgCiAgICAKICAgICAgICAgICAgdmFyIGNpcmNsZV9tYXJrZXJfZjVhZTdiN2FkZTYzNDA0YTljMDNiYWE4ZjgzMDcwZTggPSBMLmNpcmNsZU1hcmtlcigKICAgICAgICAgICAgICAgIFs0My42NTE1NzA2LCAtNzkuNDg0NDQ5OV0sCiAgICAgICAgICAgICAgICB7ImJ1YmJsaW5nTW91c2VFdmVudHMiOiB0cnVlLCAiY29sb3IiOiAiYmx1ZSIsICJkYXNoQXJyYXkiOiBudWxsLCAiZGFzaE9mZnNldCI6IG51bGwsICJmaWxsIjogdHJ1ZSwgImZpbGxDb2xvciI6ICIjMzE4NmNjIiwgImZpbGxPcGFjaXR5IjogMC43LCAiZmlsbFJ1bGUiOiAiZXZlbm9kZCIsICJsaW5lQ2FwIjogInJvdW5kIiwgImxpbmVKb2luIjogInJvdW5kIiwgIm9wYWNpdHkiOiAxLjAsICJyYWRpdXMiOiA1LCAic3Ryb2tlIjogdHJ1ZSwgIndlaWdodCI6IDN9CiAgICAgICAgICAgICkuYWRkVG8obWFwXzM1YWFjYjIyZDBhYzRmOTNiZTMzM2JiZjNjOTM3YjQxKTsKICAgICAgICAKICAgIAogICAgICAgIHZhciBwb3B1cF9mZWIzZDk3MDEyYTA0NmYwYjdkMjAxOWQzNWMxYjQ3ZiA9IEwucG9wdXAoeyJtYXhXaWR0aCI6ICIxMDAlIn0pOwoKICAgICAgICAKICAgICAgICAgICAgdmFyIGh0bWxfNzcwNmFhZWU4ODc3NDllMTgwYzI4MWRjYjcwZDM1MmEgPSAkKGA8ZGl2IGlkPSJodG1sXzc3MDZhYWVlODg3NzQ5ZTE4MGMyODFkY2I3MGQzNTJhIiBzdHlsZT0id2lkdGg6IDEwMC4wJTsgaGVpZ2h0OiAxMDAuMCU7Ij5SdW5ueW1lZGUsIFN3YW5zZWEsIFdlc3QgVG9yb250bzwvZGl2PmApWzBdOwogICAgICAgICAgICBwb3B1cF9mZWIzZDk3MDEyYTA0NmYwYjdkMjAxOWQzNWMxYjQ3Zi5zZXRDb250ZW50KGh0bWxfNzcwNmFhZWU4ODc3NDllMTgwYzI4MWRjYjcwZDM1MmEpOwogICAgICAgIAoKICAgICAgICBjaXJjbGVfbWFya2VyX2Y1YWU3YjdhZGU2MzQwNGE5YzAzYmFhOGY4MzA3MGU4LmJpbmRQb3B1cChwb3B1cF9mZWIzZDk3MDEyYTA0NmYwYjdkMjAxOWQzNWMxYjQ3ZikKICAgICAgICA7CgogICAgICAgIAogICAgCiAgICAKICAgICAgICAgICAgdmFyIGNpcmNsZV9tYXJrZXJfZWFiMTc4ZWY2NTAwNDQ4MDg2Yzg3MjEwZmZmZTg4M2YgPSBMLmNpcmNsZU1hcmtlcigKICAgICAgICAgICAgICAgIFs0My42NjIzMDE1LCAtNzkuMzg5NDkzOF0sCiAgICAgICAgICAgICAgICB7ImJ1YmJsaW5nTW91c2VFdmVudHMiOiB0cnVlLCAiY29sb3IiOiAiYmx1ZSIsICJkYXNoQXJyYXkiOiBudWxsLCAiZGFzaE9mZnNldCI6IG51bGwsICJmaWxsIjogdHJ1ZSwgImZpbGxDb2xvciI6ICIjMzE4NmNjIiwgImZpbGxPcGFjaXR5IjogMC43LCAiZmlsbFJ1bGUiOiAiZXZlbm9kZCIsICJsaW5lQ2FwIjogInJvdW5kIiwgImxpbmVKb2luIjogInJvdW5kIiwgIm9wYWNpdHkiOiAxLjAsICJyYWRpdXMiOiA1LCAic3Ryb2tlIjogdHJ1ZSwgIndlaWdodCI6IDN9CiAgICAgICAgICAgICkuYWRkVG8obWFwXzM1YWFjYjIyZDBhYzRmOTNiZTMzM2JiZjNjOTM3YjQxKTsKICAgICAgICAKICAgIAogICAgICAgIHZhciBwb3B1cF85MzY4ODgxYWI0M2E0OWE4YTA1MmIyZTdhNjViNzBiYiA9IEwucG9wdXAoeyJtYXhXaWR0aCI6ICIxMDAlIn0pOwoKICAgICAgICAKICAgICAgICAgICAgdmFyIGh0bWxfMjczYzgxNjA4NDk5NDc0MTg4Y2I3OTIyZmFmMWVmNzAgPSAkKGA8ZGl2IGlkPSJodG1sXzI3M2M4MTYwODQ5OTQ3NDE4OGNiNzkyMmZhZjFlZjcwIiBzdHlsZT0id2lkdGg6IDEwMC4wJTsgaGVpZ2h0OiAxMDAuMCU7Ij5RdWVlbiYjMzk7cyBQYXJrLCBRdWVlbiYjMzk7cyBQYXJrPC9kaXY+YClbMF07CiAgICAgICAgICAgIHBvcHVwXzkzNjg4ODFhYjQzYTQ5YThhMDUyYjJlN2E2NWI3MGJiLnNldENvbnRlbnQoaHRtbF8yNzNjODE2MDg0OTk0NzQxODhjYjc5MjJmYWYxZWY3MCk7CiAgICAgICAgCgogICAgICAgIGNpcmNsZV9tYXJrZXJfZWFiMTc4ZWY2NTAwNDQ4MDg2Yzg3MjEwZmZmZTg4M2YuYmluZFBvcHVwKHBvcHVwXzkzNjg4ODFhYjQzYTQ5YThhMDUyYjJlN2E2NWI3MGJiKQogICAgICAgIDsKCiAgICAgICAgCiAgICAKICAgIAogICAgICAgICAgICB2YXIgY2lyY2xlX21hcmtlcl8yYjE4NWJjZDEzMmY0ZjdmYjJmMGY2NThiZDg5ODUxOSA9IEwuY2lyY2xlTWFya2VyKAogICAgICAgICAgICAgICAgWzQzLjYzNjk2NTYsIC03OS42MTU4MTg5OTk5OTk5OV0sCiAgICAgICAgICAgICAgICB7ImJ1YmJsaW5nTW91c2VFdmVudHMiOiB0cnVlLCAiY29sb3IiOiAiYmx1ZSIsICJkYXNoQXJyYXkiOiBudWxsLCAiZGFzaE9mZnNldCI6IG51bGwsICJmaWxsIjogdHJ1ZSwgImZpbGxDb2xvciI6ICIjMzE4NmNjIiwgImZpbGxPcGFjaXR5IjogMC43LCAiZmlsbFJ1bGUiOiAiZXZlbm9kZCIsICJsaW5lQ2FwIjogInJvdW5kIiwgImxpbmVKb2luIjogInJvdW5kIiwgIm9wYWNpdHkiOiAxLjAsICJyYWRpdXMiOiA1LCAic3Ryb2tlIjogdHJ1ZSwgIndlaWdodCI6IDN9CiAgICAgICAgICAgICkuYWRkVG8obWFwXzM1YWFjYjIyZDBhYzRmOTNiZTMzM2JiZjNjOTM3YjQxKTsKICAgICAgICAKICAgIAogICAgICAgIHZhciBwb3B1cF8zNWNjNGQ0MWEwMTU0MzE1YjU2YTNjOGZhYzc4ZjhmYSA9IEwucG9wdXAoeyJtYXhXaWR0aCI6ICIxMDAlIn0pOwoKICAgICAgICAKICAgICAgICAgICAgdmFyIGh0bWxfNTg1MzM4OTdlZGUyNDNlY2E0MjM4NzVmNjE3MTllYTAgPSAkKGA8ZGl2IGlkPSJodG1sXzU4NTMzODk3ZWRlMjQzZWNhNDIzODc1ZjYxNzE5ZWEwIiBzdHlsZT0id2lkdGg6IDEwMC4wJTsgaGVpZ2h0OiAxMDAuMCU7Ij5DYW5hZGEgUG9zdCBHYXRld2F5IFByb2Nlc3NpbmcgQ2VudHJlLCBNaXNzaXNzYXVnYTwvZGl2PmApWzBdOwogICAgICAgICAgICBwb3B1cF8zNWNjNGQ0MWEwMTU0MzE1YjU2YTNjOGZhYzc4ZjhmYS5zZXRDb250ZW50KGh0bWxfNTg1MzM4OTdlZGUyNDNlY2E0MjM4NzVmNjE3MTllYTApOwogICAgICAgIAoKICAgICAgICBjaXJjbGVfbWFya2VyXzJiMTg1YmNkMTMyZjRmN2ZiMmYwZjY1OGJkODk4NTE5LmJpbmRQb3B1cChwb3B1cF8zNWNjNGQ0MWEwMTU0MzE1YjU2YTNjOGZhYzc4ZjhmYSkKICAgICAgICA7CgogICAgICAgIAogICAgCiAgICAKICAgICAgICAgICAgdmFyIGNpcmNsZV9tYXJrZXJfMzBjZTU5ODUyNmJmNDVkOWJhZjVkMzcyMjRjMDQ2MTUgPSBMLmNpcmNsZU1hcmtlcigKICAgICAgICAgICAgICAgIFs0My42NjI3NDM5LCAtNzkuMzIxNTU4XSwKICAgICAgICAgICAgICAgIHsiYnViYmxpbmdNb3VzZUV2ZW50cyI6IHRydWUsICJjb2xvciI6ICJibHVlIiwgImRhc2hBcnJheSI6IG51bGwsICJkYXNoT2Zmc2V0IjogbnVsbCwgImZpbGwiOiB0cnVlLCAiZmlsbENvbG9yIjogIiMzMTg2Y2MiLCAiZmlsbE9wYWNpdHkiOiAwLjcsICJmaWxsUnVsZSI6ICJldmVub2RkIiwgImxpbmVDYXAiOiAicm91bmQiLCAibGluZUpvaW4iOiAicm91bmQiLCAib3BhY2l0eSI6IDEuMCwgInJhZGl1cyI6IDUsICJzdHJva2UiOiB0cnVlLCAid2VpZ2h0IjogM30KICAgICAgICAgICAgKS5hZGRUbyhtYXBfMzVhYWNiMjJkMGFjNGY5M2JlMzMzYmJmM2M5MzdiNDEpOwogICAgICAgIAogICAgCiAgICAgICAgdmFyIHBvcHVwXzFlZGQ4ZTBmMzkxNzQwYmI5ZmVmYjNmNmMxZjg3ZDkxID0gTC5wb3B1cCh7Im1heFdpZHRoIjogIjEwMCUifSk7CgogICAgICAgIAogICAgICAgICAgICB2YXIgaHRtbF8yMWViZjZmMzExOWQ0MTcyYjUxY2Y1ZTA2MWU2ZWUxYSA9ICQoYDxkaXYgaWQ9Imh0bWxfMjFlYmY2ZjMxMTlkNDE3MmI1MWNmNWUwNjFlNmVlMWEiIHN0eWxlPSJ3aWR0aDogMTAwLjAlOyBoZWlnaHQ6IDEwMC4wJTsiPkJ1c2luZXNzIFJlcGx5IE1haWwgUHJvY2Vzc2luZyBDZW50cmUgOTY5IEVhc3Rlcm4sIEVhc3QgVG9yb250bzwvZGl2PmApWzBdOwogICAgICAgICAgICBwb3B1cF8xZWRkOGUwZjM5MTc0MGJiOWZlZmIzZjZjMWY4N2Q5MS5zZXRDb250ZW50KGh0bWxfMjFlYmY2ZjMxMTlkNDE3MmI1MWNmNWUwNjFlNmVlMWEpOwogICAgICAgIAoKICAgICAgICBjaXJjbGVfbWFya2VyXzMwY2U1OTg1MjZiZjQ1ZDliYWY1ZDM3MjI0YzA0NjE1LmJpbmRQb3B1cChwb3B1cF8xZWRkOGUwZjM5MTc0MGJiOWZlZmIzZjZjMWY4N2Q5MSkKICAgICAgICA7CgogICAgICAgIAogICAgCiAgICAKICAgICAgICAgICAgdmFyIGNpcmNsZV9tYXJrZXJfY2EwNzI3Yzk4YWM1NDliNjk1YzM5YzBlNzIyM2NkOWEgPSBMLmNpcmNsZU1hcmtlcigKICAgICAgICAgICAgICAgIFs0My42MDU2NDY2LCAtNzkuNTAxMzIwNzAwMDAwMDFdLAogICAgICAgICAgICAgICAgeyJidWJibGluZ01vdXNlRXZlbnRzIjogdHJ1ZSwgImNvbG9yIjogImJsdWUiLCAiZGFzaEFycmF5IjogbnVsbCwgImRhc2hPZmZzZXQiOiBudWxsLCAiZmlsbCI6IHRydWUsICJmaWxsQ29sb3IiOiAiIzMxODZjYyIsICJmaWxsT3BhY2l0eSI6IDAuNywgImZpbGxSdWxlIjogImV2ZW5vZGQiLCAibGluZUNhcCI6ICJyb3VuZCIsICJsaW5lSm9pbiI6ICJyb3VuZCIsICJvcGFjaXR5IjogMS4wLCAicmFkaXVzIjogNSwgInN0cm9rZSI6IHRydWUsICJ3ZWlnaHQiOiAzfQogICAgICAgICAgICApLmFkZFRvKG1hcF8zNWFhY2IyMmQwYWM0ZjkzYmUzMzNiYmYzYzkzN2I0MSk7CiAgICAgICAgCiAgICAKICAgICAgICB2YXIgcG9wdXBfZDM4YTliYzZlZGVlNDYwMjg0ZTQzNDhjZWRmODc2MjcgPSBMLnBvcHVwKHsibWF4V2lkdGgiOiAiMTAwJSJ9KTsKCiAgICAgICAgCiAgICAgICAgICAgIHZhciBodG1sXzZhMzIwZDUwN2RkYjQwMzdiNzZhMDM5NWUyMjgxYmFjID0gJChgPGRpdiBpZD0iaHRtbF82YTMyMGQ1MDdkZGI0MDM3Yjc2YTAzOTVlMjI4MWJhYyIgc3R5bGU9IndpZHRoOiAxMDAuMCU7IGhlaWdodDogMTAwLjAlOyI+SHVtYmVyIEJheSBTaG9yZXMsIE1pbWljbyBTb3V0aCwgTmV3IFRvcm9udG8sIEV0b2JpY29rZTwvZGl2PmApWzBdOwogICAgICAgICAgICBwb3B1cF9kMzhhOWJjNmVkZWU0NjAyODRlNDM0OGNlZGY4NzYyNy5zZXRDb250ZW50KGh0bWxfNmEzMjBkNTA3ZGRiNDAzN2I3NmEwMzk1ZTIyODFiYWMpOwogICAgICAgIAoKICAgICAgICBjaXJjbGVfbWFya2VyX2NhMDcyN2M5OGFjNTQ5YjY5NWMzOWMwZTcyMjNjZDlhLmJpbmRQb3B1cChwb3B1cF9kMzhhOWJjNmVkZWU0NjAyODRlNDM0OGNlZGY4NzYyNykKICAgICAgICA7CgogICAgICAgIAogICAgCiAgICAKICAgICAgICAgICAgdmFyIGNpcmNsZV9tYXJrZXJfNjAzZTkxYTliMjU1NDIyZDk5NzlkZmQzNDRiNzMzYzAgPSBMLmNpcmNsZU1hcmtlcigKICAgICAgICAgICAgICAgIFs0My42MDI0MTM3MDAwMDAwMSwgLTc5LjU0MzQ4NDA5OTk5OTk5XSwKICAgICAgICAgICAgICAgIHsiYnViYmxpbmdNb3VzZUV2ZW50cyI6IHRydWUsICJjb2xvciI6ICJibHVlIiwgImRhc2hBcnJheSI6IG51bGwsICJkYXNoT2Zmc2V0IjogbnVsbCwgImZpbGwiOiB0cnVlLCAiZmlsbENvbG9yIjogIiMzMTg2Y2MiLCAiZmlsbE9wYWNpdHkiOiAwLjcsICJmaWxsUnVsZSI6ICJldmVub2RkIiwgImxpbmVDYXAiOiAicm91bmQiLCAibGluZUpvaW4iOiAicm91bmQiLCAib3BhY2l0eSI6IDEuMCwgInJhZGl1cyI6IDUsICJzdHJva2UiOiB0cnVlLCAid2VpZ2h0IjogM30KICAgICAgICAgICAgKS5hZGRUbyhtYXBfMzVhYWNiMjJkMGFjNGY5M2JlMzMzYmJmM2M5MzdiNDEpOwogICAgICAgIAogICAgCiAgICAgICAgdmFyIHBvcHVwXzAwNDJmOGIwNTJlNzRlYTU5NGMwZTdkZDRhZWZmNDI2ID0gTC5wb3B1cCh7Im1heFdpZHRoIjogIjEwMCUifSk7CgogICAgICAgIAogICAgICAgICAgICB2YXIgaHRtbF85NGE0ZjY1OTMyOGU0YjZjOTc5M2Q1MWEwODIzZGVlYyA9ICQoYDxkaXYgaWQ9Imh0bWxfOTRhNGY2NTkzMjhlNGI2Yzk3OTNkNTFhMDgyM2RlZWMiIHN0eWxlPSJ3aWR0aDogMTAwLjAlOyBoZWlnaHQ6IDEwMC4wJTsiPkFsZGVyd29vZCwgTG9uZyBCcmFuY2gsIEV0b2JpY29rZTwvZGl2PmApWzBdOwogICAgICAgICAgICBwb3B1cF8wMDQyZjhiMDUyZTc0ZWE1OTRjMGU3ZGQ0YWVmZjQyNi5zZXRDb250ZW50KGh0bWxfOTRhNGY2NTkzMjhlNGI2Yzk3OTNkNTFhMDgyM2RlZWMpOwogICAgICAgIAoKICAgICAgICBjaXJjbGVfbWFya2VyXzYwM2U5MWE5YjI1NTQyMmQ5OTc5ZGZkMzQ0YjczM2MwLmJpbmRQb3B1cChwb3B1cF8wMDQyZjhiMDUyZTc0ZWE1OTRjMGU3ZGQ0YWVmZjQyNikKICAgICAgICA7CgogICAgICAgIAogICAgCiAgICAKICAgICAgICAgICAgdmFyIGNpcmNsZV9tYXJrZXJfOTRjMGIxN2NjZTViNDVjNjgxODljYzIzODY5ZDE2MzkgPSBMLmNpcmNsZU1hcmtlcigKICAgICAgICAgICAgICAgIFs0My42NTM2NTM2MDAwMDAwMDUsIC03OS41MDY5NDM2XSwKICAgICAgICAgICAgICAgIHsiYnViYmxpbmdNb3VzZUV2ZW50cyI6IHRydWUsICJjb2xvciI6ICJibHVlIiwgImRhc2hBcnJheSI6IG51bGwsICJkYXNoT2Zmc2V0IjogbnVsbCwgImZpbGwiOiB0cnVlLCAiZmlsbENvbG9yIjogIiMzMTg2Y2MiLCAiZmlsbE9wYWNpdHkiOiAwLjcsICJmaWxsUnVsZSI6ICJldmVub2RkIiwgImxpbmVDYXAiOiAicm91bmQiLCAibGluZUpvaW4iOiAicm91bmQiLCAib3BhY2l0eSI6IDEuMCwgInJhZGl1cyI6IDUsICJzdHJva2UiOiB0cnVlLCAid2VpZ2h0IjogM30KICAgICAgICAgICAgKS5hZGRUbyhtYXBfMzVhYWNiMjJkMGFjNGY5M2JlMzMzYmJmM2M5MzdiNDEpOwogICAgICAgIAogICAgCiAgICAgICAgdmFyIHBvcHVwXzI3MWZhNjA2OTlhZDRmZmM4YzliMmYwNTUyMzIxMGYzID0gTC5wb3B1cCh7Im1heFdpZHRoIjogIjEwMCUifSk7CgogICAgICAgIAogICAgICAgICAgICB2YXIgaHRtbF8yMTczZDRmMmI4NWU0NWFiYWYyMGQ5MzgxYThjMzJmNSA9ICQoYDxkaXYgaWQ9Imh0bWxfMjE3M2Q0ZjJiODVlNDVhYmFmMjBkOTM4MWE4YzMyZjUiIHN0eWxlPSJ3aWR0aDogMTAwLjAlOyBoZWlnaHQ6IDEwMC4wJTsiPlRoZSBLaW5nc3dheSwgTW9udGdvbWVyeSBSb2FkLCBPbGQgTWlsbCBOb3J0aCwgRXRvYmljb2tlPC9kaXY+YClbMF07CiAgICAgICAgICAgIHBvcHVwXzI3MWZhNjA2OTlhZDRmZmM4YzliMmYwNTUyMzIxMGYzLnNldENvbnRlbnQoaHRtbF8yMTczZDRmMmI4NWU0NWFiYWYyMGQ5MzgxYThjMzJmNSk7CiAgICAgICAgCgogICAgICAgIGNpcmNsZV9tYXJrZXJfOTRjMGIxN2NjZTViNDVjNjgxODljYzIzODY5ZDE2MzkuYmluZFBvcHVwKHBvcHVwXzI3MWZhNjA2OTlhZDRmZmM4YzliMmYwNTUyMzIxMGYzKQogICAgICAgIDsKCiAgICAgICAgCiAgICAKICAgIAogICAgICAgICAgICB2YXIgY2lyY2xlX21hcmtlcl81ZDZlMTI1NzRjMTI0ZjA2OWY0YmZjZjIyYmI3OThiZCA9IEwuY2lyY2xlTWFya2VyKAogICAgICAgICAgICAgICAgWzQzLjYzNjI1NzksIC03OS40OTg1MDkwOTk5OTk5OV0sCiAgICAgICAgICAgICAgICB7ImJ1YmJsaW5nTW91c2VFdmVudHMiOiB0cnVlLCAiY29sb3IiOiAiYmx1ZSIsICJkYXNoQXJyYXkiOiBudWxsLCAiZGFzaE9mZnNldCI6IG51bGwsICJmaWxsIjogdHJ1ZSwgImZpbGxDb2xvciI6ICIjMzE4NmNjIiwgImZpbGxPcGFjaXR5IjogMC43LCAiZmlsbFJ1bGUiOiAiZXZlbm9kZCIsICJsaW5lQ2FwIjogInJvdW5kIiwgImxpbmVKb2luIjogInJvdW5kIiwgIm9wYWNpdHkiOiAxLjAsICJyYWRpdXMiOiA1LCAic3Ryb2tlIjogdHJ1ZSwgIndlaWdodCI6IDN9CiAgICAgICAgICAgICkuYWRkVG8obWFwXzM1YWFjYjIyZDBhYzRmOTNiZTMzM2JiZjNjOTM3YjQxKTsKICAgICAgICAKICAgIAogICAgICAgIHZhciBwb3B1cF8yYWE3MWQ3OTJlNTY0ZGMzODlmZTBlMTc0MDA5NzAwYSA9IEwucG9wdXAoeyJtYXhXaWR0aCI6ICIxMDAlIn0pOwoKICAgICAgICAKICAgICAgICAgICAgdmFyIGh0bWxfM2U1ZWJhOGYyNzlmNGE3MDhmYTNkZTk4ZTk5MmFlMmEgPSAkKGA8ZGl2IGlkPSJodG1sXzNlNWViYThmMjc5ZjRhNzA4ZmEzZGU5OGU5OTJhZTJhIiBzdHlsZT0id2lkdGg6IDEwMC4wJTsgaGVpZ2h0OiAxMDAuMCU7Ij5IdW1iZXIgQmF5LCBLaW5nJiMzOTtzIE1pbGwgUGFyaywgS2luZ3N3YXkgUGFyayBTb3V0aCBFYXN0LCBNaW1pY28gTkUsIE9sZCBNaWxsIFNvdXRoLCBUaGUgUXVlZW5zd2F5IEVhc3QsIFJveWFsIFlvcmsgU291dGggRWFzdCwgU3VubnlsZWEsIEV0b2JpY29rZTwvZGl2PmApWzBdOwogICAgICAgICAgICBwb3B1cF8yYWE3MWQ3OTJlNTY0ZGMzODlmZTBlMTc0MDA5NzAwYS5zZXRDb250ZW50KGh0bWxfM2U1ZWJhOGYyNzlmNGE3MDhmYTNkZTk4ZTk5MmFlMmEpOwogICAgICAgIAoKICAgICAgICBjaXJjbGVfbWFya2VyXzVkNmUxMjU3NGMxMjRmMDY5ZjRiZmNmMjJiYjc5OGJkLmJpbmRQb3B1cChwb3B1cF8yYWE3MWQ3OTJlNTY0ZGMzODlmZTBlMTc0MDA5NzAwYSkKICAgICAgICA7CgogICAgICAgIAogICAgCiAgICAKICAgICAgICAgICAgdmFyIGNpcmNsZV9tYXJrZXJfZjllODM3NmYxMmRkNGU1Y2IzZjhlMTIwMGJlMzViOGIgPSBMLmNpcmNsZU1hcmtlcigKICAgICAgICAgICAgICAgIFs0My42Mjg4NDA4LCAtNzkuNTIwOTk5NDAwMDAwMDFdLAogICAgICAgICAgICAgICAgeyJidWJibGluZ01vdXNlRXZlbnRzIjogdHJ1ZSwgImNvbG9yIjogImJsdWUiLCAiZGFzaEFycmF5IjogbnVsbCwgImRhc2hPZmZzZXQiOiBudWxsLCAiZmlsbCI6IHRydWUsICJmaWxsQ29sb3IiOiAiIzMxODZjYyIsICJmaWxsT3BhY2l0eSI6IDAuNywgImZpbGxSdWxlIjogImV2ZW5vZGQiLCAibGluZUNhcCI6ICJyb3VuZCIsICJsaW5lSm9pbiI6ICJyb3VuZCIsICJvcGFjaXR5IjogMS4wLCAicmFkaXVzIjogNSwgInN0cm9rZSI6IHRydWUsICJ3ZWlnaHQiOiAzfQogICAgICAgICAgICApLmFkZFRvKG1hcF8zNWFhY2IyMmQwYWM0ZjkzYmUzMzNiYmYzYzkzN2I0MSk7CiAgICAgICAgCiAgICAKICAgICAgICB2YXIgcG9wdXBfYWQzOGEwYTJjNmVjNDFmZGE0ZTAwODBlODM0YWRjZWQgPSBMLnBvcHVwKHsibWF4V2lkdGgiOiAiMTAwJSJ9KTsKCiAgICAgICAgCiAgICAgICAgICAgIHZhciBodG1sXzg4M2E3M2Y5ZWEwZTQ1YmE4ZmEzNTUwYzNkZDIzNjQ2ID0gJChgPGRpdiBpZD0iaHRtbF84ODNhNzNmOWVhMGU0NWJhOGZhMzU1MGMzZGQyMzY0NiIgc3R5bGU9IndpZHRoOiAxMDAuMCU7IGhlaWdodDogMTAwLjAlOyI+S2luZ3N3YXkgUGFyayBTb3V0aCBXZXN0LCBNaW1pY28gTlcsIFRoZSBRdWVlbnN3YXkgV2VzdCwgUm95YWwgWW9yayBTb3V0aCBXZXN0LCBTb3V0aCBvZiBCbG9vciwgRXRvYmljb2tlPC9kaXY+YClbMF07CiAgICAgICAgICAgIHBvcHVwX2FkMzhhMGEyYzZlYzQxZmRhNGUwMDgwZTgzNGFkY2VkLnNldENvbnRlbnQoaHRtbF84ODNhNzNmOWVhMGU0NWJhOGZhMzU1MGMzZGQyMzY0Nik7CiAgICAgICAgCgogICAgICAgIGNpcmNsZV9tYXJrZXJfZjllODM3NmYxMmRkNGU1Y2IzZjhlMTIwMGJlMzViOGIuYmluZFBvcHVwKHBvcHVwX2FkMzhhMGEyYzZlYzQxZmRhNGUwMDgwZTgzNGFkY2VkKQogICAgICAgIDsKCiAgICAgICAgCiAgICAKICAgIAogICAgICAgICAgICB2YXIgY2lyY2xlX21hcmtlcl9lNmU2ZmU4NTZiMGU0ZjRiOWZkYjlmYWFmZjEwNjQyNSA9IEwuY2lyY2xlTWFya2VyKAogICAgICAgICAgICAgICAgWzQzLjY2Nzg1NTYsIC03OS41MzIyNDI0MDAwMDAwMl0sCiAgICAgICAgICAgICAgICB7ImJ1YmJsaW5nTW91c2VFdmVudHMiOiB0cnVlLCAiY29sb3IiOiAiYmx1ZSIsICJkYXNoQXJyYXkiOiBudWxsLCAiZGFzaE9mZnNldCI6IG51bGwsICJmaWxsIjogdHJ1ZSwgImZpbGxDb2xvciI6ICIjMzE4NmNjIiwgImZpbGxPcGFjaXR5IjogMC43LCAiZmlsbFJ1bGUiOiAiZXZlbm9kZCIsICJsaW5lQ2FwIjogInJvdW5kIiwgImxpbmVKb2luIjogInJvdW5kIiwgIm9wYWNpdHkiOiAxLjAsICJyYWRpdXMiOiA1LCAic3Ryb2tlIjogdHJ1ZSwgIndlaWdodCI6IDN9CiAgICAgICAgICAgICkuYWRkVG8obWFwXzM1YWFjYjIyZDBhYzRmOTNiZTMzM2JiZjNjOTM3YjQxKTsKICAgICAgICAKICAgIAogICAgICAgIHZhciBwb3B1cF9lMjJlYjkxNGRlODg0M2NmYmY1ZDhjNDJhYmFhYzU3YSA9IEwucG9wdXAoeyJtYXhXaWR0aCI6ICIxMDAlIn0pOwoKICAgICAgICAKICAgICAgICAgICAgdmFyIGh0bWxfMWM3ODBmZWYyNjlmNDYwMGEyZDdjZWQ2ZjA2OTM4ODYgPSAkKGA8ZGl2IGlkPSJodG1sXzFjNzgwZmVmMjY5ZjQ2MDBhMmQ3Y2VkNmYwNjkzODg2IiBzdHlsZT0id2lkdGg6IDEwMC4wJTsgaGVpZ2h0OiAxMDAuMCU7Ij5RdWVlbiYjMzk7cyBQYXJrLCBRdWVlbiYjMzk7cyBQYXJrPC9kaXY+YClbMF07CiAgICAgICAgICAgIHBvcHVwX2UyMmViOTE0ZGU4ODQzY2ZiZjVkOGM0MmFiYWFjNTdhLnNldENvbnRlbnQoaHRtbF8xYzc4MGZlZjI2OWY0NjAwYTJkN2NlZDZmMDY5Mzg4Nik7CiAgICAgICAgCgogICAgICAgIGNpcmNsZV9tYXJrZXJfZTZlNmZlODU2YjBlNGY0YjlmZGI5ZmFhZmYxMDY0MjUuYmluZFBvcHVwKHBvcHVwX2UyMmViOTE0ZGU4ODQzY2ZiZjVkOGM0MmFiYWFjNTdhKQogICAgICAgIDsKCiAgICAgICAgCiAgICAKICAgIAogICAgICAgICAgICB2YXIgY2lyY2xlX21hcmtlcl9iZDk3MDNiNzNmMTc0ODNlYWM1YThhNjE5OGEzNmZkNyA9IEwuY2lyY2xlTWFya2VyKAogICAgICAgICAgICAgICAgWzQzLjY1MDk0MzIsIC03OS41NTQ3MjQ0MDAwMDAwMV0sCiAgICAgICAgICAgICAgICB7ImJ1YmJsaW5nTW91c2VFdmVudHMiOiB0cnVlLCAiY29sb3IiOiAiYmx1ZSIsICJkYXNoQXJyYXkiOiBudWxsLCAiZGFzaE9mZnNldCI6IG51bGwsICJmaWxsIjogdHJ1ZSwgImZpbGxDb2xvciI6ICIjMzE4NmNjIiwgImZpbGxPcGFjaXR5IjogMC43LCAiZmlsbFJ1bGUiOiAiZXZlbm9kZCIsICJsaW5lQ2FwIjogInJvdW5kIiwgImxpbmVKb2luIjogInJvdW5kIiwgIm9wYWNpdHkiOiAxLjAsICJyYWRpdXMiOiA1LCAic3Ryb2tlIjogdHJ1ZSwgIndlaWdodCI6IDN9CiAgICAgICAgICAgICkuYWRkVG8obWFwXzM1YWFjYjIyZDBhYzRmOTNiZTMzM2JiZjNjOTM3YjQxKTsKICAgICAgICAKICAgIAogICAgICAgIHZhciBwb3B1cF9jMzU5YWI5OWYyMDA0YTQ4YTRlMzcyODBiOTQwNTZhNiA9IEwucG9wdXAoeyJtYXhXaWR0aCI6ICIxMDAlIn0pOwoKICAgICAgICAKICAgICAgICAgICAgdmFyIGh0bWxfMWIwY2I1Yzc5MTA3NDRkOWFjYWY3ZDEzMGJjZDljMzkgPSAkKGA8ZGl2IGlkPSJodG1sXzFiMGNiNWM3OTEwNzQ0ZDlhY2FmN2QxMzBiY2Q5YzM5IiBzdHlsZT0id2lkdGg6IDEwMC4wJTsgaGVpZ2h0OiAxMDAuMCU7Ij5DbG92ZXJkYWxlLCBJc2xpbmd0b24sIE1hcnRpbiBHcm92ZSwgUHJpbmNlc3MgR2FyZGVucywgV2VzdCBEZWFuZSBQYXJrLCBFdG9iaWNva2U8L2Rpdj5gKVswXTsKICAgICAgICAgICAgcG9wdXBfYzM1OWFiOTlmMjAwNGE0OGE0ZTM3MjgwYjk0MDU2YTYuc2V0Q29udGVudChodG1sXzFiMGNiNWM3OTEwNzQ0ZDlhY2FmN2QxMzBiY2Q5YzM5KTsKICAgICAgICAKCiAgICAgICAgY2lyY2xlX21hcmtlcl9iZDk3MDNiNzNmMTc0ODNlYWM1YThhNjE5OGEzNmZkNy5iaW5kUG9wdXAocG9wdXBfYzM1OWFiOTlmMjAwNGE0OGE0ZTM3MjgwYjk0MDU2YTYpCiAgICAgICAgOwoKICAgICAgICAKICAgIAogICAgCiAgICAgICAgICAgIHZhciBjaXJjbGVfbWFya2VyX2VlYjkwZjFmZmIyOTQ0MmRhZGQ4NWMyMjYyZGNhYWNmID0gTC5jaXJjbGVNYXJrZXIoCiAgICAgICAgICAgICAgICBbNDMuNjQzNTE1MiwgLTc5LjU3NzIwMDc5OTk5OTk5XSwKICAgICAgICAgICAgICAgIHsiYnViYmxpbmdNb3VzZUV2ZW50cyI6IHRydWUsICJjb2xvciI6ICJibHVlIiwgImRhc2hBcnJheSI6IG51bGwsICJkYXNoT2Zmc2V0IjogbnVsbCwgImZpbGwiOiB0cnVlLCAiZmlsbENvbG9yIjogIiMzMTg2Y2MiLCAiZmlsbE9wYWNpdHkiOiAwLjcsICJmaWxsUnVsZSI6ICJldmVub2RkIiwgImxpbmVDYXAiOiAicm91bmQiLCAibGluZUpvaW4iOiAicm91bmQiLCAib3BhY2l0eSI6IDEuMCwgInJhZGl1cyI6IDUsICJzdHJva2UiOiB0cnVlLCAid2VpZ2h0IjogM30KICAgICAgICAgICAgKS5hZGRUbyhtYXBfMzVhYWNiMjJkMGFjNGY5M2JlMzMzYmJmM2M5MzdiNDEpOwogICAgICAgIAogICAgCiAgICAgICAgdmFyIHBvcHVwX2UxN2JjNjEwMGJkNTQ5OTdhZTliYWRkYTAyODEzOGMxID0gTC5wb3B1cCh7Im1heFdpZHRoIjogIjEwMCUifSk7CgogICAgICAgIAogICAgICAgICAgICB2YXIgaHRtbF8yM2Q5MGU2MmEzNDI0NGNlYTNkN2NlMGFiOTk3MzFiNiA9ICQoYDxkaXYgaWQ9Imh0bWxfMjNkOTBlNjJhMzQyNDRjZWEzZDdjZTBhYjk5NzMxYjYiIHN0eWxlPSJ3aWR0aDogMTAwLjAlOyBoZWlnaHQ6IDEwMC4wJTsiPkJsb29yZGFsZSBHYXJkZW5zLCBFcmluZ2F0ZSwgTWFya2xhbmQgV29vZCwgT2xkIEJ1cm5oYW10aG9ycGUsIEV0b2JpY29rZTwvZGl2PmApWzBdOwogICAgICAgICAgICBwb3B1cF9lMTdiYzYxMDBiZDU0OTk3YWU5YmFkZGEwMjgxMzhjMS5zZXRDb250ZW50KGh0bWxfMjNkOTBlNjJhMzQyNDRjZWEzZDdjZTBhYjk5NzMxYjYpOwogICAgICAgIAoKICAgICAgICBjaXJjbGVfbWFya2VyX2VlYjkwZjFmZmIyOTQ0MmRhZGQ4NWMyMjYyZGNhYWNmLmJpbmRQb3B1cChwb3B1cF9lMTdiYzYxMDBiZDU0OTk3YWU5YmFkZGEwMjgxMzhjMSkKICAgICAgICA7CgogICAgICAgIAogICAgCiAgICAKICAgICAgICAgICAgdmFyIGNpcmNsZV9tYXJrZXJfOTIxZDM4OWFiNjYwNDQ3OWI1NDNhNzBkOGM0ZDYzYmYgPSBMLmNpcmNsZU1hcmtlcigKICAgICAgICAgICAgICAgIFs0My43NTYzMDMzLCAtNzkuNTY1OTYzMjk5OTk5OTldLAogICAgICAgICAgICAgICAgeyJidWJibGluZ01vdXNlRXZlbnRzIjogdHJ1ZSwgImNvbG9yIjogImJsdWUiLCAiZGFzaEFycmF5IjogbnVsbCwgImRhc2hPZmZzZXQiOiBudWxsLCAiZmlsbCI6IHRydWUsICJmaWxsQ29sb3IiOiAiIzMxODZjYyIsICJmaWxsT3BhY2l0eSI6IDAuNywgImZpbGxSdWxlIjogImV2ZW5vZGQiLCAibGluZUNhcCI6ICJyb3VuZCIsICJsaW5lSm9pbiI6ICJyb3VuZCIsICJvcGFjaXR5IjogMS4wLCAicmFkaXVzIjogNSwgInN0cm9rZSI6IHRydWUsICJ3ZWlnaHQiOiAzfQogICAgICAgICAgICApLmFkZFRvKG1hcF8zNWFhY2IyMmQwYWM0ZjkzYmUzMzNiYmYzYzkzN2I0MSk7CiAgICAgICAgCiAgICAKICAgICAgICB2YXIgcG9wdXBfZjE5Mjk5OTNkNTliNDg5OGJlOWU2MGM0OGMwNzkxMDggPSBMLnBvcHVwKHsibWF4V2lkdGgiOiAiMTAwJSJ9KTsKCiAgICAgICAgCiAgICAgICAgICAgIHZhciBodG1sX2ViMjRhNGZkZjQ0NzRhMTRhZDI1ZmMxNzhmOWQxZTIzID0gJChgPGRpdiBpZD0iaHRtbF9lYjI0YTRmZGY0NDc0YTE0YWQyNWZjMTc4ZjlkMWUyMyIgc3R5bGU9IndpZHRoOiAxMDAuMCU7IGhlaWdodDogMTAwLjAlOyI+SHVtYmVyIFN1bW1pdCwgTm9ydGggWW9yazwvZGl2PmApWzBdOwogICAgICAgICAgICBwb3B1cF9mMTkyOTk5M2Q1OWI0ODk4YmU5ZTYwYzQ4YzA3OTEwOC5zZXRDb250ZW50KGh0bWxfZWIyNGE0ZmRmNDQ3NGExNGFkMjVmYzE3OGY5ZDFlMjMpOwogICAgICAgIAoKICAgICAgICBjaXJjbGVfbWFya2VyXzkyMWQzODlhYjY2MDQ0NzliNTQzYTcwZDhjNGQ2M2JmLmJpbmRQb3B1cChwb3B1cF9mMTkyOTk5M2Q1OWI0ODk4YmU5ZTYwYzQ4YzA3OTEwOCkKICAgICAgICA7CgogICAgICAgIAogICAgCiAgICAKICAgICAgICAgICAgdmFyIGNpcmNsZV9tYXJrZXJfYTUzNDI0MjY3MGU4NGJlNWE2OWI1YzQwMmRkMzQ3YmIgPSBMLmNpcmNsZU1hcmtlcigKICAgICAgICAgICAgICAgIFs0My43MjQ3NjU5LCAtNzkuNTMyMjQyNDAwMDAwMDJdLAogICAgICAgICAgICAgICAgeyJidWJibGluZ01vdXNlRXZlbnRzIjogdHJ1ZSwgImNvbG9yIjogImJsdWUiLCAiZGFzaEFycmF5IjogbnVsbCwgImRhc2hPZmZzZXQiOiBudWxsLCAiZmlsbCI6IHRydWUsICJmaWxsQ29sb3IiOiAiIzMxODZjYyIsICJmaWxsT3BhY2l0eSI6IDAuNywgImZpbGxSdWxlIjogImV2ZW5vZGQiLCAibGluZUNhcCI6ICJyb3VuZCIsICJsaW5lSm9pbiI6ICJyb3VuZCIsICJvcGFjaXR5IjogMS4wLCAicmFkaXVzIjogNSwgInN0cm9rZSI6IHRydWUsICJ3ZWlnaHQiOiAzfQogICAgICAgICAgICApLmFkZFRvKG1hcF8zNWFhY2IyMmQwYWM0ZjkzYmUzMzNiYmYzYzkzN2I0MSk7CiAgICAgICAgCiAgICAKICAgICAgICB2YXIgcG9wdXBfOTc0NmIyYzM1NjRjNGQ2YmIxMmIwMzRkYzkxOWQ2ZTAgPSBMLnBvcHVwKHsibWF4V2lkdGgiOiAiMTAwJSJ9KTsKCiAgICAgICAgCiAgICAgICAgICAgIHZhciBodG1sX2NmMjQyMmRhNjVhNzRlNmE5MWY5M2UyMGFiMzMzMmU0ID0gJChgPGRpdiBpZD0iaHRtbF9jZjI0MjJkYTY1YTc0ZTZhOTFmOTNlMjBhYjMzMzJlNCIgc3R5bGU9IndpZHRoOiAxMDAuMCU7IGhlaWdodDogMTAwLjAlOyI+RW1lcnksIEh1bWJlcmxlYSwgTm9ydGggWW9yazwvZGl2PmApWzBdOwogICAgICAgICAgICBwb3B1cF85NzQ2YjJjMzU2NGM0ZDZiYjEyYjAzNGRjOTE5ZDZlMC5zZXRDb250ZW50KGh0bWxfY2YyNDIyZGE2NWE3NGU2YTkxZjkzZTIwYWIzMzMyZTQpOwogICAgICAgIAoKICAgICAgICBjaXJjbGVfbWFya2VyX2E1MzQyNDI2NzBlODRiZTVhNjliNWM0MDJkZDM0N2JiLmJpbmRQb3B1cChwb3B1cF85NzQ2YjJjMzU2NGM0ZDZiYjEyYjAzNGRjOTE5ZDZlMCkKICAgICAgICA7CgogICAgICAgIAogICAgCiAgICAKICAgICAgICAgICAgdmFyIGNpcmNsZV9tYXJrZXJfNjRiMjM1MDk5MTJmNGIxNWE1NmI3YzE3NWI3ZTI0ODggPSBMLmNpcmNsZU1hcmtlcigKICAgICAgICAgICAgICAgIFs0My43MDY4NzYsIC03OS41MTgxODg0MDAwMDAwMV0sCiAgICAgICAgICAgICAgICB7ImJ1YmJsaW5nTW91c2VFdmVudHMiOiB0cnVlLCAiY29sb3IiOiAiYmx1ZSIsICJkYXNoQXJyYXkiOiBudWxsLCAiZGFzaE9mZnNldCI6IG51bGwsICJmaWxsIjogdHJ1ZSwgImZpbGxDb2xvciI6ICIjMzE4NmNjIiwgImZpbGxPcGFjaXR5IjogMC43LCAiZmlsbFJ1bGUiOiAiZXZlbm9kZCIsICJsaW5lQ2FwIjogInJvdW5kIiwgImxpbmVKb2luIjogInJvdW5kIiwgIm9wYWNpdHkiOiAxLjAsICJyYWRpdXMiOiA1LCAic3Ryb2tlIjogdHJ1ZSwgIndlaWdodCI6IDN9CiAgICAgICAgICAgICkuYWRkVG8obWFwXzM1YWFjYjIyZDBhYzRmOTNiZTMzM2JiZjNjOTM3YjQxKTsKICAgICAgICAKICAgIAogICAgICAgIHZhciBwb3B1cF9iNmJmNzIwZjAzMjM0NzE4YjdlZDA3ZWRkNjhhZmE5NiA9IEwucG9wdXAoeyJtYXhXaWR0aCI6ICIxMDAlIn0pOwoKICAgICAgICAKICAgICAgICAgICAgdmFyIGh0bWxfZjg0NmMzMTVmOWVkNGZiNGFhZjdjMGViM2YwNmM4NjIgPSAkKGA8ZGl2IGlkPSJodG1sX2Y4NDZjMzE1ZjllZDRmYjRhYWY3YzBlYjNmMDZjODYyIiBzdHlsZT0id2lkdGg6IDEwMC4wJTsgaGVpZ2h0OiAxMDAuMCU7Ij5XZXN0b24sIFlvcms8L2Rpdj5gKVswXTsKICAgICAgICAgICAgcG9wdXBfYjZiZjcyMGYwMzIzNDcxOGI3ZWQwN2VkZDY4YWZhOTYuc2V0Q29udGVudChodG1sX2Y4NDZjMzE1ZjllZDRmYjRhYWY3YzBlYjNmMDZjODYyKTsKICAgICAgICAKCiAgICAgICAgY2lyY2xlX21hcmtlcl82NGIyMzUwOTkxMmY0YjE1YTU2YjdjMTc1YjdlMjQ4OC5iaW5kUG9wdXAocG9wdXBfYjZiZjcyMGYwMzIzNDcxOGI3ZWQwN2VkZDY4YWZhOTYpCiAgICAgICAgOwoKICAgICAgICAKICAgIAogICAgCiAgICAgICAgICAgIHZhciBjaXJjbGVfbWFya2VyX2JjYTlhOWMzYTBkNzQ2NzI5ZWMzYTQ5Yzc3ZDQxODBlID0gTC5jaXJjbGVNYXJrZXIoCiAgICAgICAgICAgICAgICBbNDMuNjk2MzE5LCAtNzkuNTMyMjQyNDAwMDAwMDJdLAogICAgICAgICAgICAgICAgeyJidWJibGluZ01vdXNlRXZlbnRzIjogdHJ1ZSwgImNvbG9yIjogImJsdWUiLCAiZGFzaEFycmF5IjogbnVsbCwgImRhc2hPZmZzZXQiOiBudWxsLCAiZmlsbCI6IHRydWUsICJmaWxsQ29sb3IiOiAiIzMxODZjYyIsICJmaWxsT3BhY2l0eSI6IDAuNywgImZpbGxSdWxlIjogImV2ZW5vZGQiLCAibGluZUNhcCI6ICJyb3VuZCIsICJsaW5lSm9pbiI6ICJyb3VuZCIsICJvcGFjaXR5IjogMS4wLCAicmFkaXVzIjogNSwgInN0cm9rZSI6IHRydWUsICJ3ZWlnaHQiOiAzfQogICAgICAgICAgICApLmFkZFRvKG1hcF8zNWFhY2IyMmQwYWM0ZjkzYmUzMzNiYmYzYzkzN2I0MSk7CiAgICAgICAgCiAgICAKICAgICAgICB2YXIgcG9wdXBfNzBlN2Y5Y2JjYzcxNDFmMDg4N2ZjZWNkYzFjMzg4YjcgPSBMLnBvcHVwKHsibWF4V2lkdGgiOiAiMTAwJSJ9KTsKCiAgICAgICAgCiAgICAgICAgICAgIHZhciBodG1sXzM3MzcyNzcwYzk1MDRmM2U4M2E5MDFmNmNhYTk3NTE2ID0gJChgPGRpdiBpZD0iaHRtbF8zNzM3Mjc3MGM5NTA0ZjNlODNhOTAxZjZjYWE5NzUxNiIgc3R5bGU9IndpZHRoOiAxMDAuMCU7IGhlaWdodDogMTAwLjAlOyI+V2VzdG1vdW50LCBFdG9iaWNva2U8L2Rpdj5gKVswXTsKICAgICAgICAgICAgcG9wdXBfNzBlN2Y5Y2JjYzcxNDFmMDg4N2ZjZWNkYzFjMzg4Yjcuc2V0Q29udGVudChodG1sXzM3MzcyNzcwYzk1MDRmM2U4M2E5MDFmNmNhYTk3NTE2KTsKICAgICAgICAKCiAgICAgICAgY2lyY2xlX21hcmtlcl9iY2E5YTljM2EwZDc0NjcyOWVjM2E0OWM3N2Q0MTgwZS5iaW5kUG9wdXAocG9wdXBfNzBlN2Y5Y2JjYzcxNDFmMDg4N2ZjZWNkYzFjMzg4YjcpCiAgICAgICAgOwoKICAgICAgICAKICAgIAogICAgCiAgICAgICAgICAgIHZhciBjaXJjbGVfbWFya2VyXzNmNGVmYmUwODkxYzQ3MTU4MjIxMTIyMGUyYjkyZmVmID0gTC5jaXJjbGVNYXJrZXIoCiAgICAgICAgICAgICAgICBbNDMuNjg4OTA1NCwgLTc5LjU1NDcyNDQwMDAwMDAxXSwKICAgICAgICAgICAgICAgIHsiYnViYmxpbmdNb3VzZUV2ZW50cyI6IHRydWUsICJjb2xvciI6ICJibHVlIiwgImRhc2hBcnJheSI6IG51bGwsICJkYXNoT2Zmc2V0IjogbnVsbCwgImZpbGwiOiB0cnVlLCAiZmlsbENvbG9yIjogIiMzMTg2Y2MiLCAiZmlsbE9wYWNpdHkiOiAwLjcsICJmaWxsUnVsZSI6ICJldmVub2RkIiwgImxpbmVDYXAiOiAicm91bmQiLCAibGluZUpvaW4iOiAicm91bmQiLCAib3BhY2l0eSI6IDEuMCwgInJhZGl1cyI6IDUsICJzdHJva2UiOiB0cnVlLCAid2VpZ2h0IjogM30KICAgICAgICAgICAgKS5hZGRUbyhtYXBfMzVhYWNiMjJkMGFjNGY5M2JlMzMzYmJmM2M5MzdiNDEpOwogICAgICAgIAogICAgCiAgICAgICAgdmFyIHBvcHVwX2EzNjQ5NDEyNjJmZjRkNTdhOTJlYTk0MzI4YTAxNDg0ID0gTC5wb3B1cCh7Im1heFdpZHRoIjogIjEwMCUifSk7CgogICAgICAgIAogICAgICAgICAgICB2YXIgaHRtbF85N2YwNWEyMmFiMmE0MWIzOGNiZWM5ZDMwM2UzYTc3MiA9ICQoYDxkaXYgaWQ9Imh0bWxfOTdmMDVhMjJhYjJhNDFiMzhjYmVjOWQzMDNlM2E3NzIiIHN0eWxlPSJ3aWR0aDogMTAwLjAlOyBoZWlnaHQ6IDEwMC4wJTsiPktpbmdzdmlldyBWaWxsYWdlLCBNYXJ0aW4gR3JvdmUgR2FyZGVucywgUmljaHZpZXcgR2FyZGVucywgU3QuIFBoaWxsaXBzLCBFdG9iaWNva2U8L2Rpdj5gKVswXTsKICAgICAgICAgICAgcG9wdXBfYTM2NDk0MTI2MmZmNGQ1N2E5MmVhOTQzMjhhMDE0ODQuc2V0Q29udGVudChodG1sXzk3ZjA1YTIyYWIyYTQxYjM4Y2JlYzlkMzAzZTNhNzcyKTsKICAgICAgICAKCiAgICAgICAgY2lyY2xlX21hcmtlcl8zZjRlZmJlMDg5MWM0NzE1ODIyMTEyMjBlMmI5MmZlZi5iaW5kUG9wdXAocG9wdXBfYTM2NDk0MTI2MmZmNGQ1N2E5MmVhOTQzMjhhMDE0ODQpCiAgICAgICAgOwoKICAgICAgICAKICAgIAogICAgCiAgICAgICAgICAgIHZhciBjaXJjbGVfbWFya2VyX2I1YTcwYzhlMDY5MTQzMWI5Nzg0ODg0MGRkY2ViMjE0ID0gTC5jaXJjbGVNYXJrZXIoCiAgICAgICAgICAgICAgICBbNDMuNzM5NDE2Mzk5OTk5OTk2LCAtNzkuNTg4NDM2OV0sCiAgICAgICAgICAgICAgICB7ImJ1YmJsaW5nTW91c2VFdmVudHMiOiB0cnVlLCAiY29sb3IiOiAiYmx1ZSIsICJkYXNoQXJyYXkiOiBudWxsLCAiZGFzaE9mZnNldCI6IG51bGwsICJmaWxsIjogdHJ1ZSwgImZpbGxDb2xvciI6ICIjMzE4NmNjIiwgImZpbGxPcGFjaXR5IjogMC43LCAiZmlsbFJ1bGUiOiAiZXZlbm9kZCIsICJsaW5lQ2FwIjogInJvdW5kIiwgImxpbmVKb2luIjogInJvdW5kIiwgIm9wYWNpdHkiOiAxLjAsICJyYWRpdXMiOiA1LCAic3Ryb2tlIjogdHJ1ZSwgIndlaWdodCI6IDN9CiAgICAgICAgICAgICkuYWRkVG8obWFwXzM1YWFjYjIyZDBhYzRmOTNiZTMzM2JiZjNjOTM3YjQxKTsKICAgICAgICAKICAgIAogICAgICAgIHZhciBwb3B1cF8yZThiYjkxYmZjODE0ZWFhOTEwMTI5ODVkZTUxNTYwZCA9IEwucG9wdXAoeyJtYXhXaWR0aCI6ICIxMDAlIn0pOwoKICAgICAgICAKICAgICAgICAgICAgdmFyIGh0bWxfNDdiYTQwMzg4YjIzNDc5NGI4MDFmODY0ZjU4NmJiYjMgPSAkKGA8ZGl2IGlkPSJodG1sXzQ3YmE0MDM4OGIyMzQ3OTRiODAxZjg2NGY1ODZiYmIzIiBzdHlsZT0id2lkdGg6IDEwMC4wJTsgaGVpZ2h0OiAxMDAuMCU7Ij5BbGJpb24gR2FyZGVucywgQmVhdW1vbmQgSGVpZ2h0cywgSHVtYmVyZ2F0ZSwgSmFtZXN0b3duLCBNb3VudCBPbGl2ZSwgU2lsdmVyc3RvbmUsIFNvdXRoIFN0ZWVsZXMsIFRoaXN0bGV0b3duLCBFdG9iaWNva2U8L2Rpdj5gKVswXTsKICAgICAgICAgICAgcG9wdXBfMmU4YmI5MWJmYzgxNGVhYTkxMDEyOTg1ZGU1MTU2MGQuc2V0Q29udGVudChodG1sXzQ3YmE0MDM4OGIyMzQ3OTRiODAxZjg2NGY1ODZiYmIzKTsKICAgICAgICAKCiAgICAgICAgY2lyY2xlX21hcmtlcl9iNWE3MGM4ZTA2OTE0MzFiOTc4NDg4NDBkZGNlYjIxNC5iaW5kUG9wdXAocG9wdXBfMmU4YmI5MWJmYzgxNGVhYTkxMDEyOTg1ZGU1MTU2MGQpCiAgICAgICAgOwoKICAgICAgICAKICAgIAogICAgCiAgICAgICAgICAgIHZhciBjaXJjbGVfbWFya2VyXzdkMmZmNDNhZmRjMDRhZjFhN2Q4YmZkYzcwMTM0NzA5ID0gTC5jaXJjbGVNYXJrZXIoCiAgICAgICAgICAgICAgICBbNDMuNzA2NzQ4Mjk5OTk5OTk0LCAtNzkuNTk0MDU0NF0sCiAgICAgICAgICAgICAgICB7ImJ1YmJsaW5nTW91c2VFdmVudHMiOiB0cnVlLCAiY29sb3IiOiAiYmx1ZSIsICJkYXNoQXJyYXkiOiBudWxsLCAiZGFzaE9mZnNldCI6IG51bGwsICJmaWxsIjogdHJ1ZSwgImZpbGxDb2xvciI6ICIjMzE4NmNjIiwgImZpbGxPcGFjaXR5IjogMC43LCAiZmlsbFJ1bGUiOiAiZXZlbm9kZCIsICJsaW5lQ2FwIjogInJvdW5kIiwgImxpbmVKb2luIjogInJvdW5kIiwgIm9wYWNpdHkiOiAxLjAsICJyYWRpdXMiOiA1LCAic3Ryb2tlIjogdHJ1ZSwgIndlaWdodCI6IDN9CiAgICAgICAgICAgICkuYWRkVG8obWFwXzM1YWFjYjIyZDBhYzRmOTNiZTMzM2JiZjNjOTM3YjQxKTsKICAgICAgICAKICAgIAogICAgICAgIHZhciBwb3B1cF84ODU3NjU0NzQyOTA0ODg2Yjk2ZTUzN2VhZDc4MDJmMyA9IEwucG9wdXAoeyJtYXhXaWR0aCI6ICIxMDAlIn0pOwoKICAgICAgICAKICAgICAgICAgICAgdmFyIGh0bWxfNzdlNmY1NjcyMTBiNDRmN2E0NjA3YWIxMDM5YzA5NjkgPSAkKGA8ZGl2IGlkPSJodG1sXzc3ZTZmNTY3MjEwYjQ0ZjdhNDYwN2FiMTAzOWMwOTY5IiBzdHlsZT0id2lkdGg6IDEwMC4wJTsgaGVpZ2h0OiAxMDAuMCU7Ij5Ob3J0aHdlc3QsIEV0b2JpY29rZTwvZGl2PmApWzBdOwogICAgICAgICAgICBwb3B1cF84ODU3NjU0NzQyOTA0ODg2Yjk2ZTUzN2VhZDc4MDJmMy5zZXRDb250ZW50KGh0bWxfNzdlNmY1NjcyMTBiNDRmN2E0NjA3YWIxMDM5YzA5NjkpOwogICAgICAgIAoKICAgICAgICBjaXJjbGVfbWFya2VyXzdkMmZmNDNhZmRjMDRhZjFhN2Q4YmZkYzcwMTM0NzA5LmJpbmRQb3B1cChwb3B1cF84ODU3NjU0NzQyOTA0ODg2Yjk2ZTUzN2VhZDc4MDJmMykKICAgICAgICA7CgogICAgICAgIAogICAgCjwvc2NyaXB0Pg==\" style=\"position:absolute;width:100%;height:100%;left:0;top:0;border:none !important;\" allowfullscreen webkitallowfullscreen mozallowfullscreen></iframe></div></div>"
      ],
      "text/plain": [
       "<folium.folium.Map at 0x1221eefd0>"
      ]
     },
     "execution_count": 28,
     "metadata": {},
     "output_type": "execute_result"
    }
   ],
   "source": [
    "# create map of Toronto using latitude and longitude values\n",
    "map_toronto = folium.Map(location=[latitude, longitude], zoom_start=10)\n",
    "\n",
    "# add markers to map\n",
    "for lat, lng, borough, neighborhood in zip(df['Latitude'], df['Longitude'], df['Borough'], df['Neighbourhood']):\n",
    "    label = '{}, {}'.format(neighborhood, borough)\n",
    "    label = folium.Popup(label, parse_html=True)\n",
    "    folium.CircleMarker(\n",
    "        [lat, lng],\n",
    "        radius=5,\n",
    "        popup=label,\n",
    "        color='blue',\n",
    "        fill=True,\n",
    "        fill_color='#3186cc',\n",
    "        fill_opacity=0.7,\n",
    "        parse_html=False).add_to(map_toronto)  \n",
    "    \n",
    "map_toronto"
   ]
  },
  {
   "cell_type": "code",
   "execution_count": null,
   "metadata": {},
   "outputs": [],
   "source": []
  }
 ],
 "metadata": {
  "kernelspec": {
   "display_name": "Python 3",
   "language": "python",
   "name": "python3"
  },
  "language_info": {
   "codemirror_mode": {
    "name": "ipython",
    "version": 3
   },
   "file_extension": ".py",
   "mimetype": "text/x-python",
   "name": "python",
   "nbconvert_exporter": "python",
   "pygments_lexer": "ipython3",
   "version": "3.7.3"
  }
 },
 "nbformat": 4,
 "nbformat_minor": 2
}
